{
 "cells": [
  {
   "cell_type": "code",
   "id": "initial_id",
   "metadata": {
    "collapsed": true
   },
   "source": [
    "import pandas as pd\n",
    "import numpy as np\n",
    "from sklearn.impute import SimpleImputer\n",
    "from sklearn.compose import ColumnTransformer\n",
    "from sklearn.preprocessing import OneHotEncoder\n",
    "from sklearn.pipeline import Pipeline"
   ],
   "outputs": [],
   "execution_count": null
  },
  {
   "metadata": {},
   "cell_type": "markdown",
   "source": [
    "**Imputer**\n",
    "\n",
    "* Для замены `пропусков` в признаках `feat_num` и `feat_cat` используем разные стратегии:\n",
    "    * `feat_num` - `strategy=\"mean\"`\n",
    "    * `feat_cat` - `strategy=\"most_frequent\"`\n",
    "        * \n",
    "* strategy=\"mean\" — заполнять пропуски средним по колонке\n",
    "\n",
    "* strategy=\"median\" — заполнять медианой\n",
    "\n",
    "* strategy=\"most_frequent\" — заполнять самым частым значением (мода)\n",
    "\n",
    "* strategy=\"constant\" — заполнять константой (fill_value=...)"
   ],
   "id": "4925de15e2a1cd50"
  },
  {
   "metadata": {
    "ExecuteTime": {
     "end_time": "2025-08-19T11:46:18.886226Z",
     "start_time": "2025-08-19T11:46:18.863736Z"
    }
   },
   "cell_type": "code",
   "source": [
    "# Замена пропусков с помощью SimpleImputer\n",
    "df = pd.DataFrame({\n",
    "    \"A\": [np.nan, \"F\", \"W\", \"F\", \"W\"],   # категориальный\n",
    "    \"B\": [20, None, 30, 40, 50],         # числовой\n",
    "    \"C\": [300, 200, 300, None, pd.NA]    # числовой (с pd.NA)\n",
    "})\n",
    "\n",
    "# 1) Заменяем pd.NA -> np.nan\n",
    "df = df.replace({pd.NA: np.nan})\n",
    "\n",
    "# TODO Определяем типы колонок\n",
    "# 2) Импутация: mean для числовых, most_frequent для категориальных\n",
    "cat_cols = [\"A\"]\n",
    "num_cols = [\"B\", \"C\"]\n",
    "\n",
    "# TODO 1-й вариант\n",
    "# preprocessor = ColumnTransformer(\n",
    "#     transformers=[\n",
    "#         (\"num\", SimpleImputer(strategy=\"mean\"), num_cols),\n",
    "#         (\"cat\", SimpleImputer(strategy=\"most_frequent\"), cat_cols)\n",
    "#     ]\n",
    "# )\n",
    "\n",
    "\n",
    "# TODO 2-й вариант\n",
    "# Импутеры\n",
    "cat_imputer = SimpleImputer(strategy=\"most_frequent\")\n",
    "num_imputer = SimpleImputer(strategy=\"mean\")\n",
    "\n",
    "# Трансформер\n",
    "preprocessor = ColumnTransformer(\n",
    "    transformers=[\n",
    "        (\"num\", num_imputer, num_cols),\n",
    "        (\"cat\", cat_imputer, cat_cols)\n",
    "    ]\n",
    ")\n",
    "\n",
    "\n",
    "# TODO обратно собираем в DF cat и num признаки\n",
    "result = preprocessor.fit_transform(df)\n",
    "df_filled = pd.DataFrame(result, columns=num_cols + cat_cols)\n",
    "\n",
    "print(result)\n"
   ],
   "id": "6a204aa905afd360",
   "outputs": [
    {
     "name": "stdout",
     "output_type": "stream",
     "text": [
      "[[20.0 300.0 'F']\n",
      " [35.0 200.0 'F']\n",
      " [30.0 300.0 'W']\n",
      " [40.0 266.6666666666667 'F']\n",
      " [50.0 266.6666666666667 'W']]\n"
     ]
    }
   ],
   "execution_count": 7
  }
 ],
 "metadata": {
  "kernelspec": {
   "display_name": "Python 3",
   "language": "python",
   "name": "python3"
  },
  "language_info": {
   "codemirror_mode": {
    "name": "ipython",
    "version": 2
   },
   "file_extension": ".py",
   "mimetype": "text/x-python",
   "name": "python",
   "nbconvert_exporter": "python",
   "pygments_lexer": "ipython2",
   "version": "2.7.6"
  }
 },
 "nbformat": 4,
 "nbformat_minor": 5
}
