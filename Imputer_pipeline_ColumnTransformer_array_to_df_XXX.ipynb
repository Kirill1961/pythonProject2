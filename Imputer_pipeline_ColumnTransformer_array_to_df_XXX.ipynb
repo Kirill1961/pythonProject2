{
 "cells": [
  {
   "cell_type": "code",
   "id": "initial_id",
   "metadata": {
    "collapsed": true,
    "ExecuteTime": {
     "end_time": "2025-08-25T11:27:40.677259Z",
     "start_time": "2025-08-25T11:27:40.671768Z"
    }
   },
   "source": [
    "import pandas as pd\n",
    "import numpy as np\n",
    "from sklearn.impute import SimpleImputer\n",
    "from sklearn.compose import ColumnTransformer\n",
    "from sklearn.preprocessing import OneHotEncoder, StandardScaler\n",
    "from sklearn.pipeline import Pipeline, make_pipeline\n",
    "from sklearn.pipeline import make_pipeline\n",
    "from sklearn.naive_bayes import GaussianNB\n",
    "from sklearn.datasets import make_classification\n",
    "from sklearn.linear_model import LogisticRegression \n",
    "from sklearn.model_selection import train_test_split\n",
    "from sklearn.metrics import accuracy_score, recall_score, precision_score, f1_score"
   ],
   "outputs": [],
   "execution_count": 153
  },
  {
   "metadata": {},
   "cell_type": "markdown",
   "source": [
    "**Imputer**\n",
    "\n",
    "* Для замены `пропусков` в признаках `feat_num` и `feat_cat` используем разные стратегии:\n",
    "    * `feat_num` - `strategy=\"mean\"`\n",
    "    * `feat_cat` - `strategy=\"most_frequent\"`\n",
    "        * \n",
    "* strategy=\"mean\" — заполнять пропуски средним по колонке\n",
    "\n",
    "* strategy=\"median\" — заполнять медианой\n",
    "\n",
    "* strategy=\"most_frequent\" — заполнять самым частым значением (мода)\n",
    "\n",
    "* strategy=\"constant\" — заполнять константой (fill_value=...)"
   ],
   "id": "4925de15e2a1cd50"
  },
  {
   "metadata": {
    "ExecuteTime": {
     "end_time": "2025-08-25T13:49:12.275864Z",
     "start_time": "2025-08-25T13:49:12.253193Z"
    }
   },
   "cell_type": "code",
   "source": [
    "# Замена пропусков с помощью SimpleImputer\n",
    "df = pd.DataFrame({\n",
    "    \"A\": [pd.NA, \"F\", \"W\", \"F\", \"W\"],   # категориальный\n",
    "    \"B\": [20, None, 30, 40, 50],         # числовой\n",
    "    \"C\": [300, 200, 300, None, pd.NA]    # числовой (с pd.NA)\n",
    "})\n",
    "\n",
    "# 1) Заменяем pd.NA -> np.nan\n",
    "df = df.replace({pd.NA: np.nan})\n",
    "\n",
    "print('Заменяем pd.NA на np.nan : \\n', df)\n",
    "\n",
    "# TODO Определяем типы колонок\n",
    "# 2) Импутация: mean для числовых, most_frequent для категориальных\n",
    "cat_cols = [\"A\"]\n",
    "num_cols = [\"B\", \"C\"]\n",
    "\n",
    "# TODO 1-й вариант\n",
    "# preprocessor = ColumnTransformer(\n",
    "#     transformers=[\n",
    "#         (\"num\", SimpleImputer(strategy=\"mean\"), num_cols),\n",
    "#         (\"cat\", SimpleImputer(strategy=\"most_frequent\"), cat_cols)\n",
    "#     ]\n",
    "# )\n",
    "\n",
    "\n",
    "# TODO 2-й вариант\n",
    "# Импутеры\n",
    "cat_imputer = SimpleImputer(strategy=\"most_frequent\")\n",
    "num_imputer = SimpleImputer(strategy=\"mean\")\n",
    "\n",
    "# Трансформер\n",
    "preprocessor = ColumnTransformer(\n",
    "    transformers=[\n",
    "        (\"num\", num_imputer, num_cols),\n",
    "        (\"cat\", cat_imputer, cat_cols)\n",
    "    ]\n",
    ")\n",
    "\n",
    "\n",
    "# TODO обратно собираем в DF cat и num признаки\n",
    "result = preprocessor.fit_transform(df)\n",
    "df_filled = pd.DataFrame(result, columns=num_cols + cat_cols)\n",
    "\n",
    "print(result)\n",
    "\n"
   ],
   "id": "6a204aa905afd360",
   "outputs": [
    {
     "name": "stdout",
     "output_type": "stream",
     "text": [
      "Заменяем pd.NA на np.nan : \n",
      "      A     B      C\n",
      "0  NaN  20.0  300.0\n",
      "1    F   NaN  200.0\n",
      "2    W  30.0  300.0\n",
      "3    F  40.0    NaN\n",
      "4    W  50.0    NaN\n",
      "[[20.0 300.0 'F']\n",
      " [35.0 200.0 'F']\n",
      " [30.0 300.0 'W']\n",
      " [40.0 266.6666666666667 'F']\n",
      " [50.0 266.6666666666667 'W']]\n"
     ]
    }
   ],
   "execution_count": 155
  },
  {
   "metadata": {},
   "cell_type": "markdown",
   "source": [
    "\n",
    "**ColumnTransformer ( SimpleImputer() и get_dummies()) - вместе не работают**"
   ],
   "id": "87fb8ca1a5caf7a1"
  },
  {
   "metadata": {},
   "cell_type": "markdown",
   "source": [
    "**Правила**\n",
    "\n",
    "* в ColumnTransformer обязательно:\n",
    "    * все скобки ColumnTransformer `( [ ( имя, трансформатор, столбцы ) ] )`\n",
    "    * три обязательных компонента `имя, трансформатор, столбцы` должны быть `одним объектом`"
   ],
   "id": "375316c1598878d2"
  },
  {
   "metadata": {},
   "cell_type": "markdown",
   "source": "",
   "id": "89d5bd1f56091209"
  },
  {
   "metadata": {
    "ExecuteTime": {
     "end_time": "2025-08-25T13:49:18.560031Z",
     "start_time": "2025-08-25T13:49:18.517718Z"
    }
   },
   "cell_type": "code",
   "source": [
    "df = pd.DataFrame({\n",
    "    \"A\": [pd.NA, \"F\", \"W\", \"F\", \"W\"],   # категориальный\n",
    "    \"B\": [20, None, 30, 40, 50],         # числовой\n",
    "    \"C\": [300, 200, 300, None, pd.NA]    # числовой (с pd.NA)\n",
    "})\n",
    "\n",
    "print('Исходный DF : \\n', df, '\\n')\n",
    "\n",
    "# TODO Заменяем pd.NA -> np.nan\n",
    "data = df.replace({pd.NA: np.nan})\n",
    "\n",
    "name_col_odj = data.select_dtypes(include=['object', 'category']).columns\n",
    "name_col_int = data.select_dtypes(include=['int', 'float']).columns\n",
    "\n",
    "# TODO Трансформаторы для catfeat и numfeat\n",
    "ohe_obj = OneHotEncoder(handle_unknown=\"ignore\", sparse_output=False)\n",
    "imput_obj = SimpleImputer(strategy='most_frequent')\n",
    "\n",
    "scaler_int =StandardScaler()\n",
    "imput_int = SimpleImputer(strategy='mean')\n",
    "\n",
    "# TODO pipeline для признаков catfeat и numfeat\n",
    "pipe_obj = make_pipeline(imput_obj,ohe_obj)\n",
    "pipe_int = make_pipeline(imput_int, scaler_int)\n",
    "\n",
    "\n",
    "# TODO SimpleImputer и get_dummies Не Работает\n",
    "# pipe_obj = make_pipeline(SimpleImputer(strategy='most_frequent'), pd.get_dummies(data=data['A']).astype(int))\n",
    "\n",
    "\n",
    "\n",
    "data_trsf_obj = ColumnTransformer([('object', pipe_obj, name_col_odj)])\n",
    "data_trsf_int = ColumnTransformer([('numeric', pipe_int, name_col_int)])\n",
    "\n",
    "\n",
    "# TODO Имена новых признаков catfeat после ОНЕ и numfeat берём из ColumnTransformer\n",
    "data_obj = data_trsf_obj.fit_transform(data)\n",
    "print('Имена новых признаков ОНЕ : \\n', data_trsf_obj.get_feature_names_out(), '\\n')\n",
    "\n",
    "data_int = data_trsf_int.fit_transform(data)\n",
    "print('Имена Стандартизированных признаков int : \\n', data_trsf_int.get_feature_names_out(), '\\n')\n",
    "\n",
    "df_obj = pd.DataFrame(data_obj, columns=[data_trsf_obj.get_feature_names_out()])\n",
    "df_int = pd.DataFrame(data_int, columns=[data_trsf_int.get_feature_names_out()])\n",
    "\n",
    "data_df = pd.concat([df_int, df_obj], axis=1)\n",
    "\n",
    "print('Преобразованный DF : ')\n",
    "data_df"
   ],
   "id": "2f2712bf3a7a5114",
   "outputs": [
    {
     "name": "stdout",
     "output_type": "stream",
     "text": [
      "Исходный DF : \n",
      "       A     B     C\n",
      "0  <NA>  20.0   300\n",
      "1     F   NaN   200\n",
      "2     W  30.0   300\n",
      "3     F  40.0  None\n",
      "4     W  50.0  <NA> \n",
      "\n",
      "Имена новых признаков ОНЕ : \n",
      " ['object__A_F' 'object__A_W'] \n",
      "\n",
      "Имена Стандартизированных признаков int : \n",
      " ['numeric__B' 'numeric__C'] \n",
      "\n",
      "Преобразованный DF : \n"
     ]
    },
    {
     "data": {
      "text/plain": [
       "  numeric__B numeric__C object__A_F object__A_W\n",
       "0       -1.5   0.912871         1.0         0.0\n",
       "1        0.0  -1.825742         1.0         0.0\n",
       "2       -0.5   0.912871         0.0         1.0\n",
       "3        0.5   0.000000         1.0         0.0\n",
       "4        1.5   0.000000         0.0         1.0"
      ],
      "text/html": [
       "<div>\n",
       "<style scoped>\n",
       "    .dataframe tbody tr th:only-of-type {\n",
       "        vertical-align: middle;\n",
       "    }\n",
       "\n",
       "    .dataframe tbody tr th {\n",
       "        vertical-align: top;\n",
       "    }\n",
       "\n",
       "    .dataframe thead tr th {\n",
       "        text-align: left;\n",
       "    }\n",
       "</style>\n",
       "<table border=\"1\" class=\"dataframe\">\n",
       "  <thead>\n",
       "    <tr>\n",
       "      <th></th>\n",
       "      <th>numeric__B</th>\n",
       "      <th>numeric__C</th>\n",
       "      <th>object__A_F</th>\n",
       "      <th>object__A_W</th>\n",
       "    </tr>\n",
       "  </thead>\n",
       "  <tbody>\n",
       "    <tr>\n",
       "      <th>0</th>\n",
       "      <td>-1.5</td>\n",
       "      <td>0.912871</td>\n",
       "      <td>1.0</td>\n",
       "      <td>0.0</td>\n",
       "    </tr>\n",
       "    <tr>\n",
       "      <th>1</th>\n",
       "      <td>0.0</td>\n",
       "      <td>-1.825742</td>\n",
       "      <td>1.0</td>\n",
       "      <td>0.0</td>\n",
       "    </tr>\n",
       "    <tr>\n",
       "      <th>2</th>\n",
       "      <td>-0.5</td>\n",
       "      <td>0.912871</td>\n",
       "      <td>0.0</td>\n",
       "      <td>1.0</td>\n",
       "    </tr>\n",
       "    <tr>\n",
       "      <th>3</th>\n",
       "      <td>0.5</td>\n",
       "      <td>0.000000</td>\n",
       "      <td>1.0</td>\n",
       "      <td>0.0</td>\n",
       "    </tr>\n",
       "    <tr>\n",
       "      <th>4</th>\n",
       "      <td>1.5</td>\n",
       "      <td>0.000000</td>\n",
       "      <td>0.0</td>\n",
       "      <td>1.0</td>\n",
       "    </tr>\n",
       "  </tbody>\n",
       "</table>\n",
       "</div>"
      ]
     },
     "execution_count": 156,
     "metadata": {},
     "output_type": "execute_result"
    }
   ],
   "execution_count": 156
  },
  {
   "metadata": {},
   "cell_type": "markdown",
   "source": "**pipline DF -> Стандартизация  -> LogReg-модель**\n",
   "id": "e447035ed213b24e"
  },
  {
   "metadata": {
    "ExecuteTime": {
     "end_time": "2025-08-25T11:27:44.849711Z",
     "start_time": "2025-08-25T11:27:44.824054Z"
    }
   },
   "cell_type": "code",
   "source": [
    "X, y = make_classification(n_samples=1000, n_features=4, n_informative=2, n_redundant=0, n_classes=2, n_clusters_per_class=1 , random_state=42)\n",
    "\n",
    "print(X.shape, y.shape)\n",
    "\n",
    "X_train, X_test, y_train, y_test = train_test_split(X, y, test_size=0.2, random_state=42, stratify=y)\n",
    "\n",
    "# C = 1 / λ (обратная величина коэффициента регуляризации).\n",
    "pipe_lg = make_pipeline(StandardScaler(), LogisticRegression(C=10))\n",
    "\n",
    "pipe_lg.fit(X_train, y_train)\n",
    "y_pred = pipe_lg.predict(X_test)\n",
    "\n",
    "print(\"Accuracy: \", accuracy_score(y_test, y_pred))\n",
    "print(\"Precision: \", precision_score(y_test, y_pred, average=\"macro\"))\n",
    "print(\"Recall: \", recall_score(y_test, y_pred, average=\"macro\"))\n",
    "print(\"F1-score: \", f1_score(y_test, y_pred, average=\"macro\"), '\\n')"
   ],
   "id": "c7264c0f31bbf2f6",
   "outputs": [
    {
     "name": "stdout",
     "output_type": "stream",
     "text": [
      "(1000, 4) (1000,)\n",
      "Accuracy:  0.9\n",
      "Precision:  0.9001600640256102\n",
      "Recall:  0.9\n",
      "F1-score:  0.8999899989999 \n",
      "\n"
     ]
    }
   ],
   "execution_count": 154
  }
 ],
 "metadata": {
  "kernelspec": {
   "display_name": "Python 3",
   "language": "python",
   "name": "python3"
  },
  "language_info": {
   "codemirror_mode": {
    "name": "ipython",
    "version": 2
   },
   "file_extension": ".py",
   "mimetype": "text/x-python",
   "name": "python",
   "nbconvert_exporter": "python",
   "pygments_lexer": "ipython2",
   "version": "2.7.6"
  }
 },
 "nbformat": 4,
 "nbformat_minor": 5
}
