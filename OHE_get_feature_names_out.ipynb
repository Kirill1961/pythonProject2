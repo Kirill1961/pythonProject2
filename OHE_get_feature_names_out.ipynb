{
 "cells": [
  {
   "cell_type": "code",
   "id": "initial_id",
   "metadata": {
    "collapsed": true,
    "ExecuteTime": {
     "end_time": "2025-08-24T15:30:23.509001Z",
     "start_time": "2025-08-24T15:30:23.459038Z"
    }
   },
   "source": [
    "import pandas as pd\n",
    "from sklearn.pipeline import Pipeline\n",
    "from sklearn.preprocessing import OneHotEncoder, StandardScaler\n",
    "from sklearn.impute import SimpleImputer\n",
    "from sklearn.compose import ColumnTransformer\n",
    "import numpy as np\n",
    "\n",
    "\n",
    "\n",
    "X_train = pd.DataFrame({\n",
    "    \"Sex\": [\"M\", \"F\", \"M\", None],\n",
    "    \"Housing\": [\"own\", \"rent\", None, \"free\"],\n",
    "    \"Age\": [25, 40, None, 33],\n",
    "    \"Credit\": [2000, 1500, 1200, 1800]\n",
    "})\n",
    "\n",
    "\n",
    "# TODO Для пайплайнов sklearn: всегда np.nan.\n",
    "# Меняем dct  pd.NA на np.nan\n",
    "X_train = X_train.replace({pd.NA: np.nan})\n",
    "\n",
    "cat_cols = [\"Sex\", \"Housing\"]\n",
    "num_cols = [\"Age\", \"Credit\"]\n",
    "\n",
    "# Пайплайн для категориальных\n",
    "cat_pipe = Pipeline([\n",
    "    (\"imputer\", SimpleImputer(strategy=\"most_frequent\")),\n",
    "    (\"ohe\", OneHotEncoder(sparse_output=False, handle_unknown=\"ignore\"))\n",
    "])\n",
    "\n",
    "# Пайплайн для числовых\n",
    "num_pipe = Pipeline([\n",
    "    (\"imputer\", SimpleImputer(strategy=\"mean\")),\n",
    "    (\"scaler\", StandardScaler())\n",
    "])\n",
    "\n",
    "# ColumnTransformer\n",
    "transf_obj = ColumnTransformer([\n",
    "    (\"cat\", cat_pipe, cat_cols),\n",
    "    (\"num\", num_pipe, num_cols)\n",
    "])\n",
    "\n",
    "# --- Здесь fit_transform на всем X_train ---\n",
    "X_transformed = transf_obj.fit_transform(X_train)\n",
    "\n",
    "# Достаём имена признаков\n",
    "feature_names = transf_obj.get_feature_names_out()\n",
    "\n",
    "# Собираем DataFrame\n",
    "X_transformed_df = pd.DataFrame(X_transformed, columns=feature_names)\n",
    "\n",
    "print(X_transformed_df)\n"
   ],
   "outputs": [
    {
     "name": "stdout",
     "output_type": "stream",
     "text": [
      "   cat__Sex_F  cat__Sex_M  cat__Housing_free  cat__Housing_own  \\\n",
      "0         0.0         1.0                0.0               1.0   \n",
      "1         1.0         0.0                0.0               0.0   \n",
      "2         0.0         1.0                1.0               0.0   \n",
      "3         0.0         1.0                1.0               0.0   \n",
      "\n",
      "   cat__Housing_rent  num__Age  num__Credit  \n",
      "0                0.0 -1.444571     1.237179  \n",
      "1                1.0  1.381763    -0.412393  \n",
      "2                0.0  0.000000    -1.402136  \n",
      "3                0.0  0.062807     0.577350  \n"
     ]
    }
   ],
   "execution_count": 8
  }
 ],
 "metadata": {
  "kernelspec": {
   "display_name": "Python 3",
   "language": "python",
   "name": "python3"
  },
  "language_info": {
   "codemirror_mode": {
    "name": "ipython",
    "version": 2
   },
   "file_extension": ".py",
   "mimetype": "text/x-python",
   "name": "python",
   "nbconvert_exporter": "python",
   "pygments_lexer": "ipython2",
   "version": "2.7.6"
  }
 },
 "nbformat": 4,
 "nbformat_minor": 5
}
