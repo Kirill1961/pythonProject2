{
 "cells": [
  {
   "cell_type": "code",
   "id": "initial_id",
   "metadata": {
    "collapsed": true,
    "ExecuteTime": {
     "end_time": "2025-08-22T07:25:57.710775Z",
     "start_time": "2025-08-22T07:25:57.701629Z"
    }
   },
   "source": [
    "from sklearn.preprocessing import StandardScaler, PolynomialFeatures, OneHotEncoder, LabelEncoder\n",
    "from sklearn.decomposition import PCA\n",
    "from sklearn.model_selection import train_test_split\n",
    "import random\n",
    "import pandas as pd\n",
    "import numpy as np\n",
    "from sklearn.pipeline import Pipeline, make_pipeline"
   ],
   "outputs": [],
   "execution_count": 6
  },
  {
   "metadata": {},
   "cell_type": "markdown",
   "source": "**Исходные DF**",
   "id": "442a84cb2793a187"
  },
  {
   "metadata": {
    "ExecuteTime": {
     "end_time": "2025-08-22T07:27:41.681551Z",
     "start_time": "2025-08-22T07:27:41.671865Z"
    }
   },
   "cell_type": "code",
   "source": [
    "a = pd.DataFrame({'a': list(range(4)), 'b':list(range(10, 50, 10)), 'c': list(range(100, 500, 100))})\n",
    "b = pd.DataFrame({'F': list('abab'), 'W': list('rtrs')})\n",
    "\n",
    "print(a)\n",
    "print(b)"
   ],
   "id": "eee0a98307c9c122",
   "outputs": [
    {
     "name": "stdout",
     "output_type": "stream",
     "text": [
      "   a   b    c\n",
      "0  0  10  100\n",
      "1  1  20  200\n",
      "2  2  30  300\n",
      "3  3  40  400\n",
      "   F  W\n",
      "0  a  r\n",
      "1  b  t\n",
      "2  c  n\n",
      "3  d  s\n"
     ]
    }
   ],
   "execution_count": 9
  },
  {
   "metadata": {},
   "cell_type": "markdown",
   "source": [
    "\n",
    "**Стандартизация + Полином**"
   ],
   "id": "3ae9b6a048a063a5"
  },
  {
   "metadata": {
    "ExecuteTime": {
     "end_time": "2025-08-22T07:40:14.935814Z",
     "start_time": "2025-08-22T07:40:14.920870Z"
    }
   },
   "cell_type": "code",
   "source": [
    "ppl1 = make_pipeline(StandardScaler(), PolynomialFeatures())\n",
    "\n",
    "a_poly = ppl1.fit_transform(a)\n",
    "\n",
    "a_poly_df = pd.DataFrame(a_poly)"
   ],
   "id": "9a7c6d18ff0a2447",
   "outputs": [],
   "execution_count": 24
  },
  {
   "metadata": {},
   "cell_type": "markdown",
   "source": "",
   "id": "43bf398539fd7fb8"
  },
  {
   "metadata": {},
   "cell_type": "markdown",
   "source": "**OHE + Полином** - `Шутка`, Полином -> Бред",
   "id": "82151294bac0855"
  },
  {
   "metadata": {
    "ExecuteTime": {
     "end_time": "2025-08-22T07:36:45.706791Z",
     "start_time": "2025-08-22T07:36:45.671855Z"
    }
   },
   "cell_type": "code",
   "source": [
    "ppl2 = make_pipeline(OneHotEncoder(sparse_output=False), PolynomialFeatures())\n",
    "\n",
    "b_poly = ppl2.fit_transform(b)\n",
    "\n",
    "b_poly_df = pd.DataFrame(b_poly)\n",
    "\n",
    "b_poly_df"
   ],
   "id": "921ec6d878dd552a",
   "outputs": [
    {
     "data": {
      "text/plain": [
       "    0    1    2    3    4    5    6    7    8    9   ...   35   36   37   38  \\\n",
       "0  1.0  1.0  0.0  0.0  0.0  0.0  1.0  0.0  0.0  1.0  ...  0.0  0.0  0.0  0.0   \n",
       "1  1.0  0.0  1.0  0.0  0.0  0.0  0.0  0.0  1.0  0.0  ...  0.0  0.0  0.0  0.0   \n",
       "2  1.0  0.0  0.0  1.0  0.0  1.0  0.0  0.0  0.0  0.0  ...  1.0  0.0  0.0  0.0   \n",
       "3  1.0  0.0  0.0  0.0  1.0  0.0  0.0  1.0  0.0  0.0  ...  0.0  0.0  0.0  0.0   \n",
       "\n",
       "    39   40   41   42   43   44  \n",
       "0  1.0  0.0  0.0  0.0  0.0  0.0  \n",
       "1  0.0  0.0  0.0  0.0  0.0  1.0  \n",
       "2  0.0  0.0  0.0  0.0  0.0  0.0  \n",
       "3  0.0  0.0  0.0  1.0  0.0  0.0  \n",
       "\n",
       "[4 rows x 45 columns]"
      ],
      "text/html": [
       "<div>\n",
       "<style scoped>\n",
       "    .dataframe tbody tr th:only-of-type {\n",
       "        vertical-align: middle;\n",
       "    }\n",
       "\n",
       "    .dataframe tbody tr th {\n",
       "        vertical-align: top;\n",
       "    }\n",
       "\n",
       "    .dataframe thead th {\n",
       "        text-align: right;\n",
       "    }\n",
       "</style>\n",
       "<table border=\"1\" class=\"dataframe\">\n",
       "  <thead>\n",
       "    <tr style=\"text-align: right;\">\n",
       "      <th></th>\n",
       "      <th>0</th>\n",
       "      <th>1</th>\n",
       "      <th>2</th>\n",
       "      <th>3</th>\n",
       "      <th>4</th>\n",
       "      <th>5</th>\n",
       "      <th>6</th>\n",
       "      <th>7</th>\n",
       "      <th>8</th>\n",
       "      <th>9</th>\n",
       "      <th>...</th>\n",
       "      <th>35</th>\n",
       "      <th>36</th>\n",
       "      <th>37</th>\n",
       "      <th>38</th>\n",
       "      <th>39</th>\n",
       "      <th>40</th>\n",
       "      <th>41</th>\n",
       "      <th>42</th>\n",
       "      <th>43</th>\n",
       "      <th>44</th>\n",
       "    </tr>\n",
       "  </thead>\n",
       "  <tbody>\n",
       "    <tr>\n",
       "      <th>0</th>\n",
       "      <td>1.0</td>\n",
       "      <td>1.0</td>\n",
       "      <td>0.0</td>\n",
       "      <td>0.0</td>\n",
       "      <td>0.0</td>\n",
       "      <td>0.0</td>\n",
       "      <td>1.0</td>\n",
       "      <td>0.0</td>\n",
       "      <td>0.0</td>\n",
       "      <td>1.0</td>\n",
       "      <td>...</td>\n",
       "      <td>0.0</td>\n",
       "      <td>0.0</td>\n",
       "      <td>0.0</td>\n",
       "      <td>0.0</td>\n",
       "      <td>1.0</td>\n",
       "      <td>0.0</td>\n",
       "      <td>0.0</td>\n",
       "      <td>0.0</td>\n",
       "      <td>0.0</td>\n",
       "      <td>0.0</td>\n",
       "    </tr>\n",
       "    <tr>\n",
       "      <th>1</th>\n",
       "      <td>1.0</td>\n",
       "      <td>0.0</td>\n",
       "      <td>1.0</td>\n",
       "      <td>0.0</td>\n",
       "      <td>0.0</td>\n",
       "      <td>0.0</td>\n",
       "      <td>0.0</td>\n",
       "      <td>0.0</td>\n",
       "      <td>1.0</td>\n",
       "      <td>0.0</td>\n",
       "      <td>...</td>\n",
       "      <td>0.0</td>\n",
       "      <td>0.0</td>\n",
       "      <td>0.0</td>\n",
       "      <td>0.0</td>\n",
       "      <td>0.0</td>\n",
       "      <td>0.0</td>\n",
       "      <td>0.0</td>\n",
       "      <td>0.0</td>\n",
       "      <td>0.0</td>\n",
       "      <td>1.0</td>\n",
       "    </tr>\n",
       "    <tr>\n",
       "      <th>2</th>\n",
       "      <td>1.0</td>\n",
       "      <td>0.0</td>\n",
       "      <td>0.0</td>\n",
       "      <td>1.0</td>\n",
       "      <td>0.0</td>\n",
       "      <td>1.0</td>\n",
       "      <td>0.0</td>\n",
       "      <td>0.0</td>\n",
       "      <td>0.0</td>\n",
       "      <td>0.0</td>\n",
       "      <td>...</td>\n",
       "      <td>1.0</td>\n",
       "      <td>0.0</td>\n",
       "      <td>0.0</td>\n",
       "      <td>0.0</td>\n",
       "      <td>0.0</td>\n",
       "      <td>0.0</td>\n",
       "      <td>0.0</td>\n",
       "      <td>0.0</td>\n",
       "      <td>0.0</td>\n",
       "      <td>0.0</td>\n",
       "    </tr>\n",
       "    <tr>\n",
       "      <th>3</th>\n",
       "      <td>1.0</td>\n",
       "      <td>0.0</td>\n",
       "      <td>0.0</td>\n",
       "      <td>0.0</td>\n",
       "      <td>1.0</td>\n",
       "      <td>0.0</td>\n",
       "      <td>0.0</td>\n",
       "      <td>1.0</td>\n",
       "      <td>0.0</td>\n",
       "      <td>0.0</td>\n",
       "      <td>...</td>\n",
       "      <td>0.0</td>\n",
       "      <td>0.0</td>\n",
       "      <td>0.0</td>\n",
       "      <td>0.0</td>\n",
       "      <td>0.0</td>\n",
       "      <td>0.0</td>\n",
       "      <td>0.0</td>\n",
       "      <td>1.0</td>\n",
       "      <td>0.0</td>\n",
       "      <td>0.0</td>\n",
       "    </tr>\n",
       "  </tbody>\n",
       "</table>\n",
       "<p>4 rows × 45 columns</p>\n",
       "</div>"
      ]
     },
     "execution_count": 19,
     "metadata": {},
     "output_type": "execute_result"
    }
   ],
   "execution_count": 19
  },
  {
   "metadata": {},
   "cell_type": "markdown",
   "source": "**Склеивание a и b**",
   "id": "e18e10f465e0519a"
  },
  {
   "metadata": {
    "ExecuteTime": {
     "end_time": "2025-08-22T07:40:21.065448Z",
     "start_time": "2025-08-22T07:40:21.040975Z"
    }
   },
   "cell_type": "code",
   "source": [
    "print('Склеивание исходных DF  : \\n',  pd.concat([a, b], axis=1))\n",
    "\n",
    "print('Склеивание Трансформированных DF  : \\n',pd.concat([a_poly_df, b_poly_df], axis=1))\n",
    "\n",
    "\n"
   ],
   "id": "432453a234c4cf54",
   "outputs": [
    {
     "name": "stdout",
     "output_type": "stream",
     "text": [
      "Склеивание исходных DF  : \n",
      "    a   b    c  F  W\n",
      "0  0  10  100  a  r\n",
      "1  1  20  200  b  t\n",
      "2  2  30  300  c  n\n",
      "3  3  40  400  d  s\n",
      "Склеивание Трансформированных DF  : \n",
      "     0         1         2         3    4    5    6    7    8    9   ...   35  \\\n",
      "0  1.0 -1.341641 -1.341641 -1.341641  1.8  1.8  1.8  1.8  1.8  1.8  ...  0.0   \n",
      "1  1.0 -0.447214 -0.447214 -0.447214  0.2  0.2  0.2  0.2  0.2  0.2  ...  0.0   \n",
      "2  1.0  0.447214  0.447214  0.447214  0.2  0.2  0.2  0.2  0.2  0.2  ...  1.0   \n",
      "3  1.0  1.341641  1.341641  1.341641  1.8  1.8  1.8  1.8  1.8  1.8  ...  0.0   \n",
      "\n",
      "    36   37   38   39   40   41   42   43   44  \n",
      "0  0.0  0.0  0.0  1.0  0.0  0.0  0.0  0.0  0.0  \n",
      "1  0.0  0.0  0.0  0.0  0.0  0.0  0.0  0.0  1.0  \n",
      "2  0.0  0.0  0.0  0.0  0.0  0.0  0.0  0.0  0.0  \n",
      "3  0.0  0.0  0.0  0.0  0.0  0.0  1.0  0.0  0.0  \n",
      "\n",
      "[4 rows x 55 columns]\n"
     ]
    }
   ],
   "execution_count": 25
  }
 ],
 "metadata": {
  "kernelspec": {
   "display_name": "Python 3",
   "language": "python",
   "name": "python3"
  },
  "language_info": {
   "codemirror_mode": {
    "name": "ipython",
    "version": 2
   },
   "file_extension": ".py",
   "mimetype": "text/x-python",
   "name": "python",
   "nbconvert_exporter": "python",
   "pygments_lexer": "ipython2",
   "version": "2.7.6"
  }
 },
 "nbformat": 4,
 "nbformat_minor": 5
}
