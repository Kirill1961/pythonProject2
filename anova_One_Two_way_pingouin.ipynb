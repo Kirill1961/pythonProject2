{
 "cells": [
  {
   "metadata": {
    "ExecuteTime": {
     "end_time": "2025-04-28T19:05:32.879305Z",
     "start_time": "2025-04-28T19:05:32.020628Z"
    }
   },
   "cell_type": "code",
   "source": [
    "import numpy as np\n",
    "import pandas as pd\n",
    "import statsmodels.api as sm\n",
    "from statsmodels.formula.api import ols\n",
    "from statsmodels.formula.api import mnlogit\n",
    "from statsmodels.stats.anova import anova_lm\n",
    "from statsmodels.stats.multicomp import pairwise_tukeyhsd\n",
    "from scipy.stats import shapiro\n",
    "import matplotlib.pyplot as plt\n",
    "import seaborn as sns\n",
    "from scipy import stats\n",
    "import pingouin as pg"
   ],
   "id": "c4a34b6129ad19ce",
   "outputs": [],
   "execution_count": 65
  },
  {
   "metadata": {},
   "cell_type": "markdown",
   "source": "",
   "id": "875fd4b52034f941"
  },
  {
   "metadata": {},
   "cell_type": "markdown",
   "source": "index_col=0 - Убрали лишнюю колонку с индексами",
   "id": "df1d2543ac5f342d"
  },
  {
   "metadata": {},
   "cell_type": "code",
   "source": [
    "\n",
    "df_cs = pd.read_csv(\"D:\\Eduson_data\\Customer Segmentation.csv\", index_col=0)\n",
    "print(df_cs.head())"
   ],
   "id": "f65e7a8f04807699",
   "outputs": [],
   "execution_count": null
  },
  {
   "metadata": {},
   "cell_type": "markdown",
   "source": "⚪ One-Way ANOVA ◾ ols ◾ groupby",
   "id": "5406b3dc58a78987"
  },
  {
   "metadata": {},
   "cell_type": "code",
   "source": [
    "# TODO создаём таблицу наблюдений с удалёными NaN в Graduated\n",
    "df_cs = df_cs[df_cs.Graduated.notna()]\n",
    "\n",
    "model = ols('Age ~ Segmentation', df_cs).fit()\n",
    "print(anova_lm(model), '\\n')\n",
    "# model.summary()"
   ],
   "id": "2c1a4350a1457b6a",
   "outputs": [],
   "execution_count": null
  },
  {
   "metadata": {},
   "cell_type": "markdown",
   "source": "shapiro one-way",
   "id": "41739e04e85a77d4"
  },
  {
   "metadata": {
    "ExecuteTime": {
     "end_time": "2025-04-28T14:14:43.744176Z",
     "start_time": "2025-04-28T14:14:43.610192Z"
    }
   },
   "cell_type": "code",
   "source": "shapiro(model.resid)",
   "id": "fe6cfd11760f5653",
   "outputs": [
    {
     "name": "stderr",
     "output_type": "stream",
     "text": [
      "C:\\Users\\Kirill\\AppData\\Local\\Programs\\Python\\Python311\\Lib\\site-packages\\scipy\\stats\\_morestats.py:1882: UserWarning: p-value may not be accurate for N > 5000.\n",
      "  warnings.warn(\"p-value may not be accurate for N > 5000.\")\n"
     ]
    },
    {
     "data": {
      "text/plain": [
       "ShapiroResult(statistic=0.9366268515586853, pvalue=0.0)"
      ]
     },
     "execution_count": 28,
     "metadata": {},
     "output_type": "execute_result"
    }
   ],
   "execution_count": 28
  },
  {
   "metadata": {},
   "cell_type": "markdown",
   "source": "QQ - plot one-way",
   "id": "189f45a13130960a"
  },
  {
   "metadata": {
    "ExecuteTime": {
     "end_time": "2025-04-28T14:16:20.938246Z",
     "start_time": "2025-04-28T14:16:19.317273Z"
    }
   },
   "cell_type": "code",
   "source": [
    "fig, axes = plt.subplots(figsize=(3, 2))\n",
    "sm.qqplot(model.resid, line='s', ax=axes)\n",
    "plt.show()"
   ],
   "id": "61c69dc055515f2d",
   "outputs": [
    {
     "data": {
      "text/plain": [
       "<Figure size 300x200 with 1 Axes>"
      ],
      "image/png": "[encoded data removed]"
     },
     "metadata": {},
     "output_type": "display_data"
    }
   ],
   "execution_count": 29
  },
  {
   "metadata": {},
   "cell_type": "markdown",
   "source": "post hoc ◾ Тьюки one-way",
   "id": "7c56edbb42d3799c"
  },
  {
   "metadata": {
    "ExecuteTime": {
     "end_time": "2025-04-28T14:19:45.201663Z",
     "start_time": "2025-04-28T14:19:44.254321Z"
    }
   },
   "cell_type": "code",
   "source": [
    "tukey_test = pairwise_tukeyhsd(endog=df_cs.Age, groups=df_cs.Segmentation)\n",
    "tukey_test.summary()"
   ],
   "id": "c51ee0ec0ad8d5fe",
   "outputs": [
    {
     "data": {
      "text/plain": [
       "<class 'statsmodels.iolib.table.SimpleTable'>"
      ],
      "text/html": [
       "<table class=\"simpletable\">\n",
       "<caption>Multiple Comparison of Means - Tukey HSD, FWER=0.05</caption>\n",
       "<tr>\n",
       "  <th>group1</th> <th>group2</th> <th>meandiff</th>  <th>p-adj</th>   <th>lower</th>    <th>upper</th>  <th>reject</th>\n",
       "</tr>\n",
       "<tr>\n",
       "     <td>A</td>      <td>B</td>    <td>3.2986</td>    <td>0.0</td>   <td>2.1722</td>    <td>4.425</td>   <td>True</td> \n",
       "</tr>\n",
       "<tr>\n",
       "     <td>A</td>      <td>C</td>    <td>4.8721</td>    <td>0.0</td>   <td>3.7504</td>   <td>5.9938</td>   <td>True</td> \n",
       "</tr>\n",
       "<tr>\n",
       "     <td>A</td>      <td>D</td>    <td>-9.6403</td>   <td>0.0</td>  <td>-10.7026</td>  <td>-8.5781</td>  <td>True</td> \n",
       "</tr>\n",
       "<tr>\n",
       "     <td>B</td>      <td>C</td>    <td>1.5735</td>  <td>0.0029</td>  <td>0.4084</td>   <td>2.7386</td>   <td>True</td> \n",
       "</tr>\n",
       "<tr>\n",
       "     <td>B</td>      <td>D</td>   <td>-12.9389</td>   <td>0.0</td>  <td>-14.0468</td>  <td>-11.831</td>  <td>True</td> \n",
       "</tr>\n",
       "<tr>\n",
       "     <td>C</td>      <td>D</td>   <td>-14.5124</td>   <td>0.0</td>  <td>-15.6156</td> <td>-13.4093</td>  <td>True</td> \n",
       "</tr>\n",
       "</table>"
      ],
      "text/latex": "\\begin{center}\n\\begin{tabular}{ccccccc}\n\\toprule\n\\textbf{group1} & \\textbf{group2} & \\textbf{meandiff} & \\textbf{p-adj} & \\textbf{lower} & \\textbf{upper} & \\textbf{reject}  \\\\\n\\midrule\n       A        &        B        &       3.2986      &      0.0       &     2.1722     &     4.425      &       True       \\\\\n       A        &        C        &       4.8721      &      0.0       &     3.7504     &     5.9938     &       True       \\\\\n       A        &        D        &      -9.6403      &      0.0       &    -10.7026    &    -8.5781     &       True       \\\\\n       B        &        C        &       1.5735      &     0.0029     &     0.4084     &     2.7386     &       True       \\\\\n       B        &        D        &      -12.9389     &      0.0       &    -14.0468    &    -11.831     &       True       \\\\\n       C        &        D        &      -14.5124     &      0.0       &    -15.6156    &    -13.4093    &       True       \\\\\n\\bottomrule\n\\end{tabular}\n%\\caption{Multiple Comparison of Means - Tukey HSD, FWER=0.05}\n\\end{center}"
     },
     "execution_count": 30,
     "metadata": {},
     "output_type": "execute_result"
    }
   ],
   "execution_count": 30
  },
  {
   "metadata": {},
   "cell_type": "markdown",
   "source": "",
   "id": "b4b1b553faeae421"
  },
  {
   "metadata": {},
   "cell_type": "markdown",
   "source": [
    "levene ◾ one-way\n",
    "* H0 - дисперсии в двух выборках не имеют значимых различий."
   ],
   "id": "2c838084c19486ec"
  },
  {
   "metadata": {
    "ExecuteTime": {
     "end_time": "2025-04-28T15:49:16.773235Z",
     "start_time": "2025-04-28T15:49:16.762272Z"
    }
   },
   "cell_type": "code",
   "source": [
    "# TODO Извлекаем столбцы Age/A/B/C/D, из df сгруппированного по Segmentation\n",
    "group_one = []\n",
    "for name, data in df_cs.groupby('Segmentation'):\n",
    "  group_one.append(data.Age)\n",
    "  print(name)\n",
    "lev = stats.levene(*group_one)\n",
    "print(lev)"
   ],
   "id": "85ab9999657d7b4a",
   "outputs": [
    {
     "name": "stdout",
     "output_type": "stream",
     "text": [
      "A\n",
      "B\n",
      "C\n",
      "D\n",
      "LeveneResult(statistic=4.623146038695482, pvalue=0.0031005673871797052)\n"
     ]
    }
   ],
   "execution_count": 63
  },
  {
   "metadata": {},
   "cell_type": "markdown",
   "source": "⚪ Two-way ANOVA -- двухфакторная",
   "id": "371efb7562f8edc8"
  },
  {
   "metadata": {
    "ExecuteTime": {
     "end_time": "2025-04-28T15:11:22.461900Z",
     "start_time": "2025-04-28T15:11:22.325322Z"
    }
   },
   "cell_type": "code",
   "source": [
    "model_two_way = ols('Age ~ Segmentation + Graduated +  Segmentation:Graduated', df_cs).fit()\n",
    "print(anova_lm(model_two_way))"
   ],
   "id": "f0ade04f451fe374",
   "outputs": [
    {
     "name": "stdout",
     "output_type": "stream",
     "text": [
      "                             df        sum_sq        mean_sq           F  \\\n",
      "Segmentation                3.0  3.541179e+05  118039.307058  493.786071   \n",
      "Graduated                   1.0  5.609825e+04   56098.251088  234.672125   \n",
      "Segmentation:Graduated      3.0  2.871598e+04    9571.992294   40.041886   \n",
      "Residual                10585.0  2.530339e+06     239.049487         NaN   \n",
      "\n",
      "                               PR(>F)  \n",
      "Segmentation            2.474155e-300  \n",
      "Graduated                2.079184e-52  \n",
      "Segmentation:Graduated   1.011249e-25  \n",
      "Residual                          NaN  \n"
     ]
    }
   ],
   "execution_count": 36
  },
  {
   "metadata": {},
   "cell_type": "markdown",
   "source": "shapiro two-way",
   "id": "ea67948ea6dbb3dc"
  },
  {
   "metadata": {
    "ExecuteTime": {
     "end_time": "2025-04-28T15:11:25.652662Z",
     "start_time": "2025-04-28T15:11:25.643672Z"
    }
   },
   "cell_type": "code",
   "source": "shapiro(model_two_way.resid)",
   "id": "3415df571f2a4ee7",
   "outputs": [
    {
     "name": "stderr",
     "output_type": "stream",
     "text": [
      "C:\\Users\\Kirill\\AppData\\Local\\Programs\\Python\\Python311\\Lib\\site-packages\\scipy\\stats\\_morestats.py:1882: UserWarning: p-value may not be accurate for N > 5000.\n",
      "  warnings.warn(\"p-value may not be accurate for N > 5000.\")\n"
     ]
    },
    {
     "data": {
      "text/plain": [
       "ShapiroResult(statistic=0.9235607385635376, pvalue=0.0)"
      ]
     },
     "execution_count": 37,
     "metadata": {},
     "output_type": "execute_result"
    }
   ],
   "execution_count": 37
  },
  {
   "metadata": {},
   "cell_type": "markdown",
   "source": "QQ - plot two_way",
   "id": "9a3d493a753803f7"
  },
  {
   "metadata": {
    "ExecuteTime": {
     "end_time": "2025-04-28T15:12:13.436153Z",
     "start_time": "2025-04-28T15:12:13.261517Z"
    }
   },
   "cell_type": "code",
   "source": [
    "fig, axes = plt.subplots(figsize=(3, 2))\n",
    "sm.qqplot(model_two_way.resid, line='s', ax=axes)\n",
    "plt.show()"
   ],
   "id": "3ee5eaafc8eaa467",
   "outputs": [
    {
     "data": {
      "text/plain": [
       "<Figure size 300x200 with 1 Axes>"
      ],
      "image/png": "[encoded data removed]"
     },
     "metadata": {},
     "output_type": "display_data"
    }
   ],
   "execution_count": 38
  },
  {
   "metadata": {},
   "cell_type": "markdown",
   "source": [
    " post hoc ◾ Тьюки  two-way\n",
    " * Н0 - между средними групп различий нет"
   ],
   "id": "24962bbc6a67561"
  },
  {
   "metadata": {
    "ExecuteTime": {
     "end_time": "2025-04-28T15:17:21.375336Z",
     "start_time": "2025-04-28T15:17:21.352998Z"
    }
   },
   "cell_type": "code",
   "source": [
    "# TODO Добавляем столбец 'Combi' для pairwise_tukeyhsd\n",
    "df_cs['Combi'] = df_cs.Segmentation + '/' + df_cs.Graduated\n",
    "# df_cs"
   ],
   "id": "f42e91d2e7e73d23",
   "outputs": [
    {
     "data": {
      "text/plain": [
       "           ID  Gender Ever_Married  Age Graduated     Profession  \\\n",
       "0      460394  Female           No   32       Yes     Healthcare   \n",
       "1      461798  Female           No   56       Yes         Artist   \n",
       "2      464976    Male          Yes   75        No         Lawyer   \n",
       "3      462104    Male          Yes   39        No  Entertainment   \n",
       "4      464829    Male           No   22        No     Healthcare   \n",
       "...       ...     ...          ...  ...       ...            ...   \n",
       "10690  462861  Female           No   30       Yes     Healthcare   \n",
       "10691  464409  Female          Yes   81       Yes         Lawyer   \n",
       "10692  465861  Female           No   40       Yes  Entertainment   \n",
       "10693  465056    Male          Yes   87       Yes         Lawyer   \n",
       "10694  461637    Male          Yes   51       Yes         Artist   \n",
       "\n",
       "       Work_Experience Spending_Score  Family_Size  Var_1 Segmentation  Combi  \n",
       "0                  9.0            Low          3.0  Cat_6            D  D/Yes  \n",
       "1                  0.0            Low          1.0  Cat_6            A  A/Yes  \n",
       "2                  1.0            Low          1.0  Cat_4            D   D/No  \n",
       "3                  9.0            Low          2.0  Cat_3            D   D/No  \n",
       "4                  9.0            Low          5.0  Cat_4            D   D/No  \n",
       "...                ...            ...          ...    ...          ...    ...  \n",
       "10690              8.0            Low          1.0  Cat_6            D  D/Yes  \n",
       "10691              0.0        Average          2.0  Cat_6            A  A/Yes  \n",
       "10692             14.0            Low          1.0  Cat_6            A  A/Yes  \n",
       "10693              1.0           High          2.0  Cat_6            A  A/Yes  \n",
       "10694              1.0            Low          2.0  Cat_7            B  B/Yes  \n",
       "\n",
       "[10593 rows x 12 columns]"
      ],
      "text/html": [
       "<div>\n",
       "<style scoped>\n",
       "    .dataframe tbody tr th:only-of-type {\n",
       "        vertical-align: middle;\n",
       "    }\n",
       "\n",
       "    .dataframe tbody tr th {\n",
       "        vertical-align: top;\n",
       "    }\n",
       "\n",
       "    .dataframe thead th {\n",
       "        text-align: right;\n",
       "    }\n",
       "</style>\n",
       "<table border=\"1\" class=\"dataframe\">\n",
       "  <thead>\n",
       "    <tr style=\"text-align: right;\">\n",
       "      <th></th>\n",
       "      <th>ID</th>\n",
       "      <th>Gender</th>\n",
       "      <th>Ever_Married</th>\n",
       "      <th>Age</th>\n",
       "      <th>Graduated</th>\n",
       "      <th>Profession</th>\n",
       "      <th>Work_Experience</th>\n",
       "      <th>Spending_Score</th>\n",
       "      <th>Family_Size</th>\n",
       "      <th>Var_1</th>\n",
       "      <th>Segmentation</th>\n",
       "      <th>Combi</th>\n",
       "    </tr>\n",
       "  </thead>\n",
       "  <tbody>\n",
       "    <tr>\n",
       "      <th>0</th>\n",
       "      <td>460394</td>\n",
       "      <td>Female</td>\n",
       "      <td>No</td>\n",
       "      <td>32</td>\n",
       "      <td>Yes</td>\n",
       "      <td>Healthcare</td>\n",
       "      <td>9.0</td>\n",
       "      <td>Low</td>\n",
       "      <td>3.0</td>\n",
       "      <td>Cat_6</td>\n",
       "      <td>D</td>\n",
       "      <td>D/Yes</td>\n",
       "    </tr>\n",
       "    <tr>\n",
       "      <th>1</th>\n",
       "      <td>461798</td>\n",
       "      <td>Female</td>\n",
       "      <td>No</td>\n",
       "      <td>56</td>\n",
       "      <td>Yes</td>\n",
       "      <td>Artist</td>\n",
       "      <td>0.0</td>\n",
       "      <td>Low</td>\n",
       "      <td>1.0</td>\n",
       "      <td>Cat_6</td>\n",
       "      <td>A</td>\n",
       "      <td>A/Yes</td>\n",
       "    </tr>\n",
       "    <tr>\n",
       "      <th>2</th>\n",
       "      <td>464976</td>\n",
       "      <td>Male</td>\n",
       "      <td>Yes</td>\n",
       "      <td>75</td>\n",
       "      <td>No</td>\n",
       "      <td>Lawyer</td>\n",
       "      <td>1.0</td>\n",
       "      <td>Low</td>\n",
       "      <td>1.0</td>\n",
       "      <td>Cat_4</td>\n",
       "      <td>D</td>\n",
       "      <td>D/No</td>\n",
       "    </tr>\n",
       "    <tr>\n",
       "      <th>3</th>\n",
       "      <td>462104</td>\n",
       "      <td>Male</td>\n",
       "      <td>Yes</td>\n",
       "      <td>39</td>\n",
       "      <td>No</td>\n",
       "      <td>Entertainment</td>\n",
       "      <td>9.0</td>\n",
       "      <td>Low</td>\n",
       "      <td>2.0</td>\n",
       "      <td>Cat_3</td>\n",
       "      <td>D</td>\n",
       "      <td>D/No</td>\n",
       "    </tr>\n",
       "    <tr>\n",
       "      <th>4</th>\n",
       "      <td>464829</td>\n",
       "      <td>Male</td>\n",
       "      <td>No</td>\n",
       "      <td>22</td>\n",
       "      <td>No</td>\n",
       "      <td>Healthcare</td>\n",
       "      <td>9.0</td>\n",
       "      <td>Low</td>\n",
       "      <td>5.0</td>\n",
       "      <td>Cat_4</td>\n",
       "      <td>D</td>\n",
       "      <td>D/No</td>\n",
       "    </tr>\n",
       "    <tr>\n",
       "      <th>...</th>\n",
       "      <td>...</td>\n",
       "      <td>...</td>\n",
       "      <td>...</td>\n",
       "      <td>...</td>\n",
       "      <td>...</td>\n",
       "      <td>...</td>\n",
       "      <td>...</td>\n",
       "      <td>...</td>\n",
       "      <td>...</td>\n",
       "      <td>...</td>\n",
       "      <td>...</td>\n",
       "      <td>...</td>\n",
       "    </tr>\n",
       "    <tr>\n",
       "      <th>10690</th>\n",
       "      <td>462861</td>\n",
       "      <td>Female</td>\n",
       "      <td>No</td>\n",
       "      <td>30</td>\n",
       "      <td>Yes</td>\n",
       "      <td>Healthcare</td>\n",
       "      <td>8.0</td>\n",
       "      <td>Low</td>\n",
       "      <td>1.0</td>\n",
       "      <td>Cat_6</td>\n",
       "      <td>D</td>\n",
       "      <td>D/Yes</td>\n",
       "    </tr>\n",
       "    <tr>\n",
       "      <th>10691</th>\n",
       "      <td>464409</td>\n",
       "      <td>Female</td>\n",
       "      <td>Yes</td>\n",
       "      <td>81</td>\n",
       "      <td>Yes</td>\n",
       "      <td>Lawyer</td>\n",
       "      <td>0.0</td>\n",
       "      <td>Average</td>\n",
       "      <td>2.0</td>\n",
       "      <td>Cat_6</td>\n",
       "      <td>A</td>\n",
       "      <td>A/Yes</td>\n",
       "    </tr>\n",
       "    <tr>\n",
       "      <th>10692</th>\n",
       "      <td>465861</td>\n",
       "      <td>Female</td>\n",
       "      <td>No</td>\n",
       "      <td>40</td>\n",
       "      <td>Yes</td>\n",
       "      <td>Entertainment</td>\n",
       "      <td>14.0</td>\n",
       "      <td>Low</td>\n",
       "      <td>1.0</td>\n",
       "      <td>Cat_6</td>\n",
       "      <td>A</td>\n",
       "      <td>A/Yes</td>\n",
       "    </tr>\n",
       "    <tr>\n",
       "      <th>10693</th>\n",
       "      <td>465056</td>\n",
       "      <td>Male</td>\n",
       "      <td>Yes</td>\n",
       "      <td>87</td>\n",
       "      <td>Yes</td>\n",
       "      <td>Lawyer</td>\n",
       "      <td>1.0</td>\n",
       "      <td>High</td>\n",
       "      <td>2.0</td>\n",
       "      <td>Cat_6</td>\n",
       "      <td>A</td>\n",
       "      <td>A/Yes</td>\n",
       "    </tr>\n",
       "    <tr>\n",
       "      <th>10694</th>\n",
       "      <td>461637</td>\n",
       "      <td>Male</td>\n",
       "      <td>Yes</td>\n",
       "      <td>51</td>\n",
       "      <td>Yes</td>\n",
       "      <td>Artist</td>\n",
       "      <td>1.0</td>\n",
       "      <td>Low</td>\n",
       "      <td>2.0</td>\n",
       "      <td>Cat_7</td>\n",
       "      <td>B</td>\n",
       "      <td>B/Yes</td>\n",
       "    </tr>\n",
       "  </tbody>\n",
       "</table>\n",
       "<p>10593 rows × 12 columns</p>\n",
       "</div>"
      ]
     },
     "execution_count": 40,
     "metadata": {},
     "output_type": "execute_result"
    }
   ],
   "execution_count": 40
  },
  {
   "metadata": {
    "ExecuteTime": {
     "end_time": "2025-04-28T15:20:14.237717Z",
     "start_time": "2025-04-28T15:20:12.275797Z"
    }
   },
   "cell_type": "code",
   "source": [
    "tukey_to_way = pairwise_tukeyhsd(endog=df_cs.Age, groups=df_cs.Combi, alpha=0.05)\n",
    "tukey_to_way.summary()"
   ],
   "id": "3f47db42f862d023",
   "outputs": [
    {
     "data": {
      "text/plain": [
       "<class 'statsmodels.iolib.table.SimpleTable'>"
      ],
      "text/html": [
       "<table class=\"simpletable\">\n",
       "<caption>Multiple Comparison of Means - Tukey HSD, FWER=0.05</caption>\n",
       "<tr>\n",
       "  <th>group1</th> <th>group2</th> <th>meandiff</th>  <th>p-adj</th>   <th>lower</th>    <th>upper</th>  <th>reject</th>\n",
       "</tr>\n",
       "<tr>\n",
       "   <td>A/No</td>   <td>A/Yes</td>  <td>1.3896</td>  <td>0.2931</td>  <td>-0.4414</td>  <td>3.2206</td>   <td>False</td>\n",
       "</tr>\n",
       "<tr>\n",
       "   <td>A/No</td>   <td>B/No</td>   <td>2.8664</td>  <td>0.0037</td>  <td>0.5767</td>   <td>5.1561</td>   <td>True</td> \n",
       "</tr>\n",
       "<tr>\n",
       "   <td>A/No</td>   <td>B/Yes</td>  <td>4.6981</td>    <td>0.0</td>   <td>2.8575</td>   <td>6.5387</td>   <td>True</td> \n",
       "</tr>\n",
       "<tr>\n",
       "   <td>A/No</td>   <td>C/No</td>   <td>0.2673</td>    <td>1.0</td>   <td>-2.3012</td>  <td>2.8358</td>   <td>False</td>\n",
       "</tr>\n",
       "<tr>\n",
       "   <td>A/No</td>   <td>C/Yes</td>  <td>7.1141</td>    <td>0.0</td>   <td>5.3191</td>   <td>8.9092</td>   <td>True</td> \n",
       "</tr>\n",
       "<tr>\n",
       "   <td>A/No</td>   <td>D/No</td>  <td>-12.5708</td>   <td>0.0</td>  <td>-14.3916</td> <td>-10.7499</td>  <td>True</td> \n",
       "</tr>\n",
       "<tr>\n",
       "   <td>A/No</td>   <td>D/Yes</td>  <td>-3.1845</td>   <td>0.0</td>   <td>-5.1587</td>  <td>-1.2103</td>  <td>True</td> \n",
       "</tr>\n",
       "<tr>\n",
       "   <td>A/Yes</td>  <td>B/No</td>   <td>1.4768</td>  <td>0.3962</td>  <td>-0.6262</td>  <td>3.5798</td>   <td>False</td>\n",
       "</tr>\n",
       "<tr>\n",
       "   <td>A/Yes</td>  <td>B/Yes</td>  <td>3.3085</td>    <td>0.0</td>   <td>1.7061</td>   <td>4.9109</td>   <td>True</td> \n",
       "</tr>\n",
       "<tr>\n",
       "   <td>A/Yes</td>  <td>C/No</td>   <td>-1.1223</td> <td>0.8505</td>  <td>-3.5258</td>  <td>1.2813</td>   <td>False</td>\n",
       "</tr>\n",
       "<tr>\n",
       "   <td>A/Yes</td>  <td>C/Yes</td>  <td>5.7245</td>    <td>0.0</td>   <td>4.1747</td>   <td>7.2744</td>   <td>True</td> \n",
       "</tr>\n",
       "<tr>\n",
       "   <td>A/Yes</td>  <td>D/No</td>  <td>-13.9604</td>   <td>0.0</td>  <td>-15.5401</td> <td>-12.3806</td>  <td>True</td> \n",
       "</tr>\n",
       "<tr>\n",
       "   <td>A/Yes</td>  <td>D/Yes</td>  <td>-4.5741</td>   <td>0.0</td>   <td>-6.3283</td>  <td>-2.8199</td>  <td>True</td> \n",
       "</tr>\n",
       "<tr>\n",
       "   <td>B/No</td>   <td>B/Yes</td>  <td>1.8317</td>  <td>0.1452</td>  <td>-0.2796</td>  <td>3.9431</td>   <td>False</td>\n",
       "</tr>\n",
       "<tr>\n",
       "   <td>B/No</td>   <td>C/No</td>   <td>-2.599</td>  <td>0.0843</td>  <td>-5.368</td>    <td>0.17</td>    <td>False</td>\n",
       "</tr>\n",
       "<tr>\n",
       "   <td>B/No</td>   <td>C/Yes</td>  <td>4.2478</td>    <td>0.0</td>    <td>2.176</td>   <td>6.3196</td>   <td>True</td> \n",
       "</tr>\n",
       "<tr>\n",
       "   <td>B/No</td>   <td>D/No</td>  <td>-15.4371</td>   <td>0.0</td>  <td>-17.5313</td> <td>-13.3429</td>  <td>True</td> \n",
       "</tr>\n",
       "<tr>\n",
       "   <td>B/No</td>   <td>D/Yes</td>  <td>-6.0508</td>   <td>0.0</td>   <td>-8.2796</td>  <td>-3.8221</td>  <td>True</td> \n",
       "</tr>\n",
       "<tr>\n",
       "   <td>B/Yes</td>  <td>C/No</td>   <td>-4.4308</td>   <td>0.0</td>   <td>-6.8417</td>  <td>-2.0199</td>  <td>True</td> \n",
       "</tr>\n",
       "<tr>\n",
       "   <td>B/Yes</td>  <td>C/Yes</td>   <td>2.416</td>  <td>0.0001</td>  <td>0.8548</td>   <td>3.9772</td>   <td>True</td> \n",
       "</tr>\n",
       "<tr>\n",
       "   <td>B/Yes</td>  <td>D/No</td>  <td>-17.2689</td>   <td>0.0</td>  <td>-18.8597</td>  <td>-15.678</td>  <td>True</td> \n",
       "</tr>\n",
       "<tr>\n",
       "   <td>B/Yes</td>  <td>D/Yes</td>  <td>-7.8826</td>   <td>0.0</td>   <td>-9.6468</td>  <td>-6.1183</td>  <td>True</td> \n",
       "</tr>\n",
       "<tr>\n",
       "   <td>C/No</td>   <td>C/Yes</td>  <td>6.8468</td>    <td>0.0</td>   <td>4.4705</td>   <td>9.2231</td>   <td>True</td> \n",
       "</tr>\n",
       "<tr>\n",
       "   <td>C/No</td>   <td>D/No</td>  <td>-12.8381</td>   <td>0.0</td>   <td>-15.234</td> <td>-10.4422</td>  <td>True</td> \n",
       "</tr>\n",
       "<tr>\n",
       "   <td>C/No</td>   <td>D/Yes</td>  <td>-3.4518</td> <td>0.0008</td>  <td>-5.9662</td>  <td>-0.9374</td>  <td>True</td> \n",
       "</tr>\n",
       "<tr>\n",
       "   <td>C/Yes</td>  <td>D/No</td>  <td>-19.6849</td>   <td>0.0</td>  <td>-21.2228</td>  <td>-18.147</td>  <td>True</td> \n",
       "</tr>\n",
       "<tr>\n",
       "   <td>C/Yes</td>  <td>D/Yes</td> <td>-10.2986</td>   <td>0.0</td>  <td>-12.0153</td>  <td>-8.5819</td>  <td>True</td> \n",
       "</tr>\n",
       "<tr>\n",
       "   <td>D/No</td>   <td>D/Yes</td>  <td>9.3863</td>    <td>0.0</td>   <td>7.6426</td>    <td>11.13</td>   <td>True</td> \n",
       "</tr>\n",
       "</table>"
      ],
      "text/latex": "\\begin{center}\n\\begin{tabular}{ccccccc}\n\\toprule\n\\textbf{group1} & \\textbf{group2} & \\textbf{meandiff} & \\textbf{p-adj} & \\textbf{lower} & \\textbf{upper} & \\textbf{reject}  \\\\\n\\midrule\n      A/No      &      A/Yes      &       1.3896      &     0.2931     &    -0.4414     &     3.2206     &      False       \\\\\n      A/No      &       B/No      &       2.8664      &     0.0037     &     0.5767     &     5.1561     &       True       \\\\\n      A/No      &      B/Yes      &       4.6981      &      0.0       &     2.8575     &     6.5387     &       True       \\\\\n      A/No      &       C/No      &       0.2673      &      1.0       &    -2.3012     &     2.8358     &      False       \\\\\n      A/No      &      C/Yes      &       7.1141      &      0.0       &     5.3191     &     8.9092     &       True       \\\\\n      A/No      &       D/No      &      -12.5708     &      0.0       &    -14.3916    &    -10.7499    &       True       \\\\\n      A/No      &      D/Yes      &      -3.1845      &      0.0       &    -5.1587     &    -1.2103     &       True       \\\\\n     A/Yes      &       B/No      &       1.4768      &     0.3962     &    -0.6262     &     3.5798     &      False       \\\\\n     A/Yes      &      B/Yes      &       3.3085      &      0.0       &     1.7061     &     4.9109     &       True       \\\\\n     A/Yes      &       C/No      &      -1.1223      &     0.8505     &    -3.5258     &     1.2813     &      False       \\\\\n     A/Yes      &      C/Yes      &       5.7245      &      0.0       &     4.1747     &     7.2744     &       True       \\\\\n     A/Yes      &       D/No      &      -13.9604     &      0.0       &    -15.5401    &    -12.3806    &       True       \\\\\n     A/Yes      &      D/Yes      &      -4.5741      &      0.0       &    -6.3283     &    -2.8199     &       True       \\\\\n      B/No      &      B/Yes      &       1.8317      &     0.1452     &    -0.2796     &     3.9431     &      False       \\\\\n      B/No      &       C/No      &       -2.599      &     0.0843     &     -5.368     &      0.17      &      False       \\\\\n      B/No      &      C/Yes      &       4.2478      &      0.0       &     2.176      &     6.3196     &       True       \\\\\n      B/No      &       D/No      &      -15.4371     &      0.0       &    -17.5313    &    -13.3429    &       True       \\\\\n      B/No      &      D/Yes      &      -6.0508      &      0.0       &    -8.2796     &    -3.8221     &       True       \\\\\n     B/Yes      &       C/No      &      -4.4308      &      0.0       &    -6.8417     &    -2.0199     &       True       \\\\\n     B/Yes      &      C/Yes      &       2.416       &     0.0001     &     0.8548     &     3.9772     &       True       \\\\\n     B/Yes      &       D/No      &      -17.2689     &      0.0       &    -18.8597    &    -15.678     &       True       \\\\\n     B/Yes      &      D/Yes      &      -7.8826      &      0.0       &    -9.6468     &    -6.1183     &       True       \\\\\n      C/No      &      C/Yes      &       6.8468      &      0.0       &     4.4705     &     9.2231     &       True       \\\\\n      C/No      &       D/No      &      -12.8381     &      0.0       &    -15.234     &    -10.4422    &       True       \\\\\n      C/No      &      D/Yes      &      -3.4518      &     0.0008     &    -5.9662     &    -0.9374     &       True       \\\\\n     C/Yes      &       D/No      &      -19.6849     &      0.0       &    -21.2228    &    -18.147     &       True       \\\\\n     C/Yes      &      D/Yes      &      -10.2986     &      0.0       &    -12.0153    &    -8.5819     &       True       \\\\\n      D/No      &      D/Yes      &       9.3863      &      0.0       &     7.6426     &     11.13      &       True       \\\\\n\\bottomrule\n\\end{tabular}\n%\\caption{Multiple Comparison of Means - Tukey HSD, FWER=0.05}\n\\end{center}"
     },
     "execution_count": 42,
     "metadata": {},
     "output_type": "execute_result"
    }
   ],
   "execution_count": 42
  },
  {
   "metadata": {},
   "cell_type": "markdown",
   "source": "levene ◾ TWO-WAY",
   "id": "74b9fa87fc3cc02c"
  },
  {
   "metadata": {
    "ExecuteTime": {
     "end_time": "2025-04-28T15:24:37.128262Z",
     "start_time": "2025-04-28T15:24:37.093160Z"
    }
   },
   "cell_type": "code",
   "source": [
    "# TODO группируем df по элементам признаков Segmentation' и 'Graduated, извлекаем имена и под-таблицы\n",
    "groups = []\n",
    "for grp_name, data in df_cs.groupby(['Segmentation', 'Graduated']):\n",
    "  groups.append(data.Age)\n",
    "  print(grp_name)"
   ],
   "id": "6eaa2fb6bb1af8bf",
   "outputs": [
    {
     "name": "stdout",
     "output_type": "stream",
     "text": [
      "('A', 'No')\n",
      "('A', 'Yes')\n",
      "('B', 'No')\n",
      "('B', 'Yes')\n",
      "('C', 'No')\n",
      "('C', 'Yes')\n",
      "('D', 'No')\n",
      "('D', 'Yes')\n"
     ]
    }
   ],
   "execution_count": 43
  },
  {
   "metadata": {
    "ExecuteTime": {
     "end_time": "2025-04-28T15:24:55.537958Z",
     "start_time": "2025-04-28T15:24:55.527716Z"
    }
   },
   "cell_type": "code",
   "source": [
    "\n",
    "lev = stats.levene(*groups)\n",
    "print(lev, '\\n')\n"
   ],
   "id": "aa6a30d06b059844",
   "outputs": [
    {
     "name": "stdout",
     "output_type": "stream",
     "text": [
      "LeveneResult(statistic=31.78461584118632, pvalue=5.872980094095988e-44) \n",
      "\n"
     ]
    }
   ],
   "execution_count": 44
  },
  {
   "metadata": {},
   "cell_type": "markdown",
   "source": "pingouin one-way\n",
   "id": "df7970cc3eb45906"
  },
  {
   "metadata": {
    "ExecuteTime": {
     "end_time": "2025-04-28T19:05:44.932081Z",
     "start_time": "2025-04-28T19:05:44.795474Z"
    }
   },
   "cell_type": "code",
   "source": [
    "# Объединяем данные в один DataFrame\n",
    "df_long = df_cs[['Age', 'Segmentation']]  # Age — числовой, Segmentation — группы\n",
    "\n",
    "welch_anova = pg.welch_anova(dv='Age', between='Segmentation', data=df_long)\n",
    "print(welch_anova)"
   ],
   "id": "16c56ac3f389213d",
   "outputs": [
    {
     "name": "stdout",
     "output_type": "stream",
     "text": [
      "         Source  ddof1       ddof2           F          p-unc       np2\n",
      "0  Segmentation      3  5823.21904  473.322628  3.219731e-275  0.119261\n"
     ]
    }
   ],
   "execution_count": 66
  },
  {
   "metadata": {},
   "cell_type": "markdown",
   "source": "pingouin two-way",
   "id": "ff6c5193d8971130"
  },
  {
   "metadata": {
    "ExecuteTime": {
     "end_time": "2025-04-28T19:08:51.006627Z",
     "start_time": "2025-04-28T19:08:50.619858Z"
    }
   },
   "cell_type": "code",
   "source": [
    "# TODO Pingouin делает взаимодействие факторов автоматически в стандартной pg.anova(), если  оба фактора в between.\n",
    "# Без взаимодействия факторов:\n",
    "anova_two_way = pg.anova(dv='Age', between=['Segmentation', 'Graduated'], data=df_cs)\n",
    "print(anova_two_way)"
   ],
   "id": "809bba9df00efb7c",
   "outputs": [
    {
     "name": "stdout",
     "output_type": "stream",
     "text": [
      "                     Source            SS       DF            MS           F  \\\n",
      "0              Segmentation  2.450555e+05      3.0  81685.173479  341.708215   \n",
      "1                 Graduated  5.609825e+04      1.0  56098.251088  234.672125   \n",
      "2  Segmentation * Graduated  2.871598e+04      3.0   9571.992294   40.041886   \n",
      "3                  Residual  2.530339e+06  10585.0    239.049487         NaN   \n",
      "\n",
      "           p-unc       np2  \n",
      "0  8.220507e-212  0.088296  \n",
      "1   2.079184e-52  0.021689  \n",
      "2   1.011249e-25  0.011221  \n",
      "3            NaN       NaN  \n"
     ]
    }
   ],
   "execution_count": 67
  }
 ],
 "metadata": {
  "kernelspec": {
   "display_name": "Python 3",
   "language": "python",
   "name": "python3"
  },
  "language_info": {
   "codemirror_mode": {
    "name": "ipython",
    "version": 2
   },
   "file_extension": ".py",
   "mimetype": "text/x-python",
   "name": "python",
   "nbconvert_exporter": "python",
   "pygments_lexer": "ipython2",
   "version": "2.7.6"
  }
 },
 "nbformat": 4,
 "nbformat_minor": 5
}
