{
 "cells": [
  {
   "cell_type": "code",
   "id": "initial_id",
   "metadata": {
    "collapsed": true,
    "ExecuteTime": {
     "end_time": "2025-07-03T18:35:04.362330Z",
     "start_time": "2025-07-03T18:35:02.895314Z"
    }
   },
   "source": [
    "import numpy as np\n",
    "import pandas as pd\n",
    "from sklearn.pipeline import make_pipeline\n",
    "from sklearn import datasets\n",
    "from sklearn.datasets import fetch_california_housing\n",
    "from sklearn import linear_model\n",
    "from sklearn import metrics\n",
    "from sklearn.preprocessing import StandardScaler, PolynomialFeatures\n",
    "from sklearn.model_selection import train_test_split, cross_val_score, cross_validate\n",
    "from sklearn.linear_model import Ridge, Lasso, ElasticNet\n",
    "from sklearn.model_selection import GridSearchCV\n",
    "from sklearn.metrics import mean_squared_error\n",
    "from scipy.stats import boxcox\n",
    "import seaborn as sns\n",
    "import matplotlib.pyplot as plt\n",
    "from scipy.special import inv_boxcox\n",
    "import scipy.stats as stats\n",
    "from sklearn.linear_model import LinearRegression\n",
    "from statsmodels.stats.outliers_influence import variance_inflation_factor\n",
    "from statsmodels.tools.tools import add_constant\n",
    "from sklearn.preprocessing import SplineTransformer, MinMaxScaler"
   ],
   "outputs": [],
   "execution_count": 1
  },
  {
   "metadata": {},
   "cell_type": "markdown",
   "source": "**Eduson**",
   "id": "f33e947e28898e1d"
  },
  {
   "metadata": {},
   "cell_type": "code",
   "source": [
    "# TODO START\n",
    "X, Y = datasets.fetch_california_housing(as_frame=True, return_X_y=True)\n",
    "X_train, X_test, Y_train, Y_test = train_test_split(X, Y, test_size=0.1, random_state=42)\n",
    "print(X_train.shape, X_test.shape)"
   ],
   "id": "afb196f5c4baf8e5",
   "outputs": [],
   "execution_count": null
  },
  {
   "metadata": {},
   "cell_type": "code",
   "source": [
    "scaler = StandardScaler()\n",
    "scaler.fit(X_train)\n",
    "X_train= pd.DataFrame(scaler.transform(X_train), columns=scaler.get_feature_names_out())\n",
    "X_test = pd.DataFrame(scaler.transform( X_test), columns=scaler.get_feature_names_out())\n",
    "print(X_train.shape, X_test.shape)"
   ],
   "id": "7ccdd0d06869d886",
   "outputs": [],
   "execution_count": null
  },
  {
   "metadata": {},
   "cell_type": "code",
   "source": [
    "\n",
    "num_features = X.shape[1]\n",
    "for i in range(num_features):\n",
    "    column = X.columns[i]\n",
    "    X_train[f\"{column}_squared\"] = X_train[column] ** 2\n",
    "    X_test[f\"{column}_squared\"] = X_test[column] ** 2\n",
    "    X_train[f\"{column}_cubed\"] = X_train[column] ** 3\n",
    "    X_test[f\"{column}_cubed\"] = X_test[column] ** 3\n",
    "    X_train[f\"{column}_log\"] = np.log(10 + X_train[column])\n",
    "    X_test[f\"{column}_log\"] = np.log(10 + X_test[column])\n",
    "\n",
    "    for j in range(i + 1, num_features):\n",
    "        other_column = X.columns[j]\n",
    "        X_train[f\"{column}_x_{other_column}\"] = X_train[column] * X_train[other_column]\n",
    "        X_test[f\"{column}_x_{other_column}\"] = X_test[column] * X_test[other_column]\n",
    "\n",
    "print(X_train.shape, X_test.shape)\n",
    "print(X_train.columns)\n",
    "print(X_test.columns)"
   ],
   "id": "a01531246acc2c4c",
   "outputs": [],
   "execution_count": null
  },
  {
   "metadata": {},
   "cell_type": "code",
   "source": [
    "scaler = StandardScaler()\n",
    "scaler.fit(X_train)\n",
    "X_train= pd.DataFrame(scaler.transform(X_train), columns=scaler.get_feature_names_out())\n",
    "X_test = pd.DataFrame(scaler.transform( X_test), columns=scaler.get_feature_names_out())"
   ],
   "id": "48e3677243906017",
   "outputs": [],
   "execution_count": null
  },
  {
   "metadata": {},
   "cell_type": "code",
   "source": [
    "model = linear_model.LinearRegression()\n",
    "model.fit(X_train, Y_train)\n",
    "\n",
    "print(f\"Train MSE: {metrics.mean_squared_error(Y_train, model.predict(X_train)):.3}\")\n",
    "print(f\"Test MSE: {metrics.mean_squared_error(Y_test, model.predict(X_test)):.3}\")\n"
   ],
   "id": "77f398a7a7602e47",
   "outputs": [],
   "execution_count": null
  },
  {
   "metadata": {},
   "cell_type": "markdown",
   "source": "**Histogram & Scatter**",
   "id": "95c16b1ea000095b"
  },
  {
   "metadata": {},
   "cell_type": "code",
   "source": [
    "# TODO Histogram & Scatter\n",
    "Y.name\n",
    "X.columns"
   ],
   "id": "5772604188548ecf",
   "outputs": [],
   "execution_count": null
  },
  {
   "metadata": {},
   "cell_type": "markdown",
   "source": "**Логорифмическое масштабирование**",
   "id": "bb4e1b5ac00fa7e8"
  },
  {
   "metadata": {},
   "cell_type": "code",
   "source": [
    "X_log = np.log1p(X.AveOccup)\n",
    "X_log.describe()\n",
    "\n",
    "print(X.AveOccup.describe())\n",
    "print(X_log.describe())"
   ],
   "id": "7dead85ed0f18447",
   "outputs": [],
   "execution_count": null
  },
  {
   "metadata": {},
   "cell_type": "markdown",
   "source": [
    "**log1p**, **xlim** - Разжимаем график `log scaling`\n",
    "* `log1p` - `сжимает` большие значения и `растягивает` маленькие.\n",
    "    * Функция `log1p(x) = log(x + 1)` безопасна для нулей (а `обычный log(x) не работает`, если `x = 0`).\n",
    "* `plt.xlim(0, 15)` - визуальный фильтр оси X\n",
    "    * Это удобно, если выбросы сильно искажают график, а ты хочешь показать «тело» распределения."
   ],
   "id": "4d6735dca4be6848"
  },
  {
   "metadata": {},
   "cell_type": "code",
   "source": [
    "fig, ax = plt.subplots(figsize=(4, 4))\n",
    "sns.histplot(np.log1p(X.AveRooms), stat=\"probability\")\n",
    "plt.show()\n",
    "\n",
    "fig, ax = plt.subplots(figsize=(4, 4))\n",
    "sns.histplot(X.AveRooms, stat=\"probability\")\n",
    "plt.xlim(0, 15)  # Например, игнорировать огромные значения\n",
    "plt.show()"
   ],
   "id": "af26ad71105c9d5c",
   "outputs": [],
   "execution_count": null
  },
  {
   "metadata": {},
   "cell_type": "code",
   "source": "",
   "id": "a6a00cda24018de4",
   "outputs": [],
   "execution_count": null
  },
  {
   "metadata": {},
   "cell_type": "code",
   "source": [
    "# 'MedHouseVal'\n",
    "# Index(['MedInc', 'HouseAge', 'AveRooms', 'AveBedrms', 'Population', 'AveOccup',\n",
    "#       'Latitude', 'Longitude'],\n",
    " #     dtype='object')"
   ],
   "id": "d396d8692cf5e9c2",
   "outputs": [],
   "execution_count": null
  },
  {
   "metadata": {},
   "cell_type": "markdown",
   "source": "**Scatterplot feature & target**",
   "id": "cf052c6f914e4000"
  },
  {
   "metadata": {},
   "cell_type": "code",
   "source": [
    "fig, ax = plt.subplots(figsize=(4, 4))\n",
    "x_log = np.log1p(X.MedInc)\n",
    "sns.scatterplot(data=X, x=x_log, y=Y, s=10)"
   ],
   "id": "42ae854fd1554045",
   "outputs": [],
   "execution_count": null
  },
  {
   "metadata": {},
   "cell_type": "markdown",
   "source": [
    "**Регрессионный анализ scipy.stats**\n",
    "* `p_value` для `slope` / `coef` / `wight`"
   ],
   "id": "f93dfabc06ab22d2"
  },
  {
   "metadata": {},
   "cell_type": "code",
   "source": [
    "# TODO Регрессионный анализ scipy.stats\n",
    "for column in X_train.columns: \n",
    "    feature = X_train[column]\n",
    "    slope, intercept, r_value, p_value, std_err = stats.linregress(feature, Y_train)\n",
    "    \n",
    "    print(f'{column} p_value : {p_value}')\n",
    "\n",
    "    \n",
    "# print(slope)\n",
    "# print(intercept)\n",
    "# print(r_value,)\n",
    "# print(p_value)\n",
    "# print(std_err)\n",
    "\n"
   ],
   "id": "af1ee0f68389b99f",
   "outputs": [],
   "execution_count": null
  },
  {
   "metadata": {},
   "cell_type": "markdown",
   "source": [
    "**VIF**\n",
    "* VIF (фактор инфляции дисперсии) — это статистика, которая измеряет уровень `мультиколлинеарности` между `признаками` в `регрессионной модели`.\n",
    "\n",
    "* Учитывает корреляцию `всех признаков`, в отличии от `корр. матрицы` которая показывает только `парную корреляцию` \n",
    "    * VIF смотрит один признак против всех остальных.\n",
    "    * Корреляционная матрица смотрит пары признаков.\n",
    "VIF\tИнтерпретация\n",
    "* `1`\tНет корреляции между данным признаком и другими\n",
    "* `1–5`\tУмеренная корреляция, приемлемо\n",
    "* `5–10`\tВысокая корреляция, нужно насторожиться\n",
    "* `> 10`\tОчень высокая мультиколлинеарность — признак мешает модели"
   ],
   "id": "98d467d9686bcc41"
  },
  {
   "metadata": {},
   "cell_type": "code",
   "source": [
    "# TODO VIF\n",
    "X_vif = add_constant(X) # добавляем константу (intercept)\n",
    "type(X_vif)\n",
    "\n",
    "vif_data = pd.DataFrame() # Пустой DataFrame\n",
    "\n",
    "vif_data['feature_vif'] = X_vif.columns # Записываем имена столбцов в колонку VIF\n",
    "\n",
    "vif_data\n",
    "\n",
    "vif_data['VIF'] = [variance_inflation_factor(X_vif.values, i) for i in range(X_vif.shape[1])]\n",
    "\n",
    "vif_data"
   ],
   "id": "49f908ba25c731e4",
   "outputs": [],
   "execution_count": null
  },
  {
   "metadata": {},
   "cell_type": "markdown",
   "source": "**SplineTransformer + Ridge в пайплайне**",
   "id": "1f7ea0fb29af853b"
  },
  {
   "metadata": {
    "ExecuteTime": {
     "end_time": "2025-07-03T18:35:13.649578Z",
     "start_time": "2025-07-03T18:35:13.617560Z"
    }
   },
   "cell_type": "code",
   "source": [
    "# TODO X, Y\n",
    "X, Y = datasets.fetch_california_housing(as_frame=True, return_X_y=True)\n",
    "X_train, X_test, Y_train, Y_test = train_test_split(X, Y, test_size=0.1, random_state=42)\n",
    "print(X_train.shape, X_test.shape)"
   ],
   "id": "a78c80610487681",
   "outputs": [
    {
     "name": "stdout",
     "output_type": "stream",
     "text": [
      "(18576, 8) (2064, 8)\n"
     ]
    }
   ],
   "execution_count": 2
  },
  {
   "metadata": {},
   "cell_type": "code",
   "source": [
    "scaler = StandardScaler()\n",
    "scaler.fit(X_train)\n",
    "X_train= pd.DataFrame(scaler.transform(X_train), columns=scaler.get_feature_names_out())\n",
    "X_test = pd.DataFrame(scaler.transform( X_test), columns=scaler.get_feature_names_out())"
   ],
   "id": "5ca09b151b545c62",
   "outputs": [],
   "execution_count": null
  },
  {
   "metadata": {},
   "cell_type": "markdown",
   "source": "**Эксперемент с MinMaxScaler для визуализации базисных функций**",
   "id": "83e36750590c185c"
  },
  {
   "metadata": {
    "ExecuteTime": {
     "end_time": "2025-07-03T18:35:22.710476Z",
     "start_time": "2025-07-03T18:35:22.698162Z"
    }
   },
   "cell_type": "code",
   "source": [
    "\n",
    "mm_scaler = MinMaxScaler()\n",
    "mm_scaler.fit(X_train)\n",
    "X_train= pd.DataFrame(mm_scaler.transform(X_train), columns=mm_scaler.get_feature_names_out())\n",
    "X_test = pd.DataFrame(mm_scaler.transform( X_test), columns=mm_scaler.get_feature_names_out())"
   ],
   "id": "3c16707d11b341fb",
   "outputs": [],
   "execution_count": 3
  },
  {
   "metadata": {},
   "cell_type": "markdown",
   "source": "# pipeline SplineTransformer",
   "id": "7f0ee614f1476fca"
  },
  {
   "metadata": {},
   "cell_type": "markdown",
   "source": [
    "\n",
    "**Параметры\tSplineTransformer** \n",
    "* `degree=3`\tКубические сплайны\n",
    "* `n_knots=5`\tКоличество узлов ⇒ определяет гибкость (как много кусочков у кривой)\n",
    "* `include_bias=False`\tУбирает константу, если она уже есть в модели"
   ],
   "id": "57a0b037185b7f1a"
  },
  {
   "metadata": {},
   "cell_type": "code",
   "source": [
    "# TODO SplineTransformer Обучение на california_housing\n",
    "\n",
    "\n",
    "# Пайплайн: сначала сплайны, потом линейная модель\n",
    "model = make_pipeline(\n",
    "    SplineTransformer(degree=3, n_knots=5, include_bias=False),\n",
    "    Ridge(alpha=10)\n",
    ")\n",
    "\n",
    "# Обучение на california_housing\n",
    "model.fit(X_train, Y_train)\n",
    "\n",
    "# Оценка\n",
    "y_pred = model.predict(X_test)\n",
    "print(f\"MSE: {mean_squared_error(Y_test, y_pred):.3f}\")\n",
    "\n",
    "\n",
    "\n"
   ],
   "id": "c0bd97521ad47eb4",
   "outputs": [],
   "execution_count": null
  },
  {
   "metadata": {},
   "cell_type": "code",
   "source": [
    "# 'MedHouseVal'\n",
    "# Index(['MedInc', 'HouseAge', 'AveRooms', 'AveBedrms', 'Population', 'AveOccup',\n",
    "#       'Latitude', 'Longitude'],\n",
    " #     dtype='object')"
   ],
   "id": "447c69e6f05c2d28",
   "outputs": [],
   "execution_count": null
  },
  {
   "metadata": {},
   "cell_type": "markdown",
   "source": "# MY",
   "id": "50b8f3d4a77d7bed"
  },
  {
   "metadata": {},
   "cell_type": "markdown",
   "source": "**SplineTransformer без pipeline**",
   "id": "5e054c3f2892b91b"
  },
  {
   "metadata": {
    "ExecuteTime": {
     "end_time": "2025-07-03T18:35:32.113967Z",
     "start_time": "2025-07-03T18:35:27.361269Z"
    }
   },
   "cell_type": "code",
   "source": [
    "# TODO SplineTransformer без pipeline\n",
    "\n",
    "__doc__ = '''\n",
    "nrows=2, ncols=4 -> 2-х мерный контейнер, Матрица осей 2 х 4\n",
    "axes = axes.ravel() -  Выпрямление матрицы Осей, Преобразуем в 1-мерный контейнер 2 х 8\n",
    "'''\n",
    "\n",
    "spline = SplineTransformer(degree=3, n_knots=5, include_bias=False)\n",
    "\n",
    "X_train_spline = spline.fit_transform(X_train) # (n_samples, n_basis)\n",
    "X_test_spline = spline.transform(X_test)\n",
    "\n",
    "model = Ridge(alpha=10)\n",
    "\n",
    "model.fit(X_train_spline, Y_train)\n",
    "Y_pred = model.predict(X_test_spline)\n",
    "\n",
    "print(metrics.mean_squared_error(Y_test, Y_pred))\n",
    "\n",
    "# Задаём параметры для построения базисных функций\n",
    "n_basis_total = spline.n_features_out_       # всего признаков после трансформации\n",
    "n_features_in = spline.n_features_in_        # было исходных признаков\n",
    "n_basis_per_feature = n_basis_total // n_features_in  # базисных функций на один признак\n",
    "\n",
    "print(f'всего признаков после трансформации : {n_basis_total}')\n",
    "print(f'было исходных признаков : {n_features_in}')\n",
    "print(f\"Базисных функций на один признак: {n_basis_per_feature}\")\n",
    "\n",
    "col = X_train.columns\n",
    "start = 0\n",
    "stop = n_basis_total  # 48\n",
    "step = n_basis_per_feature  # 6\n",
    "\n",
    "# Визуализируем базисные функции сплайнов\n",
    "fig, axes = plt.subplots(nrows=2, ncols=4, figsize=(14, 7))\n",
    "axes = axes.ravel()  # Преобразуем в 1-мерный объект\n",
    "for n, i in enumerate(range(start, stop, step )):  # индекс начала нового отрезка \n",
    "    \n",
    "    for j in range(i, i + step):\n",
    "        label=f'Базис {col[n]}'\n",
    "        # print(col[n], j)\n",
    "        axes[n].plot(X_train[col[n]], X_train_spline[:, j], 'ko', markersize=1, label=label)\n",
    "        axes[n].set_title(f\"Признак: {col[n]}\")\n",
    "        axes[n].set_xlabel(col[n])\n",
    "        axes[n].set_ylabel(\"Базисные функции\")\n",
    "        # axes[n].legend()  # ← добавь это\n",
    "plt.suptitle(\"Базисные функции сплайнов для всех признаков\", fontsize=16, y=1.02)\n",
    "\n"
   ],
   "id": "ec5a57d8cc647402",
   "outputs": [
    {
     "name": "stdout",
     "output_type": "stream",
     "text": [
      "0.5232007943970398\n",
      "всего признаков после трансформации : 48\n",
      "было исходных признаков : 8\n",
      "Базисных функций на один признак: 6\n"
     ]
    },
    {
     "data": {
      "text/plain": [
       "Text(0.5, 1.02, 'Базисные функции сплайнов для всех признаков')"
      ]
     },
     "execution_count": 4,
     "metadata": {},
     "output_type": "execute_result"
    },
    {
     "data": {
      "text/plain": [
       "<Figure size 1400x700 with 8 Axes>"
      ],
      "image/png": "[encoded data removed]"
     },
     "metadata": {},
     "output_type": "display_data"
    }
   ],
   "execution_count": 4
  },
  {
   "metadata": {},
   "cell_type": "markdown",
   "source": "# Eduson",
   "id": "eb44f4f7dd5f9902"
  },
  {
   "metadata": {},
   "cell_type": "code",
   "source": [
    "# Параметры\n",
    "col = X_train.columns\n",
    "n_features = n_features_in\n",
    "n_basis = n_basis_per_feature\n",
    "\n",
    "# Создаём сетку подграфиков\n",
    "fig, axes = plt.subplots(nrows=2, ncols=(n_features + 1) // 2, figsize=(15, 8))\n",
    "axes = axes.ravel()\n",
    "\n",
    "for feature_idx in range(n_features):\n",
    "    start = feature_idx * n_basis\n",
    "    stop = start + n_basis\n",
    "    \n",
    "    x = X_train.iloc[:, feature_idx].values.reshape(-1, 1)\n",
    "    \n",
    "    ax = axes[feature_idx]\n",
    "    for j in range(start, stop):\n",
    "        ax.plot(x, X_train_spline[:, j], 'ko', markersize=2, lw=1)\n",
    "        \n",
    "    ax.set_title(f\"Признак: {col[feature_idx]}\")\n",
    "    ax.set_xlabel(col[feature_idx])\n",
    "    ax.set_ylabel(\"Базисные функции\")\n",
    "\n",
    "plt.tight_layout()\n",
    "plt.suptitle(\"Базисные функции сплайнов для всех признаков\", fontsize=16, y=1.02)\n",
    "plt.show()\n"
   ],
   "id": "eb3ff31bd7dddf51",
   "outputs": [],
   "execution_count": null
  },
  {
   "metadata": {},
   "cell_type": "code",
   "source": [
    " # TODO работа SplineTransformer на одном числовом признаке.\n",
    "\n",
    "# Исходные данные — числовой признак\n",
    "X = np.linspace(0, 10, 100).reshape(-1, 1)\n",
    "\n",
    "# Создаём трансформер: кубический сплайн с 5 узлами, без bias\n",
    "spline = SplineTransformer(degree=3, n_knots=5, include_bias=False)\n",
    "\n",
    "# Применяем трансформацию\n",
    "X_spline = spline.fit_transform(X)\n",
    "print(X_spline.shape)\n",
    "print(X_spline[:2])\n",
    "\n",
    "# Визуализируем базисные функции сплайнов\n",
    "plt.figure(figsize=(5, 3))\n",
    "for i in range(X_spline.shape[1]):\n",
    "    plt.plot(X, X_spline[:, i], label=f'Базис {i+1}')\n",
    "plt.title('Базисные функции SplineTransformer (degree=3, n_knots=5)')\n",
    "plt.xlabel('X')\n",
    "plt.ylabel('Значение базисной функции')\n",
    "plt.legend()\n",
    "plt.show()"
   ],
   "id": "ff31e78913635e1b",
   "outputs": [],
   "execution_count": null
  },
  {
   "metadata": {},
   "cell_type": "markdown",
   "source": "**pd.cut & pd.qcut** + группировка по элементам",
   "id": "e5d48ac1518f001b"
  },
  {
   "metadata": {},
   "cell_type": "code",
   "source": [
    "# 'MedHouseVal'\n",
    "# Index(['MedInc', 'HouseAge', 'AveRooms', 'AveBedrms', 'Population', 'AveOccup',\n",
    "#       'Latitude', 'Longitude'],\n",
    "#     dtype='object')"
   ],
   "id": "cf7e228dacada179",
   "outputs": [],
   "execution_count": null
  },
  {
   "metadata": {},
   "cell_type": "code",
   "source": "X.MedInc.describe()",
   "id": "8896590dcf506e21",
   "outputs": [],
   "execution_count": null
  },
  {
   "metadata": {},
   "cell_type": "code",
   "source": [
    "\n",
    "# TODO pd.cut & pd.qcut & kde & scatterplot & histplot & boxplot\n",
    "X_cut = pd.cut(X.MedInc, bins=[3, 7, 11, 15], labels=['One', 'Two', 'Three'])\n",
    "\n",
    "print(X_cut.value_counts())\n",
    "\n",
    "X_qcut = pd.qcut(X.MedInc, q=4, labels=['Q1', 'Q2', 'Q3', 'Q4'])\n",
    "\n",
    "X_qcut.value_counts()"
   ],
   "id": "ee54f1e86b546fb",
   "outputs": [],
   "execution_count": null
  },
  {
   "metadata": {},
   "cell_type": "markdown",
   "source": "**Распределение целевой по элементам признака**",
   "id": "b3293a4c06bc9ce8"
  },
  {
   "metadata": {},
   "cell_type": "code",
   "source": [
    "# TODO Распределение целевой по элементам признака\n",
    "\n",
    "# Объединить X_qcut и y в один DataFrame\n",
    "df_temp = pd.DataFrame({'IncomeGroup': X_qcut, 'HouseVal': Y})\n",
    "\n",
    "plt.figure(figsize=(4, 4))\n",
    "sns.boxplot(data=df_temp, x='IncomeGroup', y='HouseVal', order=['Q4', 'Q3', 'Q2', 'Q1'])\n",
    "plt.title('Распределение MedHouseVal по квартилям MedInc')\n",
    "plt.show()"
   ],
   "id": "48ee19877207f83b",
   "outputs": [],
   "execution_count": null
  },
  {
   "metadata": {},
   "cell_type": "code",
   "source": "",
   "id": "e86fe0b79c525445",
   "outputs": [],
   "execution_count": null
  },
  {
   "metadata": {},
   "cell_type": "code",
   "source": "df_temp.describe(include='all')",
   "id": "c1ddcd40a1231f47",
   "outputs": [],
   "execution_count": null
  },
  {
   "metadata": {},
   "cell_type": "markdown",
   "source": [
    "**Стоимость домов в разрезе доходов MedInc**\n",
    "* `IncomeGroup` - разделёный на группы признак MedInc\n",
    "* `hue='IncomeGroup'` — разделение по квартилям.\n",
    "\n",
    "* `element='step'` — аккуратные контуры (альтернатива: 'bars').\n",
    "\n",
    "* `stat='density' `— нормализованная плотность (можно заменить на 'count').\n",
    "\n",
    "* ` common_norm=False` — позволяет сравнивать плотности по отдельности для каждого квартиля.\n",
    "\n"
   ],
   "id": "76f1509ee27a2057"
  },
  {
   "metadata": {},
   "cell_type": "code",
   "source": "sns.histplot(data=df_temp, x='HouseVal', hue='IncomeGroup',element='step', stat='density', common_norm=False)",
   "id": "56be028497e9f213",
   "outputs": [],
   "execution_count": null
  },
  {
   "metadata": {},
   "cell_type": "markdown",
   "source": "**kde**",
   "id": "8e268fec3df638b8"
  },
  {
   "metadata": {},
   "cell_type": "code",
   "source": "sns.kdeplot(data=df_temp, x='HouseVal', hue='IncomeGroup', common_norm=False)",
   "id": "a0419eadd73d0130",
   "outputs": [],
   "execution_count": null
  },
  {
   "metadata": {},
   "cell_type": "markdown",
   "source": [
    "**Графики с panas**\n",
    "* Гистограмма распределения MedHouseVal по  категориям MedInc "
   ],
   "id": "211cb98ebb39ed64"
  },
  {
   "metadata": {},
   "cell_type": "code",
   "source": [
    "# TODO распределение MedHouseVal по  категориям MedInc\n",
    "\n",
    "# 'MedHouseVal'\n",
    "# Index(['MedInc', 'HouseAge', 'AveRooms', 'AveBedrms', 'Population', 'AveOccup',\n",
    "#       'Latitude', 'Longitude'],\n",
    "#     dtype='object')\n",
    "\n",
    "'''\n",
    "'IncomeGroup' - разбитый на категории по квантилям признак 'MedInc'\n",
    "'HouseVal' - целевая 'MedHouseVal'\n",
    "'''\n",
    "\n",
    "grp_sum = df_temp.groupby(['IncomeGroup'])['HouseVal'].sum()\n",
    "\n",
    "grp_sum.plot(kind='bar', stacked=True, figsize=(3, 3))\n"
   ],
   "id": "690189048f29040",
   "outputs": [],
   "execution_count": null
  },
  {
   "metadata": {},
   "cell_type": "markdown",
   "source": "**sns.pairplot**",
   "id": "3eb09cdd14d4a8e"
  },
  {
   "metadata": {},
   "cell_type": "code",
   "source": [
    "# tODO sns.pairplot\n",
    "\n",
    "X['target'] = Y\n",
    "\n",
    "X.columns\n",
    "# Y.shape\n",
    "print(X.shape)\n",
    "\n",
    "# sns.pairplot(np.log1p(X[['target', 'MedInc', 'AveBedrms']]))\n",
    "\n",
    "sns.pairplot(X, vars=['target', 'MedInc'])\n"
   ],
   "id": "5743297e69ed20f5",
   "outputs": [],
   "execution_count": null
  },
  {
   "metadata": {},
   "cell_type": "markdown",
   "source": "**kaggle**",
   "id": "a6e10461fedf2355"
  },
  {
   "metadata": {},
   "cell_type": "code",
   "source": "Y.describe([0.10, 0.30, 0.50, 0.70, 0.80, 0.90, 0.95, 0.99])",
   "id": "49fab56570a6aef0",
   "outputs": [],
   "execution_count": null
  },
  {
   "metadata": {},
   "cell_type": "code",
   "source": "X['MedInc'].describe([0.10, 0.30, 0.50, 0.70, 0.80, 0.90, 0.95, 0.99])",
   "id": "b69669862090102c",
   "outputs": [],
   "execution_count": null
  },
  {
   "metadata": {},
   "cell_type": "code",
   "source": [
    "# 'MedHouseVal'\n",
    "# Index(['MedInc', 'HouseAge', 'AveRooms', 'AveBedrms', 'Population', 'AveOccup',\n",
    "#       'Latitude', 'Longitude'],\n",
    "#     dtype='object')"
   ],
   "id": "f499f88a13781ca2",
   "outputs": [],
   "execution_count": null
  },
  {
   "metadata": {},
   "cell_type": "code",
   "source": [
    "X = datasets.fetch_california_housing(as_frame=True, return_X_y=False)\n",
    "\n",
    "np.log1p(X['frame'] + 125)"
   ],
   "id": "83c447d8f084462",
   "outputs": [],
   "execution_count": null
  }
 ],
 "metadata": {
  "kernelspec": {
   "display_name": "Python 3",
   "language": "python",
   "name": "python3"
  },
  "language_info": {
   "codemirror_mode": {
    "name": "ipython",
    "version": 2
   },
   "file_extension": ".py",
   "mimetype": "text/x-python",
   "name": "python",
   "nbconvert_exporter": "python",
   "pygments_lexer": "ipython2",
   "version": "2.7.6"
  }
 },
 "nbformat": 4,
 "nbformat_minor": 5
}
