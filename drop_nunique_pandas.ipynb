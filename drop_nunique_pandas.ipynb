{
 "cells": [
  {
   "cell_type": "code",
   "id": "initial_id",
   "metadata": {
    "collapsed": true,
    "ExecuteTime": {
     "end_time": "2025-08-16T16:22:43.405140Z",
     "start_time": "2025-08-16T16:22:43.400888Z"
    }
   },
   "source": [
    "import  pandas as pd\n",
    "import numpy as np"
   ],
   "outputs": [],
   "execution_count": 1
  },
  {
   "metadata": {},
   "cell_type": "markdown",
   "source": "Drop columns",
   "id": "c51ac24b20a3465f"
  },
  {
   "metadata": {
    "ExecuteTime": {
     "end_time": "2025-08-16T16:22:51.558766Z",
     "start_time": "2025-08-16T16:22:51.522741Z"
    }
   },
   "cell_type": "code",
   "source": [
    "df = pd.DataFrame(np.arange(12).reshape(3, 4),\n",
    "                 columns=['A', 'B', 'C', 'D'])\n",
    "print(df)\n",
    "\n",
    "# TODO Удадаление столбцов по axis = 1\n",
    "df1 = df.drop(['A', 'C', 'D'], axis=1)\n",
    "print(df1)\n",
    "\n",
    "\n",
    "# TODO Удаление строки по axis = 0\n",
    "df1 = df.drop([0], axis=0)\n",
    "print(df1)\n",
    "\n",
    "\n",
    "# TODO Drop a row by index\n",
    "df3 = df.drop(columns=['A', 'C'], axis=1)\n",
    "print(df3)\n",
    "\n",
    "\n",
    "# TODO Drop a row by index\n",
    "df2 = df.drop([1, 2])\n",
    "print(df2)\n",
    "\n"
   ],
   "id": "52e35aae2ef92657",
   "outputs": [
    {
     "name": "stdout",
     "output_type": "stream",
     "text": [
      "   A  B   C   D\n",
      "0  0  1   2   3\n",
      "1  4  5   6   7\n",
      "2  8  9  10  11\n",
      "   B\n",
      "0  1\n",
      "1  5\n",
      "2  9\n",
      "   A  B   C   D\n",
      "1  4  5   6   7\n",
      "2  8  9  10  11\n",
      "   B   D\n",
      "0  1   3\n",
      "1  5   7\n",
      "2  9  11\n",
      "   A  B  C  D\n",
      "0  0  1  2  3\n"
     ]
    }
   ],
   "execution_count": 2
  },
  {
   "metadata": {},
   "cell_type": "markdown",
   "source": "Удаление пропусков",
   "id": "973f2c58f4e40819"
  },
  {
   "metadata": {
    "ExecuteTime": {
     "end_time": "2025-05-22T07:06:01.020109Z",
     "start_time": "2025-05-22T07:06:01.008642Z"
    }
   },
   "cell_type": "code",
   "source": [
    "df = pd.DataFrame({\n",
    "    \"A\": [1, 2, pd.NA],\n",
    "    \"B\": [4, None, pd.NA],\n",
    "    \"C\": [7, 8, 9]\n",
    "    })\n",
    "\n",
    "# TODO Удаление по строкам, axis=0 по умолчанию\n",
    "df1 = df.dropna()\n",
    "print(df1)\n",
    "\n",
    "# TODO Удаление по столбцам, axis=1 явно\n",
    "df2 = df.dropna(axis=1)\n",
    "print(df2)"
   ],
   "id": "2ac9d38950114136",
   "outputs": [
    {
     "name": "stdout",
     "output_type": "stream",
     "text": [
      "   A  B  C\n",
      "0  1  4  7\n",
      "   C\n",
      "0  7\n",
      "1  8\n",
      "2  9\n"
     ]
    }
   ],
   "execution_count": 15
  },
  {
   "metadata": {},
   "cell_type": "markdown",
   "source": "Drop columns and/or rows of MultiIndex DataFrame",
   "id": "b1e612b2d034d613"
  },
  {
   "metadata": {
    "ExecuteTime": {
     "end_time": "2025-05-22T07:23:34.220619Z",
     "start_time": "2025-05-22T07:23:34.194711Z"
    }
   },
   "cell_type": "code",
   "source": [
    "midx = pd.MultiIndex(levels=[['llama', 'cow', 'falcon'],\n",
    "                             ['speed', 'weight', 'length']],\n",
    "                     codes=[[0, 0, 0, 1, 1, 1, 2, 2, 2],\n",
    "                            [0, 1, 2, 0, 1, 2, 0, 1, 2]])\n",
    "df = pd.DataFrame(index=midx, columns=['big', 'small'],\n",
    "                  data=[[45, 30], [200, 100], [1.5, 1], [30, 20],\n",
    "                        [250, 150], [1.5, 0.8], [320, 250],\n",
    "                        [1, 0.8], [0.3, 0.2]])\n",
    "print(df)\n",
    "\n",
    "# TODO Удаление комбинации мультииндекса\n",
    "# TODO Удалена строка животного 'falcon' и его параметра 'weight'\n",
    "df1 = df.drop(index=('falcon', 'weight'))\n",
    "print(df1)\n",
    "\n",
    "\n",
    "# TODO Удаление индекса + столбец\n",
    "df3 = df.drop(index='cow', columns='small')\n",
    "print(df3)\n",
    "\n",
    "# TODO Удаление индекса из уровня - 1 -> параметры speed, weight, length\n",
    "df4 = df.drop(index='length', level=1)\n",
    "print(df4)\n"
   ],
   "id": "b863233ffb5d102c",
   "outputs": [
    {
     "name": "stdout",
     "output_type": "stream",
     "text": [
      "                 big  small\n",
      "llama  speed    45.0   30.0\n",
      "       weight  200.0  100.0\n",
      "       length    1.5    1.0\n",
      "cow    speed    30.0   20.0\n",
      "       weight  250.0  150.0\n",
      "       length    1.5    0.8\n",
      "falcon speed   320.0  250.0\n",
      "       weight    1.0    0.8\n",
      "       length    0.3    0.2\n",
      "                 big  small\n",
      "llama  speed    45.0   30.0\n",
      "       weight  200.0  100.0\n",
      "       length    1.5    1.0\n",
      "cow    speed    30.0   20.0\n",
      "       weight  250.0  150.0\n",
      "       length    1.5    0.8\n",
      "falcon speed   320.0  250.0\n",
      "       length    0.3    0.2\n",
      "                 big\n",
      "llama  speed    45.0\n",
      "       weight  200.0\n",
      "       length    1.5\n",
      "falcon speed   320.0\n",
      "       weight    1.0\n",
      "       length    0.3\n",
      "                 big  small\n",
      "llama  speed    45.0   30.0\n",
      "       weight  200.0  100.0\n",
      "cow    speed    30.0   20.0\n",
      "       weight  250.0  150.0\n",
      "falcon speed   320.0  250.0\n",
      "       weight    1.0    0.8\n"
     ]
    }
   ],
   "execution_count": 24
  },
  {
   "metadata": {},
   "cell_type": "markdown",
   "source": "Удаление Дубликатов\n",
   "id": "3639dc1323429891"
  },
  {
   "metadata": {
    "ExecuteTime": {
     "end_time": "2025-05-22T08:01:42.472021Z",
     "start_time": "2025-05-22T08:01:42.438954Z"
    }
   },
   "cell_type": "code",
   "source": [
    "\n",
    "\n",
    "df = pd.DataFrame({\"name\": ['Alfred', 'Batman', 'Catwoman'],\n",
    "                   \"toy\": [np.nan, 'Batmobile', 'Bullwhip'],\n",
    "                   \"born\": [pd.NaT, pd.Timestamp(\"1940-04-25\"),\n",
    "                            pd.NaT]})\n",
    "print(df, '\\n')\n",
    "\n",
    "# TODO Alias of isna\n",
    "print(df.isna(), '\\n')\n",
    "\n",
    "# TODO Удаление ВСЕХ пропусков\n",
    "df1 = df.dropna()\n",
    "print(df1, '\\n')\n",
    "\n",
    "# TODO Удаление пропусков по столбцам axes=1\n",
    "df2 = df.dropna(axis=1)\n",
    "print(df2, '\\n')\n",
    "\n",
    "# TODO Удалить все строки где отсутствуют все элементы\n",
    "df3 = df.dropna(how='all')\n",
    "print(df3, '\\n')\n",
    "\n",
    "# TODO Удалить все строки где отсутствуют два и более элементов\n",
    "df4 = df.dropna(thresh=2)\n",
    "print(df4, '\\n')\n",
    "\n",
    "# TODO Удалить все строки с пропусками, по заданным столбцам\n",
    "df5 = df.dropna(subset=['name', 'toy'])\n",
    "print(df5, '\\n')\n",
    "\n"
   ],
   "id": "c5ab9b1fa50bfb2c",
   "outputs": [
    {
     "name": "stdout",
     "output_type": "stream",
     "text": [
      "       name        toy       born\n",
      "0    Alfred        NaN        NaT\n",
      "1    Batman  Batmobile 1940-04-25\n",
      "2  Catwoman   Bullwhip        NaT \n",
      "\n",
      "    name    toy   born\n",
      "0  False   True   True\n",
      "1  False  False  False\n",
      "2  False  False   True \n",
      "\n",
      "     name        toy       born\n",
      "1  Batman  Batmobile 1940-04-25 \n",
      "\n",
      "       name\n",
      "0    Alfred\n",
      "1    Batman\n",
      "2  Catwoman \n",
      "\n",
      "       name        toy       born\n",
      "0    Alfred        NaN        NaT\n",
      "1    Batman  Batmobile 1940-04-25\n",
      "2  Catwoman   Bullwhip        NaT \n",
      "\n",
      "       name        toy       born\n",
      "1    Batman  Batmobile 1940-04-25\n",
      "2  Catwoman   Bullwhip        NaT \n",
      "\n",
      "       name        toy       born\n",
      "1    Batman  Batmobile 1940-04-25\n",
      "2  Catwoman   Bullwhip        NaT \n",
      "\n"
     ]
    }
   ],
   "execution_count": 55
  },
  {
   "metadata": {},
   "cell_type": "markdown",
   "source": "**Show which entries in a Series are NA.**",
   "id": "774c8d3261f886bd"
  },
  {
   "metadata": {
    "ExecuteTime": {
     "end_time": "2025-05-22T08:01:58.679455Z",
     "start_time": "2025-05-22T08:01:58.669540Z"
    }
   },
   "cell_type": "code",
   "source": [
    "# TODO isna\n",
    "ser = pd.Series([5, 6, np.nan])\n",
    "print(ser, '\\n')\n",
    "\n",
    "ser.isna()"
   ],
   "id": "6e9469087afda73d",
   "outputs": [
    {
     "name": "stdout",
     "output_type": "stream",
     "text": [
      "0    5.0\n",
      "1    6.0\n",
      "2    NaN\n",
      "dtype: float64 \n",
      "\n"
     ]
    },
    {
     "data": {
      "text/plain": [
       "0    False\n",
       "1    False\n",
       "2     True\n",
       "dtype: bool"
      ]
     },
     "execution_count": 56,
     "metadata": {},
     "output_type": "execute_result"
    }
   ],
   "execution_count": 56
  },
  {
   "metadata": {},
   "cell_type": "markdown",
   "source": "**nunique()**",
   "id": "e2f5312ca24eb34c"
  },
  {
   "metadata": {
    "ExecuteTime": {
     "end_time": "2025-05-22T08:02:26.030313Z",
     "start_time": "2025-05-22T08:02:26.019991Z"
    }
   },
   "cell_type": "code",
   "source": [
    "df44 = pd.DataFrame({\"A\": [5, 2, 2, 4, 5],\n",
    "                     \"B\": [50, 20, 50, 40, 50],\n",
    "                     \"C\": [300, 300, 300, 400, 300]},\n",
    "                    index=[\"Avrg\", \"Bin\", \"Cnt\", \"Foo\", \"Dt\"]\n",
    "                    )\n",
    "\n",
    "print(df44, '\\n')\n",
    "print(df44.nunique(), '\\n')\n",
    "print(df44.nunique(axis=1), '\\n')\n"
   ],
   "id": "40fca09b6b32244c",
   "outputs": [
    {
     "name": "stdout",
     "output_type": "stream",
     "text": [
      "      A   B    C\n",
      "Avrg  5  50  300\n",
      "Bin   2  20  300\n",
      "Cnt   2  50  300\n",
      "Foo   4  40  400\n",
      "Dt    5  50  300 \n",
      "\n",
      "A    3\n",
      "B    3\n",
      "C    2\n",
      "dtype: int64 \n",
      "\n",
      "Avrg    3\n",
      "Bin     3\n",
      "Cnt     3\n",
      "Foo     3\n",
      "Dt      3\n",
      "dtype: int64 \n",
      "\n"
     ]
    }
   ],
   "execution_count": 57
  }
 ],
 "metadata": {
  "kernelspec": {
   "display_name": "Python 3",
   "language": "python",
   "name": "python3"
  },
  "language_info": {
   "codemirror_mode": {
    "name": "ipython",
    "version": 2
   },
   "file_extension": ".py",
   "mimetype": "text/x-python",
   "name": "python",
   "nbconvert_exporter": "python",
   "pygments_lexer": "ipython2",
   "version": "2.7.6"
  }
 },
 "nbformat": 4,
 "nbformat_minor": 5
}
