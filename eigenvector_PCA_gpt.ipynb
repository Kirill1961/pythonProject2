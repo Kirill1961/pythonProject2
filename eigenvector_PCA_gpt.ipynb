{
 "cells": [
  {
   "cell_type": "code",
   "id": "initial_id",
   "metadata": {
    "collapsed": true,
    "ExecuteTime": {
     "end_time": "2025-05-20T15:18:18.185435Z",
     "start_time": "2025-05-20T15:18:17.914626Z"
    }
   },
   "source": [
    "import numpy as np\n",
    "\n",
    "# 1. Данные (2 признака, 5 наблюдений)\n",
    "X = np.array([\n",
    "    [2.5, 2.4],\n",
    "    [0.5, 0.7],\n",
    "    [2.2, 2.9],\n",
    "    [1.9, 2.2],\n",
    "    [3.1, 3.0]\n",
    "])\n",
    "\n",
    "# 2. Центрирование (отнимаем среднее по каждому признаку)\n",
    "X_mean = np.mean(X, axis=0)\n",
    "X_centered = X - X_mean\n",
    "\n",
    "# 3. Матрица ковариации\n",
    "cov_matrix = np.cov(X_centered.T)\n",
    "\n",
    "# 4. Собственные значения и векторы\n",
    "eig_vals, eig_vecs = np.linalg.eig(cov_matrix)\n",
    "\n",
    "# 5. Сортировка по убыванию дисперсии (собственных значений)\n",
    "sorted_idx = np.argsort(eig_vals)[::-1]\n",
    "eig_vals = eig_vals[sorted_idx]\n",
    "eig_vecs = eig_vecs[:, sorted_idx]\n",
    "\n",
    "# 6. Выбор главных компонент (например, только первая)\n",
    "principal_component = eig_vecs[:, 0:1]  # форма (2,1)\n",
    "\n",
    "\n",
    "# 7. Проекция данных на новое пространство\n",
    "X_projected = X_centered @ principal_component\n",
    "\n",
    "# Вывод\n",
    "print(\"Компоненты :\\n\", principal_component)\n",
    "print(\"Исходные данные (центрированные):\\n\", X_centered)\n",
    "print(\"\\nСобственные векторы:\\n\", eig_vecs)\n",
    "print(\"\\nПроекция на первую компоненту:\\n\", X_projected)\n"
   ],
   "outputs": [
    {
     "name": "stdout",
     "output_type": "stream",
     "text": [
      "Компоненты :\n",
      " [[0.72474155]\n",
      " [0.68902082]]\n",
      "Исходные данные (центрированные):\n",
      " [[ 0.46  0.16]\n",
      " [-1.54 -1.54]\n",
      " [ 0.16  0.66]\n",
      " [-0.14 -0.04]\n",
      " [ 1.06  0.76]]\n",
      "\n",
      "Собственные векторы:\n",
      " [[ 0.72474155 -0.68902082]\n",
      " [ 0.68902082  0.72474155]]\n",
      "\n",
      "Проекция на первую компоненту:\n",
      " [[ 0.44362444]\n",
      " [-2.17719404]\n",
      " [ 0.57071239]\n",
      " [-0.12902465]\n",
      " [ 1.29188186]]\n"
     ]
    }
   ],
   "execution_count": 2
  },
  {
   "metadata": {
    "ExecuteTime": {
     "end_time": "2025-05-16T16:05:16.040929Z",
     "start_time": "2025-05-16T16:05:15.904292Z"
    }
   },
   "cell_type": "code",
   "source": [
    "from sklearn.datasets import make_regression\n",
    "from sklearn.decomposition import PCA"
   ],
   "id": "17fdbb2c4259319f",
   "outputs": [],
   "execution_count": 4
  },
  {
   "metadata": {
    "ExecuteTime": {
     "end_time": "2025-05-16T16:04:03.649033Z",
     "start_time": "2025-05-16T16:04:03.637068Z"
    }
   },
   "cell_type": "code",
   "source": [
    "X, y = make_regression(n_samples=10, n_features=4, n_targets=1)\n",
    "print(X, y)"
   ],
   "id": "65034ff94db11090",
   "outputs": [
    {
     "name": "stdout",
     "output_type": "stream",
     "text": [
      "[[-0.08391331  1.01628581  0.87074468 -0.87272104]\n",
      " [-1.62327836 -1.04446893  1.63445661  0.93815631]\n",
      " [ 0.43610983 -1.46426405  0.53829397  0.21622277]\n",
      " [-0.53497034 -0.32388599  0.53883882  2.12472764]\n",
      " [ 1.05647882 -1.64750669  0.37757904 -1.37938191]\n",
      " [-0.08782778 -0.5425538   0.58770538 -0.35743008]\n",
      " [-0.80093678 -1.29822834  0.87172127 -0.53596334]\n",
      " [-1.02116718  2.05962442 -0.12386312 -1.47273225]\n",
      " [ 0.25265761 -0.97006409 -0.0903515  -1.13650014]\n",
      " [ 0.94960908  1.086614    1.06742859 -0.23435876]] [ 115.40075002  -89.10831386  -66.50817793   10.84186857  -84.36235509\n",
      "  -28.63832442 -131.10267359   77.35559537  -98.66698001  214.91283853]\n"
     ]
    }
   ],
   "execution_count": 3
  },
  {
   "metadata": {
    "ExecuteTime": {
     "end_time": "2025-05-16T16:06:21.794177Z",
     "start_time": "2025-05-16T16:06:21.758402Z"
    }
   },
   "cell_type": "code",
   "source": [
    "\n",
    "pca = PCA(n_components=2)\n",
    "X_pca = pca.fit_transform(X)\n",
    "\n",
    "print(X_pca)"
   ],
   "id": "feb14b92545a85fb",
   "outputs": [
    {
     "name": "stdout",
     "output_type": "stream",
     "text": [
      "[[ 1.37718444 -0.33355763]\n",
      " [-1.54770044 -1.33252039]\n",
      " [-1.14404088  0.61446696]\n",
      " [-1.36695318 -1.72734076]\n",
      " [-0.32390357  2.09192439]\n",
      " [-0.12639755  0.21553104]\n",
      " [-0.73926686  0.31736875]\n",
      " [ 2.64480891 -0.80188471]\n",
      " [ 0.1008054   1.24614366]\n",
      " [ 1.12546373 -0.29013131]]\n"
     ]
    }
   ],
   "execution_count": 5
  }
 ],
 "metadata": {
  "kernelspec": {
   "display_name": "Python 3",
   "language": "python",
   "name": "python3"
  },
  "language_info": {
   "codemirror_mode": {
    "name": "ipython",
    "version": 2
   },
   "file_extension": ".py",
   "mimetype": "text/x-python",
   "name": "python",
   "nbconvert_exporter": "python",
   "pygments_lexer": "ipython2",
   "version": "2.7.6"
  }
 },
 "nbformat": 4,
 "nbformat_minor": 5
}
