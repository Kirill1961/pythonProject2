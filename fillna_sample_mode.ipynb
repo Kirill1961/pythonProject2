{
 "cells": [
  {
   "cell_type": "code",
   "id": "initial_id",
   "metadata": {
    "collapsed": true,
    "ExecuteTime": {
     "end_time": "2025-09-02T06:09:45.718812Z",
     "start_time": "2025-09-02T06:09:45.200511Z"
    }
   },
   "source": [
    "import random\n",
    "import pandas as pd\n",
    "import numpy as np"
   ],
   "outputs": [],
   "execution_count": 1
  },
  {
   "metadata": {
    "ExecuteTime": {
     "end_time": "2025-09-01T06:20:28.039629Z",
     "start_time": "2025-09-01T06:20:28.018451Z"
    }
   },
   "cell_type": "code",
   "source": [
    "# df_m - Мультимодальные признаки с catfeat\n",
    "df_m = pd.DataFrame([['n', 2, np.nan, 0],\n",
    "                   ['m', 4, 'v', 1],\n",
    "                   [np.nan, np.nan, 'v', np.nan],\n",
    "                   ['n', 3, np.nan, 4],\n",
    "                    [np.nan, 1, 'w', 3],\n",
    "                     ['m', 2, 'w', 3]],\n",
    "                  columns=list(\"ABCD\"))\n",
    "print(df_m)\n",
    "\n",
    "# Унимодальный признак с catfeat\n",
    "df_u = pd.DataFrame([[np.nan, 2, np.nan, 'w'],\n",
    "                   [3, 4, 'n', np.nan],\n",
    "                   [np.nan, np.nan, 'n', np.nan],\n",
    "                   [np.nan, 3, np.nan, 'w']],\n",
    "                  columns=list(\"ABCD\"))\n",
    "\n",
    "df_u"
   ],
   "id": "7ded3d2b697c0b22",
   "outputs": [
    {
     "name": "stdout",
     "output_type": "stream",
     "text": [
      "     A    B    C    D\n",
      "0    n  2.0  NaN  0.0\n",
      "1    m  4.0    v  1.0\n",
      "2  NaN  NaN    v  NaN\n",
      "3    n  3.0  NaN  4.0\n",
      "4  NaN  1.0    w  3.0\n",
      "5    m  2.0    w  3.0\n"
     ]
    },
    {
     "data": {
      "text/plain": [
       "     A    B    C    D\n",
       "0  NaN  2.0  NaN    w\n",
       "1  3.0  4.0    n  NaN\n",
       "2  NaN  NaN    n  NaN\n",
       "3  NaN  3.0  NaN    w"
      ],
      "text/html": [
       "<div>\n",
       "<style scoped>\n",
       "    .dataframe tbody tr th:only-of-type {\n",
       "        vertical-align: middle;\n",
       "    }\n",
       "\n",
       "    .dataframe tbody tr th {\n",
       "        vertical-align: top;\n",
       "    }\n",
       "\n",
       "    .dataframe thead th {\n",
       "        text-align: right;\n",
       "    }\n",
       "</style>\n",
       "<table border=\"1\" class=\"dataframe\">\n",
       "  <thead>\n",
       "    <tr style=\"text-align: right;\">\n",
       "      <th></th>\n",
       "      <th>A</th>\n",
       "      <th>B</th>\n",
       "      <th>C</th>\n",
       "      <th>D</th>\n",
       "    </tr>\n",
       "  </thead>\n",
       "  <tbody>\n",
       "    <tr>\n",
       "      <th>0</th>\n",
       "      <td>NaN</td>\n",
       "      <td>2.0</td>\n",
       "      <td>NaN</td>\n",
       "      <td>w</td>\n",
       "    </tr>\n",
       "    <tr>\n",
       "      <th>1</th>\n",
       "      <td>3.0</td>\n",
       "      <td>4.0</td>\n",
       "      <td>n</td>\n",
       "      <td>NaN</td>\n",
       "    </tr>\n",
       "    <tr>\n",
       "      <th>2</th>\n",
       "      <td>NaN</td>\n",
       "      <td>NaN</td>\n",
       "      <td>n</td>\n",
       "      <td>NaN</td>\n",
       "    </tr>\n",
       "    <tr>\n",
       "      <th>3</th>\n",
       "      <td>NaN</td>\n",
       "      <td>3.0</td>\n",
       "      <td>NaN</td>\n",
       "      <td>w</td>\n",
       "    </tr>\n",
       "  </tbody>\n",
       "</table>\n",
       "</div>"
      ]
     },
     "execution_count": 33,
     "metadata": {},
     "output_type": "execute_result"
    }
   ],
   "execution_count": 33
  },
  {
   "metadata": {
    "ExecuteTime": {
     "end_time": "2025-09-01T05:41:56.059286Z",
     "start_time": "2025-09-01T05:41:56.037995Z"
    }
   },
   "cell_type": "code",
   "source": [
    "# Замена на среднее в колонках numfeat\n",
    "df_m[['B', 'D']].fillna(df_m[['B', 'D']]).mean() "
   ],
   "id": "f6719e3cb879925d",
   "outputs": [
    {
     "data": {
      "text/plain": [
       "B    2.4\n",
       "D    2.2\n",
       "dtype: float64"
      ]
     },
     "execution_count": 3,
     "metadata": {},
     "output_type": "execute_result"
    }
   ],
   "execution_count": 3
  },
  {
   "metadata": {},
   "cell_type": "markdown",
   "source": [
    "**fillna - в аргументе только имена столбцов**\n",
    "mode() возвращает :\n",
    "   * df['col'].mode() → Series (твой случай с категориальным признаком )\n",
    "   * df.mode() → DataFrame, где по колонкам собраны все моды"
   ],
   "id": "3b8091f8e8ac8f"
  },
  {
   "metadata": {
    "ExecuteTime": {
     "end_time": "2025-09-01T08:46:21.683337Z",
     "start_time": "2025-09-01T08:46:21.655845Z"
    }
   },
   "cell_type": "code",
   "source": [
    "# Замена на mode в колонках Унимодальных catfeat\n",
    "# df_u = pd.DataFrame([[np.nan, 2, np.nan, 'w'],\n",
    "#                    [3, 4, 'n', np.nan],\n",
    "#                    [np.nan, np.nan, 'n', np.nan],\n",
    "#                    [np.nan, 3, np.nan, 'w']],\n",
    "#                   columns=list(\"ABCD\"))\n",
    "\n",
    "df_u = pd.DataFrame([[ np.nan, 'w'],\n",
    "                   ['n', np.nan],\n",
    "                   [ 'n', np.nan],\n",
    "                   [ np.nan, 'w']],\n",
    "                  columns=list(\"CD\"))\n",
    "\n",
    "print(df_u, '\\n')\n",
    "\n",
    "cat_col = df_u.select_dtypes(include=['object', 'category'])\n",
    "\n",
    "# # TODO fillna без цикла\n",
    "# Замена на mode в колонках Унимодальных catfeat(df_u[cat_col.columns]).mode()\n",
    "print('в Унимодальных catfeat mode() возвращает df с 1 строкой : \\n', df_u[cat_col.columns].fillna(df_u[cat_col.columns]).mode(), '\\n')\n",
    "\n",
    "df_u[cat_col.columns] = df_u[cat_col.columns].fillna(df_u[cat_col.columns]).mode().iloc[0]\n",
    "\n",
    "df_u\n",
    "\n",
    "# TODO fillna в цикле\n",
    "# for  col in cat_col.columns:\n",
    "#     \n",
    "#     # 👉  mode() - в каждом цикле возвращает строку с индексом [0]\n",
    "#     print(df_u[col].fillna(df_u[col]).mode(), '\\n')\n",
    "#     # 👉 Ставим индекс [0] что бы заполнить соответствующей модой\n",
    "#     df_u[col] = df_u[col].fillna(df_u[col]).mode()[0]\n",
    "\n",
    "\n",
    "# df_u\n"
   ],
   "id": "b9027da144a195ff",
   "outputs": [
    {
     "name": "stdout",
     "output_type": "stream",
     "text": [
      "     C    D\n",
      "0  NaN    w\n",
      "1    n  NaN\n",
      "2    n  NaN\n",
      "3  NaN    w \n",
      "\n",
      "в Унимодальных catfeat mode() возвращает df с 1 строкой : \n",
      "    C  D\n",
      "0  n  w \n",
      "\n"
     ]
    },
    {
     "name": "stderr",
     "output_type": "stream",
     "text": [
      "C:\\Users\\Kirill\\AppData\\Local\\Temp\\ipykernel_11024\\2849857608.py:22: FutureWarning: Series.__getitem__ treating keys as positions is deprecated. In a future version, integer keys will always be treated as labels (consistent with DataFrame behavior). To access a value by position, use `ser.iloc[pos]`\n",
      "  df_u[cat_col.columns] = df_u[cat_col.columns].fillna(df_u[cat_col.columns]).mode().iloc[0]\n"
     ]
    },
    {
     "data": {
      "text/plain": [
       "   C  D\n",
       "0  n  w\n",
       "1  n  w\n",
       "2  n  w\n",
       "3  n  w"
      ],
      "text/html": [
       "<div>\n",
       "<style scoped>\n",
       "    .dataframe tbody tr th:only-of-type {\n",
       "        vertical-align: middle;\n",
       "    }\n",
       "\n",
       "    .dataframe tbody tr th {\n",
       "        vertical-align: top;\n",
       "    }\n",
       "\n",
       "    .dataframe thead th {\n",
       "        text-align: right;\n",
       "    }\n",
       "</style>\n",
       "<table border=\"1\" class=\"dataframe\">\n",
       "  <thead>\n",
       "    <tr style=\"text-align: right;\">\n",
       "      <th></th>\n",
       "      <th>C</th>\n",
       "      <th>D</th>\n",
       "    </tr>\n",
       "  </thead>\n",
       "  <tbody>\n",
       "    <tr>\n",
       "      <th>0</th>\n",
       "      <td>n</td>\n",
       "      <td>w</td>\n",
       "    </tr>\n",
       "    <tr>\n",
       "      <th>1</th>\n",
       "      <td>n</td>\n",
       "      <td>w</td>\n",
       "    </tr>\n",
       "    <tr>\n",
       "      <th>2</th>\n",
       "      <td>n</td>\n",
       "      <td>w</td>\n",
       "    </tr>\n",
       "    <tr>\n",
       "      <th>3</th>\n",
       "      <td>n</td>\n",
       "      <td>w</td>\n",
       "    </tr>\n",
       "  </tbody>\n",
       "</table>\n",
       "</div>"
      ]
     },
     "execution_count": 155,
     "metadata": {},
     "output_type": "execute_result"
    }
   ],
   "execution_count": 155
  },
  {
   "metadata": {},
   "cell_type": "markdown",
   "source": [
    "**fillna - в аргументе только имена столбцов**\n",
    "\n",
    "mode() возвращает :\n",
    "   * df['col'].mode() → Series (твой случай с категориальным признаком )\n",
    "   * df.mode() → DataFrame, где по колонкам собраны все моды"
   ],
   "id": "b90575a990da76ac"
  },
  {
   "metadata": {
    "ExecuteTime": {
     "end_time": "2025-09-01T09:25:12.410607Z",
     "start_time": "2025-09-01T09:25:12.388551Z"
    }
   },
   "cell_type": "code",
   "source": [
    "# df_m = pd.DataFrame([['n', 2, np.nan, 0],\n",
    "#                    ['m', 4, 'v', 1],\n",
    "#                    [np.nan, np.nan, 'v', np.nan],\n",
    "#                    ['n', 3, np.nan, 4],\n",
    "#                     [np.nan, 1, 'w', 3],\n",
    "#                      ['m', 2, 'w', 3]],\n",
    "#                   columns=list(\"ABCD\"))\n",
    "\n",
    "df_m = pd.DataFrame([['n',  'p', 0],\n",
    "                   ['m', 'v', 1],\n",
    "                   [np.nan,  'v', np.nan],\n",
    "                   ['n',  np.nan, 4],\n",
    "                    [np.nan,  'p', 3],\n",
    "                     ['m', 'w', 3],\n",
    "                     ['s', np.nan, 3],\n",
    "                     ['s', 'w', 3]],\n",
    "                  columns=list(\"ABC\"))\n",
    "\n",
    "print('Исходый df : \\n', df_m, '\\n')\n",
    "\n",
    "# Имена catfeat признаков\n",
    "cat_col = df_m.select_dtypes(include=['object', 'category']).columns\n",
    "\n",
    "\n",
    "\n",
    "# TODO на каждую Моду - 1 строка, три Моды - 3 строки\n",
    "# mode возвращает 3 строки тк в 2-х признаках три Моды\n",
    "modes = df_m[cat_col].fillna(df_m[cat_col]).mode()\n",
    "print('в Мультимодальных catfeat mode() возвращает df c 3 строками : \\n', modes, '\\n')\n",
    "\n",
    "# 1️⃣ TODO Случайный выбор элемента из Моды для fillna\n",
    "# cat_elem = modes.sample(1).index[0]\n",
    "# print('Случайный элемент cat_elem : \\n', cat_elem, '\\n')\n",
    "\n",
    "# TODO в Мультимодальном catfeat для заполнения пропусков  выбираем любую mode индексом [0,1,2] в iloc\n",
    "# df_m[cat_col] = df_m[cat_col].fillna(df_m[cat_col]).mode().iloc[cat_elem]\n",
    "# print(df_m, '\\n')\n",
    "\n",
    "# 2️⃣ TODO Случайный выбор элемента из Моды для fillna\n",
    "choice = modes.sample(1).iloc[0]   # берём случайное значение\n",
    "print('Случайный элемент cat_elem : \\n', choice, '\\n')\n",
    "\n",
    "df_m[cat_col] = df_m[cat_col].fillna(choice)\n",
    "print(df_m, '\\n')"
   ],
   "id": "2d1f1e68e60e0ce0",
   "outputs": [
    {
     "name": "stdout",
     "output_type": "stream",
     "text": [
      "Исходый df : \n",
      "      A    B    C\n",
      "0    n    p  0.0\n",
      "1    m    v  1.0\n",
      "2  NaN    v  NaN\n",
      "3    n  NaN  4.0\n",
      "4  NaN    p  3.0\n",
      "5    m    w  3.0\n",
      "6    s  NaN  3.0\n",
      "7    s    w  3.0 \n",
      "\n",
      "в Мультимодальных catfeat mode() возвращает df c 3 строками : \n",
      "    A  B\n",
      "0  m  p\n",
      "1  n  v\n",
      "2  s  w \n",
      "\n",
      "Случайный элемент cat_elem : \n",
      " A    s\n",
      "B    w\n",
      "Name: 2, dtype: object \n",
      "\n",
      "   A  B    C\n",
      "0  n  p  0.0\n",
      "1  m  v  1.0\n",
      "2  s  v  NaN\n",
      "3  n  w  4.0\n",
      "4  s  p  3.0\n",
      "5  m  w  3.0\n",
      "6  s  w  3.0\n",
      "7  s  w  3.0 \n",
      "\n"
     ]
    }
   ],
   "execution_count": 200
  }
 ],
 "metadata": {
  "kernelspec": {
   "display_name": "Python 3",
   "language": "python",
   "name": "python3"
  },
  "language_info": {
   "codemirror_mode": {
    "name": "ipython",
    "version": 2
   },
   "file_extension": ".py",
   "mimetype": "text/x-python",
   "name": "python",
   "nbconvert_exporter": "python",
   "pygments_lexer": "ipython2",
   "version": "2.7.6"
  }
 },
 "nbformat": 4,
 "nbformat_minor": 5
}
