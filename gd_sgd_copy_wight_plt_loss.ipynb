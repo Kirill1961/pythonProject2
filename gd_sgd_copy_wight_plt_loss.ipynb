{
 "cells": [
  {
   "metadata": {
    "ExecuteTime": {
     "end_time": "2025-06-04T10:08:59.725873Z",
     "start_time": "2025-06-04T10:08:59.719983Z"
    }
   },
   "cell_type": "code",
   "source": [
    "import numpy as np\n",
    "import random\n",
    "import pandas as pd\n",
    "import matplotlib.pyplot as plt"
   ],
   "id": "c015dcd5288d7ad3",
   "outputs": [],
   "execution_count": 2
  },
  {
   "metadata": {},
   "cell_type": "markdown",
   "source": [
    "**Имитация GD и график изменения loss + порог останова tolerance**\n",
    "\n",
    "* Сохранение `изменённого` вектора через COPY\n",
    "* Построение графика Loss "
   ],
   "id": "81284effd5d633a1"
  },
  {
   "metadata": {
    "ExecuteTime": {
     "end_time": "2025-06-04T10:09:03.694128Z",
     "start_time": "2025-06-04T10:09:03.319553Z"
    }
   },
   "cell_type": "code",
   "source": [
    "w = np.array([0.9, 0.4, 0.3, 0.7]) # Стартовый вектор Весов\n",
    "y = np.array([-0.5, -1.,  -1.1, -0.7]) + 0.15  # Целевая\n",
    "w_res = [w.copy()]  # размещение в итоговый список копии стартового вектора\n",
    "tolerance = 0.007\n",
    "\n",
    "def gd(w, y, w_res):\n",
    "    for i in range(10):  # число итераций\n",
    "        w -= 0.19  # действие с текущим вектором весов -> аналог w -= learning_rate * 2 * X.T @ (X @ w - Y) / num_objects\n",
    "        w_res.append(w.copy()) #  Сохранение копий изменённых векторов весов\n",
    "    w_res = np.array(w_res)  # трансформ списка в ndarray\n",
    "    \n",
    "# TODO w_res.T - имитация произведения Вектора весов на Матрицу признаков, loss - ф-ия потерь   \n",
    "    loss = np.square(w_res.T - y[:, None]).mean(axis=0)  \n",
    "    for i, j in enumerate(loss):  # Фильтр для останова GD\n",
    "        print(i, j)\n",
    "        if j < tolerance:\n",
    "            return loss[: i + 1]\n",
    "\n",
    "plt.figure(figsize=(5, 3))\n",
    "plt.plot(gd(w, y, w_res))\n",
    "plt.ylim(bottom=0)\n",
    "plt.grid()\n",
    "plt.show()"
   ],
   "id": "e485204c0237e2c1",
   "outputs": [
    {
     "name": "stdout",
     "output_type": "stream",
     "text": [
      "0 1.5625\n",
      "1 1.1236000000000002\n",
      "2 0.7569\n",
      "3 0.4624\n",
      "4 0.24009999999999998\n",
      "5 0.08999999999999998\n",
      "6 0.012099999999999994\n",
      "7 0.0063999999999999994\n"
     ]
    },
    {
     "data": {
      "text/plain": [
       "<Figure size 500x300 with 1 Axes>"
      ],
      "image/png": "[encoded data removed]"
     },
     "metadata": {},
     "output_type": "display_data"
    }
   ],
   "execution_count": 3
  },
  {
   "metadata": {},
   "cell_type": "markdown",
   "source": "**Вариант без сохранения через COPY**",
   "id": "2ff6e32d69362466"
  },
  {
   "metadata": {
    "ExecuteTime": {
     "end_time": "2025-06-02T18:33:49.731805Z",
     "start_time": "2025-06-02T18:33:49.717894Z"
    }
   },
   "cell_type": "code",
   "source": [
    "w = np.array([0.9, 0.4, 0.3, 0.7]) # Стартовый вектор\n",
    "print(w)\n",
    "w_res = [w]  # размещение в итоговый список копии стартового вектора\n",
    "for _ in range(7):  # число итераций\n",
    "    w -= 0.2  # действие с текущим вектором аналог w -= learning_rate * 2 * X.T @ (X @ w - Y) / num_objects\n",
    "    w_res.append(w) #  Сохранение копий изменённых векторов\n",
    "w_res = np.array(w_res)  # трансформ списка в ndarray\n",
    "print(w_res)"
   ],
   "id": "c480b39a6277f1e6",
   "outputs": [
    {
     "name": "stdout",
     "output_type": "stream",
     "text": [
      "[0.9 0.4 0.3 0.7]\n",
      "[[-0.5 -1.  -1.1 -0.7]\n",
      " [-0.5 -1.  -1.1 -0.7]\n",
      " [-0.5 -1.  -1.1 -0.7]\n",
      " [-0.5 -1.  -1.1 -0.7]\n",
      " [-0.5 -1.  -1.1 -0.7]\n",
      " [-0.5 -1.  -1.1 -0.7]\n",
      " [-0.5 -1.  -1.1 -0.7]\n",
      " [-0.5 -1.  -1.1 -0.7]]\n"
     ]
    }
   ],
   "execution_count": 11
  },
  {
   "metadata": {},
   "cell_type": "markdown",
   "source": "",
   "id": "8804bf9c495f8469"
  },
  {
   "metadata": {},
   "cell_type": "markdown",
   "source": "**Вариант с сохранением без COPY**",
   "id": "e4bfa56cd34c32ef"
  },
  {
   "metadata": {
    "ExecuteTime": {
     "end_time": "2025-06-03T18:26:44.699660Z",
     "start_time": "2025-06-03T18:26:44.689326Z"
    }
   },
   "cell_type": "code",
   "source": [
    "w = np.array([0.9, 0.4, 0.3, 0.7]) # Стартовый вектор\n",
    "print(w)\n",
    "w_res = [w]  \n",
    "for _ in range(7):  \n",
    "    w_new = np.array([0.0, 0.0, 0.0, 0.0])\n",
    "    w -= 0.2 \n",
    "    # w_new =  w_new + w\n",
    "    w_new +=  w\n",
    "    w_res.append(w_new) \n",
    "w_res = np.array(w_res)  \n",
    "print(w_res)"
   ],
   "id": "e67269880eb394f",
   "outputs": [
    {
     "name": "stdout",
     "output_type": "stream",
     "text": [
      "[0.9 0.4 0.3 0.7]\n",
      "[[-0.5 -1.  -1.1 -0.7]\n",
      " [ 0.7  0.2  0.1  0.5]\n",
      " [ 0.5  0.  -0.1  0.3]\n",
      " [ 0.3 -0.2 -0.3  0.1]\n",
      " [ 0.1 -0.4 -0.5 -0.1]\n",
      " [-0.1 -0.6 -0.7 -0.3]\n",
      " [-0.3 -0.8 -0.9 -0.5]\n",
      " [-0.5 -1.  -1.1 -0.7]]\n"
     ]
    }
   ],
   "execution_count": 3
  },
  {
   "metadata": {},
   "cell_type": "markdown",
   "source": [
    "# SGD\n",
    "* Отличие `стохастического градиентного спуска` заключается в том, что градиент считается по `батчу`. Приведем пример для размера `батча 10`"
   ],
   "id": "19b884841657b16a"
  },
  {
   "metadata": {
    "ExecuteTime": {
     "end_time": "2025-06-04T10:09:39.476880Z",
     "start_time": "2025-06-04T10:09:39.465748Z"
    }
   },
   "cell_type": "code",
   "source": [
    "num_features = 2\n",
    "num_objects = 3000\n",
    "batch_size = 10\n",
    "num_steps = 20\n",
    "\n",
    "# Генерируем коэффициенты регрессии\n",
    "w_true = np.random.normal(size=(num_features,))\n",
    "\n",
    "# Генерируем матрицу признаков\n",
    "X = np.random.uniform(-5, 5, (num_objects, num_features))\n",
    "\n",
    "# Генерируем вектор таргетов, добавляя нормальный шум\n",
    "Y = X @ w_true + np.random.normal(0, 1, num_objects)"
   ],
   "id": "427d0199510d3410",
   "outputs": [],
   "execution_count": 4
  },
  {
   "metadata": {},
   "cell_type": "markdown",
   "source": [
    "\n",
    "\n",
    "# SGD \n",
    "*на 5 батчей*"
   ],
   "id": "1593baf39ba3c5d8"
  },
  {
   "metadata": {
    "ExecuteTime": {
     "end_time": "2025-06-04T10:11:38.562205Z",
     "start_time": "2025-06-04T10:11:38.550724Z"
    }
   },
   "cell_type": "code",
   "source": [
    "w = np.random.uniform(-2, 2, num_features)\n",
    "w_list = [w.copy()]\n",
    "learning_rate = 1e-2\n",
    "\n",
    "for i in range(2 * batch_size):\n",
    "    sample_indices = np.random.randint(0, num_objects, batch_size) # Выбираем индексы 20-ти случайных строк \n",
    "    X_batch = X[sample_indices, :] # из массива признаков 3000 х 2, выбираем 20 случайных строк(векторов признаков)\n",
    "    Y_batch = Y[sample_indices] # из вектора Целевой, выбираем 20 случайных значений\n",
    "    # TODO нормируем результат на размер батча - batch_size\n",
    "    w -= learning_rate * 2 * X_batch.T @ (X_batch @ w - Y_batch) / batch_size # Подставляем массив X_batch и вектор Y_batch для обновления вектора весов\n",
    "    w_list.append(w.copy())\n",
    "\n",
    "w_list = np.array(w_list) # Список обновлённых векторов весов\n",
    "\n",
    "print('Обновлённые веса с заданным батчем : \\n', f'{w}')\n",
    "print('Начальные Истинные веса, в т.ч. для Генерации Целевой Y : \\n', f'{w_true}')\n",
    "print('Список обновлённых векторов весов : \\n', f'{w_list[-1:]}')\n",
    "\n"
   ],
   "id": "e61a354d1d995052",
   "outputs": [
    {
     "name": "stdout",
     "output_type": "stream",
     "text": [
      "Обновлённые веса с заданным батчем : \n",
      " [0.38526859 0.53466441]\n",
      "Начальные Истинные веса, в т.ч. для Генерации Целевой Y : \n",
      " [0.38163074 0.64074924]\n",
      "Список обновлённых векторов весов : \n",
      " [[0.38526859 0.53466441]]\n"
     ]
    }
   ],
   "execution_count": 10
  },
  {
   "metadata": {
    "ExecuteTime": {
     "end_time": "2025-06-04T10:11:42.286833Z",
     "start_time": "2025-06-04T10:11:41.627785Z"
    }
   },
   "cell_type": "code",
   "source": [
    "plt.figure(figsize=(7, 4))\n",
    "plt.plot(np.square(X @ w_list.T - Y[:, None]).mean(axis=0))\n",
    "plt.ylim(bottom=0)\n",
    "plt.grid()\n",
    "plt.show()"
   ],
   "id": "bc6225c56b3c9459",
   "outputs": [
    {
     "data": {
      "text/plain": [
       "<Figure size 700x400 with 1 Axes>"
      ],
      "image/png": "[encoded data removed]"
     },
     "metadata": {},
     "output_type": "display_data"
    }
   ],
   "execution_count": 11
  }
 ],
 "metadata": {
  "kernelspec": {
   "display_name": "Python 3",
   "language": "python",
   "name": "python3"
  },
  "language_info": {
   "codemirror_mode": {
    "name": "ipython",
    "version": 2
   },
   "file_extension": ".py",
   "mimetype": "text/x-python",
   "name": "python",
   "nbconvert_exporter": "python",
   "pygments_lexer": "ipython2",
   "version": "2.7.6"
  }
 },
 "nbformat": 4,
 "nbformat_minor": 5
}
