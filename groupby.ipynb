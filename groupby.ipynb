{
 "cells": [
  {
   "cell_type": "code",
   "id": "initial_id",
   "metadata": {
    "collapsed": true
   },
   "source": "import pandas as pd\n",
   "outputs": [],
   "execution_count": null
  },
  {
   "metadata": {},
   "cell_type": "code",
   "source": [
    "df = pd.read_csv(\"D:\\Eduson_data\\ds_salaries.csv\", index_col=0)\n",
    "# print(df.head())"
   ],
   "id": "5dff520e89a3c32d",
   "outputs": [],
   "execution_count": null
  },
  {
   "metadata": {},
   "cell_type": "markdown",
   "source": " 1. Обход по группам",
   "id": "236be0cc59412a2d"
  },
  {
   "metadata": {},
   "cell_type": "code",
   "source": [
    "for name, group in df.groupby(['experience_level', 'company_size']):\n",
    "    print(name)        # имя группы (tuple)\n",
    "    # print(group.head())  # содержимое подтаблицы\n"
   ],
   "id": "95752f65ec369f8f",
   "outputs": [],
   "execution_count": null
  },
  {
   "metadata": {},
   "cell_type": "markdown",
   "source": [
    "2. Фильтрация групп: .filter()\n",
    "* x.salary_in_usd > 400000 → булев массив (например, [False, False, True, False])\n",
    "\n",
    "* .any() → True, если хотя бы одно значение True"
   ],
   "id": "69a8e5ab35993940"
  },
  {
   "metadata": {},
   "cell_type": "code",
   "source": "df.groupby('experience_level').filter(lambda x:  (x.salary_in_usd > 500000).any())",
   "id": "77c4c52c2c67f61f",
   "outputs": [],
   "execution_count": null
  },
  {
   "metadata": {},
   "cell_type": "markdown",
   "source": [
    "Оставить группы, где все зарплаты не больше 400k:\n",
    "* "
   ],
   "id": "a2647e9903313268"
  },
  {
   "metadata": {},
   "cell_type": "code",
   "source": "df.groupby('experience_level').filter(lambda x:  (x.salary_in_usd != 400000).all())",
   "id": "abef449f7332a1a5",
   "outputs": [],
   "execution_count": null
  },
  {
   "metadata": {},
   "cell_type": "markdown",
   "source": "Оставить группы, где средняя зарплата > 400k:",
   "id": "35acb3a098959908"
  },
  {
   "metadata": {},
   "cell_type": "code",
   "source": "df.groupby('experience_level').filter(lambda x: x.salary_in_usd.mean() > 100000)",
   "id": "ff4e6e6cf0b44aad",
   "outputs": [],
   "execution_count": null
  },
  {
   "metadata": {},
   "cell_type": "markdown",
   "source": [
    "3. Трансформация: .transform()\n",
    "* Группировка зарплат по сегментам experience_level и вычисление отклонения от среднего\n",
    "* .transform(lambda x: x - x.mean())→ к каждой группе применяется функция:\n",
    "\n",
    "* x — это Series зарплат внутри одного грейда,\n",
    "\n",
    "* x.mean() — средняя зарплата в этом грейде,\n",
    "\n",
    "* x - x.mean() — отклонение каждой зарплаты от среднего."
   ],
   "id": "32a5e764a5b1cdb6"
  },
  {
   "metadata": {},
   "cell_type": "code",
   "source": [
    "# Центрировать зарплату внутри каждого грейда\n",
    "df['salary_centered'] = df.groupby('experience_level')['salary_in_usd'].transform(lambda x: x - x.mean())\n",
    "df['salary_centered']"
   ],
   "id": "9942ff00d03a78da",
   "outputs": [],
   "execution_count": null
  },
  {
   "metadata": {},
   "cell_type": "markdown",
   "source": "5. Полная статистика по каждой группе",
   "id": "93ad035c213fbfdb"
  },
  {
   "metadata": {},
   "cell_type": "code",
   "source": "df.groupby('experience_level')['salary_in_usd'].describe()\n",
   "id": "fcdc89973f2c2573",
   "outputs": [],
   "execution_count": null
  },
  {
   "metadata": {},
   "cell_type": "markdown",
   "source": [
    "6. Получить список групп: .groups\n",
    "* Словарь -> { имя группы : [индексы]}"
   ],
   "id": "f2e85dacc38720f2"
  },
  {
   "metadata": {},
   "cell_type": "code",
   "source": "df.groupby('experience_level').groups\n",
   "id": "15062ab9182f849d",
   "outputs": [],
   "execution_count": null
  },
  {
   "metadata": {},
   "cell_type": "markdown",
   "source": [
    "7. Сохранить результат: .get_group()\n",
    "* Получить конкретную подгруппу"
   ],
   "id": "185c912b7c291191"
  },
  {
   "metadata": {},
   "cell_type": "code",
   "source": "df.groupby('experience_level').get_group('SE')\n",
   "id": "51ccf7e254e469e",
   "outputs": [],
   "execution_count": null
  }
 ],
 "metadata": {
  "kernelspec": {
   "display_name": "Python 3",
   "language": "python",
   "name": "python3"
  },
  "language_info": {
   "codemirror_mode": {
    "name": "ipython",
    "version": 2
   },
   "file_extension": ".py",
   "mimetype": "text/x-python",
   "name": "python",
   "nbconvert_exporter": "python",
   "pygments_lexer": "ipython2",
   "version": "2.7.6"
  }
 },
 "nbformat": 4,
 "nbformat_minor": 5
}
