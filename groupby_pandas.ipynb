{
 "cells": [
  {
   "cell_type": "code",
   "id": "initial_id",
   "metadata": {
    "collapsed": true,
    "ExecuteTime": {
     "end_time": "2025-05-02T15:48:29.207127Z",
     "start_time": "2025-05-02T15:48:29.201693Z"
    }
   },
   "source": [
    "import matplotlib.pyplot as plt\n",
    "import pandas as pd\n",
    "from statsmodels.formula.api import ols\n",
    "from statsmodels.stats.anova import anova_lm\n",
    "import statsmodels.api as sm\n",
    "import seaborn as sns\n",
    "from statsmodels.stats.multicomp import pairwise_tukeyhsd\n"
   ],
   "outputs": [],
   "execution_count": 13
  },
  {
   "metadata": {
    "ExecuteTime": {
     "end_time": "2025-05-02T16:55:03.676259Z",
     "start_time": "2025-05-02T16:55:03.654909Z"
    }
   },
   "cell_type": "code",
   "source": [
    "df = pd.read_csv(\"D:\\Eduson_data\\ds_salaries.csv\", index_col=0)\n",
    "# print(df.head())"
   ],
   "id": "5dff520e89a3c32d",
   "outputs": [],
   "execution_count": 21
  },
  {
   "metadata": {},
   "cell_type": "markdown",
   "source": " 1. **Обход по группам**",
   "id": "236be0cc59412a2d"
  },
  {
   "metadata": {},
   "cell_type": "code",
   "source": [
    "for name, group in df.groupby(['experience_level', 'company_size']):\n",
    "    print(name)        # имя группы (tuple)\n",
    "    # print(group.head())  # содержимое подтаблицы\n"
   ],
   "id": "95752f65ec369f8f",
   "outputs": [],
   "execution_count": null
  },
  {
   "metadata": {},
   "cell_type": "markdown",
   "source": [
    "2.**Фильтрация групп: .filter()**\n",
    "* x.salary_in_usd > 400000 → булев массив (например, [False, False, True, False])\n",
    "\n",
    "* .any() → True, если хотя бы одно значение True"
   ],
   "id": "69a8e5ab35993940"
  },
  {
   "metadata": {},
   "cell_type": "code",
   "source": "df.groupby('experience_level').filter(lambda x:  (x.salary_in_usd > 500000).any())",
   "id": "77c4c52c2c67f61f",
   "outputs": [],
   "execution_count": null
  },
  {
   "metadata": {},
   "cell_type": "markdown",
   "source": "**Оставить группы, где все зарплаты не больше 400k:**\n",
   "id": "a2647e9903313268"
  },
  {
   "metadata": {},
   "cell_type": "code",
   "source": "df.groupby('experience_level').filter(lambda x:  (x.salary_in_usd != 400000).all())",
   "id": "abef449f7332a1a5",
   "outputs": [],
   "execution_count": null
  },
  {
   "metadata": {},
   "cell_type": "markdown",
   "source": "**Оставить группы, где средняя зарплата > 400k:**",
   "id": "35acb3a098959908"
  },
  {
   "metadata": {},
   "cell_type": "code",
   "source": "df.groupby('experience_level').filter(lambda x: x.salary_in_usd.mean() > 100000)",
   "id": "ff4e6e6cf0b44aad",
   "outputs": [],
   "execution_count": null
  },
  {
   "metadata": {},
   "cell_type": "markdown",
   "source": [
    "3. **Трансформация: .transform()**\n",
    "\n",
    "**transform** - применяет функцию к каждому элементу DataFrame или Series, возвращая результат с той же формой, что и исходные данные.\n",
    "* Синтаксис: DataFrame.transform(func, axis=0, *args, **kwargs)\n",
    "* Группировка зарплат по сегментам experience_level и вычисление отклонения от среднего\n",
    "* .transform(lambda x: x - x.mean())→ к каждой группе применяется функция:\n",
    "\n",
    "* x — это Series зарплат внутри одного грейда,\n",
    "\n",
    "* x.mean() — средняя зарплата в этом грейде,\n",
    "\n",
    "* x - x.mean() — отклонение каждой зарплаты от среднего."
   ],
   "id": "32a5e764a5b1cdb6"
  },
  {
   "metadata": {},
   "cell_type": "code",
   "source": [
    "# Центрировать зарплату внутри каждого грейда\n",
    "df['salary_centered'] = df.groupby('experience_level')['salary_in_usd'].transform(lambda x: x - x.mean())\n",
    "df['salary_centered']"
   ],
   "id": "9942ff00d03a78da",
   "outputs": [],
   "execution_count": null
  },
  {
   "metadata": {},
   "cell_type": "markdown",
   "source": "5. Полная статистика по каждой группе",
   "id": "93ad035c213fbfdb"
  },
  {
   "metadata": {},
   "cell_type": "code",
   "source": "df.groupby('experience_level')['salary_in_usd'].describe()\n",
   "id": "fcdc89973f2c2573",
   "outputs": [],
   "execution_count": null
  },
  {
   "metadata": {},
   "cell_type": "markdown",
   "source": [
    "6. Получить список групп: .groups\n",
    "* Словарь -> { имя группы : [индексы]}"
   ],
   "id": "f2e85dacc38720f2"
  },
  {
   "metadata": {},
   "cell_type": "code",
   "source": "df.groupby('experience_level').groups\n",
   "id": "15062ab9182f849d",
   "outputs": [],
   "execution_count": null
  },
  {
   "metadata": {},
   "cell_type": "markdown",
   "source": [
    "7. Сохранить результат: .get_group()\n",
    "* Получить конкретную подгруппу"
   ],
   "id": "185c912b7c291191"
  },
  {
   "metadata": {},
   "cell_type": "code",
   "source": "df.groupby('experience_level').get_group('SE')\n",
   "id": "51ccf7e254e469e",
   "outputs": [],
   "execution_count": null
  },
  {
   "metadata": {},
   "cell_type": "markdown",
   "source": [
    "8. **merge** - слияние нового столбца(результат группировки) и исходного df \n",
    "* merge() -- это как в SQL -> JOIN\n",
    "спользуется, когда нужно объединить два DataFrame по общему признаку (ключу / колонке).\n",
    "* concat() -- это как склеивание\n",
    "Используется, когда нужно соединить DataFrames по строкам (axis=0) или по колонкам (axis=1), без ключей."
   ],
   "id": "483df488ab2ddd3b"
  },
  {
   "metadata": {},
   "cell_type": "markdown",
   "source": "//////////////////////////////////////////////////////////////////////////////////////////////////////////////////",
   "id": "6ebc080215924c1e"
  },
  {
   "metadata": {},
   "cell_type": "code",
   "source": [
    "grp = df.groupby(['experience_level'])['company_size'].sum().rename('sum_grp').reset_index()\n",
    "\n",
    "df_1 = df.merge(grp)\n",
    "\n",
    "df_1"
   ],
   "id": "2f9f34d67c5d5699",
   "outputs": [],
   "execution_count": null
  },
  {
   "metadata": {
    "ExecuteTime": {
     "end_time": "2025-05-01T20:06:27.678619Z",
     "start_time": "2025-05-01T20:06:27.239932Z"
    }
   },
   "cell_type": "code",
   "source": [
    "import seaborn as sns\n",
    "import matplotlib.pyplot as plt\n",
    "grp = df.groupby(['company_size', 'experience_level'])[['salary_in_usd']].mean().reset_index()\n",
    "# print(grp)\n",
    "\n",
    "sns.barplot(data=grp, x=grp.company_size, y=grp.salary_in_usd, hue=grp.experience_level, palette='colorblind')\n",
    "plt.show()"
   ],
   "id": "844e30ce3c1fb35d",
   "outputs": [
    {
     "data": {
      "text/plain": [
       "<Figure size 640x480 with 1 Axes>"
      ],
      "image/png": "[encoded data removed]"
     },
     "metadata": {},
     "output_type": "display_data"
    }
   ],
   "execution_count": 197
  },
  {
   "metadata": {
    "ExecuteTime": {
     "end_time": "2025-05-02T16:57:50.960437Z",
     "start_time": "2025-05-02T16:57:49.497496Z"
    }
   },
   "cell_type": "code",
   "source": [
    "from statsmodels.formula.api import ols\n",
    "from statsmodels.stats.anova import anova_lm\n",
    "import statsmodels.api as sm\n",
    "\n",
    "# Смотрим выбросы\n",
    "# fig, axes = plt.subplots(figsize=(4, 2))\n",
    "# sns.boxplot(x=df.salary_in_usd)\n",
    "# plt.show()\n",
    "\n",
    "# Обрезка выбросов\n",
    "df_cut = df[df['salary_in_usd'] < 300000]\n",
    "\n",
    "\n",
    "df_mi = df_cut[df_cut.experience_level == 'MI']\n",
    "df_se = df_cut[df_cut.experience_level == 'SE']\n",
    "\n",
    "# sns.boxplot(data=df_mi, x=df_mi.salary_in_usd, y=df_mi.company_size)\n",
    "# plt.show()\n",
    "\n",
    "# sns.boxplot(data=df_se, x=df_se.salary_in_usd, y=df_se.company_size)\n",
    "# plt.show()\n",
    "\n",
    "print('MI : p < 0.05 -> различие меж средних есть')\n",
    "model_mi = ols('salary_in_usd ~ company_size', df_mi).fit()\n",
    "print(anova_lm(model_mi), '\\n')\n",
    "\n",
    "print('SE: p > 0.05 -> различий меж средних нет')\n",
    "model_se = ols('salary_in_usd ~ company_size', df_se).fit()\n",
    "print(anova_lm(model_se))\n",
    "\n",
    "# fig, axes = plt.subplots(figsize=(4, 2))\n",
    "# sm.qqplot(model_mi.resid, line='s', ax=axes)\n",
    "# plt.show()\n",
    "# \n",
    "# fig, axes = plt.subplots(figsize=(4, 2))\n",
    "# sm.qqplot(model_se.resid, line='s', ax=axes)\n",
    "# plt.show()\n",
    "\n",
    "tukey_mi = pairwise_tukeyhsd(endog=df_mi['salary_in_usd'], groups=df_mi['company_size'], alpha=0.05)\n",
    "print(tukey_mi.summary())\n",
    "\n",
    "tukey_se = pairwise_tukeyhsd(endog=df_se['salary_in_usd'], groups=df_se['company_size'], alpha=0.05)\n",
    "print(tukey_se.summary())\n",
    "\n"
   ],
   "id": "fd6d053a3cc378d2",
   "outputs": [
    {
     "name": "stdout",
     "output_type": "stream",
     "text": [
      "MI : p < 0.05 -> различие меж средних есть\n",
      "                 df        sum_sq       mean_sq         F   PR(>F)\n",
      "company_size    2.0  3.459172e+10  1.729586e+10  7.931145  0.00048\n",
      "Residual      207.0  4.514156e+11  2.180752e+09       NaN      NaN \n",
      "\n",
      "SE: p > 0.05 -> различий меж средних нет\n",
      "                 df        sum_sq       mean_sq         F    PR(>F)\n",
      "company_size    2.0  9.408313e+09  4.704156e+09  1.807669  0.165987\n",
      "Residual      274.0  7.130390e+11  2.602332e+09       NaN       NaN\n",
      "      Multiple Comparison of Means - Tukey HSD, FWER=0.05      \n",
      "===============================================================\n",
      "group1 group2   meandiff  p-adj     lower       upper    reject\n",
      "---------------------------------------------------------------\n",
      "     L      M   -3590.891 0.8637 -20021.6306  12839.8485  False\n",
      "     L      S -38812.1921 0.0004  -62555.647 -15068.7372   True\n",
      "     M      S -35221.3011 0.0013 -58552.8591 -11889.7431   True\n",
      "---------------------------------------------------------------\n",
      "     Multiple Comparison of Means - Tukey HSD, FWER=0.05      \n",
      "==============================================================\n",
      "group1 group2   meandiff  p-adj     lower      upper    reject\n",
      "--------------------------------------------------------------\n",
      "     L      M   1155.4084 0.9859  -15789.605 18100.4217  False\n",
      "     L      S -20633.4611 0.2258 -50066.6728  8799.7505  False\n",
      "     M      S -21788.8695 0.1422 -48891.8279  5314.0889  False\n",
      "--------------------------------------------------------------\n"
     ]
    }
   ],
   "execution_count": 23
  },
  {
   "metadata": {
    "ExecuteTime": {
     "end_time": "2025-05-02T17:02:49.022155Z",
     "start_time": "2025-05-02T17:02:47.768294Z"
    }
   },
   "cell_type": "code",
   "source": [
    "fig, axes = plt.subplots(figsize=(4, 2))\n",
    "sns.histplot(data=df_se, x=df_mi.salary_in_usd, kde=True)\n",
    "plt.show()\n",
    "\n",
    "fig, axes = plt.subplots(figsize=(4, 2))\n",
    "sns.histplot(data=df_se, x=df_se.salary_in_usd, kde=True)\n",
    "plt.show()"
   ],
   "id": "77c111dbcb6227f8",
   "outputs": [
    {
     "data": {
      "text/plain": [
       "<Figure size 400x200 with 1 Axes>"
      ],
      "image/png": "[encoded data removed]"
     },
     "metadata": {},
     "output_type": "display_data"
    },
    {
     "data": {
      "text/plain": [
       "<Figure size 400x200 with 1 Axes>"
      ],
      "image/png": "[encoded data removed]"
     },
     "metadata": {},
     "output_type": "display_data"
    }
   ],
   "execution_count": 32
  }
 ],
 "metadata": {
  "kernelspec": {
   "display_name": "Python 3",
   "language": "python",
   "name": "python3"
  },
  "language_info": {
   "codemirror_mode": {
    "name": "ipython",
    "version": 2
   },
   "file_extension": ".py",
   "mimetype": "text/x-python",
   "name": "python",
   "nbconvert_exporter": "python",
   "pygments_lexer": "ipython2",
   "version": "2.7.6"
  }
 },
 "nbformat": 4,
 "nbformat_minor": 5
}
