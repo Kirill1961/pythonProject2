{
 "cells": [
  {
   "cell_type": "code",
   "id": "initial_id",
   "metadata": {
    "collapsed": true,
    "ExecuteTime": {
     "end_time": "2025-07-12T14:22:57.855278Z",
     "start_time": "2025-07-12T14:22:57.842974Z"
    }
   },
   "source": [
    "from sklearn import linear_model, metrics, datasets\n",
    "import numpy as np\n",
    "import pandas as pd\n",
    "import seaborn as sns\n",
    "import matplotlib.pyplot as plt"
   ],
   "outputs": [],
   "execution_count": 28
  },
  {
   "metadata": {
    "ExecuteTime": {
     "end_time": "2025-07-12T14:48:06.764688Z",
     "start_time": "2025-07-12T14:48:06.739382Z"
    }
   },
   "cell_type": "code",
   "source": [
    "data = datasets.load_digits()\n",
    "image = data.images.reshape(data.images.shape[0], -1)\n",
    "\n",
    "df = pd.DataFrame(data=data.data, columns=data.feature_names)\n",
    "df\n",
    "\n",
    "data.target = data.target\n",
    "data.target.shape\n",
    "\n",
    "imgs = image.reshape(image.shape[0], 8, 8)\n",
    "imgs.shape\n",
    "\n",
    "# imgs[:3]"
   ],
   "id": "cbd76be93b5562b9",
   "outputs": [
    {
     "data": {
      "text/plain": [
       "array([[[ 0.,  0.,  5., 13.,  9.,  1.,  0.,  0.],\n",
       "        [ 0.,  0., 13., 15., 10., 15.,  5.,  0.],\n",
       "        [ 0.,  3., 15.,  2.,  0., 11.,  8.,  0.],\n",
       "        [ 0.,  4., 12.,  0.,  0.,  8.,  8.,  0.],\n",
       "        [ 0.,  5.,  8.,  0.,  0.,  9.,  8.,  0.],\n",
       "        [ 0.,  4., 11.,  0.,  1., 12.,  7.,  0.],\n",
       "        [ 0.,  2., 14.,  5., 10., 12.,  0.,  0.],\n",
       "        [ 0.,  0.,  6., 13., 10.,  0.,  0.,  0.]],\n",
       "\n",
       "       [[ 0.,  0.,  0., 12., 13.,  5.,  0.,  0.],\n",
       "        [ 0.,  0.,  0., 11., 16.,  9.,  0.,  0.],\n",
       "        [ 0.,  0.,  3., 15., 16.,  6.,  0.,  0.],\n",
       "        [ 0.,  7., 15., 16., 16.,  2.,  0.,  0.],\n",
       "        [ 0.,  0.,  1., 16., 16.,  3.,  0.,  0.],\n",
       "        [ 0.,  0.,  1., 16., 16.,  6.,  0.,  0.],\n",
       "        [ 0.,  0.,  1., 16., 16.,  6.,  0.,  0.],\n",
       "        [ 0.,  0.,  0., 11., 16., 10.,  0.,  0.]],\n",
       "\n",
       "       [[ 0.,  0.,  0.,  4., 15., 12.,  0.,  0.],\n",
       "        [ 0.,  0.,  3., 16., 15., 14.,  0.,  0.],\n",
       "        [ 0.,  0.,  8., 13.,  8., 16.,  0.,  0.],\n",
       "        [ 0.,  0.,  1.,  6., 15., 11.,  0.,  0.],\n",
       "        [ 0.,  1.,  8., 13., 15.,  1.,  0.,  0.],\n",
       "        [ 0.,  9., 16., 16.,  5.,  0.,  0.,  0.],\n",
       "        [ 0.,  3., 13., 16., 16., 11.,  5.,  0.],\n",
       "        [ 0.,  0.,  0.,  3., 11., 16.,  9.,  0.]]])"
      ]
     },
     "execution_count": 74,
     "metadata": {},
     "output_type": "execute_result"
    }
   ],
   "execution_count": 74
  },
  {
   "metadata": {
    "ExecuteTime": {
     "end_time": "2025-07-12T14:47:50.378337Z",
     "start_time": "2025-07-12T14:47:50.225694Z"
    }
   },
   "cell_type": "code",
   "source": [
    "for img in imgs[:3]:\n",
    "    plt.imshow(img)"
   ],
   "id": "6d841618bc8cf0ea",
   "outputs": [
    {
     "data": {
      "text/plain": [
       "<Figure size 640x480 with 1 Axes>"
      ],
      "image/png": "[encoded data removed]"
     },
     "metadata": {},
     "output_type": "display_data"
    }
   ],
   "execution_count": 73
  }
 ],
 "metadata": {
  "kernelspec": {
   "display_name": "Python 3",
   "language": "python",
   "name": "python3"
  },
  "language_info": {
   "codemirror_mode": {
    "name": "ipython",
    "version": 2
   },
   "file_extension": ".py",
   "mimetype": "text/x-python",
   "name": "python",
   "nbconvert_exporter": "python",
   "pygments_lexer": "ipython2",
   "version": "2.7.6"
  }
 },
 "nbformat": 4,
 "nbformat_minor": 5
}
