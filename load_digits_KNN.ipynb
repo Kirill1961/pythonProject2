{
 "cells": [
  {
   "cell_type": "code",
   "id": "initial_id",
   "metadata": {
    "collapsed": true
   },
   "source": [
    "from sklearn import linear_model, metrics, datasets\n",
    "import pandas as pd\n",
    "import seaborn as sns\n",
    "import numpy as np\n",
    "import matplotlib.pyplot as plt\n",
    "\n",
    "from sklearn import metrics\n",
    "from sklearn.datasets import load_digits\n",
    "from sklearn.model_selection import train_test_split\n",
    "from sklearn.neighbors import KNeighborsClassifier\n",
    "from sklearn.model_selection import GridSearchCV\n"
   ],
   "outputs": [],
   "execution_count": null
  },
  {
   "metadata": {},
   "cell_type": "code",
   "source": [
    "# TODO достаём dataset, load_digits - изображение 8х8 развёрнутое в вектор (1, 64)\n",
    "\n",
    "data = datasets.load_digits()\n",
    "image = data.images.reshape(data.images.shape[0], -1)\n",
    "\n",
    "# TODO transform в DF\n",
    "df = pd.DataFrame(data=data.data, columns=data.feature_names)\n",
    "df\n",
    "\n",
    "# TODO Целевая\n",
    "data.target = data.target\n",
    "print(data.target.shape)\n",
    "\n",
    "# TODO распаковка изображения из строки в матрицу\n",
    "imgs = image.reshape(image.shape[0], 8, 8)\n",
    "\n",
    "# print(imgs[:1].reshape(8, 8))\n",
    "\n",
    "# plt.imshow(imgs[:1].reshape(8, 8))\n",
    "\n",
    "# TODO коли-во уникальных значений в target\n",
    "np.unique(data.target)"
   ],
   "id": "cbd76be93b5562b9",
   "outputs": [],
   "execution_count": null
  },
  {
   "metadata": {},
   "cell_type": "markdown",
   "source": [
    "**plt в цикле**\n",
    "* `subplots` - должен быть вне цикла, \n",
    "* выводим 3 картинки"
   ],
   "id": "421e8d8f70df72ea"
  },
  {
   "metadata": {
    "ExecuteTime": {
     "end_time": "2025-07-14T07:41:56.400353Z",
     "start_time": "2025-07-14T07:41:55.395986Z"
    }
   },
   "cell_type": "code",
   "source": [
    "# TODO plt в цикле, subplots - должен быть вне цикла, выводим 3 картинки\n",
    "\n",
    "fig, axes = plt.subplots(1, 3, figsize=(5, 5))\n",
    "for n, img in enumerate(imgs[:3]):\n",
    "    print(n)\n",
    "    axes[n].imshow(img, cmap=plt.cm.binary)\n",
    "\n",
    "plt.tight_layout()\n",
    "plt.show()"
   ],
   "id": "6d841618bc8cf0ea",
   "outputs": [
    {
     "name": "stdout",
     "output_type": "stream",
     "text": [
      "0\n",
      "1\n",
      "2\n"
     ]
    },
    {
     "data": {
      "text/plain": [
       "<Figure size 500x500 with 3 Axes>"
      ],
      "image/png": "[encoded data removed]"
     },
     "metadata": {},
     "output_type": "display_data"
    }
   ],
   "execution_count": 43
  }
 ],
 "metadata": {
  "kernelspec": {
   "display_name": "Python 3",
   "language": "python",
   "name": "python3"
  },
  "language_info": {
   "codemirror_mode": {
    "name": "ipython",
    "version": 2
   },
   "file_extension": ".py",
   "mimetype": "text/x-python",
   "name": "python",
   "nbconvert_exporter": "python",
   "pygments_lexer": "ipython2",
   "version": "2.7.6"
  }
 },
 "nbformat": 4,
 "nbformat_minor": 5
}
