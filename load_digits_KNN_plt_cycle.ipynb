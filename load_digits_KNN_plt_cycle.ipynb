{
 "cells": [
  {
   "metadata": {},
   "cell_type": "code",
   "source": [
    "import operator\n",
    "\n",
    "from sklearn import linear_model, metrics, datasets\n",
    "import pandas as pd\n",
    "import seaborn as sns\n",
    "import numpy as np\n",
    "import matplotlib.pyplot as plt\n",
    "from sklearn.metrics import classification_report\n",
    "from sklearn import metrics\n",
    "from sklearn.datasets import load_digits\n",
    "from sklearn.model_selection import train_test_split\n",
    "from sklearn.neighbors import KNeighborsClassifier\n",
    "from sklearn.model_selection import GridSearchCV\n",
    "from sklearn.metrics import confusion_matrix, ConfusionMatrixDisplay\n",
    "from itertools import islice\n",
    "\n",
    "# TODO START"
   ],
   "id": "c4278c2ca948f791",
   "outputs": [],
   "execution_count": null
  },
  {
   "metadata": {},
   "cell_type": "markdown",
   "source": [
    "**load_digits** - dataset изображений рукописных цифр\n",
    "* `Строка/Объект` - изображение `цифр`\n",
    "* `Столбцы` - это `пиксели`\n",
    "* `Значения` в столбцах - `яркость` пикселей\n",
    "* `Картинка` - `2-х мерный` массив чисел `8 х 8`\n",
    "    * каждая `ячейка` массива = `один пиксель`\n",
    "    *  значение в `ячейке` = `яркость` этого `пикселя` (обычно от `0 до 1` или от `0 до 255`)"
   ],
   "id": "c7a4d7f97e460aec"
  },
  {
   "metadata": {
    "ExecuteTime": {
     "end_time": "2025-07-16T20:14:57.505605Z",
     "start_time": "2025-07-16T20:14:57.437648Z"
    }
   },
   "cell_type": "code",
   "source": [
    "# TODO достаём dataset, load_digits - изображение 8х8 развёрнутое в вектор (1, 64)\n",
    "\n",
    "data_digit = load_digits()\n",
    "\n",
    "data = datasets.load_digits()\n",
    "image = data.images.reshape(data.images.shape[0], -1)  # data преобразованная из матрицы в вектор признаков\n",
    "\n",
    "print('Матрица : \\n', data.images[0])\n",
    "print('Вектор : \\n', image[0])\n",
    "\n",
    "# TODO transform в DF\n",
    "df = pd.DataFrame(data=data.data, columns=data.feature_names)\n",
    "\n",
    "print('Содержание load_digits : \\n', data.keys())\n",
    "\n",
    "# TODO Целевая и признаки\n",
    "print(data.target.shape)\n",
    "print(data.data.shape)\n",
    "\n",
    "# TODO распаковка изображения из строки в матрицу\n",
    "imgs = image.reshape(image.shape[0], 8, 8)\n",
    "\n",
    "# print(imgs[:1].reshape(8, 8))\n",
    "\n",
    "# plt.imshow(imgs[:1].reshape(8, 8))\n",
    "\n",
    "# TODO кол-во уникальных значений в target\n",
    "# data['target']\n",
    "print('Уникальные значения target : \\n', np.unique(data.target))\n",
    "\n",
    "print('Максимальное значение яркости пикселя : ', np.max(data.data))\n"
   ],
   "id": "cbd76be93b5562b9",
   "outputs": [
    {
     "name": "stdout",
     "output_type": "stream",
     "text": [
      "Матрица : \n",
      " [[ 0.  0.  5. 13.  9.  1.  0.  0.]\n",
      " [ 0.  0. 13. 15. 10. 15.  5.  0.]\n",
      " [ 0.  3. 15.  2.  0. 11.  8.  0.]\n",
      " [ 0.  4. 12.  0.  0.  8.  8.  0.]\n",
      " [ 0.  5.  8.  0.  0.  9.  8.  0.]\n",
      " [ 0.  4. 11.  0.  1. 12.  7.  0.]\n",
      " [ 0.  2. 14.  5. 10. 12.  0.  0.]\n",
      " [ 0.  0.  6. 13. 10.  0.  0.  0.]]\n",
      "Вектор : \n",
      " [ 0.  0.  5. 13.  9.  1.  0.  0.  0.  0. 13. 15. 10. 15.  5.  0.  0.  3.\n",
      " 15.  2.  0. 11.  8.  0.  0.  4. 12.  0.  0.  8.  8.  0.  0.  5.  8.  0.\n",
      "  0.  9.  8.  0.  0.  4. 11.  0.  1. 12.  7.  0.  0.  2. 14.  5. 10. 12.\n",
      "  0.  0.  0.  0.  6. 13. 10.  0.  0.  0.]\n",
      "Содержание load_digits : \n",
      " dict_keys(['data', 'target', 'frame', 'feature_names', 'target_names', 'images', 'DESCR'])\n",
      "0\n",
      "(1797, 64)\n",
      "Уникальные значения target : \n",
      " [0 1 2 3 4 5 6 7 8 9]\n",
      "Максимальное значение яркости пикселя :  16.0\n"
     ]
    }
   ],
   "execution_count": 126
  },
  {
   "metadata": {},
   "cell_type": "markdown",
   "source": [
    "\n",
    "**plt в цикле**\n",
    "\n",
    "*в imshow подаём матрицу*\n",
    "* `subplots` - должен быть `вне цикла`, \n",
    "* выводим 2 картинки"
   ],
   "id": "421e8d8f70df72ea"
  },
  {
   "metadata": {},
   "cell_type": "code",
   "source": [
    "# TODO plt в цикле, subplots - должен быть вне цикла, выводим 3 картинки\n",
    "\n",
    "fig, axes = plt.subplots(1, 2, figsize=(3, 3))\n",
    "for n, img in enumerate(imgs[:2]):\n",
    "    print(img)\n",
    "    axes[n].imshow(img, cmap=plt.cm.binary)\n",
    "\n",
    "plt.tight_layout()  # Обрезка картинки под размеры графика \n",
    "plt.show()\n",
    "\n",
    "print(imgs[:2].shape)"
   ],
   "id": "6d841618bc8cf0ea",
   "outputs": [],
   "execution_count": null
  },
  {
   "metadata": {},
   "cell_type": "markdown",
   "source": "**Вывод заданного числа картинок** ",
   "id": "117ce8f7f3e5c814"
  },
  {
   "metadata": {},
   "cell_type": "code",
   "source": [
    "# TODO вывод заданного кол-ва объектов\n",
    "\n",
    "m = 15\n",
    "fig, axes = plt.subplots(1, m, figsize=(20, 20))\n",
    "for k, img in enumerate(imgs[:m]):\n",
    "    axes[k].imshow(img, cmap=plt.cm.binary)\n",
    "plt.tight_layout()\n",
    "plt.show()"
   ],
   "id": "4d78c3b2d3d75b1b",
   "outputs": [],
   "execution_count": null
  },
  {
   "metadata": {},
   "cell_type": "markdown",
   "source": "**Вывод из load_digits нескольких изображений заданной цифр**",
   "id": "3e364f0f58757b96"
  },
  {
   "metadata": {},
   "cell_type": "code",
   "source": [
    "# TODO вывод заданных чисел\n",
    "\n",
    "num_image = 100  # Число объектов из которых извлечём изображения чисел\n",
    "ln = 10 # Длина разбиения объектов датасета от 0 до 9\n",
    "idx = 3  # Число которое выводим, по факту Индекс Значения из разбитых на отрезки объектов\n",
    "val = imgs[:num_image]  #  Часть data для отображения\n",
    "subplt = int(len(val) / ln)  # Число выводимых картинок, количество столбцов в subplots\n",
    "fig, axes = plt.subplots(1, subplt, figsize=(10, 10))\n",
    "for n in range(0, len(val), ln):\n",
    "    ax = int(n / ln)\n",
    "    imgs_part = imgs[:num_image][n: n + ln][idx]\n",
    "    axes[ax].imshow(imgs_part, cmap=plt.cm.binary)\n",
    "\n",
    "plt.show()"
   ],
   "id": "b12434dd4a1b7c32",
   "outputs": [],
   "execution_count": null
  },
  {
   "metadata": {},
   "cell_type": "markdown",
   "source": [
    "\n",
    "**fit & predict**\n",
    "* В мо\n",
    "* `X_train` и `X_test` по `0,5` так как `мало` данных\n",
    "* Что бы `оценить` качество берём `по больше` для `X_test`"
   ],
   "id": "58cb44520fc52b1c"
  },
  {
   "metadata": {},
   "cell_type": "code",
   "source": [
    "# TODO разделение + fit + predict\n",
    "\n",
    "# data = datasets.load_digits()\n",
    "\n",
    "X, y = data.data, data.target\n",
    "\n",
    "# X, y = data_digit[\"data\"], data_digit[\"target\"]\n",
    "\n",
    "X_train, X_test, y_train, y_test = train_test_split(X, y, train_size=0.5, random_state=42)\n",
    "# data['target']\n",
    "print(X.shape)\n",
    "print(X_train.shape, X_test.shape)\n",
    "\n",
    "model = KNeighborsClassifier(n_neighbors=5, algorithm='brute', weights='distance')\n",
    "# model = KNeighborsClassifier(algorithm='brute')\n",
    "\n",
    "model.fit(X_train, y_train)\n",
    "\n",
    "# y_pred = model.predict(X[201:202])  # Предсказание объекта 201\n",
    "\n",
    "# print('Предсказание объекта 201 : ', y_pred)\n",
    "\n",
    "y_pred = model.predict(X_test)\n",
    "print(f'Предсказания для  {y_pred.shape[0]} объектов X_test')\n",
    "print('Первые 10 predict : ', y_pred[:10])\n",
    "\n",
    "\n",
    "# TODO predict_proba\n",
    "# y_prob = model.predict_proba(X)\n",
    "# print(y_prob[:10])\n",
    "\n",
    "\n",
    "# dfy = pd.DataFrame(y_pred)\n",
    "\n",
    "\n",
    "# print(dfy.value_counts())"
   ],
   "id": "49482818680afc5a",
   "outputs": [],
   "execution_count": null
  },
  {
   "metadata": {},
   "cell_type": "markdown",
   "source": "**Метрики качества KNN**",
   "id": "98635976684d8ad"
  },
  {
   "metadata": {
    "ExecuteTime": {
     "end_time": "2025-07-16T19:34:13.098491Z",
     "start_time": "2025-07-16T19:34:13.064064Z"
    }
   },
   "cell_type": "code",
   "source": [
    "# TODO Метрики качества KNN, возвращает таблицу\n",
    "\n",
    "target_names = [f'class {i}' for i in list(range(10))]\n",
    "labels = [j for j in range(0, 100, 10)]\n",
    "print(classification_report(y_test, y_pred, target_names=target_names))\n",
    "\n",
    "# TODO возвращает словарь 1\n",
    "report_dict = classification_report(y_test, y_pred, output_dict=True)\n",
    "\n",
    "# TODO выводим срез словаря\n",
    "print(list(islice(report_dict.items(), 3))) # Срез Словаря\n",
    "\n"
   ],
   "id": "af67e99435e35d34",
   "outputs": [
    {
     "name": "stdout",
     "output_type": "stream",
     "text": [
      "              precision    recall  f1-score   support\n",
      "\n",
      "     class 0       0.24      1.00      0.39        82\n",
      "     class 1       0.79      0.17      0.28        89\n",
      "     class 2       0.72      0.70      0.71        83\n",
      "     class 3       0.58      0.78      0.67        93\n",
      "     class 4       0.88      0.48      0.62        93\n",
      "     class 5       0.92      0.24      0.38        99\n",
      "     class 6       0.76      0.19      0.31        98\n",
      "     class 7       0.73      0.83      0.77        87\n",
      "     class 8       0.43      0.64      0.51        83\n",
      "     class 9       0.77      0.11      0.19        92\n",
      "\n",
      "    accuracy                           0.50       899\n",
      "   macro avg       0.68      0.51      0.48       899\n",
      "weighted avg       0.69      0.50      0.48       899\n",
      "\n",
      "[('0', {'precision': 0.24404761904761904, 'recall': 1.0, 'f1-score': 0.3923444976076555, 'support': 82.0}), ('1', {'precision': 0.7894736842105263, 'recall': 0.16853932584269662, 'f1-score': 0.2777777777777778, 'support': 89.0}), ('2', {'precision': 0.7160493827160493, 'recall': 0.6987951807228916, 'f1-score': 0.7073170731707318, 'support': 83.0})]\n"
     ]
    }
   ],
   "execution_count": 94
  },
  {
   "metadata": {},
   "cell_type": "markdown",
   "source": "**Испортим качество для отслеживания метрик**",
   "id": "a917a68f54776922"
  },
  {
   "metadata": {
    "ExecuteTime": {
     "end_time": "2025-07-16T19:34:28.200196Z",
     "start_time": "2025-07-16T19:34:28.103327Z"
    }
   },
   "cell_type": "code",
   "source": [
    "model = KNeighborsClassifier(n_neighbors=500, algorithm='brute')\n",
    "\n",
    "model.fit(X_train, y_train)\n",
    "\n",
    "y_pred = model.predict(X_test)\n",
    "\n",
    "print(classification_report(y_test, y_pred))"
   ],
   "id": "323b3fb6986f1c8b",
   "outputs": [
    {
     "name": "stdout",
     "output_type": "stream",
     "text": [
      "              precision    recall  f1-score   support\n",
      "\n",
      "           0       0.24      1.00      0.39        82\n",
      "           1       0.79      0.17      0.28        89\n",
      "           2       0.72      0.70      0.71        83\n",
      "           3       0.58      0.78      0.67        93\n",
      "           4       0.88      0.48      0.62        93\n",
      "           5       0.92      0.24      0.38        99\n",
      "           6       0.76      0.19      0.31        98\n",
      "           7       0.73      0.83      0.77        87\n",
      "           8       0.43      0.64      0.51        83\n",
      "           9       0.77      0.11      0.19        92\n",
      "\n",
      "    accuracy                           0.50       899\n",
      "   macro avg       0.68      0.51      0.48       899\n",
      "weighted avg       0.69      0.50      0.48       899\n",
      "\n"
     ]
    }
   ],
   "execution_count": 95
  },
  {
   "metadata": {},
   "cell_type": "markdown",
   "source": [
    "\n",
    "**Матрица ошибок - confusion matrix**"
   ],
   "id": "e6b1d1492abc930a"
  },
  {
   "metadata": {
    "ExecuteTime": {
     "end_time": "2025-07-16T19:34:01.389117Z",
     "start_time": "2025-07-16T19:33:59.700408Z"
    }
   },
   "cell_type": "code",
   "source": [
    "# TODO Матрица ошибок - confusion matrix\n",
    "\n",
    "conf_mtx = confusion_matrix(y_test, y_pred)\n",
    "\n",
    "#  TODO Предаём матрицу ошибок для визуализации\n",
    "display = ConfusionMatrixDisplay(confusion_matrix=conf_mtx)\n",
    "\n",
    "print(conf_mtx)\n",
    "\n",
    "# TODO строим с seaborn\n",
    "sns.heatmap(conf_mtx, annot=True)\n",
    "plt.show()\n",
    "# TODO строим с plt\n",
    "\n",
    "fig, ax = plt.subplots()\n",
    "display.plot(ax=ax, xticks_rotation='horizontal', cmap='winter')\n",
    "plt.show()\n"
   ],
   "id": "57de382c44d0591b",
   "outputs": [
    {
     "name": "stdout",
     "output_type": "stream",
     "text": [
      "[[82  0  0  0  0  0  0  0  0  0]\n",
      " [ 3 15 14  6  0  0  3  2 44  2]\n",
      " [ 2  1 58 12  0  0  1  2  7  0]\n",
      " [11  0  0 73  0  0  0  6  3  0]\n",
      " [38  2  0  0 45  0  0  6  2  0]\n",
      " [45  0  7 13  0 24  0  4  6  0]\n",
      " [76  0  0  0  2  0 19  0  1  0]\n",
      " [ 8  0  0  0  1  1  0 72  5  0]\n",
      " [11  1  2 10  0  1  2  2 53  1]\n",
      " [60  0  0 11  3  0  0  5  3 10]]\n"
     ]
    },
    {
     "data": {
      "text/plain": [
       "<Figure size 640x480 with 2 Axes>"
      ],
      "image/png": "[encoded data removed]"
     },
     "metadata": {},
     "output_type": "display_data"
    },
    {
     "data": {
      "text/plain": [
       "<Figure size 640x480 with 2 Axes>"
      ],
      "image/png": "[encoded data removed]"
     },
     "metadata": {},
     "output_type": "display_data"
    }
   ],
   "execution_count": 93
  },
  {
   "metadata": {},
   "cell_type": "markdown",
   "source": "**f1-score и macro avg Считаем Руками**",
   "id": "f6c38c51a84efb34"
  },
  {
   "metadata": {
    "ExecuteTime": {
     "end_time": "2025-07-16T20:58:31.220726Z",
     "start_time": "2025-07-16T20:58:31.200776Z"
    }
   },
   "cell_type": "code",
   "source": [
    "# TODO f1-score и macro avg Считаем Руками\n",
    "from itertools import islice\n",
    "from operator import itemgetter\n",
    "\n",
    "\n",
    "report_dict = classification_report(y_test, y_pred, output_dict=True) # Возвращает словарь\n",
    "\n",
    "\n",
    "\n",
    "# for i in list(report_dict)[:-3]:\n",
    "#     # prsc, rcll = itemgetter('precision','recall')(report_dict[i])\n",
    "#     prsc, rcll = report_dict[i]['precision'], report_dict[i]['recall']\n",
    "# \n",
    "#     print(prsc, rcll)\n",
    "\n",
    "# TODO вытаскиваем ключи  'precision' и 'recall', преобразуем в строку\n",
    "\n",
    "classes = map(str, np.unique(data.target))\n",
    "\n",
    "for i in classes:\n",
    "    prsc, rcll = report_dict[i]['precision'], report_dict[i]['recall']\n",
    "    \n",
    "    print(prsc, rcll)"
   ],
   "id": "a38cd23990fb5cbd",
   "outputs": [
    {
     "name": "stdout",
     "output_type": "stream",
     "text": [
      "0.24404761904761904 1.0\n",
      "0.7894736842105263 0.16853932584269662\n",
      "0.7160493827160493 0.6987951807228916\n",
      "0.584 0.7849462365591398\n",
      "0.8823529411764706 0.4838709677419355\n",
      "0.9230769230769231 0.24242424242424243\n",
      "0.76 0.19387755102040816\n",
      "0.7272727272727273 0.8275862068965517\n",
      "0.4274193548387097 0.6385542168674698\n",
      "0.7692307692307693 0.10869565217391304\n"
     ]
    }
   ],
   "execution_count": 158
  }
 ],
 "metadata": {
  "kernelspec": {
   "display_name": "Python 3",
   "language": "python",
   "name": "python3"
  },
  "language_info": {
   "codemirror_mode": {
    "name": "ipython",
    "version": 2
   },
   "file_extension": ".py",
   "mimetype": "text/x-python",
   "name": "python",
   "nbconvert_exporter": "python",
   "pygments_lexer": "ipython2",
   "version": "2.7.6"
  }
 },
 "nbformat": 4,
 "nbformat_minor": 5
}
