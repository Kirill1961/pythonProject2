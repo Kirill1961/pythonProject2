{
 "cells": [
  {
   "cell_type": "code",
   "id": "initial_id",
   "metadata": {
    "collapsed": true
   },
   "source": [
    "from sklearn import linear_model, metrics, datasets\n",
    "import pandas as pd\n",
    "import seaborn as sns\n",
    "import numpy as np\n",
    "import matplotlib.pyplot as plt\n",
    "\n",
    "from sklearn import metrics\n",
    "from sklearn.datasets import load_digits\n",
    "from sklearn.model_selection import train_test_split\n",
    "from sklearn.neighbors import KNeighborsClassifier\n",
    "from sklearn.model_selection import GridSearchCV\n"
   ],
   "outputs": [],
   "execution_count": null
  },
  {
   "metadata": {},
   "cell_type": "markdown",
   "source": [
    "**load_digits** - dataset изображений рукописных цифр\n",
    "* `Строка/Объект` - изображение `цифр`\n",
    "* `Столбцы` - это `пиксели`\n",
    "* `Значения` в столбцах - `яркость` пикселей\n",
    "* `Картинка` - `2-х мерный` массив чисел `8 х 8`\n",
    "    * каждая `ячейка` массива = `один пиксель`\n",
    "    *  значение в `ячейке` = `яркость` этого `пикселя` (обычно от `0 до 1` или от `0 до 255`)"
   ],
   "id": "c7a4d7f97e460aec"
  },
  {
   "metadata": {
    "ExecuteTime": {
     "end_time": "2025-07-14T20:50:11.617471Z",
     "start_time": "2025-07-14T20:50:11.579548Z"
    }
   },
   "cell_type": "code",
   "source": [
    "# TODO достаём dataset, load_digits - изображение 8х8 развёрнутое в вектор (1, 64)\n",
    "\n",
    "data = datasets.load_digits()\n",
    "image = data.images.reshape(data.images.shape[0], -1)  # data преобразованная из матрицы в вектор признаков\n",
    "\n",
    "print('Матрица : \\n', data.images[0])\n",
    "print('Вектор : \\n', image[0])\n",
    "\n",
    "# TODO transform в DF\n",
    "df = pd.DataFrame(data=data.data, columns=data.feature_names)\n",
    "\n",
    "print('Содержание load_digits : \\n', data.keys())\n",
    "\n",
    "# TODO Целевая и признаки\n",
    "print(data.target.shape)\n",
    "print(data.data.shape)\n",
    "\n",
    "# TODO распаковка изображения из строки в матрицу\n",
    "imgs = image.reshape(image.shape[0], 8, 8)\n",
    "\n",
    "# print(imgs[:1].reshape(8, 8))\n",
    "\n",
    "# plt.imshow(imgs[:1].reshape(8, 8))\n",
    "\n",
    "# TODO кол-во уникальных значений в target\n",
    "# data['target']\n",
    "print('Уникальные значения target : \\n', np.unique(data.target))\n",
    "\n",
    "print('Максимальное значение яркости пикселя : ', np.max(data.data))\n"
   ],
   "id": "cbd76be93b5562b9",
   "outputs": [
    {
     "name": "stdout",
     "output_type": "stream",
     "text": [
      "Матрица : \n",
      " [[ 0.  0.  5. 13.  9.  1.  0.  0.]\n",
      " [ 0.  0. 13. 15. 10. 15.  5.  0.]\n",
      " [ 0.  3. 15.  2.  0. 11.  8.  0.]\n",
      " [ 0.  4. 12.  0.  0.  8.  8.  0.]\n",
      " [ 0.  5.  8.  0.  0.  9.  8.  0.]\n",
      " [ 0.  4. 11.  0.  1. 12.  7.  0.]\n",
      " [ 0.  2. 14.  5. 10. 12.  0.  0.]\n",
      " [ 0.  0.  6. 13. 10.  0.  0.  0.]]\n",
      "Вектор : \n",
      " [ 0.  0.  5. 13.  9.  1.  0.  0.  0.  0. 13. 15. 10. 15.  5.  0.  0.  3.\n",
      " 15.  2.  0. 11.  8.  0.  0.  4. 12.  0.  0.  8.  8.  0.  0.  5.  8.  0.\n",
      "  0.  9.  8.  0.  0.  4. 11.  0.  1. 12.  7.  0.  0.  2. 14.  5. 10. 12.\n",
      "  0.  0.  0.  0.  6. 13. 10.  0.  0.  0.]\n",
      "Содержание load_digits : \n",
      " dict_keys(['data', 'target', 'frame', 'feature_names', 'target_names', 'images', 'DESCR'])\n",
      "(1797,)\n",
      "(1797, 64)\n",
      "Уникальные значения target : \n",
      " [0 1 2 3 4 5 6 7 8 9]\n",
      "Максимальное значение яркости пикселя :  16.0\n"
     ]
    }
   ],
   "execution_count": 260
  },
  {
   "metadata": {},
   "cell_type": "markdown",
   "source": [
    "**plt в цикле**\n",
    "* `subplots` - должен быть `вне цикла`, \n",
    "* выводим 3 картинки"
   ],
   "id": "421e8d8f70df72ea"
  },
  {
   "metadata": {
    "ExecuteTime": {
     "end_time": "2025-07-14T20:27:53.657158Z",
     "start_time": "2025-07-14T20:27:52.965538Z"
    }
   },
   "cell_type": "code",
   "source": [
    "# TODO plt в цикле, subplots - должен быть вне цикла, выводим 3 картинки\n",
    "\n",
    "fig, axes = plt.subplots(1, 2, figsize=(7, 7))\n",
    "for n, img in enumerate(imgs[:2]):\n",
    "    print(img)\n",
    "    axes[n].imshow(img, cmap=plt.cm.binary)\n",
    "\n",
    "plt.tight_layout()\n",
    "plt.show()"
   ],
   "id": "6d841618bc8cf0ea",
   "outputs": [
    {
     "name": "stdout",
     "output_type": "stream",
     "text": [
      "[[ 0.  0.  5. 13.  9.  1.  0.  0.]\n",
      " [ 0.  0. 13. 15. 10. 15.  5.  0.]\n",
      " [ 0.  3. 15.  2.  0. 11.  8.  0.]\n",
      " [ 0.  4. 12.  0.  0.  8.  8.  0.]\n",
      " [ 0.  5.  8.  0.  0.  9.  8.  0.]\n",
      " [ 0.  4. 11.  0.  1. 12.  7.  0.]\n",
      " [ 0.  2. 14.  5. 10. 12.  0.  0.]\n",
      " [ 0.  0.  6. 13. 10.  0.  0.  0.]]\n",
      "[[ 0.  0.  0. 12. 13.  5.  0.  0.]\n",
      " [ 0.  0.  0. 11. 16.  9.  0.  0.]\n",
      " [ 0.  0.  3. 15. 16.  6.  0.  0.]\n",
      " [ 0.  7. 15. 16. 16.  2.  0.  0.]\n",
      " [ 0.  0.  1. 16. 16.  3.  0.  0.]\n",
      " [ 0.  0.  1. 16. 16.  6.  0.  0.]\n",
      " [ 0.  0.  1. 16. 16.  6.  0.  0.]\n",
      " [ 0.  0.  0. 11. 16. 10.  0.  0.]]\n"
     ]
    },
    {
     "data": {
      "text/plain": [
       "<Figure size 700x700 with 2 Axes>"
      ],
      "image/png": "[encoded data removed]"
     },
     "metadata": {},
     "output_type": "display_data"
    }
   ],
   "execution_count": 249
  },
  {
   "metadata": {},
   "cell_type": "markdown",
   "source": "**Вывод заданного числа картинок** ",
   "id": "117ce8f7f3e5c814"
  },
  {
   "metadata": {
    "ExecuteTime": {
     "end_time": "2025-07-14T19:02:22.267059Z",
     "start_time": "2025-07-14T19:02:19.220591Z"
    }
   },
   "cell_type": "code",
   "source": [
    "m = 15\n",
    "fig, axes = plt.subplots(1, m, figsize=(20, 20))\n",
    "for k, img in enumerate(imgs[:m]):\n",
    "    axes[k].imshow(img, cmap=plt.cm.binary)\n",
    "plt.tight_layout()\n",
    "plt.show()"
   ],
   "id": "4d78c3b2d3d75b1b",
   "outputs": [
    {
     "data": {
      "text/plain": [
       "<Figure size 2000x2000 with 15 Axes>"
      ],
      "image/png": "[encoded data removed]"
     },
     "metadata": {},
     "output_type": "display_data"
    }
   ],
   "execution_count": 230
  },
  {
   "metadata": {},
   "cell_type": "markdown",
   "source": "**Вывод из load_digits нескольких изображений заданной цифр**",
   "id": "3e364f0f58757b96"
  },
  {
   "metadata": {
    "ExecuteTime": {
     "end_time": "2025-07-14T18:42:37.929081Z",
     "start_time": "2025-07-14T18:42:35.994015Z"
    }
   },
   "cell_type": "code",
   "source": [
    "num_image = 100  # Число объектов из которых извлечём изображения чисел\n",
    "ln = 10 # Длина разбиения объектов датасета от 0 до 9\n",
    "idx = 3  # Число которое выводим, по факту Индекс Значения из разбитых на отрезки объектов\n",
    "val = imgs[:num_image]  #  Часть data для отображения\n",
    "subplt = int(len(val) / ln)  # Число выводимых картинок, количество столбцов в subplots\n",
    "fig, axes = plt.subplots(1, subplt, figsize=(10, 10))\n",
    "for n in range(0, len(val), ln):\n",
    "    ax = int(n / ln)\n",
    "    imgs_part = imgs[:num_image][n: n + ln][idx]\n",
    "    axes[ax].imshow(imgs_part, cmap=plt.cm.binary)\n",
    "\n",
    "plt.show()"
   ],
   "id": "b12434dd4a1b7c32",
   "outputs": [
    {
     "data": {
      "text/plain": [
       "<Figure size 1000x1000 with 10 Axes>"
      ],
      "image/png": "[encoded data removed]"
     },
     "metadata": {},
     "output_type": "display_data"
    }
   ],
   "execution_count": 223
  },
  {
   "metadata": {},
   "cell_type": "markdown",
   "source": [
    "**fit & predict**\n",
    "* X_train и X_test по 0,5 так как мало данных\n",
    "* Что бы оценить качество берём по больше для X_test"
   ],
   "id": "58cb44520fc52b1c"
  },
  {
   "metadata": {
    "ExecuteTime": {
     "end_time": "2025-07-14T19:23:44.929753Z",
     "start_time": "2025-07-14T19:23:44.921009Z"
    }
   },
   "cell_type": "code",
   "source": [
    "# TODO fit & predict\n",
    "\n",
    "# data = datasets.load_digits()\n",
    "\n",
    "X, y = data.data, data.target\n",
    "\n",
    "X_train, X_test, y_train, y_test = train_test_split(X, y, train_size=0.5, random_state=42)\n",
    "data['target']\n",
    "y_train.shape\n",
    "\n"
   ],
   "id": "49482818680afc5a",
   "outputs": [
    {
     "data": {
      "text/plain": [
       "(898,)"
      ]
     },
     "execution_count": 233,
     "metadata": {},
     "output_type": "execute_result"
    }
   ],
   "execution_count": 233
  }
 ],
 "metadata": {
  "kernelspec": {
   "display_name": "Python 3",
   "language": "python",
   "name": "python3"
  },
  "language_info": {
   "codemirror_mode": {
    "name": "ipython",
    "version": 2
   },
   "file_extension": ".py",
   "mimetype": "text/x-python",
   "name": "python",
   "nbconvert_exporter": "python",
   "pygments_lexer": "ipython2",
   "version": "2.7.6"
  }
 },
 "nbformat": 4,
 "nbformat_minor": 5
}
