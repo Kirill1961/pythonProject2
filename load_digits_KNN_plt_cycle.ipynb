{
 "cells": [
  {
   "metadata": {},
   "cell_type": "code",
   "source": [
    "import operator\n",
    "\n",
    "from sklearn import linear_model, metrics, datasets\n",
    "import pandas as pd\n",
    "import seaborn as sns\n",
    "import numpy as np\n",
    "import matplotlib.pyplot as plt\n",
    "from sklearn.metrics import classification_report\n",
    "from sklearn import metrics\n",
    "from sklearn.datasets import load_digits\n",
    "from sklearn.model_selection import train_test_split\n",
    "from sklearn.neighbors import KNeighborsClassifier\n",
    "from sklearn.model_selection import GridSearchCV\n",
    "from sklearn.metrics import confusion_matrix, ConfusionMatrixDisplay\n",
    "from itertools import islice\n",
    "\n",
    "# TODO START"
   ],
   "id": "c4278c2ca948f791",
   "outputs": [],
   "execution_count": null
  },
  {
   "metadata": {},
   "cell_type": "markdown",
   "source": [
    "**load_digits** - dataset изображений рукописных цифр\n",
    "* `Строка/Объект` - изображение `цифр`\n",
    "* `Столбцы` - это `пиксели`\n",
    "* `Значения` в столбцах - `яркость` пикселей\n",
    "* `Картинка` - `2-х мерный` массив чисел `8 х 8`\n",
    "    * каждая `ячейка` массива = `один пиксель`\n",
    "    *  значение в `ячейке` = `яркость` этого `пикселя` (обычно от `0 до 1` или от `0 до 255`)"
   ],
   "id": "c7a4d7f97e460aec"
  },
  {
   "metadata": {},
   "cell_type": "code",
   "source": [
    "# TODO достаём dataset, load_digits - изображение 8х8 развёрнутое в вектор (1, 64)\n",
    "\n",
    "data_digit = load_digits()\n",
    "\n",
    "data = datasets.load_digits()\n",
    "image = data.images.reshape(data.images.shape[0], -1)  # data преобразованная из матрицы в вектор признаков\n",
    "\n",
    "print('Матрица : \\n', data.images[0])\n",
    "print('Вектор : \\n', image[0])\n",
    "\n",
    "# TODO transform в DF\n",
    "df = pd.DataFrame(data=data.data, columns=data.feature_names)\n",
    "\n",
    "print('Содержание load_digits : \\n', data.keys())\n",
    "\n",
    "# TODO Целевая и признаки\n",
    "print(data.target.shape)\n",
    "print(data.data.shape)\n",
    "\n",
    "# TODO распаковка изображения из строки в матрицу\n",
    "imgs = image.reshape(image.shape[0], 8, 8)\n",
    "\n",
    "# print(imgs[:1].reshape(8, 8))\n",
    "\n",
    "# plt.imshow(imgs[:1].reshape(8, 8))\n",
    "\n",
    "# TODO кол-во уникальных значений в target\n",
    "# data['target']\n",
    "print('Уникальные значения target : \\n', np.unique(data.target))\n",
    "\n",
    "print('Максимальное значение яркости пикселя : ', np.max(data.data))\n"
   ],
   "id": "cbd76be93b5562b9",
   "outputs": [],
   "execution_count": null
  },
  {
   "metadata": {},
   "cell_type": "markdown",
   "source": [
    "\n",
    "**plt в цикле**\n",
    "\n",
    "*в imshow подаём матрицу*\n",
    "* `subplots` - должен быть `вне цикла`, \n",
    "* выводим 2 картинки"
   ],
   "id": "421e8d8f70df72ea"
  },
  {
   "metadata": {},
   "cell_type": "code",
   "source": [
    "# TODO plt в цикле, subplots - должен быть вне цикла, выводим 3 картинки\n",
    "\n",
    "fig, axes = plt.subplots(1, 2, figsize=(3, 3))\n",
    "for n, img in enumerate(imgs[:2]):\n",
    "    print(img)\n",
    "    axes[n].imshow(img, cmap=plt.cm.binary)\n",
    "\n",
    "plt.tight_layout()  # Обрезка картинки под размеры графика \n",
    "plt.show()\n",
    "\n",
    "print(imgs[:2].shape)"
   ],
   "id": "6d841618bc8cf0ea",
   "outputs": [],
   "execution_count": null
  },
  {
   "metadata": {},
   "cell_type": "markdown",
   "source": "**Вывод заданного числа картинок** ",
   "id": "117ce8f7f3e5c814"
  },
  {
   "metadata": {},
   "cell_type": "code",
   "source": [
    "# TODO вывод заданного кол-ва объектов\n",
    "\n",
    "m = 15\n",
    "fig, axes = plt.subplots(1, m, figsize=(20, 20))\n",
    "for k, img in enumerate(imgs[:m]):\n",
    "    axes[k].imshow(img, cmap=plt.cm.binary)\n",
    "plt.tight_layout()\n",
    "plt.show()"
   ],
   "id": "4d78c3b2d3d75b1b",
   "outputs": [],
   "execution_count": null
  },
  {
   "metadata": {},
   "cell_type": "markdown",
   "source": "**Вывод из load_digits нескольких изображений заданной цифр**",
   "id": "3e364f0f58757b96"
  },
  {
   "metadata": {},
   "cell_type": "code",
   "source": [
    "# TODO вывод заданных чисел\n",
    "\n",
    "num_image = 100  # Число объектов из которых извлечём изображения чисел\n",
    "ln = 10 # Длина разбиения объектов датасета от 0 до 9\n",
    "idx = 3  # Число которое выводим, по факту Индекс Значения из разбитых на отрезки объектов\n",
    "val = imgs[:num_image]  #  Часть data для отображения\n",
    "subplt = int(len(val) / ln)  # Число выводимых картинок, количество столбцов в subplots\n",
    "fig, axes = plt.subplots(1, subplt, figsize=(10, 10))\n",
    "for n in range(0, len(val), ln):\n",
    "    ax = int(n / ln)\n",
    "    imgs_part = imgs[:num_image][n: n + ln][idx]\n",
    "    axes[ax].imshow(imgs_part, cmap=plt.cm.binary)\n",
    "\n",
    "plt.show()"
   ],
   "id": "b12434dd4a1b7c32",
   "outputs": [],
   "execution_count": null
  },
  {
   "metadata": {},
   "cell_type": "markdown",
   "source": [
    "\n",
    "**fit & predict**\n",
    "* В мо\n",
    "* `X_train` и `X_test` по `0,5` так как `мало` данных\n",
    "* Что бы `оценить` качество берём `по больше` для `X_test`"
   ],
   "id": "58cb44520fc52b1c"
  },
  {
   "metadata": {
    "ExecuteTime": {
     "end_time": "2025-07-17T19:48:17.224301Z",
     "start_time": "2025-07-17T19:48:17.196585Z"
    }
   },
   "cell_type": "code",
   "source": [
    "# TODO разделение + fit + predict\n",
    "\n",
    "# data = datasets.load_digits()\n",
    "\n",
    "X, y = data.data, data.target\n",
    "\n",
    "# X, y = data_digit[\"data\"], data_digit[\"target\"]\n",
    "\n",
    "X_train, X_test, y_train, y_test = train_test_split(X, y, train_size=0.5, random_state=42)\n",
    "# data['target']\n",
    "print(X.shape)\n",
    "print(X_train.shape, X_test.shape)\n",
    "\n",
    "model = KNeighborsClassifier(n_neighbors=5, algorithm='brute', weights='distance')\n",
    "# model = KNeighborsClassifier(algorithm='brute')\n",
    "\n",
    "model.fit(X_train, y_train)\n",
    "\n",
    "# y_pred = model.predict(X[201:202])  # Предсказание объекта 201\n",
    "\n",
    "# print('Предсказание объекта 201 : ', y_pred)\n",
    "\n",
    "y_pred = model.predict(X_test)\n",
    "print(f'Предсказания для  {y_pred.shape[0]} объектов X_test')\n",
    "print('Первые 10 predict : ', y_pred[:10])\n",
    "\n",
    "\n",
    "# TODO predict_proba\n",
    "# y_prob = model.predict_proba(X)\n",
    "# print(y_prob[:10])\n",
    "\n",
    "\n",
    "# dfy = pd.DataFrame(y_pred)\n",
    "\n",
    "\n",
    "# print(dfy.value_counts())"
   ],
   "id": "49482818680afc5a",
   "outputs": [
    {
     "name": "stdout",
     "output_type": "stream",
     "text": [
      "(1797, 64)\n",
      "(898, 64) (899, 64)\n",
      "Предсказания для  899 объектов X_test\n",
      "Первые 10 predict :  [6 9 3 7 2 1 5 2 5 2]\n"
     ]
    }
   ],
   "execution_count": 20
  },
  {
   "metadata": {},
   "cell_type": "markdown",
   "source": "**Метрики качества KNN**",
   "id": "98635976684d8ad"
  },
  {
   "metadata": {
    "ExecuteTime": {
     "end_time": "2025-07-17T19:48:22.313786Z",
     "start_time": "2025-07-17T19:48:22.276461Z"
    }
   },
   "cell_type": "code",
   "source": [
    "# TODO Метрики качества KNN, возвращает таблицу\n",
    "\n",
    "target_names = [f'class {i}' for i in list(range(10))]\n",
    "labels = [j for j in range(0, 100, 10)]\n",
    "print(classification_report(y_test, y_pred, target_names=target_names))\n",
    "\n",
    "# TODO возвращает словарь 1\n",
    "report_dict = classification_report(y_test, y_pred, output_dict=True)\n",
    "\n",
    "# TODO выводим срез словаря\n",
    "print(list(islice(report_dict.items(), 3))) # Срез Словаря\n",
    "\n"
   ],
   "id": "af67e99435e35d34",
   "outputs": [
    {
     "name": "stdout",
     "output_type": "stream",
     "text": [
      "              precision    recall  f1-score   support\n",
      "\n",
      "     class 0       0.99      1.00      0.99        82\n",
      "     class 1       0.97      1.00      0.98        89\n",
      "     class 2       1.00      1.00      1.00        83\n",
      "     class 3       0.99      0.95      0.97        93\n",
      "     class 4       0.99      1.00      0.99        93\n",
      "     class 5       0.99      0.96      0.97        99\n",
      "     class 6       0.99      0.99      0.99        98\n",
      "     class 7       0.97      1.00      0.98        87\n",
      "     class 8       0.95      0.94      0.95        83\n",
      "     class 9       0.96      0.96      0.96        92\n",
      "\n",
      "    accuracy                           0.98       899\n",
      "   macro avg       0.98      0.98      0.98       899\n",
      "weighted avg       0.98      0.98      0.98       899\n",
      "\n",
      "[('0', {'precision': 0.9879518072289156, 'recall': 1.0, 'f1-score': 0.993939393939394, 'support': 82.0}), ('1', {'precision': 0.967391304347826, 'recall': 1.0, 'f1-score': 0.9834254143646408, 'support': 89.0}), ('2', {'precision': 1.0, 'recall': 1.0, 'f1-score': 1.0, 'support': 83.0})]\n"
     ]
    }
   ],
   "execution_count": 21
  },
  {
   "metadata": {},
   "cell_type": "markdown",
   "source": "**Испортим качество для отслеживания метрик**",
   "id": "a917a68f54776922"
  },
  {
   "metadata": {},
   "cell_type": "code",
   "source": [
    "model = KNeighborsClassifier(n_neighbors=500, algorithm='brute')\n",
    "\n",
    "model.fit(X_train, y_train)\n",
    "\n",
    "y_pred = model.predict(X_test)\n",
    "\n",
    "print(classification_report(y_test, y_pred))"
   ],
   "id": "323b3fb6986f1c8b",
   "outputs": [],
   "execution_count": null
  },
  {
   "metadata": {},
   "cell_type": "markdown",
   "source": [
    "\n",
    "**Матрица ошибок - confusion matrix**"
   ],
   "id": "e6b1d1492abc930a"
  },
  {
   "metadata": {
    "ExecuteTime": {
     "end_time": "2025-07-17T19:48:33.161377Z",
     "start_time": "2025-07-17T19:48:31.666807Z"
    }
   },
   "cell_type": "code",
   "source": [
    "# TODO Матрица ошибок - confusion matrix\n",
    "\n",
    "conf_mtx = confusion_matrix(y_test, y_pred)\n",
    "\n",
    "#  TODO Предаём матрицу ошибок для визуализации\n",
    "display = ConfusionMatrixDisplay(confusion_matrix=conf_mtx)\n",
    "\n",
    "print(conf_mtx)\n",
    "\n",
    "# TODO строим с seaborn\n",
    "sns.heatmap(conf_mtx, annot=True)\n",
    "plt.show()\n",
    "# TODO строим с plt\n",
    "\n",
    "fig, ax = plt.subplots()\n",
    "display.plot(ax=ax, xticks_rotation='horizontal', cmap='winter')\n",
    "plt.show()\n"
   ],
   "id": "57de382c44d0591b",
   "outputs": [
    {
     "name": "stdout",
     "output_type": "stream",
     "text": [
      "[[82  0  0  0  0  0  0  0  0  0]\n",
      " [ 0 89  0  0  0  0  0  0  0  0]\n",
      " [ 0  0 83  0  0  0  0  0  0  0]\n",
      " [ 0  0  0 88  0  0  0  2  3  0]\n",
      " [ 0  0  0  0 93  0  0  0  0  0]\n",
      " [ 0  0  0  0  0 95  1  0  0  3]\n",
      " [ 1  0  0  0  0  0 97  0  0  0]\n",
      " [ 0  0  0  0  0  0  0 87  0  0]\n",
      " [ 0  3  0  0  0  0  0  1 78  1]\n",
      " [ 0  0  0  1  1  1  0  0  1 88]]\n"
     ]
    },
    {
     "data": {
      "text/plain": [
       "<Figure size 640x480 with 2 Axes>"
      ],
      "image/png": "[encoded data removed]"
     },
     "metadata": {},
     "output_type": "display_data"
    },
    {
     "data": {
      "text/plain": [
       "<Figure size 640x480 with 2 Axes>"
      ],
      "image/png": "[encoded data removed]"
     },
     "metadata": {},
     "output_type": "display_data"
    }
   ],
   "execution_count": 22
  },
  {
   "metadata": {},
   "cell_type": "markdown",
   "source": "**f1-score и macro avg Считаем Руками**",
   "id": "f6c38c51a84efb34"
  },
  {
   "metadata": {
    "ExecuteTime": {
     "end_time": "2025-07-17T20:39:11.526733Z",
     "start_time": "2025-07-17T20:39:11.500496Z"
    }
   },
   "cell_type": "code",
   "source": [
    "# TODO  f1-score и macro avg Считаем Руками\n",
    "from itertools import islice\n",
    "from operator import itemgetter\n",
    "\n",
    "\n",
    "report_dict = classification_report(y_test, y_pred, output_dict=True) # Возвращает словарь\n",
    "\n",
    "\n",
    "\n",
    "# for i in list(report_dict)[:-3]:\n",
    "#     # prsc, rcll = itemgetter('precision','recall')(report_dict[i])\n",
    "#     prsc, rcll = report_dict[i]['precision'], report_dict[i]['recall']\n",
    "# \n",
    "#     print(prsc, rcll)\n",
    "\n",
    "# \n",
    "# TODO вытаскиваем ключи  'precision' и 'recall', преобразуем в строку\n",
    "\n",
    "classes = map(str, np.unique(data.target))\n",
    "\n",
    "for i in classes:\n",
    "    prsc, rcll = report_dict[i]['precision'], report_dict[i]['recall']\n",
    "    \n",
    "    print(prsc, rcll)\n",
    "    '''Гармоническое среднее'''\n",
    "    # f_1 = (prsc * rcll) / (prsc + rcll)\n",
    "    # \n",
    "    # print(f_1)"
   ],
   "id": "a38cd23990fb5cbd",
   "outputs": [
    {
     "name": "stdout",
     "output_type": "stream",
     "text": [
      "0.9879518072289156 1.0\n",
      "0.967391304347826 1.0\n",
      "1.0 1.0\n",
      "0.9887640449438202 0.946236559139785\n",
      "0.9893617021276596 1.0\n",
      "0.9895833333333334 0.9595959595959596\n",
      "0.9897959183673469 0.9897959183673469\n",
      "0.9666666666666667 1.0\n",
      "0.9512195121951219 0.9397590361445783\n",
      "0.9565217391304348 0.9565217391304348\n"
     ]
    }
   ],
   "execution_count": 24
  }
 ],
 "metadata": {
  "kernelspec": {
   "display_name": "Python 3",
   "language": "python",
   "name": "python3"
  },
  "language_info": {
   "codemirror_mode": {
    "name": "ipython",
    "version": 2
   },
   "file_extension": ".py",
   "mimetype": "text/x-python",
   "name": "python",
   "nbconvert_exporter": "python",
   "pygments_lexer": "ipython2",
   "version": "2.7.6"
  }
 },
 "nbformat": 4,
 "nbformat_minor": 5
}
