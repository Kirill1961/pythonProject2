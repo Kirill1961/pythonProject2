{
 "cells": [
  {
   "metadata": {
    "ExecuteTime": {
     "end_time": "2025-09-12T12:17:49.550135Z",
     "start_time": "2025-09-12T12:17:49.543332Z"
    }
   },
   "cell_type": "code",
   "source": [
    "import operator\n",
    "\n",
    "from sklearn import linear_model, metrics, datasets\n",
    "import pandas as pd\n",
    "import seaborn as sns\n",
    "import numpy as np\n",
    "import matplotlib.pyplot as plt\n",
    "from sklearn import metrics\n",
    "from sklearn.datasets import load_digits\n",
    "from sklearn.model_selection import train_test_split\n",
    "from sklearn.neighbors import KNeighborsClassifier\n",
    "from sklearn.model_selection import GridSearchCV, cross_val_predict\n",
    "from sklearn.metrics import confusion_matrix, ConfusionMatrixDisplay, classification_report\n",
    "from itertools import islice\n",
    "from sklearn.linear_model import LinearRegression\n",
    "\n",
    "# TODO START"
   ],
   "id": "c4278c2ca948f791",
   "outputs": [
    {
     "name": "stdout",
     "output_type": "stream",
     "text": [
      "ooooooooooo\n"
     ]
    }
   ],
   "execution_count": 19
  },
  {
   "metadata": {},
   "cell_type": "markdown",
   "source": [
    "**load_digits** - dataset изображений рукописных цифр\n",
    "* `Строка/Объект` - изображение `цифр`\n",
    "* `Столбцы` - это `пиксели`\n",
    "* `Значения` в столбцах - `яркость` пикселей\n",
    "* `Картинка` - `2-х мерный` массив чисел `8 х 8`\n",
    "    * каждая `ячейка` массива = `один пиксель`\n",
    "    *  значение в `ячейке` = `яркость` этого `пикселя` (обычно от `0 до 1` или от `0 до 255`)"
   ],
   "id": "c7a4d7f97e460aec"
  },
  {
   "metadata": {
    "ExecuteTime": {
     "end_time": "2025-09-12T12:15:56.921962Z",
     "start_time": "2025-09-12T12:15:56.849014Z"
    }
   },
   "cell_type": "code",
   "source": [
    "# TODO достаём dataset, load_digits - изображение 8х8 развёрнутое в вектор (1, 64)\n",
    "\n",
    "data_digit = load_digits()\n",
    "\n",
    "data = datasets.load_digits()\n",
    "image = data.images.reshape(data.images.shape[0], -1)  # data преобразованная из матрицы в вектор признаков\n",
    "\n",
    "print('Матрица : \\n', data.images[0])\n",
    "print('Вектор : \\n', image[0])\n",
    "\n",
    "# TODO transform в DF\n",
    "df = pd.DataFrame(data=data.data, columns=data.feature_names)\n",
    "\n",
    "print('Содержание load_digits : \\n', data.keys())\n",
    "\n",
    "# TODO Целевая и признаки\n",
    "print(data.target.shape)\n",
    "print(data.data.shape)\n",
    "\n",
    "# TODO распаковка изображения из строки в матрицу\n",
    "imgs = image.reshape(image.shape[0], 8, 8)\n",
    "\n",
    "# print(imgs[:1].reshape(8, 8))\n",
    "\n",
    "# plt.imshow(imgs[:1].reshape(8, 8))\n",
    "\n",
    "# TODO кол-во уникальных значений в target\n",
    "# data['target']\n",
    "print('Уникальные значения target : \\n', np.unique(data.target))\n",
    "\n",
    "print('Максимальное значение яркости пикселя : ', np.max(data.data))\n"
   ],
   "id": "cbd76be93b5562b9",
   "outputs": [
    {
     "name": "stdout",
     "output_type": "stream",
     "text": [
      "Матрица : \n",
      " [[ 0.  0.  5. 13.  9.  1.  0.  0.]\n",
      " [ 0.  0. 13. 15. 10. 15.  5.  0.]\n",
      " [ 0.  3. 15.  2.  0. 11.  8.  0.]\n",
      " [ 0.  4. 12.  0.  0.  8.  8.  0.]\n",
      " [ 0.  5.  8.  0.  0.  9.  8.  0.]\n",
      " [ 0.  4. 11.  0.  1. 12.  7.  0.]\n",
      " [ 0.  2. 14.  5. 10. 12.  0.  0.]\n",
      " [ 0.  0.  6. 13. 10.  0.  0.  0.]]\n",
      "Вектор : \n",
      " [ 0.  0.  5. 13.  9.  1.  0.  0.  0.  0. 13. 15. 10. 15.  5.  0.  0.  3.\n",
      " 15.  2.  0. 11.  8.  0.  0.  4. 12.  0.  0.  8.  8.  0.  0.  5.  8.  0.\n",
      "  0.  9.  8.  0.  0.  4. 11.  0.  1. 12.  7.  0.  0.  2. 14.  5. 10. 12.\n",
      "  0.  0.  0.  0.  6. 13. 10.  0.  0.  0.]\n",
      "Содержание load_digits : \n",
      " dict_keys(['data', 'target', 'frame', 'feature_names', 'target_names', 'images', 'DESCR'])\n",
      "(1797,)\n",
      "(1797, 64)\n",
      "Уникальные значения target : \n",
      " [0 1 2 3 4 5 6 7 8 9]\n",
      "Максимальное значение яркости пикселя :  16.0\n"
     ]
    }
   ],
   "execution_count": 15
  },
  {
   "metadata": {},
   "cell_type": "markdown",
   "source": [
    "\n",
    "**plt в цикле**\n",
    "\n",
    "*в imshow подаём матрицу*\n",
    "* `subplots` - должен быть `вне цикла`, \n",
    "* выводим 2 картинки"
   ],
   "id": "421e8d8f70df72ea"
  },
  {
   "metadata": {
    "ExecuteTime": {
     "end_time": "2025-09-12T12:16:01.869507Z",
     "start_time": "2025-09-12T12:16:01.424201Z"
    }
   },
   "cell_type": "code",
   "source": [
    "# TODO plt в цикле, subplots - должен быть вне цикла, выводим 3 картинки\n",
    "\n",
    "fig, axes = plt.subplots(1, 2, figsize=(3, 3))\n",
    "for n, img in enumerate(imgs[:2]):\n",
    "    print(img)\n",
    "    axes[n].imshow(img, cmap=plt.cm.binary)\n",
    "\n",
    "plt.tight_layout()  # Обрезка картинки под размеры графика \n",
    "plt.show()\n",
    "\n",
    "print(imgs[:2].shape)"
   ],
   "id": "6d841618bc8cf0ea",
   "outputs": [
    {
     "name": "stdout",
     "output_type": "stream",
     "text": [
      "[[ 0.  0.  5. 13.  9.  1.  0.  0.]\n",
      " [ 0.  0. 13. 15. 10. 15.  5.  0.]\n",
      " [ 0.  3. 15.  2.  0. 11.  8.  0.]\n",
      " [ 0.  4. 12.  0.  0.  8.  8.  0.]\n",
      " [ 0.  5.  8.  0.  0.  9.  8.  0.]\n",
      " [ 0.  4. 11.  0.  1. 12.  7.  0.]\n",
      " [ 0.  2. 14.  5. 10. 12.  0.  0.]\n",
      " [ 0.  0.  6. 13. 10.  0.  0.  0.]]\n",
      "[[ 0.  0.  0. 12. 13.  5.  0.  0.]\n",
      " [ 0.  0.  0. 11. 16.  9.  0.  0.]\n",
      " [ 0.  0.  3. 15. 16.  6.  0.  0.]\n",
      " [ 0.  7. 15. 16. 16.  2.  0.  0.]\n",
      " [ 0.  0.  1. 16. 16.  3.  0.  0.]\n",
      " [ 0.  0.  1. 16. 16.  6.  0.  0.]\n",
      " [ 0.  0.  1. 16. 16.  6.  0.  0.]\n",
      " [ 0.  0.  0. 11. 16. 10.  0.  0.]]\n"
     ]
    },
    {
     "data": {
      "text/plain": [
       "<Figure size 300x300 with 2 Axes>"
      ],
      "image/png": "[encoded data removed]"
     },
     "metadata": {},
     "output_type": "display_data"
    },
    {
     "name": "stdout",
     "output_type": "stream",
     "text": [
      "(2, 8, 8)\n"
     ]
    }
   ],
   "execution_count": 16
  },
  {
   "metadata": {},
   "cell_type": "markdown",
   "source": "**Вывод заданного числа картинок** ",
   "id": "117ce8f7f3e5c814"
  },
  {
   "metadata": {
    "ExecuteTime": {
     "end_time": "2025-09-12T12:16:12.983703Z",
     "start_time": "2025-09-12T12:16:10.232092Z"
    }
   },
   "cell_type": "code",
   "source": [
    "# TODO вывод заданного кол-ва объектов\n",
    "\n",
    "m = 15\n",
    "fig, axes = plt.subplots(1, m, figsize=(20, 20))\n",
    "for k, img in enumerate(imgs[:m]):\n",
    "    axes[k].imshow(img, cmap=plt.cm.binary)\n",
    "plt.tight_layout()\n",
    "plt.show()"
   ],
   "id": "4d78c3b2d3d75b1b",
   "outputs": [
    {
     "data": {
      "text/plain": [
       "<Figure size 2000x2000 with 15 Axes>"
      ],
      "image/png": "[encoded data removed]"
     },
     "metadata": {},
     "output_type": "display_data"
    }
   ],
   "execution_count": 17
  },
  {
   "metadata": {},
   "cell_type": "markdown",
   "source": "**Вывод из load_digits нескольких изображений заданной цифр**",
   "id": "3e364f0f58757b96"
  },
  {
   "metadata": {},
   "cell_type": "code",
   "source": [
    "# TODO вывод заданных чисел\n",
    "\n",
    "num_image = 100  # Число объектов из которых извлечём изображения чисел\n",
    "ln = 10 # Длина разбиения объектов датасета от 0 до 9\n",
    "idx = 3  # Число которое выводим, по факту Индекс Значения из разбитых на отрезки объектов\n",
    "val = imgs[:num_image]  #  Часть data для отображения\n",
    "subplt = int(len(val) / ln)  # Число выводимых картинок, количество столбцов в subplots\n",
    "fig, axes = plt.subplots(1, subplt, figsize=(10, 10))\n",
    "for n in range(0, len(val), ln):\n",
    "    ax = int(n / ln)\n",
    "    imgs_part = imgs[:num_image][n: n + ln][idx]\n",
    "    axes[ax].imshow(imgs_part, cmap=plt.cm.binary)\n",
    "\n",
    "plt.show()"
   ],
   "id": "b12434dd4a1b7c32",
   "outputs": [],
   "execution_count": null
  },
  {
   "metadata": {},
   "cell_type": "markdown",
   "source": [
    "\n",
    "**Разделение, fit, predict**\n",
    "* В мо\n",
    "* `X_train` и `X_test` по `0,5` так как `мало` данных\n",
    "* Что бы `оценить` качество берём `по больше` для `X_test`"
   ],
   "id": "58cb44520fc52b1c"
  },
  {
   "metadata": {
    "ExecuteTime": {
     "end_time": "2025-07-19T15:23:54.651025Z",
     "start_time": "2025-07-19T15:23:54.617048Z"
    }
   },
   "cell_type": "code",
   "source": [
    "# TODO разделение + fit + predict\n",
    "\n",
    "# data = datasets.load_digits()\n",
    "\n",
    "X, y = data.data, data.target\n",
    "\n",
    "# X, y = data_digit[\"data\"], data_digit[\"target\"]\n",
    "\n",
    "X_train, X_test, y_train, y_test = train_test_split(X, y, train_size=0.5, random_state=42)\n",
    "# data['target']\n",
    "print(X.shape)\n",
    "print(X_train.shape, X_test.shape)\n",
    "\n",
    "model = KNeighborsClassifier(n_neighbors=5, algorithm='brute', weights='distance')\n",
    "# model = KNeighborsClassifier(algorithm='brute')\n",
    "\n",
    "model.fit(X_train, y_train)\n",
    "\n",
    "# y_pred = model.predict(X[201:202])  # Предсказание объекта 201\n",
    "\n",
    "# print('Предсказание объекта 201 : ', y_pred)\n",
    "\n",
    "y_pred = model.predict(X_test)\n",
    "print(f'Предсказания для  {y_pred.shape[0]} объектов X_test')\n",
    "print('Первые 10 predict : ', y_pred[:10])\n",
    "\n",
    "\n",
    "# TODO predict_proba\n",
    "# y_prob = model.predict_proba(X)\n",
    "# print(y_prob[:10])\n",
    "\n",
    "\n",
    "# dfy = pd.DataFrame(y_pred)\n",
    "\n",
    "\n",
    "print(y_pred.shape)"
   ],
   "id": "49482818680afc5a",
   "outputs": [
    {
     "name": "stdout",
     "output_type": "stream",
     "text": [
      "(1797, 64)\n",
      "(898, 64) (899, 64)\n",
      "Предсказания для  899 объектов X_test\n",
      "Первые 10 predict :  [6 9 3 7 2 1 5 2 5 2]\n",
      "(899,)\n"
     ]
    }
   ],
   "execution_count": 35
  },
  {
   "metadata": {},
   "cell_type": "markdown",
   "source": "**Метрики качества KNN**",
   "id": "98635976684d8ad"
  },
  {
   "metadata": {
    "ExecuteTime": {
     "end_time": "2025-07-19T19:22:58.180365Z",
     "start_time": "2025-07-19T19:22:58.147801Z"
    }
   },
   "cell_type": "code",
   "source": [
    "# TODO Метрики качества KNN, возвращает таблицу\n",
    "\n",
    "target_names = [f'class {i}' for i in list(range(10))]\n",
    "labels = [j for j in range(0, 100, 10)]\n",
    "print(classification_report(y_test, y_pred, target_names=target_names))\n",
    "\n",
    "# TODO возвращает словарь 1\n",
    "report_dict = classification_report(y_test, y_pred, output_dict=True)\n",
    "\n",
    "# TODO выводим срез словаря\n",
    "print(list(islice(report_dict.items(), 3))) # Срез Словаря\n",
    "\n"
   ],
   "id": "af67e99435e35d34",
   "outputs": [
    {
     "name": "stdout",
     "output_type": "stream",
     "text": [
      "              precision    recall  f1-score   support\n",
      "\n",
      "     class 0       0.99      1.00      0.99        82\n",
      "     class 1       0.97      1.00      0.98        89\n",
      "     class 2       1.00      1.00      1.00        83\n",
      "     class 3       0.99      0.95      0.97        93\n",
      "     class 4       0.99      1.00      0.99        93\n",
      "     class 5       0.99      0.96      0.97        99\n",
      "     class 6       0.99      0.99      0.99        98\n",
      "     class 7       0.97      1.00      0.98        87\n",
      "     class 8       0.95      0.94      0.95        83\n",
      "     class 9       0.96      0.96      0.96        92\n",
      "\n",
      "    accuracy                           0.98       899\n",
      "   macro avg       0.98      0.98      0.98       899\n",
      "weighted avg       0.98      0.98      0.98       899\n",
      "\n",
      "[('0', {'precision': 0.9879518072289156, 'recall': 1.0, 'f1-score': 0.993939393939394, 'support': 82.0}), ('1', {'precision': 0.967391304347826, 'recall': 1.0, 'f1-score': 0.9834254143646408, 'support': 89.0}), ('2', {'precision': 1.0, 'recall': 1.0, 'f1-score': 1.0, 'support': 83.0})]\n"
     ]
    }
   ],
   "execution_count": 38
  },
  {
   "metadata": {},
   "cell_type": "markdown",
   "source": "**Испортим качество для отслеживания метрик**",
   "id": "a917a68f54776922"
  },
  {
   "metadata": {},
   "cell_type": "code",
   "source": [
    "model = KNeighborsClassifier(n_neighbors=500, algorithm='brute')\n",
    "\n",
    "model.fit(X_train, y_train)\n",
    "\n",
    "y_pred = model.predict(X_test)\n",
    "\n",
    "print(classification_report(y_test, y_pred))"
   ],
   "id": "323b3fb6986f1c8b",
   "outputs": [],
   "execution_count": null
  },
  {
   "metadata": {},
   "cell_type": "markdown",
   "source": [
    "\n",
    "**Матрица ошибок - confusion matrix**\n",
    "* `normalize='true'` - правильно классифицированные в %"
   ],
   "id": "e6b1d1492abc930a"
  },
  {
   "metadata": {
    "ExecuteTime": {
     "end_time": "2025-07-19T19:23:07.092624Z",
     "start_time": "2025-07-19T19:23:05.716954Z"
    }
   },
   "cell_type": "code",
   "source": [
    "# TODO Матрица ошибок - confusion matrix\n",
    "\n",
    "conf_mtx = np.round(confusion_matrix(y_test, y_pred), 2)\n",
    "\n",
    "#  TODO Предаём матрицу ошибок для визуализации\n",
    "display = ConfusionMatrixDisplay(confusion_matrix=conf_mtx)\n",
    "\n",
    "print(conf_mtx)\n",
    "\n",
    "# TODO строим с seaborn\n",
    "sns.heatmap(conf_mtx, annot=True)\n",
    "plt.show()\n",
    "# TODO строим с plt\n",
    "\n",
    "fig, ax = plt.subplots()\n",
    "display.plot(ax=ax, xticks_rotation='horizontal', cmap='winter')\n",
    "plt.show()\n"
   ],
   "id": "57de382c44d0591b",
   "outputs": [
    {
     "name": "stdout",
     "output_type": "stream",
     "text": [
      "[[82  0  0  0  0  0  0  0  0  0]\n",
      " [ 0 89  0  0  0  0  0  0  0  0]\n",
      " [ 0  0 83  0  0  0  0  0  0  0]\n",
      " [ 0  0  0 88  0  0  0  2  3  0]\n",
      " [ 0  0  0  0 93  0  0  0  0  0]\n",
      " [ 0  0  0  0  0 95  1  0  0  3]\n",
      " [ 1  0  0  0  0  0 97  0  0  0]\n",
      " [ 0  0  0  0  0  0  0 87  0  0]\n",
      " [ 0  3  0  0  0  0  0  1 78  1]\n",
      " [ 0  0  0  1  1  1  0  0  1 88]]\n"
     ]
    },
    {
     "data": {
      "text/plain": [
       "<Figure size 640x480 with 2 Axes>"
      ],
      "image/png": "[encoded data removed]"
     },
     "metadata": {},
     "output_type": "display_data"
    },
    {
     "data": {
      "text/plain": [
       "<Figure size 640x480 with 2 Axes>"
      ],
      "image/png": "[encoded data removed]"
     },
     "metadata": {},
     "output_type": "display_data"
    }
   ],
   "execution_count": 39
  },
  {
   "metadata": {},
   "cell_type": "markdown",
   "source": [
    "\n",
    "**f1-score, macro avg и средневзвешенное weighted avg Считаем Руками**\n",
    "* Взвешенная f1 - мера"
   ],
   "id": "f6c38c51a84efb34"
  },
  {
   "metadata": {
    "ExecuteTime": {
     "end_time": "2025-07-19T19:23:11.654498Z",
     "start_time": "2025-07-19T19:23:11.614775Z"
    }
   },
   "cell_type": "code",
   "source": [
    "# TODO  f1-score и macro avg Считаем Руками\n",
    "from itertools import islice\n",
    "from operator import itemgetter\n",
    "\n",
    "\n",
    "report_dict = classification_report(y_test, y_pred, output_dict=True) # Возвращает словарь\n",
    "\n",
    "print(classification_report(y_test, y_pred, target_names=target_names))\n",
    "\n",
    "# TODO вытаскиваем ключи  'precision' и 'recall', преобразуем в строку\n",
    "\n",
    "classes = map(str, np.unique(data.target)) # Имена Целевых 0, 1 .... 8, 9\n",
    "\n",
    "clas = list(classes) # Сохраняем имена Целевых для macro_avg \n",
    "\n",
    "for cls in classes:\n",
    "    prsc, rcll, f1_score = report_dict[cls]['precision'], report_dict[cls]['recall'],  report_dict[cls]['f1-score']\n",
    "    # print(prsc, rcll)\n",
    "    \n",
    " # TODO   Гармоническое среднее в ручную\n",
    "    f_1 = round(2 * (prsc * rcll) / (prsc + rcll), 2)\n",
    "    # print(f'F1 вручную {cls} : ', f_1, f'. . . F1 из classification_report : {f1_score} : ')\n",
    "     \n",
    "# TODO  macro_avg для f1-score в ручную, это просто среднее\n",
    "macro_avg = np.mean([report_dict[cls]['f1-score'] for cls in clas])\n",
    "print('macro_avg в ручную :', macro_avg)\n",
    "\n",
    "# TODO: средневзвешенное - weighted avg в ручную, f1-score *  support /  support\n",
    "nom = np.sum([report_dict[cls]['f1-score'] * report_dict[cls]['support'] for cls in clas])\n",
    "print('Числитель  :', nom)\n",
    "\n",
    "denom = np.sum([report_dict[cls]['support'] for cls in clas])\n",
    "print('Знаменатель  :', denom)\n",
    "\n",
    "print('weighted_avg :', nom / denom)"
   ],
   "id": "a38cd23990fb5cbd",
   "outputs": [
    {
     "name": "stdout",
     "output_type": "stream",
     "text": [
      "              precision    recall  f1-score   support\n",
      "\n",
      "     class 0       0.99      1.00      0.99        82\n",
      "     class 1       0.97      1.00      0.98        89\n",
      "     class 2       1.00      1.00      1.00        83\n",
      "     class 3       0.99      0.95      0.97        93\n",
      "     class 4       0.99      1.00      0.99        93\n",
      "     class 5       0.99      0.96      0.97        99\n",
      "     class 6       0.99      0.99      0.99        98\n",
      "     class 7       0.97      1.00      0.98        87\n",
      "     class 8       0.95      0.94      0.95        83\n",
      "     class 9       0.96      0.96      0.96        92\n",
      "\n",
      "    accuracy                           0.98       899\n",
      "   macro avg       0.98      0.98      0.98       899\n",
      "weighted avg       0.98      0.98      0.98       899\n",
      "\n",
      "macro_avg в ручную : 0.9788232206523044\n",
      "Числитель  : 879.92432137542\n",
      "Знаменатель  : 899.0\n",
      "weighted_avg : 0.978781225111702\n"
     ]
    }
   ],
   "execution_count": 40
  },
  {
   "metadata": {},
   "cell_type": "markdown",
   "source": [
    "**GridSearchCV**\n",
    "* CV по параметрам KNN \n",
    "    * `n_neighbors`\n",
    "    * `wights` \n",
    "        * uniform - голосование простым большинством\n",
    "        * distance - голосование с учётом расстояний до соседий \n",
    "    * `p` - параметр метрики Минковского, любые числа начиная с 1 "
   ],
   "id": "13f5e61f14fc2094"
  },
  {
   "metadata": {
    "ExecuteTime": {
     "end_time": "2025-07-19T19:23:59.449330Z",
     "start_time": "2025-07-19T19:23:26.175899Z"
    }
   },
   "cell_type": "code",
   "source": [
    "# TODO GridSearchCV\n",
    "\n",
    "param_grid = {\n",
    "    \"n_neighbors\": [1, 2, 5, 10, 25, 100],\n",
    "    \"weights\": [\"uniform\", \"distance\"],\n",
    "    \"p\": [1, 2, 3, 5, 10]\n",
    "}\n",
    "\n",
    "KNN = KNeighborsClassifier(algorithm='brute')\n",
    "\n",
    "grid = GridSearchCV(estimator=KNN, param_grid=param_grid, cv=5)\n",
    "\n",
    "grid.fit(X_train, y_train)\n",
    "\n",
    "y_pred = grid.predict(X_test)\n",
    "\n",
    "grid.best_params_"
   ],
   "id": "f73d663f2d42cfc6",
   "outputs": [
    {
     "data": {
      "text/plain": [
       "{'n_neighbors': 1, 'p': 3, 'weights': 'uniform'}"
      ]
     },
     "execution_count": 41,
     "metadata": {},
     "output_type": "execute_result"
    }
   ],
   "execution_count": 41
  },
  {
   "metadata": {},
   "cell_type": "markdown",
   "source": "**Вывод лучших параметров**",
   "id": "f4b9cb8b3790e9da"
  },
  {
   "metadata": {},
   "cell_type": "code",
   "source": [
    "print(grid.best_params_)\n",
    "print(grid.best_score_)"
   ],
   "id": "c90ca0245f89b91a",
   "outputs": [],
   "execution_count": null
  },
  {
   "metadata": {},
   "cell_type": "markdown",
   "source": "**Модель на параметрах после кроссвалидации**",
   "id": "321f4a4bde223c5b"
  },
  {
   "metadata": {
    "ExecuteTime": {
     "end_time": "2025-07-19T19:32:44.792042Z",
     "start_time": "2025-07-19T19:32:44.043162Z"
    }
   },
   "cell_type": "code",
   "source": [
    "# TODO Модель на параметрах после кроссвалидации\n",
    "\n",
    "model = KNeighborsClassifier(n_neighbors=1, algorithm='brute', weights='uniform', p=3)\n",
    "\n",
    "model.fit(X_train, y_train)\n",
    "\n",
    "y_pred = model.predict(X_test)\n",
    "\n",
    "print(classification_report(y_test, y_pred, target_names=target_names))\n",
    "\n",
    "# TODO возвращает словарь 1\n",
    "report_dict = classification_report(y_test, y_pred, output_dict=True)\n",
    "\n",
    "# TODO выводим срез словаря\n",
    "print(list(islice(report_dict.items(), 3))) # Срез Словаря"
   ],
   "id": "cf7dea5d318753c5",
   "outputs": [
    {
     "name": "stdout",
     "output_type": "stream",
     "text": [
      "              precision    recall  f1-score   support\n",
      "\n",
      "     class 0       0.99      1.00      0.99        82\n",
      "     class 1       0.98      1.00      0.99        89\n",
      "     class 2       1.00      1.00      1.00        83\n",
      "     class 3       0.98      0.97      0.97        93\n",
      "     class 4       0.99      1.00      0.99        93\n",
      "     class 5       1.00      0.97      0.98        99\n",
      "     class 6       0.99      0.99      0.99        98\n",
      "     class 7       0.98      0.99      0.98        87\n",
      "     class 8       0.98      0.98      0.98        83\n",
      "     class 9       0.97      0.96      0.96        92\n",
      "\n",
      "    accuracy                           0.98       899\n",
      "   macro avg       0.98      0.98      0.98       899\n",
      "weighted avg       0.98      0.98      0.98       899\n",
      "\n",
      "[('0', {'precision': 0.9879518072289156, 'recall': 1.0, 'f1-score': 0.993939393939394, 'support': 82.0}), ('1', {'precision': 0.978021978021978, 'recall': 1.0, 'f1-score': 0.9888888888888888, 'support': 89.0}), ('2', {'precision': 1.0, 'recall': 1.0, 'f1-score': 1.0, 'support': 83.0})]\n"
     ]
    }
   ],
   "execution_count": 44
  },
  {
   "metadata": {},
   "cell_type": "markdown",
   "source": "",
   "id": "bba6f3a21633e8d3"
  },
  {
   "metadata": {},
   "cell_type": "markdown",
   "source": [
    "**cross_val_predict**\n",
    "* возвращает `предсказания` модели для `каждого объекта`, сделанные `в процессе кросс-валидации`.\n",
    "* возвращает `массив (или Series/array-like)`, длина которого `равна количеству строк`"
   ],
   "id": "1a867b83a1c2e3d"
  },
  {
   "metadata": {
    "ExecuteTime": {
     "end_time": "2025-09-12T12:11:03.955590Z",
     "start_time": "2025-09-12T12:11:03.923984Z"
    }
   },
   "cell_type": "code",
   "source": [
    "\n",
    "df = pd.DataFrame({\n",
    "    \"x1\": [1, 2, 3, 4, 5],\n",
    "    \"y\": [2, 4, 6, 8, 10]\n",
    "})\n",
    "\n",
    "X = df[[\"x1\"]]\n",
    "y = df[\"y\"]\n",
    "\n",
    "preds = cross_val_predict(LinearRegression(), X, y, cv=5)\n",
    "\n",
    "print(len(preds), \"==\", X.shape[0])  # 5 == 5\n",
    "print(preds)\n"
   ],
   "id": "4821acac7ff2b9d0",
   "outputs": [
    {
     "name": "stdout",
     "output_type": "stream",
     "text": [
      "5 == 5\n",
      "[ 2.  4.  6.  8. 10.]\n"
     ]
    }
   ],
   "execution_count": 10
  }
 ],
 "metadata": {
  "kernelspec": {
   "display_name": "Python 3",
   "language": "python",
   "name": "python3"
  },
  "language_info": {
   "codemirror_mode": {
    "name": "ipython",
    "version": 2
   },
   "file_extension": ".py",
   "mimetype": "text/x-python",
   "name": "python",
   "nbconvert_exporter": "python",
   "pygments_lexer": "ipython2",
   "version": "2.7.6"
  }
 },
 "nbformat": 4,
 "nbformat_minor": 5
}
