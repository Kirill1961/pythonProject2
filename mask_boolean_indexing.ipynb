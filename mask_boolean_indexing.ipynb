{
 "cells": [
  {
   "cell_type": "code",
   "id": "initial_id",
   "metadata": {
    "collapsed": true
   },
   "source": [
    "import numpy as np\n",
    "import pandas as pd\n",
    "df_s = pd.read_csv(\"D:\\Eduson_data\\ds_salaries.csv\", index_col=0)\n",
    "\n",
    "'''\n",
    "Фильтрация по Маске\n",
    "'''"
   ],
   "outputs": [],
   "execution_count": null
  },
  {
   "metadata": {},
   "cell_type": "code",
   "source": [
    "df = pd.DataFrame({\n",
    "    'A': [34, 44, 40, 20, 32, 32, 49, 44, 34, 30, 45, 48, 36, 38, 47, 27, 24, 28, 25, 46],\n",
    "    'B': ['M', 'W', 'W', 'F', 'M', 'F', 'W', 'F', 'W', 'M', 'M', 'S', 'S', 'F', 'F', 'F', 'M', 'M', 'F', 'S']\n",
    "})\n",
    "np.random.seed(0)\n",
    "ar = np.random.randint(1, 11, size=12)\n"
   ],
   "id": "6432a7a48989ac19",
   "outputs": [],
   "execution_count": null
  },
  {
   "metadata": {},
   "cell_type": "code",
   "source": [
    "# TODO ЗАдание масок вручную\n",
    "# вывод каждого второго элемента ar (shape=12)\n",
    "mask1 = [True, False, True, False, True, True, False, True, False, True, True, False]\n",
    "\n",
    "# Вывод 2-х первых и 2-х последних значений\n",
    "mask2 = [True, True, False, False, False, False, False, False, False, False, True, True] \n",
    "\n",
    "print(ar)\n",
    "print(ar[mask1])\n",
    "print(ar[mask2])\n"
   ],
   "id": "7b3aced14be1f19e",
   "outputs": [],
   "execution_count": null
  },
  {
   "metadata": {},
   "cell_type": "markdown",
   "source": [
    "\n",
    " 1. Фильтрация по нескольким условиям\n",
    "    * Только сеньоры с зарплатой выше 100k."
   ],
   "id": "dea33167afd3d779"
  },
  {
   "metadata": {},
   "cell_type": "code",
   "source": [
    "df_s[(df_s['salary_in_usd'] > 100000) & (df_s['experience_level'] == 'SE')]\n",
    "# df_s"
   ],
   "id": "7ee24fda3998a397",
   "outputs": [],
   "execution_count": null
  },
  {
   "metadata": {},
   "cell_type": "markdown",
   "source": [
    " 2. Инверсия маски (NOT)\n",
    "    * ~ это побитовая инверсия, и в контексте булевой маски она работает как \"НЕ\"\n",
    "    *  ~mask превращает:\n",
    "\n",
    "        * True → False\n",
    "\n",
    "        * False → True\n"
   ],
   "id": "4f3754069a2e34bd"
  },
  {
   "metadata": {},
   "cell_type": "code",
   "source": [
    "mask = df_s['experience_level'].isin(['MI', 'SE'])\n",
    "df_s[~mask]  # Все, кто НЕ MI и НЕ SE\n"
   ],
   "id": "1f59d5bc82acd6ab",
   "outputs": [],
   "execution_count": null
  },
  {
   "metadata": {},
   "cell_type": "markdown",
   "source": [
    "3. Создание нового признака по условию\n",
    "    * Новый столбец is_senior: True если грейд SE или TL."
   ],
   "id": "ba7bffa9232cae34"
  },
  {
   "metadata": {},
   "cell_type": "code",
   "source": [
    "df_s['is_senior'] = df_s['experience_level'].isin(['SE', 'TL'])\n",
    "# df_s"
   ],
   "id": "8d1e2eebd8599024",
   "outputs": [],
   "execution_count": null
  },
  {
   "metadata": {},
   "cell_type": "markdown",
   "source": [
    "4. Частичная фильтрация строк по тексту\n",
    "    * Строки, где в job_title встречается 'Data'."
   ],
   "id": "f5414565491603e2"
  },
  {
   "metadata": {},
   "cell_type": "code",
   "source": "df_s[df_s['job_title'].str.contains('Data')]\n",
   "id": "2fd33484ea26870b",
   "outputs": [],
   "execution_count": null
  },
  {
   "metadata": {},
   "cell_type": "markdown",
   "source": [
    " 5. Где есть пропуски (NaN)\n",
    "    * Строки с отсутствующей зарплатой."
   ],
   "id": "80dd8ca519d35a7a"
  },
  {
   "metadata": {},
   "cell_type": "code",
   "source": [
    "mask = df_s['salary_in_usd'].isna()\n",
    "df_s[mask]\n"
   ],
   "id": "c91449569571f821",
   "outputs": [],
   "execution_count": null
  },
  {
   "metadata": {},
   "cell_type": "markdown",
   "source": [
    "6. Маска по количественным условиям после группировки\n",
    "    * Средняя зарплата грейдов, где > 80k."
   ],
   "id": "665a3f814d5a4762"
  },
  {
   "metadata": {},
   "cell_type": "code",
   "source": [
    "grp = df_s.groupby('experience_level')['salary_in_usd'].mean()\n",
    "mask = grp > 80000\n",
    "print(grp[mask])\n"
   ],
   "id": "c37fc02c19e993e0",
   "outputs": [],
   "execution_count": null
  },
  {
   "metadata": {},
   "cell_type": "markdown",
   "source": [
    "7. \n",
    "8. Маска из .rank() или .quantile()\n",
    "    * Это сравнение каждого значения с 90-м процентилем всей колонки salary_in_usd.\n",
    "        * df_s['salary_in_usd'].quantile(0.9) - это значения из признака salary_in_usd соответствующиие 90 процентилю\n",
    "        * df_s['salary_in_usd'] - это все значения  признака salary_in_usd"
   ],
   "id": "deffed54bbcefc61"
  },
  {
   "metadata": {},
   "cell_type": "code",
   "source": [
    "mask = df_s['salary_in_usd'] > df_s['salary_in_usd'].quantile(0.9)\n",
    "df_s[mask]  # Топ-10% по зарплате\n"
   ],
   "id": "6aefec593060f5cf",
   "outputs": [],
   "execution_count": null
  },
  {
   "metadata": {},
   "cell_type": "markdown",
   "source": [
    "8. Маска для сравнения с предыдущей строкой (сдвиг)\n",
    "    * Строки, где зарплата выросла по сравнению с предыдущей.\n",
    "    * Метод shift() сдвигает значения вниз по DataFrame или можно сказать берёт предыдущую строку исходного столбца"
   ],
   "id": "e6c50d469d2fad43"
  },
  {
   "metadata": {},
   "cell_type": "code",
   "source": [
    "df_s['salary_shift'] = df_s['salary_in_usd'].shift()\n",
    "mask = df_s['salary_in_usd'] > df_s['salary_shift']\n",
    "df_s[mask]\n"
   ],
   "id": "527c48cd25d8cdc6",
   "outputs": [],
   "execution_count": null
  },
  {
   "metadata": {},
   "cell_type": "markdown",
   "source": "shift - Пример",
   "id": "30446e5777db3f45"
  },
  {
   "metadata": {
    "ExecuteTime": {
     "end_time": "2025-05-04T10:54:22.051110Z",
     "start_time": "2025-05-04T10:54:22.034948Z"
    }
   },
   "cell_type": "code",
   "source": [
    "df = pd.DataFrame({'salary_in_usd': [1000, 1200, 1100, 1300]})\n",
    "df['salary_shift'] = df['salary_in_usd'].shift()\n",
    "print(df, '\\n')\n",
    "\n",
    "# TODO что бы заменить  NaN на Ноль, используем заполнение fillna\n",
    "df['salary_shift'] = df['salary_in_usd'].shift().fillna(0)\n",
    "print(df, '\\n')\n",
    "\n",
    "# TODO что бы заменить  NaN на последнее значение, используем заполнение iloc[-1])\n",
    "df['salary_shift'] = df['salary_in_usd'].shift().fillna(df['salary_in_usd'].iloc[-1])\n",
    "print(df, '\\n')"
   ],
   "id": "37fc0bbb976ccfb6",
   "outputs": [
    {
     "name": "stdout",
     "output_type": "stream",
     "text": [
      "   salary_in_usd  salary_shift\n",
      "0           1000           NaN\n",
      "1           1200        1000.0\n",
      "2           1100        1200.0\n",
      "3           1300        1100.0 \n",
      "\n",
      "   salary_in_usd  salary_shift\n",
      "0           1000           0.0\n",
      "1           1200        1000.0\n",
      "2           1100        1200.0\n",
      "3           1300        1100.0 \n",
      "\n",
      "   salary_in_usd  salary_shift\n",
      "0           1000        1300.0\n",
      "1           1200        1000.0\n",
      "2           1100        1200.0\n",
      "3           1300        1100.0 \n",
      "\n"
     ]
    }
   ],
   "execution_count": 70
  },
  {
   "metadata": {},
   "cell_type": "markdown",
   "source": [
    "Пример частичной фильтрации по тексту\n",
    "* .str.contains('Data') возвращает булеву маску, где True — строки, содержащие подстроку 'Data'."
   ],
   "id": "43038905d8e6407c"
  },
  {
   "metadata": {},
   "cell_type": "code",
   "source": [
    "import pandas as pd\n",
    "\n",
    "# Пример DataFrame\n",
    "df = pd.DataFrame({\n",
    "    'job_title': ['Data Scientist', 'Data Engineer', 'Software Developer',\n",
    "                  'Senior Data Scientist', 'Data Analyst']\n",
    "})\n",
    "\n",
    "# Фильтрация строк, содержащих 'Data'\n",
    "mask = df['job_title'].str.contains('Data')\n",
    "\n",
    "# Применение маски\n",
    "filtered_df = df[mask]\n",
    "\n",
    "print(filtered_df)\n"
   ],
   "id": "e5c7fb7f122303b6",
   "outputs": [],
   "execution_count": null
  },
  {
   "metadata": {},
   "cell_type": "markdown",
   "source": "Булевая индексация (фильтрации) в pandas",
   "id": "951c7d8b3ee63225"
  },
  {
   "metadata": {},
   "cell_type": "code",
   "source": [
    "\n",
    "\n",
    "# Создаём DataFrame\n",
    "df = pd.DataFrame({\n",
    "    'name': ['Alice', 'Bob', 'Charlie', 'Diana', 'Eve'],\n",
    "    'grade': ['MI', 'SE', 'JN', 'SE', 'TL'],\n",
    "    'salary': [90000, 120000, 75000, 110000, 130000]\n",
    "})\n",
    "\n",
    "# Булевая маска: выбираем грейды только 'MI' и 'SE'\n",
    "mask = df['grade'].isin(['MI', 'SE'])\n",
    "\n",
    "# Применяем маску к df\n",
    "filtered_df = df[mask]\n",
    "\n",
    "print(filtered_df)\n"
   ],
   "id": "f4474836bc3c07d0",
   "outputs": [],
   "execution_count": null
  }
 ],
 "metadata": {
  "kernelspec": {
   "display_name": "Python 3",
   "language": "python",
   "name": "python3"
  },
  "language_info": {
   "codemirror_mode": {
    "name": "ipython",
    "version": 2
   },
   "file_extension": ".py",
   "mimetype": "text/x-python",
   "name": "python",
   "nbconvert_exporter": "python",
   "pygments_lexer": "ipython2",
   "version": "2.7.6"
  }
 },
 "nbformat": 4,
 "nbformat_minor": 5
}
