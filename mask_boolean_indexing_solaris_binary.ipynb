{
 "cells": [
  {
   "cell_type": "code",
   "id": "initial_id",
   "metadata": {
    "collapsed": true,
    "ExecuteTime": {
     "end_time": "2025-07-04T17:52:46.963495Z",
     "start_time": "2025-07-04T17:52:46.806568Z"
    }
   },
   "source": [
    "import numpy as np\n",
    "import pandas as pd\n",
    "import seaborn as sns\n",
    "import matplotlib.pyplot as plt\n",
    "from scipy.interpolate import UnivariateSpline, BSpline, splrep\n",
    "\n",
    "df_s = pd.read_csv(\"D:\\Eduson_data\\ds_salaries.csv\", index_col=0)\n",
    "\n",
    "'''\n",
    "Фильтрация по Маске\n",
    "'''"
   ],
   "outputs": [
    {
     "data": {
      "text/plain": [
       "'\\nФильтрация по Маске\\n'"
      ]
     },
     "execution_count": 154,
     "metadata": {},
     "output_type": "execute_result"
    }
   ],
   "execution_count": 154
  },
  {
   "metadata": {},
   "cell_type": "code",
   "source": [
    "# TODO START\n",
    "\n",
    "df = pd.DataFrame({\n",
    "    'A': [34, 44, 40, 20, 32, 32, 49, 44, 34, 30, 45, 48, 36, 38, 47, 27, 24, 28, 25, 46],\n",
    "    'B': ['M', 'W', 'W', 'F', 'M', 'F', 'W', 'F', 'W', 'M', 'M', 'S', 'S', 'F', 'F', 'F', 'M', 'M', 'F', 'S']\n",
    "})\n",
    "np.random.seed(0)\n",
    "ar = np.random.randint(1, 11, size=12)\n"
   ],
   "id": "6432a7a48989ac19",
   "outputs": [],
   "execution_count": null
  },
  {
   "metadata": {},
   "cell_type": "code",
   "source": [
    "# TODO ЗАдание масок вручную\n",
    "# вывод каждого второго элемента ar (shape=12)\n",
    "mask1 = [True, False, True, False, True, True, False, True, False, True, True, False]\n",
    "\n",
    "# Вывод 2-х первых и 2-х последних значений\n",
    "mask2 = [True, True, False, False, False, False, False, False, False, False, True, True] \n",
    "\n",
    "print(ar)\n",
    "print(ar[mask1])\n",
    "print(ar[mask2])\n"
   ],
   "id": "7b3aced14be1f19e",
   "outputs": [],
   "execution_count": null
  },
  {
   "metadata": {},
   "cell_type": "markdown",
   "source": [
    "\n",
    " 1. Фильтрация по нескольким условиям\n",
    "    * Только сеньоры с зарплатой выше 100k."
   ],
   "id": "dea33167afd3d779"
  },
  {
   "metadata": {},
   "cell_type": "code",
   "source": [
    "df_s[(df_s['salary_in_usd'] > 100000) & (df_s['experience_level'] == 'SE')]\n",
    "# df_s"
   ],
   "id": "7ee24fda3998a397",
   "outputs": [],
   "execution_count": null
  },
  {
   "metadata": {},
   "cell_type": "markdown",
   "source": [
    " 2. Инверсия маски (NOT)\n",
    "    * ~ это побитовая инверсия, и в контексте булевой маски она работает как \"НЕ\"\n",
    "    *  ~mask превращает:\n",
    "\n",
    "        * True → False\n",
    "\n",
    "        * False → True\n"
   ],
   "id": "4f3754069a2e34bd"
  },
  {
   "metadata": {},
   "cell_type": "code",
   "source": [
    "mask = df_s['experience_level'].isin(['MI', 'SE'])\n",
    "df_s[~mask]  # Все, кто НЕ MI и НЕ SE\n"
   ],
   "id": "1f59d5bc82acd6ab",
   "outputs": [],
   "execution_count": null
  },
  {
   "metadata": {},
   "cell_type": "markdown",
   "source": [
    "3. Создание нового признака по условию\n",
    "    * Новый столбец is_senior: True если грейд SE или TL."
   ],
   "id": "ba7bffa9232cae34"
  },
  {
   "metadata": {},
   "cell_type": "code",
   "source": [
    "df_s['is_senior'] = df_s['experience_level'].isin(['SE', 'TL'])\n",
    "# df_s"
   ],
   "id": "8d1e2eebd8599024",
   "outputs": [],
   "execution_count": null
  },
  {
   "metadata": {},
   "cell_type": "markdown",
   "source": [
    "4. Частичная фильтрация строк по тексту\n",
    "    * Строки, где в job_title встречается 'Data'."
   ],
   "id": "f5414565491603e2"
  },
  {
   "metadata": {},
   "cell_type": "code",
   "source": "df_s[df_s['job_title'].str.contains('Data')]\n",
   "id": "2fd33484ea26870b",
   "outputs": [],
   "execution_count": null
  },
  {
   "metadata": {},
   "cell_type": "markdown",
   "source": [
    " 5. Где есть пропуски (NaN)\n",
    "    * Строки с отсутствующей зарплатой."
   ],
   "id": "80dd8ca519d35a7a"
  },
  {
   "metadata": {},
   "cell_type": "code",
   "source": [
    "mask = df_s['salary_in_usd'].isna()\n",
    "df_s[mask]\n"
   ],
   "id": "c91449569571f821",
   "outputs": [],
   "execution_count": null
  },
  {
   "metadata": {},
   "cell_type": "markdown",
   "source": [
    "6. Маска по количественным условиям после группировки\n",
    "    * Средняя зарплата грейдов, где > 80k."
   ],
   "id": "665a3f814d5a4762"
  },
  {
   "metadata": {},
   "cell_type": "code",
   "source": [
    "grp = df_s.groupby('experience_level')['salary_in_usd'].mean()\n",
    "mask = grp > 80000\n",
    "print(grp[mask])\n"
   ],
   "id": "c37fc02c19e993e0",
   "outputs": [],
   "execution_count": null
  },
  {
   "metadata": {},
   "cell_type": "markdown",
   "source": [
    "7. \n",
    "8. Маска из .rank() или .quantile()\n",
    "    * Это сравнение каждого значения с 90-м процентилем всей колонки salary_in_usd.\n",
    "        * df_s['salary_in_usd'].quantile(0.9) - это значения из признака salary_in_usd соответствующиие 90 процентилю\n",
    "        * df_s['salary_in_usd'] - это все значения  признака salary_in_usd"
   ],
   "id": "deffed54bbcefc61"
  },
  {
   "metadata": {},
   "cell_type": "code",
   "source": [
    "mask = df_s['salary_in_usd'] > df_s['salary_in_usd'].quantile(0.9)\n",
    "df_s[mask]  # Топ-10% по зарплате\n"
   ],
   "id": "6aefec593060f5cf",
   "outputs": [],
   "execution_count": null
  },
  {
   "metadata": {},
   "cell_type": "markdown",
   "source": [
    "8. Маска для сравнения с предыдущей строкой (сдвиг)\n",
    "    * Строки, где зарплата выросла по сравнению с предыдущей.\n",
    "    * Метод shift() сдвигает значения вниз по DataFrame или можно сказать берёт предыдущую строку исходного столбца"
   ],
   "id": "e6c50d469d2fad43"
  },
  {
   "metadata": {},
   "cell_type": "code",
   "source": [
    "df_s['salary_shift'] = df_s['salary_in_usd'].shift()\n",
    "mask = df_s['salary_in_usd'] > df_s['salary_shift']\n",
    "df_s[mask]\n"
   ],
   "id": "527c48cd25d8cdc6",
   "outputs": [],
   "execution_count": null
  },
  {
   "metadata": {},
   "cell_type": "markdown",
   "source": "shift - Пример",
   "id": "30446e5777db3f45"
  },
  {
   "metadata": {},
   "cell_type": "code",
   "source": [
    "df = pd.DataFrame({'salary_in_usd': [1000, 1200, 1100, 1300]})\n",
    "df['salary_shift'] = df['salary_in_usd'].shift()\n",
    "print(df, '\\n')\n",
    "\n",
    "# TODO что бы заменить  NaN на Ноль, используем заполнение fillna\n",
    "df['salary_shift'] = df['salary_in_usd'].shift().fillna(0)\n",
    "print(df, '\\n')\n",
    "\n",
    "# TODO что бы заменить  NaN на последнее значение, используем заполнение iloc[-1])\n",
    "df['salary_shift'] = df['salary_in_usd'].shift().fillna(df['salary_in_usd'].iloc[-1])\n",
    "print(df, '\\n')"
   ],
   "id": "37fc0bbb976ccfb6",
   "outputs": [],
   "execution_count": null
  },
  {
   "metadata": {},
   "cell_type": "markdown",
   "source": [
    "Пример частичной фильтрации по тексту\n",
    "* .str.contains('Data') возвращает булеву маску, где True — строки, содержащие подстроку 'Data'."
   ],
   "id": "43038905d8e6407c"
  },
  {
   "metadata": {},
   "cell_type": "code",
   "source": [
    "import pandas as pd\n",
    "\n",
    "# Пример DataFrame\n",
    "df = pd.DataFrame({\n",
    "    'job_title': ['Data Scientist', 'Data Engineer', 'Software Developer',\n",
    "                  'Senior Data Scientist', 'Data Analyst']\n",
    "})\n",
    "\n",
    "# Фильтрация строк, содержащих 'Data'\n",
    "mask = df['job_title'].str.contains('Data')\n",
    "\n",
    "# Применение маски\n",
    "filtered_df = df[mask]\n",
    "\n",
    "print(filtered_df)\n"
   ],
   "id": "e5c7fb7f122303b6",
   "outputs": [],
   "execution_count": null
  },
  {
   "metadata": {},
   "cell_type": "markdown",
   "source": "Булевая индексация (фильтрации) в pandas",
   "id": "951c7d8b3ee63225"
  },
  {
   "metadata": {},
   "cell_type": "code",
   "source": [
    "\n",
    "\n",
    "# Создаём DataFrame\n",
    "df = pd.DataFrame({\n",
    "    'name': ['Alice', 'Bob', 'Charlie', 'Diana', 'Eve'],\n",
    "    'grade': ['MI', 'SE', 'JN', 'SE', 'TL'],\n",
    "    'salary': [90000, 120000, 75000, 110000, 130000]\n",
    "})\n",
    "\n",
    "# Булевая маска: выбираем грейды только 'MI' и 'SE'\n",
    "mask = df['grade'].isin(['MI', 'SE'])\n",
    "\n",
    "# Применяем маску к df\n",
    "filtered_df = df[mask]\n",
    "\n",
    "print(filtered_df)\n"
   ],
   "id": "f4474836bc3c07d0",
   "outputs": [],
   "execution_count": null
  },
  {
   "metadata": {},
   "cell_type": "markdown",
   "source": "**Маска для ручного разделения train и test**",
   "id": "ebb514a2549c1a43"
  },
  {
   "metadata": {
    "ExecuteTime": {
     "end_time": "2025-07-04T18:08:22.129831Z",
     "start_time": "2025-07-04T18:08:21.707341Z"
    }
   },
   "cell_type": "code",
   "source": [
    "# TODO Маска для ручного разделения train и  test\n",
    "\n",
    "__doc__ = '''\n",
    "time, time_data  - ось Х\n",
    "complex_series, series_data - ось Y\n",
    "'''\n",
    "\n",
    "#  TODO Синтезируем X\n",
    "n_points = 100  # Количество данных\n",
    "time = np.linspace(0, 15, n_points)  # это Х\n",
    "\n",
    "#  TODO Создаем ряд с несколькими режимами и структурными сдвигами, подбираем что бы (regim1 + regim2 ).reshape = 100\n",
    "regim1 = 30 + 5 * time[:50] + 0.1 * np.sin(time[:50] * 2) \n",
    "regim2 = regim1[-1] + (0.5 * time[30:80] - time[50]) + 2 * np.sin(time[30:80] * 0.5)\n",
    "complex_series = np.concatenate([regim1, regim2])\n",
    "\n",
    "# TODO добавляем для Y  шумы\n",
    "complex_series += np.random.normal(0, 0.5, n_points)\n",
    "print(complex_series.shape)\n",
    "\n",
    "# TODO Переменные Подгоняю под учебник, time_data и series_data переданы как параметры ф-ции\n",
    "time_data = time  # X\n",
    "series_data = complex_series  # Y\n",
    "\n",
    "# TODO для эмитации cross_validation\n",
    "fold = int(series_data.shape[0] / 5 ) \n",
    "\n",
    "idx1 = fold\n",
    "idx2 = fold * 2\n",
    "\n",
    "# 🪓 TODO Создаём Маску единичный вектор\n",
    "train_mask = np.ones(len(series_data), dtype=bool)\n",
    "\n",
    "# 🪓 TODO задаём диапазон для test выборки\n",
    "train_mask[idx1: idx2] = False\n",
    "\n",
    "# ⭐ TODO отображаем через маску на train/test значения из  time_data/series_data\n",
    "time_train = time_data[train_mask]\n",
    "series_train = series_data[train_mask]\n",
    "time_test = time_data[~train_mask]\n",
    "series_test = series_data[~train_mask]\n",
    "\n",
    "\n",
    "\n",
    "# print(time_train.sum())\n",
    "# print(series_test.shape)\n",
    "# print(series_data.shape)\n",
    "# print(regim1.shape)\n",
    "# print(regim2.shape)\n",
    "\n",
    "\n",
    "series_data.shape\n",
    "\n",
    "\n",
    "plt.plot(time_train, series_train, 'ko', markersize=2 )\n",
    "\n",
    "\n",
    "\n",
    "\n"
   ],
   "id": "1ace14c3beaebc73",
   "outputs": [
    {
     "name": "stdout",
     "output_type": "stream",
     "text": [
      "(100,)\n"
     ]
    },
    {
     "data": {
      "text/plain": [
       "[<matplotlib.lines.Line2D at 0x2a5498b56d0>]"
      ]
     },
     "execution_count": 169,
     "metadata": {},
     "output_type": "execute_result"
    },
    {
     "data": {
      "text/plain": [
       "<Figure size 640x480 with 1 Axes>"
      ],
      "image/png": "[encoded data removed]"
     },
     "metadata": {},
     "output_type": "display_data"
    }
   ],
   "execution_count": 169
  }
 ],
 "metadata": {
  "kernelspec": {
   "display_name": "Python 3",
   "language": "python",
   "name": "python3"
  },
  "language_info": {
   "codemirror_mode": {
    "name": "ipython",
    "version": 2
   },
   "file_extension": ".py",
   "mimetype": "text/x-python",
   "name": "python",
   "nbconvert_exporter": "python",
   "pygments_lexer": "ipython2",
   "version": "2.7.6"
  }
 },
 "nbformat": 4,
 "nbformat_minor": 5
}
