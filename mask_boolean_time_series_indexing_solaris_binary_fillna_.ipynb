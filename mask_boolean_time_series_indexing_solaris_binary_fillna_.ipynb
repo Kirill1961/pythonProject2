{
 "cells": [
  {
   "cell_type": "code",
   "id": "initial_id",
   "metadata": {
    "collapsed": true,
    "ExecuteTime": {
     "end_time": "2025-08-19T08:24:15.004951Z",
     "start_time": "2025-08-19T08:24:14.661093Z"
    }
   },
   "source": [
    "import numpy as np\n",
    "import pandas as pd\n",
    "import seaborn as sns\n",
    "import matplotlib.pyplot as plt\n",
    "from scipy.interpolate import UnivariateSpline, BSpline, splrep\n",
    "from sklearn.model_selection import TimeSeriesSplit\n",
    "\n",
    "df_s = pd.read_csv(\"D:\\Eduson_data\\ds_salaries.csv\", index_col=0)\n",
    "\n",
    "'''\n",
    "Фильтрация по Маске\n",
    "'''"
   ],
   "outputs": [
    {
     "data": {
      "text/plain": [
       "'\\nФильтрация по Маске\\n'"
      ]
     },
     "execution_count": 1,
     "metadata": {},
     "output_type": "execute_result"
    }
   ],
   "execution_count": 1
  },
  {
   "metadata": {},
   "cell_type": "code",
   "source": [
    "# TODO  START\n",
    "\n",
    "df = pd.DataFrame({\n",
    "    'A': [34, 44, 40, 20, 32, 32, 49, 44, 34, 30, 45, 48, 36, 38, 47, 27, 24, 28, 25, 46],\n",
    "    'B': ['M', 'W', 'W', 'F', 'M', 'F', 'W', 'F', 'W', 'M', 'M', 'S', 'S', 'F', 'F', 'F', 'M', 'M', 'F', 'S']\n",
    "})\n",
    "np.random.seed(0)\n",
    "ar = np.random.randint(1, 11, size=12)\n"
   ],
   "id": "6432a7a48989ac19",
   "outputs": [],
   "execution_count": null
  },
  {
   "metadata": {},
   "cell_type": "code",
   "source": [
    "# TODO ЗАдание масок вручную\n",
    "# вывод каждого второго элемента ar (shape=12)\n",
    "mask1 = [True, False, True, False, True, True, False, True, False, True, True, False]\n",
    "\n",
    "# Вывод 2-х первых и 2-х последних значений\n",
    "mask2 = [True, True, False, False, False, False, False, False, False, False, True, True] \n",
    "\n",
    "print(ar)\n",
    "print(ar[mask1])\n",
    "print(ar[mask2])\n"
   ],
   "id": "7b3aced14be1f19e",
   "outputs": [],
   "execution_count": null
  },
  {
   "metadata": {},
   "cell_type": "markdown",
   "source": [
    "\n",
    " 1. Фильтрация по нескольким условиям\n",
    "    * Только сеньоры с зарплатой выше 100k."
   ],
   "id": "dea33167afd3d779"
  },
  {
   "metadata": {},
   "cell_type": "code",
   "source": [
    "df_s[(df_s['salary_in_usd'] > 100000) & (df_s['experience_level'] == 'SE')]\n",
    "# df_s"
   ],
   "id": "7ee24fda3998a397",
   "outputs": [],
   "execution_count": null
  },
  {
   "metadata": {},
   "cell_type": "markdown",
   "source": [
    " 2. Инверсия маски (NOT)\n",
    "    * ~ это побитовая инверсия, и в контексте булевой маски она работает как \"НЕ\"\n",
    "    *  ~mask превращает:\n",
    "\n",
    "        * True → False\n",
    "\n",
    "        * False → True\n"
   ],
   "id": "4f3754069a2e34bd"
  },
  {
   "metadata": {},
   "cell_type": "code",
   "source": [
    "mask = df_s['experience_level'].isin(['MI', 'SE'])\n",
    "df_s[~mask]  # Все, кто НЕ MI и НЕ SE\n"
   ],
   "id": "1f59d5bc82acd6ab",
   "outputs": [],
   "execution_count": null
  },
  {
   "metadata": {},
   "cell_type": "markdown",
   "source": [
    "3. Создание нового признака по условию\n",
    "    * Новый столбец is_senior: True если грейд SE или TL."
   ],
   "id": "ba7bffa9232cae34"
  },
  {
   "metadata": {},
   "cell_type": "code",
   "source": [
    "df_s['is_senior'] = df_s['experience_level'].isin(['SE', 'TL'])\n",
    "# df_s"
   ],
   "id": "8d1e2eebd8599024",
   "outputs": [],
   "execution_count": null
  },
  {
   "metadata": {},
   "cell_type": "markdown",
   "source": [
    "4. Частичная фильтрация строк по тексту\n",
    "    * Строки, где в job_title встречается 'Data'."
   ],
   "id": "f5414565491603e2"
  },
  {
   "metadata": {},
   "cell_type": "code",
   "source": "df_s[df_s['job_title'].str.contains('Data')]\n",
   "id": "2fd33484ea26870b",
   "outputs": [],
   "execution_count": null
  },
  {
   "metadata": {},
   "cell_type": "markdown",
   "source": [
    " 5. Где есть пропуски (NaN)\n",
    "    * Строки с отсутствующей зарплатой."
   ],
   "id": "80dd8ca519d35a7a"
  },
  {
   "metadata": {},
   "cell_type": "code",
   "source": [
    "mask = df_s['salary_in_usd'].isna()\n",
    "df_s[mask]\n"
   ],
   "id": "c91449569571f821",
   "outputs": [],
   "execution_count": null
  },
  {
   "metadata": {},
   "cell_type": "markdown",
   "source": [
    "6. Маска по количественным условиям после группировки\n",
    "    * Средняя зарплата грейдов, где > 80k."
   ],
   "id": "665a3f814d5a4762"
  },
  {
   "metadata": {},
   "cell_type": "code",
   "source": [
    "grp = df_s.groupby('experience_level')['salary_in_usd'].mean()\n",
    "mask = grp > 80000\n",
    "print(grp[mask])\n"
   ],
   "id": "c37fc02c19e993e0",
   "outputs": [],
   "execution_count": null
  },
  {
   "metadata": {},
   "cell_type": "markdown",
   "source": [
    "7. \n",
    "8. Маска из .rank() или .quantile()\n",
    "    * Это сравнение каждого значения с 90-м процентилем всей колонки salary_in_usd.\n",
    "        * df_s['salary_in_usd'].quantile(0.9) - это значения из признака salary_in_usd соответствующиие 90 процентилю\n",
    "        * df_s['salary_in_usd'] - это все значения  признака salary_in_usd"
   ],
   "id": "deffed54bbcefc61"
  },
  {
   "metadata": {},
   "cell_type": "code",
   "source": [
    "mask = df_s['salary_in_usd'] > df_s['salary_in_usd'].quantile(0.9)\n",
    "df_s[mask]  # Топ-10% по зарплате\n"
   ],
   "id": "6aefec593060f5cf",
   "outputs": [],
   "execution_count": null
  },
  {
   "metadata": {},
   "cell_type": "markdown",
   "source": [
    "8. Маска для сравнения с предыдущей строкой (сдвиг)\n",
    "    * Строки, где зарплата выросла по сравнению с предыдущей.\n",
    "    * Метод shift() сдвигает значения вниз по DataFrame или можно сказать берёт предыдущую строку исходного столбца"
   ],
   "id": "e6c50d469d2fad43"
  },
  {
   "metadata": {},
   "cell_type": "code",
   "source": [
    "df_s['salary_shift'] = df_s['salary_in_usd'].shift()\n",
    "mask = df_s['salary_in_usd'] > df_s['salary_shift']\n",
    "df_s[mask]\n"
   ],
   "id": "527c48cd25d8cdc6",
   "outputs": [],
   "execution_count": null
  },
  {
   "metadata": {},
   "cell_type": "markdown",
   "source": [
    "**shift** - замена в массиве строк/столбцов на None, NaN, 0\n",
    "* `df.shift(periods=3)`\n",
    "* `df.shift(periods=1, axis=\"columns\")`\n",
    "* `df.shift(periods=3, fill_value=0)`\n",
    "* `df.shift(periods=3, freq=\"D\")`\n",
    "* `df['Col1'].shift(periods=[0, 1, 2])`"
   ],
   "id": "30446e5777db3f45"
  },
  {
   "metadata": {},
   "cell_type": "code",
   "source": [
    "df = pd.DataFrame({'salary_in_usd': [1000, 1200, 1100, 1300]})\n",
    "df['salary_shift'] = df['salary_in_usd'].shift()\n",
    "print(df, '\\n')\n",
    "\n",
    "# TODO что бы заменить  NaN на Ноль, используем заполнение fillna\n",
    "df['salary_shift'] = df['salary_in_usd'].shift().fillna(0)\n",
    "print(df, '\\n')\n",
    "\n",
    "# TODO что бы заменить  NaN на последнее значение, используем заполнение iloc[-1])\n",
    "df['salary_shift'] = df['salary_in_usd'].shift().fillna(df['salary_in_usd'].iloc[-1])\n",
    "print(df, '\\n')\n",
    "\n",
    "# TODO что бы заменить  NaN на среднее, используем mean())\n",
    "df['salary_shift'] = df['salary_in_usd'].shift().fillna(df['salary_in_usd'].mean())\n",
    "print(df, '\\n')\n"
   ],
   "id": "37fc0bbb976ccfb6",
   "outputs": [],
   "execution_count": null
  },
  {
   "metadata": {},
   "cell_type": "markdown",
   "source": [
    "Пример `частичной` фильтрации по тексту\n",
    "* .str.contains('Data') возвращает булеву маску, где True — строки, содержащие подстроку 'Data'."
   ],
   "id": "43038905d8e6407c"
  },
  {
   "metadata": {},
   "cell_type": "code",
   "source": [
    "import pandas as pd\n",
    "\n",
    "# Пример DataFrame\n",
    "df = pd.DataFrame({\n",
    "    'job_title': ['Data Scientist', 'Data Engineer', 'Software Developer',\n",
    "                  'Senior Data Scientist', 'Data Analyst']\n",
    "})\n",
    "\n",
    "# Фильтрация строк, содержащих 'Data'\n",
    "mask = df['job_title'].str.contains('Data')\n",
    "\n",
    "# Применение маски\n",
    "filtered_df = df[mask]\n",
    "\n",
    "print(filtered_df)\n"
   ],
   "id": "e5c7fb7f122303b6",
   "outputs": [],
   "execution_count": null
  },
  {
   "metadata": {},
   "cell_type": "markdown",
   "source": "Булевая индексация (фильтрации) в pandas",
   "id": "951c7d8b3ee63225"
  },
  {
   "metadata": {},
   "cell_type": "code",
   "source": [
    "\n",
    "\n",
    "# Создаём DataFrame\n",
    "df = pd.DataFrame({\n",
    "    'name': ['Alice', 'Bob', 'Charlie', 'Diana', 'Eve'],\n",
    "    'grade': ['MI', 'SE', 'JN', 'SE', 'TL'],\n",
    "    'salary': [90000, 120000, 75000, 110000, 130000]\n",
    "})\n",
    "\n",
    "# Булевая маска: выбираем грейды только 'MI' и 'SE'\n",
    "mask = df['grade'].isin(['MI', 'SE'])\n",
    "\n",
    "# Применяем маску к df\n",
    "filtered_df = df[mask]\n",
    "\n",
    "print(filtered_df)\n"
   ],
   "id": "f4474836bc3c07d0",
   "outputs": [],
   "execution_count": null
  },
  {
   "metadata": {},
   "cell_type": "markdown",
   "source": "**Маска для ручного разделения train и test**",
   "id": "ebb514a2549c1a43"
  },
  {
   "metadata": {},
   "cell_type": "code",
   "source": [
    "# TODO Маска для ручного разделения train и test\n",
    "\n",
    "__doc__ = '''\n",
    "time, time_data  - ось Х\n",
    "complex_series, series_data - ось Y\n",
    "'''\n",
    "\n",
    "#  TODO Синтезируем X\n",
    "n_points = 100  # Количество данных\n",
    "time = np.linspace(0, 15, n_points)  # это Х\n",
    "\n",
    "#  TODO Создаем ряд с несколькими режимами и структурными сдвигами, подбираем что бы (regim1 + regim2 ).reshape = 100\n",
    "regim1 = 30 + 5 * time[:50] + 0.1 * np.sin(time[:50] * 2) \n",
    "regim2 = regim1[-1] + (0.5 * time[30:80] - time[50]) + 2 * np.sin(time[30:80] * 0.5)\n",
    "complex_series = np.concatenate([regim1, regim2])\n",
    "\n",
    "# TODO добавляем для Y  шумы\n",
    "complex_series += np.random.normal(0, 0.5, n_points)\n",
    "print(complex_series.shape)\n",
    "\n",
    "# TODO Переменные Подгоняю под учебник, time_data и series_data переданы как параметры ф-ции\n",
    "time_data = time  # X\n",
    "series_data = complex_series  # Y\n",
    "\n",
    "# TODO для эмитации cross_validation\n",
    "fold = int(series_data.shape[0] / 5 ) \n",
    "\n",
    "idx1 = fold\n",
    "idx2 = fold * 2\n",
    "\n",
    "# 🪓 TODO Создаём Маску единичный вектор\n",
    "train_mask = np.ones(len(series_data), dtype=bool)\n",
    "\n",
    "# 🪓 TODO задаём диапазон для test выборки\n",
    "train_mask[idx1: idx2] = False\n",
    "\n",
    "# ⭐ TODO отображаем через маску на train/test значения из  time_data/series_data \n",
    "time_train = time_data[train_mask]\n",
    "series_train = series_data[train_mask]\n",
    "time_test = time_data[~train_mask]  # тильда — инверсия маски (обратное)\n",
    "series_test = series_data[~train_mask]\n",
    "\n",
    "\n",
    "\n",
    "# print(time_train.sum())\n",
    "# print(series_test.shape)\n",
    "# print(series_data.shape)\n",
    "# print(regim1.shape)\n",
    "# print(regim2.shape)\n",
    "\n",
    "\n",
    "series_data.shape\n",
    "\n",
    "\n",
    "plt.plot(time_train, series_train, 'ko', markersize=2 )\n",
    "\n",
    "\n",
    "\n",
    "\n"
   ],
   "id": "1ace14c3beaebc73",
   "outputs": [],
   "execution_count": null
  },
  {
   "metadata": {},
   "cell_type": "markdown",
   "source": "**азбиваем на train/test вручную**",
   "id": "c2fa244d54658399"
  },
  {
   "metadata": {},
   "cell_type": "code",
   "source": [
    "# TODO Разбиваем на train/test вручную, блок из Авторского кода time series\n",
    "# 👆 Не корректен так как меняет порядок дат, на 1-й итерации test ставит перед train\n",
    "\n",
    "cv_errors = []\n",
    "n_folds = 5\n",
    "fold_size = len(series_data) // n_folds\n",
    "\n",
    "\n",
    "# for s in [1, 0.1, 0.01]:\n",
    "#     # fold_errors = []\n",
    "for fold in range(n_folds):\n",
    "    __doc__ = '''\n",
    "    Для просмотра работы start_idx:end_idx\n",
    "    False - test\n",
    "    True - train\n",
    "    '''\n",
    "    start_idx = fold * fold_size\n",
    "    \n",
    "    end_idx = (fold + 1) * fold_size if fold < n_folds - 1 else len(series_data)\n",
    "    \n",
    "    # Обучающая и тестовая выборки\n",
    "    train_mask = np.ones(len(series_data), dtype=bool)\n",
    "    train_mask[start_idx:end_idx] = False\n",
    "    \n",
    "    time_train_ = time_data[train_mask]\n",
    "    series_train = series_data[train_mask]\n",
    "    time_test = time_data[~train_mask]\n",
    "    series_test = series_data[~train_mask]\n",
    "    \n",
    "    # print(start_idx)\n",
    "    print(train_mask[:25])"
   ],
   "id": "f7b7f2a7f495d432",
   "outputs": [],
   "execution_count": null
  },
  {
   "metadata": {},
   "cell_type": "markdown",
   "source": "**Разбиваем на train/test автоматически - TimeSeriesSplit**",
   "id": "13582c0b06d86a65"
  },
  {
   "metadata": {
    "ExecuteTime": {
     "end_time": "2025-07-05T10:50:44.838782Z",
     "start_time": "2025-07-05T10:50:43.624339Z"
    }
   },
   "cell_type": "code",
   "source": [
    "# 🟡TODO Разбиваем и Визуализируем train/test автоматически - TimeSeriesSplit \n",
    " \n",
    "\n",
    "__doc__ = '''\n",
    "Для просмотра работы start_idx:end_idx\n",
    "False - test\n",
    "True - train\n",
    "'''\n",
    "\n",
    "#  TODO Синтезируем X\n",
    "n_points = 100  # Количество данных\n",
    "time = np.linspace(0, 15, n_points)  # это Х\n",
    "\n",
    "#  TODO Создаем ряд с несколькими режимами и структурными сдвигами, подбираем что бы (regim1 + regim2 ).reshape = 100\n",
    "regim1 = 30 + 5 * time[:50] + 0.1 * np.sin(time[:50] * 2) \n",
    "regim2 = regim1[-1] + (0.5 * time[30:80] - time[50]) + 2 * np.sin(time[30:80] * 0.5)\n",
    "complex_series = np.concatenate([regim1, regim2])\n",
    "\n",
    "# TODO добавляем для Y  шумы\n",
    "complex_series += np.random.normal(0, 0.5, n_points)\n",
    "print(complex_series.shape)\n",
    "\n",
    "# TODO Переменные Подгоняю под учебник, time_data и series_data переданы как параметры ф-ции\n",
    "time_data = time  # X\n",
    "series_data = complex_series  # Y\n",
    "\n",
    "\n",
    "\n",
    "# Обучающая и тестовая выборки\n",
    "# train_mask = np.ones(len(series_data), dtype=bool)\n",
    "# train_mask[-20:] = False\n",
    "\n",
    "# time_train = time_data[train_mask]\n",
    "# series_train = series_data[train_mask]\n",
    "# time_test = time_data[~train_mask]\n",
    "# series_test = series_data[~train_mask]\n",
    "\n",
    "tscv = TimeSeriesSplit(n_splits=3)\n",
    "\n",
    "for i, (train_index, test_index) in enumerate(tscv.split(series_data), 1):\n",
    "    __doc__ = '''\n",
    "    Из tscv.split(train_mask) Выводим индексы, \n",
    "    значения выводим стандартным индексированием\n",
    "    '''\n",
    "    # train_value = train_mask[train_index]\n",
    "    # test_value = train_mask[test_index]\n",
    "    \n",
    "    train_values = pd.DataFrame(series_data[train_index])\n",
    "    test_values = pd.DataFrame(series_data[test_index])\n",
    "    \n",
    "    print(f'Train idx fold {i} :', train_index)\n",
    "    print(f'Test idx fold {i} :', test_index)\n",
    "    print(f'Train value fold {i} :', train_values)\n",
    "    print(f'Test value fold {i} :', test_values)\n",
    "    \n",
    "    plt.figure(figsize=(6, 3))\n",
    "    plt.plot(train_values.index, train_values.values, label='Train', color='blue')\n",
    "    plt.plot(test_values.index, test_values.values, label='Test', color='orange')\n",
    "    plt.title(f'Фолд {i}')\n",
    "    plt.xlabel('Индекс')\n",
    "    plt.ylabel('Значение')\n",
    "    plt.legend()\n",
    "    plt.tight_layout()\n",
    "    plt.show()\n",
    "    \n",
    "    \n",
    "    # print(type(train_values))\n",
    "    # plt.plot(train_index, train_values)"
   ],
   "id": "344a5785dc3565a3",
   "outputs": [
    {
     "name": "stdout",
     "output_type": "stream",
     "text": [
      "(100,)\n",
      "Train idx fold 1 : [ 0  1  2  3  4  5  6  7  8  9 10 11 12 13 14 15 16 17 18 19 20 21 22 23\n",
      " 24]\n",
      "Test idx fold 1 : [25 26 27 28 29 30 31 32 33 34 35 36 37 38 39 40 41 42 43 44 45 46 47 48\n",
      " 49]\n",
      "Train value fold 1 :             0\n",
      "0   30.184446\n",
      "1   30.308278\n",
      "2   31.758910\n",
      "3   33.474947\n",
      "4   32.450943\n",
      "5   34.267023\n",
      "6   35.024122\n",
      "7   34.515593\n",
      "8   35.665719\n",
      "9   38.042728\n",
      "10  37.937256\n",
      "11  38.086903\n",
      "12  38.117993\n",
      "13  39.605964\n",
      "14  39.849681\n",
      "15  41.478280\n",
      "16  41.802947\n",
      "17  43.414635\n",
      "18  44.098318\n",
      "19  44.046131\n",
      "20  44.855332\n",
      "21  46.067099\n",
      "22  45.911439\n",
      "23  46.824313\n",
      "24  48.260985\n",
      "Test value fold 1 :             0\n",
      "0   48.474209\n",
      "1   49.565202\n",
      "2   50.678441\n",
      "3   51.217821\n",
      "4   51.474649\n",
      "5   53.817753\n",
      "6   53.599989\n",
      "7   54.333356\n",
      "8   55.063762\n",
      "9   55.383521\n",
      "10  56.394860\n",
      "11  56.970676\n",
      "12  58.518958\n",
      "13  58.654678\n",
      "14  60.183183\n",
      "15  59.548066\n",
      "16  61.213579\n",
      "17  62.197471\n",
      "18  61.982181\n",
      "19  63.349318\n",
      "20  64.985770\n",
      "21  65.063197\n",
      "22  64.625770\n",
      "23  66.375839\n",
      "24  67.038836\n"
     ]
    },
    {
     "data": {
      "text/plain": [
       "<Figure size 600x300 with 1 Axes>"
      ],
      "image/png": "[encoded data removed]"
     },
     "metadata": {},
     "output_type": "display_data"
    },
    {
     "name": "stdout",
     "output_type": "stream",
     "text": [
      "Train idx fold 2 : [ 0  1  2  3  4  5  6  7  8  9 10 11 12 13 14 15 16 17 18 19 20 21 22 23\n",
      " 24 25 26 27 28 29 30 31 32 33 34 35 36 37 38 39 40 41 42 43 44 45 46 47\n",
      " 48 49]\n",
      "Test idx fold 2 : [50 51 52 53 54 55 56 57 58 59 60 61 62 63 64 65 66 67 68 69 70 71 72 73\n",
      " 74]\n",
      "Train value fold 2 :             0\n",
      "0   30.184446\n",
      "1   30.308278\n",
      "2   31.758910\n",
      "3   33.474947\n",
      "4   32.450943\n",
      "5   34.267023\n",
      "6   35.024122\n",
      "7   34.515593\n",
      "8   35.665719\n",
      "9   38.042728\n",
      "10  37.937256\n",
      "11  38.086903\n",
      "12  38.117993\n",
      "13  39.605964\n",
      "14  39.849681\n",
      "15  41.478280\n",
      "16  41.802947\n",
      "17  43.414635\n",
      "18  44.098318\n",
      "19  44.046131\n",
      "20  44.855332\n",
      "21  46.067099\n",
      "22  45.911439\n",
      "23  46.824313\n",
      "24  48.260985\n",
      "25  48.474209\n",
      "26  49.565202\n",
      "27  50.678441\n",
      "28  51.217821\n",
      "29  51.474649\n",
      "30  53.817753\n",
      "31  53.599989\n",
      "32  54.333356\n",
      "33  55.063762\n",
      "34  55.383521\n",
      "35  56.394860\n",
      "36  56.970676\n",
      "37  58.518958\n",
      "38  58.654678\n",
      "39  60.183183\n",
      "40  59.548066\n",
      "41  61.213579\n",
      "42  62.197471\n",
      "43  61.982181\n",
      "44  63.349318\n",
      "45  64.985770\n",
      "46  65.063197\n",
      "47  64.625770\n",
      "48  66.375839\n",
      "49  67.038836\n",
      "Test value fold 2 :             0\n",
      "0   63.084247\n",
      "1   63.026275\n",
      "2   63.495268\n",
      "3   64.194152\n",
      "4   63.212857\n",
      "5   63.146758\n",
      "6   63.288722\n",
      "7   63.264936\n",
      "8   63.210201\n",
      "9   62.764345\n",
      "10  62.510378\n",
      "11  62.432385\n",
      "12  63.090371\n",
      "13  63.159903\n",
      "14  62.657317\n",
      "15  62.224015\n",
      "16  62.446268\n",
      "17  62.772367\n",
      "18  63.698109\n",
      "19  62.407782\n",
      "20  62.210156\n",
      "21  61.796360\n",
      "22  61.814804\n",
      "23  61.670337\n",
      "24  61.643108\n"
     ]
    },
    {
     "data": {
      "text/plain": [
       "<Figure size 600x300 with 1 Axes>"
      ],
      "image/png": "[encoded data removed]"
     },
     "metadata": {},
     "output_type": "display_data"
    },
    {
     "name": "stdout",
     "output_type": "stream",
     "text": [
      "Train idx fold 3 : [ 0  1  2  3  4  5  6  7  8  9 10 11 12 13 14 15 16 17 18 19 20 21 22 23\n",
      " 24 25 26 27 28 29 30 31 32 33 34 35 36 37 38 39 40 41 42 43 44 45 46 47\n",
      " 48 49 50 51 52 53 54 55 56 57 58 59 60 61 62 63 64 65 66 67 68 69 70 71\n",
      " 72 73 74]\n",
      "Test idx fold 3 : [75 76 77 78 79 80 81 82 83 84 85 86 87 88 89 90 91 92 93 94 95 96 97 98\n",
      " 99]\n",
      "Train value fold 3 :             0\n",
      "0   30.184446\n",
      "1   30.308278\n",
      "2   31.758910\n",
      "3   33.474947\n",
      "4   32.450943\n",
      "..        ...\n",
      "70  62.210156\n",
      "71  61.796360\n",
      "72  61.814804\n",
      "73  61.670337\n",
      "74  61.643108\n",
      "\n",
      "[75 rows x 1 columns]\n",
      "Test value fold 3 :             0\n",
      "0   62.011562\n",
      "1   62.606514\n",
      "2   61.642689\n",
      "3   61.593270\n",
      "4   62.427161\n",
      "5   62.152674\n",
      "6   62.197453\n",
      "7   62.795749\n",
      "8   62.011184\n",
      "9   62.722298\n",
      "10  62.431384\n",
      "11  61.622571\n",
      "12  62.682401\n",
      "13  62.810545\n",
      "14  63.553146\n",
      "15  63.880644\n",
      "16  63.653793\n",
      "17  63.214983\n",
      "18  63.266231\n",
      "19  64.367296\n",
      "20  63.912971\n",
      "21  64.032394\n",
      "22  65.377015\n",
      "23  65.796934\n",
      "24  64.129419\n"
     ]
    },
    {
     "data": {
      "text/plain": [
       "<Figure size 600x300 with 1 Axes>"
      ],
      "image/png": "[encoded data removed]"
     },
     "metadata": {},
     "output_type": "display_data"
    }
   ],
   "execution_count": 23
  }
 ],
 "metadata": {
  "kernelspec": {
   "display_name": "Python 3",
   "language": "python",
   "name": "python3"
  },
  "language_info": {
   "codemirror_mode": {
    "name": "ipython",
    "version": 2
   },
   "file_extension": ".py",
   "mimetype": "text/x-python",
   "name": "python",
   "nbconvert_exporter": "python",
   "pygments_lexer": "ipython2",
   "version": "2.7.6"
  }
 },
 "nbformat": 4,
 "nbformat_minor": 5
}
