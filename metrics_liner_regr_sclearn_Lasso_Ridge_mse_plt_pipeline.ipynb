{
 "cells": [
  {
   "cell_type": "code",
   "id": "initial_id",
   "metadata": {
    "collapsed": true,
    "ExecuteTime": {
     "end_time": "2025-06-07T09:47:12.653919Z",
     "start_time": "2025-06-07T09:47:12.593961Z"
    }
   },
   "source": [
    "import seaborn as sns\n",
    "from sklearn.model_selection import train_test_split\n",
    "from sklearn.linear_model import LinearRegression\n",
    "from sklearn import linear_model, metrics, datasets # linear_model - модуль в котором LinearRegression\n",
    "import numpy as np\n",
    "from sklearn.preprocessing import StandardScaler\n",
    "from sklearn.metrics import accuracy_score, roc_auc_score, mean_squared_error\n",
    "from sklearn.ensemble import RandomForestClassifier\n",
    "from mlxtend.feature_selection import SequentialFeatureSelector\n",
    "from mlxtend.feature_selection import ExhaustiveFeatureSelector\n",
    "from sklearn.feature_selection import RFE\n",
    "from sklearn.pipeline import make_pipeline\n",
    "import pandas as pd\n",
    "import matplotlib.pyplot as plt"
   ],
   "outputs": [],
   "execution_count": 57
  },
  {
   "metadata": {},
   "cell_type": "markdown",
   "source": [
    "Вытаскиваем нужный dataset из sklearn\n",
    "* as_frame=True - dataset сразу в DF\n",
    "* return_X_y=True - возвращает готовые Признаки и Целевую\n"
   ],
   "id": "2b5a8b0b3da6463c"
  },
  {
   "metadata": {
    "ExecuteTime": {
     "end_time": "2025-06-07T09:47:16.823193Z",
     "start_time": "2025-06-07T09:47:16.754375Z"
    }
   },
   "cell_type": "code",
   "source": "X, Y = datasets.load_diabetes(as_frame=True, return_X_y=True)",
   "id": "a85c47fba99b03d",
   "outputs": [],
   "execution_count": 58
  },
  {
   "metadata": {
    "ExecuteTime": {
     "end_time": "2025-06-07T08:59:30.868537Z",
     "start_time": "2025-06-07T08:59:30.750762Z"
    }
   },
   "cell_type": "code",
   "source": "X_train, X_test, Y_train, Y_test = train_test_split(X, Y)\n",
   "id": "c806ffe57f63c72c",
   "outputs": [],
   "execution_count": 44
  },
  {
   "metadata": {},
   "cell_type": "markdown",
   "source": "Модель Линейной Регрессии",
   "id": "b3d9e33afcd67e02"
  },
  {
   "metadata": {},
   "cell_type": "code",
   "source": "# model_class = linear_model.LinearRegression",
   "id": "dab5ab93c5f34c75",
   "outputs": [],
   "execution_count": null
  },
  {
   "metadata": {
    "ExecuteTime": {
     "end_time": "2025-06-07T05:59:17.252838Z",
     "start_time": "2025-06-07T05:59:17.236055Z"
    }
   },
   "cell_type": "code",
   "source": [
    "\n",
    "X_test.shape\n",
    "X_train.shape"
   ],
   "id": "4e31a4c0b9195a26",
   "outputs": [
    {
     "data": {
      "text/plain": [
       "(331, 10)"
      ]
     },
     "execution_count": 4,
     "metadata": {},
     "output_type": "execute_result"
    }
   ],
   "execution_count": 4
  },
  {
   "metadata": {},
   "cell_type": "markdown",
   "source": [
    "ВЫБИРАЕМ Наиболее Качественную Модель:\n",
    "* Перебором параметра alpha"
   ],
   "id": "4b699ab5148d58f3"
  },
  {
   "metadata": {},
   "cell_type": "markdown",
   "source": [
    "РЕГУЛЯРИЗАЦИЯ\n",
    "* alpha - сила влияния регуляризации\n",
    "* np.inf - плюс бесконечность, применяем для инициализации\n",
    "* best_alpha = None - просто неизвестность"
   ],
   "id": "ee4374cf11b9bbac"
  },
  {
   "metadata": {
    "ExecuteTime": {
     "end_time": "2025-06-07T09:09:07.768004Z",
     "start_time": "2025-06-07T09:09:07.709430Z"
    }
   },
   "cell_type": "code",
   "source": [
    "alphas = [0.001, 0.005, 0.01, 0.05, 0.1, 0.5, 1, 5, 10, 50]\n",
    "\n",
    "# TODO 1 Прогоняем модели Lasso и Ridge c разными alpha и выбираем наименьший MSE и лучший R2\n",
    "\n",
    "model_class_1 = linear_model.Lasso\n",
    "# model_class_1 = linear_model.Ridge\n",
    "\n",
    "def get_result_best_hyperparams(model_class_1, X_train, X_test, Y_train, Y_test):\n",
    "    best_test_mse = np.inf #  инициализация переменной best_test_mse\n",
    "    best_alpha = None # #  инициализация переменной best_alpha\n",
    "\n",
    "    for alpha in alphas:\n",
    "        model_1 = model_class_1(alpha=alpha) # alpha - сила влияния регуляризации\n",
    "        model_1.fit(X_train, Y_train)\n",
    "        test_mse = metrics.mean_squared_error(Y_test, model_1.predict(X_test))\n",
    "# TODO Фильтр Эдисона\n",
    "        if test_mse < best_test_mse:\n",
    "            best_test_mse = test_mse  # # переопределяем best_test_mse для фильтра if , записываем наименьшее число\n",
    "            best_alpha = alpha\n",
    "\n",
    "    model_1 = model_class_1(alpha=best_alpha)\n",
    "    model_1.fit(X_train, Y_train)\n",
    "    Y_train_pred = model_1.predict(X_train)\n",
    "    Y_test_pred = model_1.predict(X_test)\n",
    "    train_mse = metrics.mean_squared_error(Y_train, Y_train_pred)\n",
    "    test_mse = metrics.mean_squared_error(Y_test, Y_test_pred)\n",
    "    train_r2 = metrics.r2_score(Y_train, Y_train_pred)\n",
    "    test_r2 = metrics.r2_score(Y_test, Y_test_pred)\n",
    "    print(f\"Train MSE: {train_mse:.3}\")\n",
    "    print(f\"Test MSE: {test_mse:.3}\")\n",
    "    print(f\"Train R2: {train_r2:.3}\")\n",
    "    print(f\"Test R2: {test_r2:.3}\")\n",
    "    return model_1, Y_train_pred, Y_test_pred, train_mse, test_mse, train_r2, test_r2\n",
    "    # return model, train_mse, test_mse, train_r2, test_r2\n",
    "# get_result_best_hyperparams(model_class_1, X_train, X_test, Y_train, Y_test)"
   ],
   "id": "59fa0cf40681d3e",
   "outputs": [],
   "execution_count": 45
  },
  {
   "metadata": {},
   "cell_type": "markdown",
   "source": "Мой Фильтр",
   "id": "786f6b5c8cba6b93"
  },
  {
   "metadata": {
    "ExecuteTime": {
     "end_time": "2025-06-07T09:09:14.157666Z",
     "start_time": "2025-06-07T09:09:14.065575Z"
    }
   },
   "cell_type": "code",
   "source": [
    "alphas = [0.001, 0.005, 0.01, 0.05, 0.1, 0.5, 1, 5, 10, 50]\n",
    "\n",
    "# TODO 2 Прогоняем модели Lasso и Ridge c разными alpha и выбираем наименьший MSE и лучший R2\n",
    "# model_class = linear_model.Lasso\n",
    "model_class = linear_model.Ridge\n",
    "\n",
    "def get_result_best_hyperparams_(model_class, X_train, X_test, Y_train, Y_test):\n",
    "    best = {}\n",
    "    for n, alpha in enumerate(alphas):\n",
    "        model = model_class(alpha=alpha) # alpha - сила влияния регуляризации\n",
    "        model.fit(X_train, Y_train)\n",
    "        test_mse = metrics.mean_squared_error(Y_test, model.predict(X_test))\n",
    "# TODO Мой фильтр\n",
    "        best[n] = test_mse\n",
    "        # best.update({n: test_mse})\n",
    "        idx = min(best, key=best.get)\n",
    "        best_alpha = alphas[idx]\n",
    "    model = model_class(alpha=best_alpha)\n",
    "    model.fit(X_train, Y_train)\n",
    "    Y_train_pred = model.predict(X_train)\n",
    "    Y_test_pred = model.predict(X_test)\n",
    "    train_mse = metrics.mean_squared_error(Y_train, Y_train_pred)\n",
    "    test_mse = metrics.mean_squared_error(Y_test, Y_test_pred)\n",
    "    train_r2 = metrics.r2_score(Y_train, Y_train_pred)\n",
    "    test_r2 = metrics.r2_score(Y_test, Y_test_pred)\n",
    "    print(f\"Train MSE: {train_mse:.3}\")\n",
    "    print(f\"Test MSE: {test_mse:.3}\")\n",
    "    print(f\"Train R2: {train_r2:.3}\")\n",
    "    print(f\"Test R2: {test_r2:.3}\")\n",
    "    # return model, Y_train_pred, Y_test_pred, train_mse, test_mse, train_r2, test_r2\n",
    "    # return model, train_mse, test_mse, train_r2, test_r2\n",
    "    return idx, best\n",
    "get_result_best_hyperparams(model_class, X_train, X_test, Y_train, Y_test)"
   ],
   "id": "f5a367fd2e415f6c",
   "outputs": [
    {
     "name": "stdout",
     "output_type": "stream",
     "text": [
      "Train MSE: 2.82e+03\n",
      "Test MSE: 3.06e+03\n",
      "Train R2: 0.502\n",
      "Test R2: 0.537\n"
     ]
    },
    {
     "data": {
      "text/plain": [
       "(Ridge(alpha=0.005),\n",
       " array([161.8695765 ,  64.29973902, 143.44183588, 197.89117374,\n",
       "        175.68877561, 117.79547579, 151.89200867,  75.79673513,\n",
       "        230.63387795, 258.82292079, 164.8148594 , 158.46287499,\n",
       "        141.24630664, 168.26121103, 107.58335711, 149.82252815,\n",
       "         86.2797094 , 122.60999995, 126.80395729,  90.2505742 ,\n",
       "        229.84563667, 217.14452793, 169.92957048,  94.84943819,\n",
       "        205.76558309, 120.40203547, 106.30949628,  93.83428317,\n",
       "        184.63249165,  76.74769739, 186.49888366, 180.09575298,\n",
       "        116.53401552, 197.94044167, 169.47493473, 125.16559654,\n",
       "        233.46003342, 191.72088609, 104.57380026, 131.5561681 ,\n",
       "         98.31764561, 192.18290645, 204.03616548,  54.3987349 ,\n",
       "        135.2701726 , 255.58209016, 139.73309136, 134.06898585,\n",
       "        188.8536921 , 104.873179  , 148.91437371, 202.1228977 ,\n",
       "         79.27583818,  67.18218033,  94.6183049 , 154.78802141,\n",
       "        147.58609568, 169.14910388, 257.24605499, 104.75398371,\n",
       "        109.33178116, 149.36820659,  65.43962638,  53.02944216,\n",
       "        121.50192006, 135.31127874, 105.14983692, 190.8419189 ,\n",
       "        149.96592247,  99.18117519, 114.74758078, 156.41715755,\n",
       "         50.44905019, 107.5003335 , 146.5377234 , 167.47963835,\n",
       "        149.22060766, 107.79329182, 156.67979334, 137.00174327,\n",
       "        169.65514189,  93.85119812, 208.51119924,  93.06098657,\n",
       "        131.45980838, 141.89949014, 114.1135625 , 113.86187709,\n",
       "        159.51534579, 121.017468  , 166.19132641,  87.5454638 ,\n",
       "        142.85905617, 203.28809476, 190.1572752 , 132.96063147,\n",
       "        217.13463866, 167.12795033, 113.61907276, 260.37017365,\n",
       "        177.58711496,  73.0615411 ,  79.69575269, 240.54349325,\n",
       "        139.42983481, 203.40557139, 139.75937697, 117.97256873,\n",
       "        171.69946482,  60.22516801,  90.40826364, 137.87392848,\n",
       "        150.55379151, 166.2823833 , 226.49161073, 224.75541317,\n",
       "        226.48799139,  78.91366162, 134.24531975, 116.08716636,\n",
       "        180.74013243, 151.3675794 , 161.14563718, 254.60657956,\n",
       "        157.68311218, 141.75427265, 117.22091938, 230.92830029,\n",
       "         50.00193201, 119.46869509, 217.55419113, 173.1231511 ,\n",
       "        214.26385561, 121.82667393, 207.91309898, 223.42693067,\n",
       "         72.32007678, 124.81551373, 147.95153642, 210.59100171,\n",
       "        147.30630783,  98.13660989,  88.32490485,  52.5039926 ,\n",
       "        208.17136285, 111.19577189, 273.06529865, 179.46717549,\n",
       "        187.62356395, 191.77224552, 175.34422029, 122.33060602,\n",
       "        124.32640044, 116.10151989, 172.94815594, 167.03191681,\n",
       "        125.86962346,  85.1488301 , 149.28840912,  91.38227308,\n",
       "        188.58483526, 127.64540201,  92.5443156 ,  72.73624843,\n",
       "        171.91045107, 216.85658891, 179.19659406, 244.97311983,\n",
       "         64.08848677, 171.51942472, 101.08237154, 197.45224259,\n",
       "        120.77087095, 154.9258772 , 182.75038877, 178.70986558,\n",
       "        152.13199658, 244.07587597, 188.47731554, 169.10115268,\n",
       "        237.32971669,  84.79650582, 226.70131942, 122.19685622,\n",
       "        125.6068951 , 113.45461862, 157.12529686,  82.51208123,\n",
       "        161.7236647 ,  49.99818852, 217.48490118, 195.52771352,\n",
       "         75.87269419, 206.63880735, 209.57316792,  96.09060943,\n",
       "        137.37593291, 182.79994118,  74.59813649,  83.71398079,\n",
       "        193.88707899,  52.46273926,  99.71725711,  78.8597999 ,\n",
       "         90.5289332 , 189.17575223, 192.52999649, 101.72296943,\n",
       "        154.10440411, 145.86460277, 165.49379153, 104.27723607,\n",
       "        123.07661588, 214.40434227, 184.74648528, 108.95612538,\n",
       "         75.37139202,  80.52695005,  62.89347049,  97.91783214,\n",
       "        228.8637251 , 152.31825874, 197.44867667, 287.33746186,\n",
       "        184.12794565, 116.78332109, 164.19692814, 167.1277913 ,\n",
       "        248.67653321, 146.18289428, 119.47971774,  40.41600832,\n",
       "        147.4307346 , 201.75397559, 227.65398217, 160.73506384,\n",
       "        185.8634166 , 125.09060707, 127.91589015, 188.06648729,\n",
       "        223.83698269, 200.37838324, 122.61910486,  53.56888863,\n",
       "        130.88772233, 128.9311952 ,  62.88832944, 222.59202911,\n",
       "         82.55166726,  78.96500566,  83.18082946, 273.65213891,\n",
       "        155.59071356, 177.21093059, 156.65019854, 174.00409667,\n",
       "        135.55783846, 150.8077023 ,  84.91770808, 123.86729903,\n",
       "        259.22377694, 170.55877716, 159.00779552, 130.39264367,\n",
       "        105.63332141, 225.16014966,  86.93164378, 156.58375682,\n",
       "        127.72893936, 104.10578115, 121.71037866, 163.18574461,\n",
       "         77.24706654, 192.40976865, 175.70928031, 119.77472037,\n",
       "        171.08489818, 108.15245516, 248.41486007, 163.32403829,\n",
       "        165.82402901,  80.5335172 , 109.98465572, 112.8134525 ,\n",
       "        114.68996923, 174.9486024 , 166.5913268 , 110.98441145,\n",
       "        177.31086492, 120.88169854,  71.4069922 ,  93.86368977,\n",
       "         82.85806545, 198.72866576, 139.88875572, 230.62981668,\n",
       "        135.92405682, 208.69654785, 247.21264048, 200.84793682,\n",
       "        108.52458009, 197.47594562, 135.56174063,  55.56655227,\n",
       "        172.02049427, 156.71454498, 166.81180719, 106.2226713 ,\n",
       "        114.9532232 , 259.85187085, 176.31063829, 163.94464043,\n",
       "        160.91820148,  86.86267937, 260.09531604, 144.99000631,\n",
       "        170.19340867, 103.45077912,  54.9625056 , 117.20185805,\n",
       "        281.11081046, 185.43396776, 203.66399697, 165.31479811,\n",
       "        100.01323854, 194.32498193, 231.1858103 , 214.63946027,\n",
       "        135.98794832, 164.52687459,  61.5328737 ]),\n",
       " array([153.70128582, 163.12677168, 112.7014087 , 146.6302348 ,\n",
       "        137.61477667, 241.30466767, 274.06509154,  83.04422724,\n",
       "        188.43302637, 131.62251368, 160.14604826, 161.56340243,\n",
       "         61.50116935,  96.07812244, 202.4383494 ,  72.02086202,\n",
       "        224.61757333, 210.24604879, 213.60614719, 160.01718723,\n",
       "        258.15849534, 257.05718047, 162.8577172 , 172.53824537,\n",
       "        190.82746934,  87.03246077, 141.85624265, 174.86905703,\n",
       "        100.39133583,  65.51254285,  79.10137935, 204.03525048,\n",
       "        197.46144921, 125.66745687, 182.59784734, 197.48098996,\n",
       "        228.98747816, 236.01809475,  41.91247184, 120.46738389,\n",
       "         78.09873119, 105.67299398, 190.3050952 ,  55.63243113,\n",
       "        145.43441879,  96.99674886, 152.3162663 ,  92.67882208,\n",
       "        207.16418277, 140.53404229, 262.43503202, 218.72509911,\n",
       "        195.32686157, 175.77927657, 227.08911406, 114.0494455 ,\n",
       "        159.23004712,  70.37979896, 148.49063683, 188.20496989,\n",
       "        113.99204488, 139.91620617, 125.53498832, 140.15627825,\n",
       "        216.41764207,  98.48314323, 123.93846479, 153.74750215,\n",
       "        224.96989102, 178.04672346, 111.85332429, 150.8080359 ,\n",
       "        200.14319177,  61.28736936, 202.34269963, 252.41332275,\n",
       "        169.19394274, 249.54223514, 117.89935839, 165.1426849 ,\n",
       "        144.02714085,  96.26779665, 116.77566149, 179.73978619,\n",
       "        172.60540431, 115.69178181, 244.77146979, 152.46666984,\n",
       "        165.37098023,  74.39346306,  92.23269275, 123.31571564,\n",
       "        122.25245384, 222.95310224,  53.16517108, 181.21336899,\n",
       "        214.03916656, 144.7027045 ,  90.28346098, 166.58681838,\n",
       "        161.57194458, 147.94455362, 213.50570593, 281.65732279,\n",
       "        157.3045648 , 203.47903432, 256.82759166, 179.76654836,\n",
       "        141.68725651,  60.54132357,  75.11796569]),\n",
       " 2817.697400384472,\n",
       " 3056.1692878705708,\n",
       " 0.5019884457682583,\n",
       " 0.5374439145266386)"
      ]
     },
     "execution_count": 46,
     "metadata": {},
     "output_type": "execute_result"
    }
   ],
   "execution_count": 46
  },
  {
   "metadata": {
    "ExecuteTime": {
     "end_time": "2025-06-07T09:09:14.939329Z",
     "start_time": "2025-06-07T09:09:14.868912Z"
    }
   },
   "cell_type": "code",
   "source": [
    "alphas = [0.001, 0.005, 0.01, 0.05, 0.1, 0.5, 1, 5, 10, 50]\n",
    "\n",
    "# TODO Прогоняем модели Lasso и Ridge\n",
    "# model_class = linear_model.Lasso\n",
    "model_class = linear_model.Ridge\n",
    "\n",
    "def get_result_best_hyperparams(model_class, X_train, X_test, Y_train, Y_test):\n",
    "    x = -np.inf\n",
    "    # best = {}\n",
    "    for n, alpha in enumerate(alphas):\n",
    "        \n",
    "        model = model_class(alpha=alpha) # alpha - сила влияния регуляризации\n",
    "        model.fit(X_train, Y_train)\n",
    "        test_mse = metrics.mean_squared_error(Y_test, model.predict(X_test))\n",
    "        # idx = filter(min({n: test_mse}, key={n: test_mse}.get))\n",
    "        idx =  (x := test_mse) if x < test_mse else n\n",
    "        print(idx)\n",
    "   \n",
    "get_result_best_hyperparams(model_class, X_train, X_test, Y_train, Y_test)"
   ],
   "id": "b34cd14be9967dce",
   "outputs": [
    {
     "name": "stdout",
     "output_type": "stream",
     "text": [
      "3057.5264933740127\n",
      "1\n",
      "3059.495873548798\n",
      "3086.3106311832144\n",
      "3120.7336819466245\n",
      "3440.748937653252\n",
      "3798.233665850168\n",
      "5165.429397878005\n",
      "5752.151818546813\n",
      "6520.626693219487\n"
     ]
    }
   ],
   "execution_count": 47
  },
  {
   "metadata": {},
   "cell_type": "markdown",
   "source": "\"------------------------------------------------------------------------------------------------------\"",
   "id": "f7b1581e928d518"
  },
  {
   "metadata": {},
   "cell_type": "markdown",
   "source": [
    "HEATMAP признаков\n",
    "* Смотрим наличие мультиколениарности\n",
    "* больше 0,9 - уже плохо"
   ],
   "id": "3955abb9acbebea9"
  },
  {
   "metadata": {
    "ExecuteTime": {
     "end_time": "2025-06-07T09:33:03.573286Z",
     "start_time": "2025-06-07T09:32:57.320869Z"
    }
   },
   "cell_type": "code",
   "source": [
    "# TODO Строим heatmap по абсолюту, так как смотрим только мультиколлинеарность  \n",
    "sns.heatmap(np.abs(X_train.corr()), annot=True)\n"
   ],
   "id": "24f7a804a544c472",
   "outputs": [
    {
     "data": {
      "text/plain": [
       "<Axes: >"
      ]
     },
     "execution_count": 55,
     "metadata": {},
     "output_type": "execute_result"
    },
    {
     "data": {
      "text/plain": [
       "<Figure size 640x480 with 2 Axes>"
      ],
      "image/png": "[encoded data removed]"
     },
     "metadata": {},
     "output_type": "display_data"
    }
   ],
   "execution_count": 55
  },
  {
   "metadata": {},
   "cell_type": "markdown",
   "source": [
    "НОРМИРОВАНИЕ\n",
    "* get_feature_names_out - получить имена трансформированных признаков"
   ],
   "id": "77a7b5d9d5d5c23c"
  },
  {
   "metadata": {
    "ExecuteTime": {
     "end_time": "2025-06-07T09:09:20.362696Z",
     "start_time": "2025-06-07T09:09:20.143630Z"
    }
   },
   "cell_type": "code",
   "source": [
    "scaler = StandardScaler()\n",
    "X_train_sc = pd.DataFrame(scaler.fit_transform(X_train), columns=scaler.get_feature_names_out())\n",
    "X_test_sc = scaler.transform(X_test)\n",
    "# X_train_sc\n"
   ],
   "id": "790864bcc64a6c81",
   "outputs": [],
   "execution_count": 49
  },
  {
   "metadata": {},
   "cell_type": "markdown",
   "source": [
    "\n",
    "Метрики MSE и R2 для traine и test Выборок\n",
    "* PIPLINE\n",
    "    * Внутри pipeline используется стандартизированный X_train\n",
    "        *  X_test подаётся в model.predict после обучения модели на стандартизированных X_train\n",
    "    * Снаружи pipeline используется исходный X_train\n",
    "* model.named_steps - Имена внутри pipeline"
   ],
   "id": "10a10fb7c6a51e8"
  },
  {
   "metadata": {
    "ExecuteTime": {
     "end_time": "2025-06-07T11:29:07.610828Z",
     "start_time": "2025-06-07T11:29:07.602939Z"
    }
   },
   "cell_type": "code",
   "source": [
    "# TODO get_result\n",
    "def get_result(model_cl, X_train, X_test, Y_train, Y_test):\n",
    "    # model = model_class()\n",
    "\n",
    "# TODO Единый блок pipeline с обучением на стандартизированных данных\n",
    "    model = make_pipeline(StandardScaler(), model_cl()) \n",
    "    model.fit(X_train, Y_train)  # Обучение на стандартизированных данных\n",
    "# TODO Имена внутри pipeline\n",
    "#     print(model.named_steps)  \n",
    "# TODO Достаём модель LinearRegression\n",
    "    linear__model = model.named_steps['linearregression']\n",
    "    # print(linear__model.coef_)\n",
    "    Y_train_pred = model.predict(X_train)\n",
    "    Y_test_pred = model.predict(X_test)\n",
    "    train_mse = metrics.mean_squared_error(Y_train, Y_train_pred)\n",
    "    test_mse = metrics.mean_squared_error(Y_test, Y_test_pred)\n",
    "    train_r2 = metrics.r2_score(Y_train, Y_train_pred)\n",
    "    test_r2 = metrics.r2_score(Y_test, Y_test_pred)\n",
    "    print(f\"Train MSE: {train_mse:.3}\")\n",
    "    print(f\"Test MSE: {test_mse:.3}\")\n",
    "    print(f\"Train R2: {train_r2:.3}\")\n",
    "    print(f\"Test R2: {test_r2:.3}\")\n",
    "    return model, Y_train_pred, Y_test_pred, train_mse, test_mse, train_r2, test_r2, linear__model\n",
    "    # return model, train_mse, test_mse, train_r2, test_r2\n",
    "# get_result(model_class, X_train, X_test, Y_train, Y_test)\n",
    "# get_result(linear_model.LinearRegression, X_train, X_test, Y_train, Y_test)"
   ],
   "id": "47b25ba116984db6",
   "outputs": [],
   "execution_count": 107
  },
  {
   "metadata": {},
   "cell_type": "markdown",
   "source": [
    "\n",
    "Вызываем ф-цию get_result() что бы получить return с вычислениями"
   ],
   "id": "fe7f96bf54dfc15e"
  },
  {
   "metadata": {
    "ExecuteTime": {
     "end_time": "2025-06-07T11:28:39.029876Z",
     "start_time": "2025-06-07T11:28:39.013170Z"
    }
   },
   "cell_type": "code",
   "source": [
    "model, Y_train_pred, Y_test_pred, train_mse, test_mse, train_r2, test_r2, coefs = get_result(linear_model.LinearRegression, X_train, X_test, Y_train, Y_test)\n",
    "\n",
    "print('Коэффициенты модели LinearRegression : ', f'{coefs.coef_}')"
   ],
   "id": "80af78cf5a5b3bbc",
   "outputs": [
    {
     "name": "stdout",
     "output_type": "stream",
     "text": [
      "[ -2.22415219  -8.76006954  22.83535508  13.9175361  -41.86365033\n",
      "  28.46132134   5.47173405   5.27664091  38.51490159   3.64212309]\n",
      "Train MSE: 2.81e+03\n",
      "Test MSE: 3.06e+03\n",
      "Train R2: 0.503\n",
      "Test R2: 0.537\n",
      "Коэффициенты модели LinearRegression :  [ -2.22415219  -8.76006954  22.83535508  13.9175361  -41.86365033\n",
      "  28.46132134   5.47173405   5.27664091  38.51490159   3.64212309]\n"
     ]
    }
   ],
   "execution_count": 105
  },
  {
   "metadata": {},
   "cell_type": "markdown",
   "source": "Достаём данные из PIPELINE",
   "id": "656b9a379176f8d0"
  },
  {
   "metadata": {
    "ExecuteTime": {
     "end_time": "2025-06-07T11:45:07.418810Z",
     "start_time": "2025-06-07T11:45:07.398103Z"
    }
   },
   "cell_type": "code",
   "source": [
    "# 1. Достаём стандартизатор\n",
    "scaler = model.named_steps['standardscaler']\n",
    "print(\"Средние значения признаков (scaler.mean_):\", scaler.mean_)\n",
    "print(\"Стандартные отклонения признаков (scaler.scale_):\", scaler.scale_)\n",
    "\n",
    "# 2. Стандартизированные данные\n",
    "X_train_scaled = scaler.transform(X_train)\n",
    "print(\"Форма стандартизированных X_train:\", X_train_scaled.shape)\n",
    "\n",
    "# 3. Достаём модель Ridge\n",
    "ridge = model.named_steps['linearregression']\n",
    "print(\"Коэффициенты Ridge (ridge.coef_):\", ridge.coef_)\n",
    "print(\"Свободный член (ridge.intercept_):\", ridge.intercept_)\n"
   ],
   "id": "165280ad920d0756",
   "outputs": [
    {
     "name": "stdout",
     "output_type": "stream",
     "text": [
      "Средние значения признаков (scaler.mean_): [ 0.00183832  0.0005714  -0.00166351 -0.00092064  0.00153629  0.00132612\n",
      "  0.00174093 -0.00038488 -0.00035664  0.00027381]\n",
      "Стандартные отклонения признаков (scaler.scale_): [0.0476444  0.04759798 0.04656474 0.04743487 0.04879316 0.04915672\n",
      " 0.04950104 0.04779791 0.04662483 0.04559943]\n",
      "Форма стандартизированных X_train: (331, 10)\n",
      "Коэффициенты Ridge (ridge.coef_): [ -2.22415219  -8.76006954  22.83535508  13.9175361  -41.86365033\n",
      "  28.46132134   5.47173405   5.27664091  38.51490159   3.64212309]\n",
      "Свободный член (ridge.intercept_): 148.7764350453172\n"
     ]
    }
   ],
   "execution_count": 131
  },
  {
   "metadata": {},
   "cell_type": "markdown",
   "source": "Создаём словарь для сохранения метрик",
   "id": "abd73a52bf7f496d"
  },
  {
   "metadata": {
    "ExecuteTime": {
     "end_time": "2025-06-07T11:31:03.988921Z",
     "start_time": "2025-06-07T11:31:03.984367Z"
    }
   },
   "cell_type": "code",
   "source": [
    "metrics_values = {\n",
    "    \"test_mse\": [],\n",
    "    \"test_r2\": []\n",
    "}\n",
    "model_name = []"
   ],
   "id": "d289229b4d0e3df5",
   "outputs": [],
   "execution_count": 108
  },
  {
   "metadata": {
    "ExecuteTime": {
     "end_time": "2025-06-07T11:43:43.482757Z",
     "start_time": "2025-06-07T11:43:43.466229Z"
    }
   },
   "cell_type": "code",
   "source": [
    "# TODO get_result - функция обучает, прогнозирует, вычисляет метрики MSE и R2 для train и test\n",
    "\n",
    "model, Y_train_pred, Y_test_pred, train_mse, test_mse, train_r2, test_r2, coefs = get_result(linear_model.LinearRegression, X_train, X_test, Y_train, Y_test)\n",
    "metrics_values[\"test_mse\"].append(test_mse)\n",
    "metrics_values[\"test_r2\"].append(test_r2)\n",
    "model_name.append(\"LinearRegression\")"
   ],
   "id": "2c3a7cafe0d0c202",
   "outputs": [
    {
     "name": "stdout",
     "output_type": "stream",
     "text": [
      "Train MSE: 2.81e+03\n",
      "Test MSE: 3.06e+03\n",
      "Train R2: 0.503\n",
      "Test R2: 0.537\n"
     ]
    }
   ],
   "execution_count": 129
  },
  {
   "metadata": {},
   "cell_type": "markdown",
   "source": [
    "\n",
    "Вызываем ф-цию get_result() что бы получить return с вычислениями\n",
    "\n",
    "firs,*between, last - Распаковка return функции \n",
    "* firs и last - первый и последний элементы\n",
    "* *between - всё что находится между firs и last"
   ],
   "id": "dbcc28ee33870b86"
  },
  {
   "metadata": {
    "ExecuteTime": {
     "end_time": "2025-06-07T14:48:39.251368Z",
     "start_time": "2025-06-07T14:48:39.166806Z"
    }
   },
   "cell_type": "code",
   "source": [
    "# model, Y_train_pred, Y_test_pred, train_mse, test_mse, train_r2, test_r2, coefs = get_result(linear_model.LinearRegression, X_train, X_test, Y_train, Y_test)\n",
    "\n",
    "# line_coefs = [get_result(linear_model.LinearRegression, X_train, X_test, Y_train, Y_test)]\n",
    "# line_coefs\n",
    "\n",
    "# TODO firs,*between, last - Распаковка return функции \n",
    "firs,*_, last = get_result(linear_model.LinearRegression, X_train, X_test, Y_train, Y_test)\n",
    "last.coef_\n",
    "# model.named_steps['linearregression'].coef_"
   ],
   "id": "f7430707f6f5fce2",
   "outputs": [
    {
     "name": "stdout",
     "output_type": "stream",
     "text": [
      "Train MSE: 2.81e+03\n",
      "Test MSE: 3.06e+03\n",
      "Train R2: 0.503\n",
      "Test R2: 0.537\n"
     ]
    },
    {
     "data": {
      "text/plain": [
       "array([ -2.22415219,  -8.76006954,  22.83535508,  13.9175361 ,\n",
       "       -41.86365033,  28.46132134,   5.47173405,   5.27664091,\n",
       "        38.51490159,   3.64212309])"
      ]
     },
     "execution_count": 137,
     "metadata": {},
     "output_type": "execute_result"
    }
   ],
   "execution_count": 137
  },
  {
   "metadata": {},
   "cell_type": "markdown",
   "source": "",
   "id": "dac7ac948e15e908"
  },
  {
   "metadata": {},
   "cell_type": "markdown",
   "source": "Строим bar для коэффициентов, смотрим значимость признаков",
   "id": "545161cbe4cad831"
  },
  {
   "metadata": {
    "ExecuteTime": {
     "end_time": "2025-06-07T11:33:40.788276Z",
     "start_time": "2025-06-07T11:33:39.860427Z"
    }
   },
   "cell_type": "code",
   "source": [
    "model, Y_train_pred, Y_test_pred, train_mse, test_mse, train_r2, test_r2, coefs = get_result(linear_model.LinearRegression, X_train, X_test, Y_train, Y_test)\n",
    "sns.barplot(abs(coefs.coef_))"
   ],
   "id": "b23028551c608ed3",
   "outputs": [
    {
     "name": "stdout",
     "output_type": "stream",
     "text": [
      "Train MSE: 2.81e+03\n",
      "Test MSE: 3.06e+03\n",
      "Train R2: 0.503\n",
      "Test R2: 0.537\n"
     ]
    },
    {
     "data": {
      "text/plain": [
       "<Axes: >"
      ]
     },
     "execution_count": 115,
     "metadata": {},
     "output_type": "execute_result"
    },
    {
     "data": {
      "text/plain": [
       "<Figure size 640x480 with 1 Axes>"
      ],
      "image/png": "[encoded data removed]"
     },
     "metadata": {},
     "output_type": "display_data"
    }
   ],
   "execution_count": 115
  },
  {
   "metadata": {},
   "cell_type": "code",
   "source": "plt.bar(X_train_sc.columns, abs(model.coef_))",
   "id": "e909edfe22e90a48",
   "outputs": [],
   "execution_count": null
  },
  {
   "metadata": {},
   "cell_type": "code",
   "source": [
    "data=pd.DataFrame(abs(model.coef_))\n",
    "data.plot(kind='bar')"
   ],
   "id": "9d16d618f4c6ab",
   "outputs": [],
   "execution_count": null
  },
  {
   "metadata": {},
   "cell_type": "markdown",
   "source": [
    "\n",
    "Вызываем регулирующие L1 или L2 \n",
    "* Смотрим коэффициенты"
   ],
   "id": "c856af6756e2835b"
  },
  {
   "metadata": {
    "ExecuteTime": {
     "end_time": "2025-06-07T07:39:10.395388Z",
     "start_time": "2025-06-07T07:39:10.383573Z"
    }
   },
   "cell_type": "code",
   "source": [
    "metrics_values_1 = {\n",
    "    \"test_mse_ridge\": [],\n",
    "    \"test_r2_ridge\": []\n",
    "}\n",
    "model_name_1 = []"
   ],
   "id": "c536bd2c69bf797f",
   "outputs": [],
   "execution_count": 13
  },
  {
   "metadata": {
    "ExecuteTime": {
     "end_time": "2025-06-07T08:50:50.920038Z",
     "start_time": "2025-06-07T08:50:50.861659Z"
    }
   },
   "cell_type": "code",
   "source": [
    "# TODO model_ridge без Стандартизации Признаков\n",
    "model_ridge, Y_train_pred_ridge, Y_test_pred_ridge, train_mse_ridge, test_mse_ridge, train_r2_ridge, test_r2_ridge = get_result_best_hyperparams(model_class_1, X_train, X_test, Y_train, Y_test)\n",
    "\n",
    "# TODO model_ridge Признаки Стандартизированы\n",
    "# model_ridge, Y_train_pred_ridge, Y_test_pred_ridge, train_mse_ridge, test_mse_ridge, train_r2_ridge, test_r2_ridge = get_result_best_hyperparams(model_class_1, X_train_sc, X_test_sc, Y_train, Y_test)\n",
    "\n",
    "\n",
    "metrics_values_1[\"test_mse_ridge\"].append(test_mse_ridge)\n",
    "metrics_values_1[\"test_r2_ridge\"].append(test_r2_ridge)\n",
    "model_name_1.append(\"LinearRegression\")\n",
    "\n",
    "model_ridge.coef_"
   ],
   "id": "f62b45eb53928ed",
   "outputs": [
    {
     "name": "stdout",
     "output_type": "stream",
     "text": [
      "Train MSE: 2.9e+03\n",
      "Test MSE: 2.89e+03\n",
      "Train R2: 0.536\n",
      "Test R2: 0.395\n"
     ]
    },
    {
     "data": {
      "text/plain": [
       "array([-4.76655808e+01, -2.21181477e+02,  5.77720207e+02,  3.17796113e+02,\n",
       "       -5.62927703e+02,  3.95060830e+02, -1.72569399e-01,  1.34562556e+02,\n",
       "        6.33746189e+02,  7.86756165e+01])"
      ]
     },
     "execution_count": 32,
     "metadata": {},
     "output_type": "execute_result"
    }
   ],
   "execution_count": 32
  },
  {
   "metadata": {},
   "cell_type": "code",
   "outputs": [],
   "execution_count": null,
   "source": "",
   "id": "11b661f047dc679a"
  }
 ],
 "metadata": {
  "kernelspec": {
   "display_name": "Python 3",
   "language": "python",
   "name": "python3"
  },
  "language_info": {
   "codemirror_mode": {
    "name": "ipython",
    "version": 2
   },
   "file_extension": ".py",
   "mimetype": "text/x-python",
   "name": "python",
   "nbconvert_exporter": "python",
   "pygments_lexer": "ipython2",
   "version": "2.7.6"
  }
 },
 "nbformat": 4,
 "nbformat_minor": 5
}
