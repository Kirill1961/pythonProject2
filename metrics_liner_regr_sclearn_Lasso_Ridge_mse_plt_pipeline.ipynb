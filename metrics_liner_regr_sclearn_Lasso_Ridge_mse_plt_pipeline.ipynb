{
 "cells": [
  {
   "cell_type": "code",
   "id": "initial_id",
   "metadata": {
    "collapsed": true,
    "ExecuteTime": {
     "end_time": "2025-07-19T19:01:32.352684Z",
     "start_time": "2025-07-19T19:01:31.770259Z"
    }
   },
   "source": [
    "import seaborn as sns\n",
    "from sklearn.model_selection import train_test_split\n",
    "from sklearn.model_selection import cross_val_score, cross_validate, GridSearchCV, RandomizedSearchCV\n",
    "from sklearn.model_selection import KFold\n",
    "from sklearn.linear_model import LinearRegression\n",
    "from sklearn import linear_model, metrics, datasets # linear_model - модуль в котором LinearRegression\n",
    "import numpy as np\n",
    "from sklearn.preprocessing import StandardScaler, PolynomialFeatures\n",
    "from sklearn.metrics import accuracy_score, roc_auc_score, mean_squared_error\n",
    "from sklearn.ensemble import RandomForestClassifier\n",
    "from mlxtend.feature_selection import SequentialFeatureSelector\n",
    "from mlxtend.feature_selection import ExhaustiveFeatureSelector\n",
    "from sklearn.feature_selection import RFE\n",
    "from sklearn.inspection import DecisionBoundaryDisplay\n",
    "from sklearn.pipeline import make_pipeline\n",
    "import pandas as pd\n",
    "import matplotlib.pyplot as plt\n",
    "from sklearn.decomposition import PCA\n",
    "from statsmodels.formula.api import ols, logit"
   ],
   "outputs": [],
   "execution_count": 1
  },
  {
   "metadata": {},
   "cell_type": "markdown",
   "source": [
    "**Вытаскиваем нужный dataset из sklearn**\n",
    "\n",
    "* `as_frame=True` - dataset сразу в DF\n",
    "* `return_X_y=True` - возвращает готовые Признаки и Целевую\n"
   ],
   "id": "2b5a8b0b3da6463c"
  },
  {
   "metadata": {
    "ExecuteTime": {
     "end_time": "2025-06-08T18:04:45.984528Z",
     "start_time": "2025-06-08T18:04:45.328855Z"
    }
   },
   "cell_type": "code",
   "source": "X, Y = datasets.load_diabetes(as_frame=True, return_X_y=True)",
   "id": "a85c47fba99b03d",
   "outputs": [],
   "execution_count": 2
  },
  {
   "metadata": {
    "ExecuteTime": {
     "end_time": "2025-06-08T18:04:48.554869Z",
     "start_time": "2025-06-08T18:04:48.527281Z"
    }
   },
   "cell_type": "code",
   "source": "X_train, X_test, Y_train, Y_test = train_test_split(X, Y)\n",
   "id": "c806ffe57f63c72c",
   "outputs": [],
   "execution_count": 3
  },
  {
   "metadata": {},
   "cell_type": "markdown",
   "source": "*Модель Линейной Регрессии*",
   "id": "b3d9e33afcd67e02"
  },
  {
   "metadata": {},
   "cell_type": "code",
   "source": "# model_class = linear_model.LinearRegression",
   "id": "dab5ab93c5f34c75",
   "outputs": [],
   "execution_count": null
  },
  {
   "metadata": {
    "ExecuteTime": {
     "end_time": "2025-06-07T19:53:50.251527Z",
     "start_time": "2025-06-07T19:53:50.242008Z"
    }
   },
   "cell_type": "code",
   "source": [
    "\n",
    "X_test.shape\n",
    "X_train.shape"
   ],
   "id": "4e31a4c0b9195a26",
   "outputs": [
    {
     "data": {
      "text/plain": [
       "(331, 10)"
      ]
     },
     "execution_count": 4,
     "metadata": {},
     "output_type": "execute_result"
    }
   ],
   "execution_count": 4
  },
  {
   "metadata": {
    "ExecuteTime": {
     "end_time": "2025-06-07T19:51:26.139599Z",
     "start_time": "2025-06-07T19:51:26.129346Z"
    }
   },
   "cell_type": "code",
   "source": [
    "# FIXME StandardScaler  1\n",
    "scaler = StandardScaler()\n",
    "X_train = pd.DataFrame(scaler.fit_transform(X_train), columns=scaler.get_feature_names_out())\n",
    "X_test = scaler.transform(X_test)"
   ],
   "id": "8f383b411895cdbc",
   "outputs": [],
   "execution_count": 30
  },
  {
   "metadata": {},
   "cell_type": "markdown",
   "source": [
    "**ВЫБИРАЕМ Наиболее Качественную Модель:**\n",
    "\n",
    "*Перебором параметра alpha*"
   ],
   "id": "4b699ab5148d58f3"
  },
  {
   "metadata": {},
   "cell_type": "markdown",
   "source": [
    "*РЕГУЛЯРИЗАЦИЯ*\n",
    "* `alpha` - сила влияния регуляризации\n",
    "* `np.inf` - плюс бесконечность, применяем для инициализации переменной\n",
    "* `best_alpha` = None - просто неизвестность"
   ],
   "id": "ee4374cf11b9bbac"
  },
  {
   "metadata": {
    "ExecuteTime": {
     "end_time": "2025-06-08T18:05:01.204717Z",
     "start_time": "2025-06-08T18:05:00.288394Z"
    }
   },
   "cell_type": "code",
   "source": [
    "alphas = [0.001, 0.005, 0.01, 0.05, 0.1, 0.5, 1, 5, 10, 50]\n",
    "\n",
    "# TODO 1 Прогоняем модели Lasso и Ridge c разными alpha и выбираем наименьший MSE и лучший R2\n",
    "\n",
    "# model_class_1 = linear_model.Lasso\n",
    "# model_class_1 = linear_model.Ridge\n",
    "\n",
    "def get_result_best_hyperparams(model_class_1, X_train, X_test, Y_train, Y_test):\n",
    "    best_test_mse = np.inf #  инициализация переменной best_test_mse\n",
    "    best_alpha = None # #  инициализация переменной best_alpha\n",
    "\n",
    "    for alpha in alphas:\n",
    "        model_1 = model_class_1(alpha=alpha) # alpha - сила влияния регуляризации\n",
    "        model_1.fit(X_train, Y_train)\n",
    "        test_mse = metrics.mean_squared_error(Y_test, model_1.predict(X_test))\n",
    "# TODO Фильтр Эдисона\n",
    "        if test_mse < best_test_mse:\n",
    "            best_test_mse = test_mse  # # переопределяем best_test_mse для фильтра if , записываем наименьшее число\n",
    "            best_alpha = alpha\n",
    "\n",
    "    model_1 = model_class_1(alpha=best_alpha)\n",
    "    model_1.fit(X_train, Y_train)\n",
    "    Y_train_pred = model_1.predict(X_train)\n",
    "    Y_test_pred = model_1.predict(X_test)\n",
    "    train_mse = metrics.mean_squared_error(Y_train, Y_train_pred)\n",
    "    test_mse = metrics.mean_squared_error(Y_test, Y_test_pred)\n",
    "    train_r2 = metrics.r2_score(Y_train, Y_train_pred)\n",
    "    test_r2 = metrics.r2_score(Y_test, Y_test_pred)\n",
    "    print(f\"Train MSE: {train_mse:.3}\")\n",
    "    print(f\"Test MSE: {test_mse:.3}\")\n",
    "    print(f\"Train R2: {train_r2:.3}\")\n",
    "    print(f\"Test R2: {test_r2:.3}\")\n",
    "    return model_1, Y_train_pred, Y_test_pred, train_mse, test_mse, train_r2, test_r2\n",
    "    # return model, train_mse, test_mse, train_r2, test_r2\n",
    "get_result_best_hyperparams(linear_model.Lasso, X_train, X_test, Y_train, Y_test)"
   ],
   "id": "59fa0cf40681d3e",
   "outputs": [
    {
     "name": "stdout",
     "output_type": "stream",
     "text": [
      "Train MSE: 2.96e+03\n",
      "Test MSE: 2.69e+03\n",
      "Train R2: 0.512\n",
      "Test R2: 0.513\n"
     ]
    },
    {
     "data": {
      "text/plain": [
       "(Lasso(alpha=0.05),\n",
       " array([180.77029607, 203.58340792, 177.82453431, 210.88002813,\n",
       "        194.07990163, 171.78961737, 123.44003054, 116.85241648,\n",
       "        119.15672428, 153.39387321, 234.37628317, 221.66772972,\n",
       "        180.29999884, 184.71434056, 210.43783577,  60.52464438,\n",
       "        100.14966007, 183.78122853, 160.33595219,  79.6704285 ,\n",
       "         80.32343047, 204.03626251, 163.98886742, 159.42505898,\n",
       "        144.02471329, 135.54978721,  78.97288521,  63.49180916,\n",
       "        101.19155889, 181.01166035, 150.66410668, 284.88020181,\n",
       "         86.28511592, 170.01080077, 179.36069431, 216.46582091,\n",
       "        165.13459883, 174.75281999, 218.48325249, 184.28459406,\n",
       "        106.31301277, 143.3635969 ,  97.84525427, 124.45514143,\n",
       "         77.00131558,  87.35486559, 139.51188168, 272.54979498,\n",
       "        212.70697331, 145.31990257,  98.2849161 , 172.30451948,\n",
       "        162.92652358, 141.00720854, 116.63870363, 183.1240162 ,\n",
       "        220.374752  , 118.15066296, 140.66845598, 229.56073244,\n",
       "         80.87541215, 189.58614463, 223.59312907, 276.64168119,\n",
       "        132.00300024,  80.64641557,  86.58863688, 237.67166608,\n",
       "         69.62098589, 239.00297585, 134.65652444, 171.95543008,\n",
       "        209.86140441, 110.86434988, 105.3272923 , 104.04855644,\n",
       "         92.84891625, 146.21963363,  71.9344761 , 137.72042123,\n",
       "         93.84589389, 202.67359027, 184.47753764, 110.49390161,\n",
       "         85.00920416,  90.97423549, 248.60396682, 107.17214043,\n",
       "        217.91484141, 190.3083834 , 164.95628851, 247.55579851,\n",
       "        221.25728337, 140.51659864, 141.36399538, 171.70004965,\n",
       "        129.24608524, 115.69994051, 177.60000072,  92.89185955,\n",
       "        116.3635246 , 156.02088215, 174.60051165, 188.97966512,\n",
       "        102.05713052, 116.76041753, 193.18193264, 122.29379082,\n",
       "         64.24848573, 129.19658868, 174.14800454, 114.52851451,\n",
       "        222.46467752, 123.27106533,  70.93203223, 186.81483831,\n",
       "        105.9329988 ,  76.4238304 ,  72.68742638, 157.39878429,\n",
       "         63.89557887, 173.92953183, 167.94963074, 207.88383415,\n",
       "        172.28186882,  82.9567072 ,  57.38495893, 137.32351232,\n",
       "        106.50910732,  42.98670735, 143.14492497, 128.61335619,\n",
       "        253.62510563, 254.81767497, 187.1538312 ,  60.5638022 ,\n",
       "        193.85457318,  73.10738085, 143.11787807, 247.98425628,\n",
       "        191.01688153,  79.94654291, 247.51186007, 132.42341396,\n",
       "        108.41029821, 185.40901997, 152.41732276, 160.86901754,\n",
       "        154.28894799,  55.84464718, 189.24752558, 225.36384092,\n",
       "         70.29191554, 127.54190657, 158.76632746, 153.65102755,\n",
       "        167.36720009, 196.03529173, 167.39647162, 231.06526274,\n",
       "        138.48798968, 169.52466173, 145.4421197 , 106.21283987,\n",
       "        264.61355312,  74.3532636 , 109.74853037, 133.10452418,\n",
       "        102.27902704, 129.8982602 , 197.37421311, 107.13516681,\n",
       "        172.02183972, 139.79628736, 130.92664646, 152.80151946,\n",
       "        164.98937708, 163.16909294, 129.81698043, 253.49261579,\n",
       "        234.34889936, 158.72702128, 205.22601354, 156.01455276,\n",
       "        178.72495474, 145.00212025, 165.60197193, 189.62945785,\n",
       "        155.14242883, 143.64796043, 171.43331011, 108.87565521,\n",
       "        214.67623404, 167.88749294, 127.5790984 , 103.1040102 ,\n",
       "        203.39900915, 175.91982173, 195.53683419, 177.13180914,\n",
       "        210.24518151,  83.25516928, 159.92445399, 123.88466144,\n",
       "        152.45648849, 148.70961747, 160.42440344,  64.90652711,\n",
       "        181.29427246, 155.79570626, 128.92420256, 128.3395933 ,\n",
       "        153.64806759, 178.26610314, 144.4734368 , 149.3386252 ,\n",
       "         97.65547686, 101.31110028,  81.13290464,  56.40891118,\n",
       "        238.61119289, 220.61118416, 101.02436835, 120.07190888,\n",
       "        105.63945303, 166.8133382 , 211.29339628, 119.17509677,\n",
       "        276.90124278, 229.53674308,  74.90422164, 201.34856353,\n",
       "        131.73325612, 121.10642002, 154.43262066, 155.37900805,\n",
       "        176.13933242, 193.17689706, 162.97477193, 141.54189862,\n",
       "         74.73484641, 125.35300471, 217.18622082,  86.13387845,\n",
       "        139.49288049, 156.59872403,  51.02053652, 159.39075129,\n",
       "        256.32584563, 128.90413909,  94.58292669, 214.40498051,\n",
       "         89.2197176 ,  68.35099337, 217.91491703,  88.97838299,\n",
       "        248.84110251, 173.67119672, 168.79241933, 158.27458044,\n",
       "        151.72852144, 101.22236967, 172.73294231, 127.43990713,\n",
       "        195.07654363, 264.22044797,  88.7403132 , 157.742111  ,\n",
       "        145.07812383, 245.39196079, 113.08348217, 114.16818801,\n",
       "        139.30874904, 203.80135972, 177.4221987 , 185.76316513,\n",
       "        174.46636189, 245.18079133, 246.96300672, 176.1869941 ,\n",
       "        126.79140215,  67.36761411, 116.33533797, 161.01408517,\n",
       "        210.3044213 , 269.96215262, 112.35480007, 165.57494765,\n",
       "        173.23015389, 109.47859255, 259.87429052,  92.65211852,\n",
       "        113.43620113, 208.84352649, 144.99242718, 236.72370087,\n",
       "        112.80665787, 119.97179574, 199.14236828, 221.78136216,\n",
       "        112.13166092, 195.30838603, 284.91341583, 187.1946289 ,\n",
       "        169.58053437, 274.15794904,  70.54581293, 129.6206394 ,\n",
       "        218.48394869, 214.13790076, 238.23709396,  78.65109973,\n",
       "         96.64524219, 223.66855089,  61.2312666 , 143.73272484,\n",
       "         70.92218592, 129.04263385, 118.92330022, 189.05754521,\n",
       "         65.13363554, 124.76127649, 155.50797951, 106.2731426 ,\n",
       "        188.17964699,  55.55867647, 155.89312684, 234.94848192,\n",
       "        127.28105631, 171.93169276, 168.49835021]),\n",
       " array([188.36557925, 226.2402469 , 166.58146268, 140.597269  ,\n",
       "        115.32944686, 125.22020075,  87.88452559, 142.63910064,\n",
       "         51.78707673,  58.55664628, 123.25798785, 235.47431013,\n",
       "        200.22725944, 102.11879646, 240.23700023,  93.67727346,\n",
       "        158.79838779, 165.15440256, 195.92800272, 261.57785639,\n",
       "        256.14664635,  76.48929789, 194.95269525,  82.77893861,\n",
       "        113.32781593, 191.03430986, 228.96766278, 171.78692011,\n",
       "        189.66856313, 206.26829893, 148.99556462, 124.68697811,\n",
       "        140.09292368,  64.40877019, 155.26380366, 206.27234684,\n",
       "        106.35454962, 213.92711933,  90.73186869,  99.14357154,\n",
       "        120.13004372, 202.13430648, 148.51262604,  95.71413011,\n",
       "        195.8657339 , 250.33345889,  55.59069415, 104.84971144,\n",
       "        296.79266158, 155.45289047, 258.12038386, 120.84240416,\n",
       "        147.48067197, 129.56252306, 154.20663617,  82.32555979,\n",
       "        196.54354964, 231.26530463, 103.46329008, 228.9028617 ,\n",
       "        129.25764857, 215.90344031, 151.26425935, 168.28640156,\n",
       "        129.96681147, 171.05650494, 107.29416024,  77.20486564,\n",
       "        104.5045328 ,  48.4619327 ,  80.52850551, 292.27614701,\n",
       "        203.58963445, 147.44472011, 175.05671822, 203.57018839,\n",
       "         89.57382345, 121.37771306, 159.25370556, 164.9696474 ,\n",
       "        138.9698671 , 186.32318667, 226.23224335, 177.01901859,\n",
       "        128.61359563, 122.72775867, 197.77228061, 217.58388981,\n",
       "         90.13821757,  62.62384922, 204.66905573, 177.78217491,\n",
       "         98.13488129, 161.39690601, 122.17184315, 117.46143917,\n",
       "        172.91355734, 186.97163852, 101.23158175, 124.51409465,\n",
       "        126.51310314, 212.67089913, 117.62529326,  99.74426049,\n",
       "         95.65786807, 119.97265443, 141.05319212, 189.4886504 ,\n",
       "        207.19904172, 160.67959334,  75.66651503]),\n",
       " 2956.733617257183,\n",
       " 2690.228873718661,\n",
       " 0.5120363372371515,\n",
       " 0.5127770838993717)"
      ]
     },
     "execution_count": 4,
     "metadata": {},
     "output_type": "execute_result"
    }
   ],
   "execution_count": 4
  },
  {
   "metadata": {},
   "cell_type": "markdown",
   "source": "*Мой Фильтр*",
   "id": "786f6b5c8cba6b93"
  },
  {
   "metadata": {
    "ExecuteTime": {
     "end_time": "2025-06-07T09:09:14.157666Z",
     "start_time": "2025-06-07T09:09:14.065575Z"
    }
   },
   "cell_type": "code",
   "source": [
    "alphas = [0.001, 0.005, 0.01, 0.05, 0.1, 0.5, 1, 5, 10, 50]\n",
    "\n",
    "# TODO 2 Прогоняем модели Lasso и Ridge c разными alpha и выбираем наименьший MSE и лучший R2\n",
    "# model_class = linear_model.Lasso\n",
    "model_class = linear_model.Ridge\n",
    "\n",
    "def get_result_best_hyperparams_(model_class, X_train, X_test, Y_train, Y_test):\n",
    "    best = {}\n",
    "    for n, alpha in enumerate(alphas):\n",
    "        model = model_class(alpha=alpha) # alpha - сила влияния регуляризации\n",
    "        model.fit(X_train, Y_train)\n",
    "        test_mse = metrics.mean_squared_error(Y_test, model.predict(X_test))\n",
    "# TODO Мой фильтр\n",
    "        best[n] = test_mse\n",
    "        # best.update({n: test_mse})\n",
    "        idx = min(best, key=best.get)\n",
    "        best_alpha = alphas[idx]\n",
    "    model = model_class(alpha=best_alpha)\n",
    "    model.fit(X_train, Y_train)\n",
    "    Y_train_pred = model.predict(X_train)\n",
    "    Y_test_pred = model.predict(X_test)\n",
    "    train_mse = metrics.mean_squared_error(Y_train, Y_train_pred)\n",
    "    test_mse = metrics.mean_squared_error(Y_test, Y_test_pred)\n",
    "    train_r2 = metrics.r2_score(Y_train, Y_train_pred)\n",
    "    test_r2 = metrics.r2_score(Y_test, Y_test_pred)\n",
    "    print(f\"Train MSE: {train_mse:.3}\")\n",
    "    print(f\"Test MSE: {test_mse:.3}\")\n",
    "    print(f\"Train R2: {train_r2:.3}\")\n",
    "    print(f\"Test R2: {test_r2:.3}\")\n",
    "    # return model, Y_train_pred, Y_test_pred, train_mse, test_mse, train_r2, test_r2\n",
    "    # return model, train_mse, test_mse, train_r2, test_r2\n",
    "    return idx, best\n",
    "get_result_best_hyperparams(model_class, X_train, X_test, Y_train, Y_test)"
   ],
   "id": "f5a367fd2e415f6c",
   "outputs": [
    {
     "name": "stdout",
     "output_type": "stream",
     "text": [
      "Train MSE: 2.82e+03\n",
      "Test MSE: 3.06e+03\n",
      "Train R2: 0.502\n",
      "Test R2: 0.537\n"
     ]
    },
    {
     "data": {
      "text/plain": [
       "(Ridge(alpha=0.005),\n",
       " array([161.8695765 ,  64.29973902, 143.44183588, 197.89117374,\n",
       "        175.68877561, 117.79547579, 151.89200867,  75.79673513,\n",
       "        230.63387795, 258.82292079, 164.8148594 , 158.46287499,\n",
       "        141.24630664, 168.26121103, 107.58335711, 149.82252815,\n",
       "         86.2797094 , 122.60999995, 126.80395729,  90.2505742 ,\n",
       "        229.84563667, 217.14452793, 169.92957048,  94.84943819,\n",
       "        205.76558309, 120.40203547, 106.30949628,  93.83428317,\n",
       "        184.63249165,  76.74769739, 186.49888366, 180.09575298,\n",
       "        116.53401552, 197.94044167, 169.47493473, 125.16559654,\n",
       "        233.46003342, 191.72088609, 104.57380026, 131.5561681 ,\n",
       "         98.31764561, 192.18290645, 204.03616548,  54.3987349 ,\n",
       "        135.2701726 , 255.58209016, 139.73309136, 134.06898585,\n",
       "        188.8536921 , 104.873179  , 148.91437371, 202.1228977 ,\n",
       "         79.27583818,  67.18218033,  94.6183049 , 154.78802141,\n",
       "        147.58609568, 169.14910388, 257.24605499, 104.75398371,\n",
       "        109.33178116, 149.36820659,  65.43962638,  53.02944216,\n",
       "        121.50192006, 135.31127874, 105.14983692, 190.8419189 ,\n",
       "        149.96592247,  99.18117519, 114.74758078, 156.41715755,\n",
       "         50.44905019, 107.5003335 , 146.5377234 , 167.47963835,\n",
       "        149.22060766, 107.79329182, 156.67979334, 137.00174327,\n",
       "        169.65514189,  93.85119812, 208.51119924,  93.06098657,\n",
       "        131.45980838, 141.89949014, 114.1135625 , 113.86187709,\n",
       "        159.51534579, 121.017468  , 166.19132641,  87.5454638 ,\n",
       "        142.85905617, 203.28809476, 190.1572752 , 132.96063147,\n",
       "        217.13463866, 167.12795033, 113.61907276, 260.37017365,\n",
       "        177.58711496,  73.0615411 ,  79.69575269, 240.54349325,\n",
       "        139.42983481, 203.40557139, 139.75937697, 117.97256873,\n",
       "        171.69946482,  60.22516801,  90.40826364, 137.87392848,\n",
       "        150.55379151, 166.2823833 , 226.49161073, 224.75541317,\n",
       "        226.48799139,  78.91366162, 134.24531975, 116.08716636,\n",
       "        180.74013243, 151.3675794 , 161.14563718, 254.60657956,\n",
       "        157.68311218, 141.75427265, 117.22091938, 230.92830029,\n",
       "         50.00193201, 119.46869509, 217.55419113, 173.1231511 ,\n",
       "        214.26385561, 121.82667393, 207.91309898, 223.42693067,\n",
       "         72.32007678, 124.81551373, 147.95153642, 210.59100171,\n",
       "        147.30630783,  98.13660989,  88.32490485,  52.5039926 ,\n",
       "        208.17136285, 111.19577189, 273.06529865, 179.46717549,\n",
       "        187.62356395, 191.77224552, 175.34422029, 122.33060602,\n",
       "        124.32640044, 116.10151989, 172.94815594, 167.03191681,\n",
       "        125.86962346,  85.1488301 , 149.28840912,  91.38227308,\n",
       "        188.58483526, 127.64540201,  92.5443156 ,  72.73624843,\n",
       "        171.91045107, 216.85658891, 179.19659406, 244.97311983,\n",
       "         64.08848677, 171.51942472, 101.08237154, 197.45224259,\n",
       "        120.77087095, 154.9258772 , 182.75038877, 178.70986558,\n",
       "        152.13199658, 244.07587597, 188.47731554, 169.10115268,\n",
       "        237.32971669,  84.79650582, 226.70131942, 122.19685622,\n",
       "        125.6068951 , 113.45461862, 157.12529686,  82.51208123,\n",
       "        161.7236647 ,  49.99818852, 217.48490118, 195.52771352,\n",
       "         75.87269419, 206.63880735, 209.57316792,  96.09060943,\n",
       "        137.37593291, 182.79994118,  74.59813649,  83.71398079,\n",
       "        193.88707899,  52.46273926,  99.71725711,  78.8597999 ,\n",
       "         90.5289332 , 189.17575223, 192.52999649, 101.72296943,\n",
       "        154.10440411, 145.86460277, 165.49379153, 104.27723607,\n",
       "        123.07661588, 214.40434227, 184.74648528, 108.95612538,\n",
       "         75.37139202,  80.52695005,  62.89347049,  97.91783214,\n",
       "        228.8637251 , 152.31825874, 197.44867667, 287.33746186,\n",
       "        184.12794565, 116.78332109, 164.19692814, 167.1277913 ,\n",
       "        248.67653321, 146.18289428, 119.47971774,  40.41600832,\n",
       "        147.4307346 , 201.75397559, 227.65398217, 160.73506384,\n",
       "        185.8634166 , 125.09060707, 127.91589015, 188.06648729,\n",
       "        223.83698269, 200.37838324, 122.61910486,  53.56888863,\n",
       "        130.88772233, 128.9311952 ,  62.88832944, 222.59202911,\n",
       "         82.55166726,  78.96500566,  83.18082946, 273.65213891,\n",
       "        155.59071356, 177.21093059, 156.65019854, 174.00409667,\n",
       "        135.55783846, 150.8077023 ,  84.91770808, 123.86729903,\n",
       "        259.22377694, 170.55877716, 159.00779552, 130.39264367,\n",
       "        105.63332141, 225.16014966,  86.93164378, 156.58375682,\n",
       "        127.72893936, 104.10578115, 121.71037866, 163.18574461,\n",
       "         77.24706654, 192.40976865, 175.70928031, 119.77472037,\n",
       "        171.08489818, 108.15245516, 248.41486007, 163.32403829,\n",
       "        165.82402901,  80.5335172 , 109.98465572, 112.8134525 ,\n",
       "        114.68996923, 174.9486024 , 166.5913268 , 110.98441145,\n",
       "        177.31086492, 120.88169854,  71.4069922 ,  93.86368977,\n",
       "         82.85806545, 198.72866576, 139.88875572, 230.62981668,\n",
       "        135.92405682, 208.69654785, 247.21264048, 200.84793682,\n",
       "        108.52458009, 197.47594562, 135.56174063,  55.56655227,\n",
       "        172.02049427, 156.71454498, 166.81180719, 106.2226713 ,\n",
       "        114.9532232 , 259.85187085, 176.31063829, 163.94464043,\n",
       "        160.91820148,  86.86267937, 260.09531604, 144.99000631,\n",
       "        170.19340867, 103.45077912,  54.9625056 , 117.20185805,\n",
       "        281.11081046, 185.43396776, 203.66399697, 165.31479811,\n",
       "        100.01323854, 194.32498193, 231.1858103 , 214.63946027,\n",
       "        135.98794832, 164.52687459,  61.5328737 ]),\n",
       " array([153.70128582, 163.12677168, 112.7014087 , 146.6302348 ,\n",
       "        137.61477667, 241.30466767, 274.06509154,  83.04422724,\n",
       "        188.43302637, 131.62251368, 160.14604826, 161.56340243,\n",
       "         61.50116935,  96.07812244, 202.4383494 ,  72.02086202,\n",
       "        224.61757333, 210.24604879, 213.60614719, 160.01718723,\n",
       "        258.15849534, 257.05718047, 162.8577172 , 172.53824537,\n",
       "        190.82746934,  87.03246077, 141.85624265, 174.86905703,\n",
       "        100.39133583,  65.51254285,  79.10137935, 204.03525048,\n",
       "        197.46144921, 125.66745687, 182.59784734, 197.48098996,\n",
       "        228.98747816, 236.01809475,  41.91247184, 120.46738389,\n",
       "         78.09873119, 105.67299398, 190.3050952 ,  55.63243113,\n",
       "        145.43441879,  96.99674886, 152.3162663 ,  92.67882208,\n",
       "        207.16418277, 140.53404229, 262.43503202, 218.72509911,\n",
       "        195.32686157, 175.77927657, 227.08911406, 114.0494455 ,\n",
       "        159.23004712,  70.37979896, 148.49063683, 188.20496989,\n",
       "        113.99204488, 139.91620617, 125.53498832, 140.15627825,\n",
       "        216.41764207,  98.48314323, 123.93846479, 153.74750215,\n",
       "        224.96989102, 178.04672346, 111.85332429, 150.8080359 ,\n",
       "        200.14319177,  61.28736936, 202.34269963, 252.41332275,\n",
       "        169.19394274, 249.54223514, 117.89935839, 165.1426849 ,\n",
       "        144.02714085,  96.26779665, 116.77566149, 179.73978619,\n",
       "        172.60540431, 115.69178181, 244.77146979, 152.46666984,\n",
       "        165.37098023,  74.39346306,  92.23269275, 123.31571564,\n",
       "        122.25245384, 222.95310224,  53.16517108, 181.21336899,\n",
       "        214.03916656, 144.7027045 ,  90.28346098, 166.58681838,\n",
       "        161.57194458, 147.94455362, 213.50570593, 281.65732279,\n",
       "        157.3045648 , 203.47903432, 256.82759166, 179.76654836,\n",
       "        141.68725651,  60.54132357,  75.11796569]),\n",
       " 2817.697400384472,\n",
       " 3056.1692878705708,\n",
       " 0.5019884457682583,\n",
       " 0.5374439145266386)"
      ]
     },
     "execution_count": 46,
     "metadata": {},
     "output_type": "execute_result"
    }
   ],
   "execution_count": 46
  },
  {
   "metadata": {
    "ExecuteTime": {
     "end_time": "2025-06-07T09:09:14.939329Z",
     "start_time": "2025-06-07T09:09:14.868912Z"
    }
   },
   "cell_type": "code",
   "source": [
    "alphas = [0.001, 0.005, 0.01, 0.05, 0.1, 0.5, 1, 5, 10, 50]\n",
    "\n",
    "# TODO Прогоняем модели Lasso и Ridge\n",
    "# model_class = linear_model.Lasso\n",
    "model_class = linear_model.Ridge\n",
    "\n",
    "def get_result_best_hyperparams(model_class, X_train, X_test, Y_train, Y_test):\n",
    "    x = -np.inf\n",
    "    # best = {}\n",
    "    for n, alpha in enumerate(alphas):\n",
    "        \n",
    "        model = model_class(alpha=alpha) # alpha - сила влияния регуляризации\n",
    "        model.fit(X_train, Y_train)\n",
    "        test_mse = metrics.mean_squared_error(Y_test, model.predict(X_test))\n",
    "        # idx = filter(min({n: test_mse}, key={n: test_mse}.get))\n",
    "        idx =  (x := test_mse) if x < test_mse else n\n",
    "        print(idx)\n",
    "   \n",
    "get_result_best_hyperparams(model_class, X_train, X_test, Y_train, Y_test)"
   ],
   "id": "b34cd14be9967dce",
   "outputs": [
    {
     "name": "stdout",
     "output_type": "stream",
     "text": [
      "3057.5264933740127\n",
      "1\n",
      "3059.495873548798\n",
      "3086.3106311832144\n",
      "3120.7336819466245\n",
      "3440.748937653252\n",
      "3798.233665850168\n",
      "5165.429397878005\n",
      "5752.151818546813\n",
      "6520.626693219487\n"
     ]
    }
   ],
   "execution_count": 47
  },
  {
   "metadata": {},
   "cell_type": "markdown",
   "source": "\"------------------------------------------------------------------------------------------------------\"",
   "id": "f7b1581e928d518"
  },
  {
   "metadata": {},
   "cell_type": "markdown",
   "source": [
    "# heatmap признаков\n",
    "* Смотрим наличие мультиколениарности\n",
    "* больше 0,9 - уже плохо"
   ],
   "id": "3955abb9acbebea9"
  },
  {
   "metadata": {
    "ExecuteTime": {
     "end_time": "2025-06-07T19:07:54.946447Z",
     "start_time": "2025-06-07T19:07:53.834391Z"
    }
   },
   "cell_type": "code",
   "source": [
    "# TODO Строим heatmap по абсолюту, так как смотрим только мультиколлинеарность  \n",
    "sns.heatmap(np.abs(X_train.corr()), annot=True)\n"
   ],
   "id": "24f7a804a544c472",
   "outputs": [
    {
     "data": {
      "text/plain": [
       "<Axes: >"
      ]
     },
     "execution_count": 8,
     "metadata": {},
     "output_type": "execute_result"
    },
    {
     "data": {
      "text/plain": [
       "<Figure size 640x480 with 2 Axes>"
      ],
      "image/png": "[encoded data removed]"
     },
     "metadata": {},
     "output_type": "display_data"
    }
   ],
   "execution_count": 8
  },
  {
   "metadata": {},
   "cell_type": "markdown",
   "source": [
    "# Нормирование\n",
    "* get_feature_names_out - получить имена трансформированных признаков"
   ],
   "id": "77a7b5d9d5d5c23c"
  },
  {
   "metadata": {
    "ExecuteTime": {
     "end_time": "2025-06-07T19:08:28.919526Z",
     "start_time": "2025-06-07T19:08:28.909156Z"
    }
   },
   "cell_type": "code",
   "source": [
    "scaler = StandardScaler()\n",
    "X_train_sc = pd.DataFrame(scaler.fit_transform(X_train), columns=scaler.get_feature_names_out())\n",
    "X_test_sc = scaler.transform(X_test)\n",
    "# X_train_sc\n"
   ],
   "id": "790864bcc64a6c81",
   "outputs": [],
   "execution_count": 10
  },
  {
   "metadata": {},
   "cell_type": "markdown",
   "source": [
    "\n",
    "**Метрики MSE и R2 для traine и test Выборок**\n",
    "* PIPLINE\n",
    "    * Внутри `pipeline` используется стандартизированный `X_train`\n",
    "        *  `X_test` подаётся в `model.predict` после обучения модели на стандартизированных `X_train`\n",
    "    * Снаружи `pipeline` используется исходный `X_train`\n",
    "* `model.named_steps` - *Имена внутри* `pipeline`"
   ],
   "id": "10a10fb7c6a51e8"
  },
  {
   "metadata": {
    "ExecuteTime": {
     "end_time": "2025-06-07T19:13:43.236377Z",
     "start_time": "2025-06-07T19:13:43.226848Z"
    }
   },
   "cell_type": "code",
   "source": [
    "# TODO get_result\n",
    "def get_result(model_cl, X_train, X_test, Y_train, Y_test):\n",
    "    # model = model_class()\n",
    "\n",
    "# TODO Единый блок pipeline с обучением на стандартизированных данных\n",
    "    model = make_pipeline(StandardScaler(), model_cl()) \n",
    "    model.fit(X_train, Y_train)  # Обучение на стандартизированных данных\n",
    "# TODO Имена внутри pipeline\n",
    "#     print(model.named_steps)  \n",
    "# TODO Достаём модель LinearRegression\n",
    "    linear__model = model.named_steps['linearregression']\n",
    "    # print(linear__model.coef_)\n",
    "    Y_train_pred = model.predict(X_train)\n",
    "    Y_test_pred = model.predict(X_test)\n",
    "    train_mse = metrics.mean_squared_error(Y_train, Y_train_pred)\n",
    "    test_mse = metrics.mean_squared_error(Y_test, Y_test_pred)\n",
    "    train_r2 = metrics.r2_score(Y_train, Y_train_pred)\n",
    "    test_r2 = metrics.r2_score(Y_test, Y_test_pred)\n",
    "    print(f\"Train MSE: {train_mse:.3}\")\n",
    "    print(f\"Test MSE: {test_mse:.3}\")\n",
    "    print(f\"Train R2: {train_r2:.3}\")\n",
    "    print(f\"Test R2: {test_r2:.3}\")\n",
    "    return model, Y_train_pred, Y_test_pred, train_mse, test_mse, train_r2, test_r2, linear__model\n",
    "    # return model, train_mse, test_mse, train_r2, test_r2\n",
    "# get_result(model_class, X_train, X_test, Y_train, Y_test)\n",
    "# get_result(linear_model.LinearRegression, X_train, X_test, Y_train, Y_test)"
   ],
   "id": "47b25ba116984db6",
   "outputs": [],
   "execution_count": 12
  },
  {
   "metadata": {},
   "cell_type": "markdown",
   "source": [
    "\n",
    "**Вызываем ф-цию `get_result()` что бы получить return с вычислениями**"
   ],
   "id": "fe7f96bf54dfc15e"
  },
  {
   "metadata": {
    "ExecuteTime": {
     "end_time": "2025-06-07T11:28:39.029876Z",
     "start_time": "2025-06-07T11:28:39.013170Z"
    }
   },
   "cell_type": "code",
   "source": [
    "model, Y_train_pred, Y_test_pred, train_mse, test_mse, train_r2, test_r2, coefs = get_result(linear_model.LinearRegression, X_train, X_test, Y_train, Y_test)\n",
    "\n",
    "print('Коэффициенты модели LinearRegression : ', f'{coefs.coef_}')"
   ],
   "id": "80af78cf5a5b3bbc",
   "outputs": [
    {
     "name": "stdout",
     "output_type": "stream",
     "text": [
      "[ -2.22415219  -8.76006954  22.83535508  13.9175361  -41.86365033\n",
      "  28.46132134   5.47173405   5.27664091  38.51490159   3.64212309]\n",
      "Train MSE: 2.81e+03\n",
      "Test MSE: 3.06e+03\n",
      "Train R2: 0.503\n",
      "Test R2: 0.537\n",
      "Коэффициенты модели LinearRegression :  [ -2.22415219  -8.76006954  22.83535508  13.9175361  -41.86365033\n",
      "  28.46132134   5.47173405   5.27664091  38.51490159   3.64212309]\n"
     ]
    }
   ],
   "execution_count": 105
  },
  {
   "metadata": {},
   "cell_type": "markdown",
   "source": "# Достаём данные из PIPELINE\n",
   "id": "656b9a379176f8d0"
  },
  {
   "metadata": {
    "ExecuteTime": {
     "end_time": "2025-06-07T11:45:07.418810Z",
     "start_time": "2025-06-07T11:45:07.398103Z"
    }
   },
   "cell_type": "code",
   "source": [
    "# 1. Достаём стандартизатор\n",
    "scaler = model.named_steps['standardscaler']\n",
    "print(\"Средние значения признаков (scaler.mean_):\", scaler.mean_)\n",
    "print(\"Стандартные отклонения признаков (scaler.scale_):\", scaler.scale_)\n",
    "\n",
    "# 2. Стандартизированные данные\n",
    "X_train_scaled = scaler.transform(X_train)\n",
    "print(\"Форма стандартизированных X_train:\", X_train_scaled.shape)\n",
    "\n",
    "# 3. Достаём модель Ridge\n",
    "ridge = model.named_steps['linearregression']\n",
    "print(\"Коэффициенты Ridge (ridge.coef_):\", ridge.coef_)\n",
    "print(\"Свободный член (ridge.intercept_):\", ridge.intercept_)\n"
   ],
   "id": "165280ad920d0756",
   "outputs": [
    {
     "name": "stdout",
     "output_type": "stream",
     "text": [
      "Средние значения признаков (scaler.mean_): [ 0.00183832  0.0005714  -0.00166351 -0.00092064  0.00153629  0.00132612\n",
      "  0.00174093 -0.00038488 -0.00035664  0.00027381]\n",
      "Стандартные отклонения признаков (scaler.scale_): [0.0476444  0.04759798 0.04656474 0.04743487 0.04879316 0.04915672\n",
      " 0.04950104 0.04779791 0.04662483 0.04559943]\n",
      "Форма стандартизированных X_train: (331, 10)\n",
      "Коэффициенты Ridge (ridge.coef_): [ -2.22415219  -8.76006954  22.83535508  13.9175361  -41.86365033\n",
      "  28.46132134   5.47173405   5.27664091  38.51490159   3.64212309]\n",
      "Свободный член (ridge.intercept_): 148.7764350453172\n"
     ]
    }
   ],
   "execution_count": 131
  },
  {
   "metadata": {},
   "cell_type": "markdown",
   "source": "**Создаём словарь для сохранения метрик**",
   "id": "abd73a52bf7f496d"
  },
  {
   "metadata": {
    "ExecuteTime": {
     "end_time": "2025-06-07T11:31:03.988921Z",
     "start_time": "2025-06-07T11:31:03.984367Z"
    }
   },
   "cell_type": "code",
   "source": [
    "metrics_values = {\n",
    "    \"test_mse\": [],\n",
    "    \"test_r2\": []\n",
    "}\n",
    "model_name = []"
   ],
   "id": "d289229b4d0e3df5",
   "outputs": [],
   "execution_count": 108
  },
  {
   "metadata": {
    "ExecuteTime": {
     "end_time": "2025-06-07T11:43:43.482757Z",
     "start_time": "2025-06-07T11:43:43.466229Z"
    }
   },
   "cell_type": "code",
   "source": [
    "# TODO get_result - функция обучает, прогнозирует, вычисляет метрики MSE и R2 для train и test\n",
    "\n",
    "model, Y_train_pred, Y_test_pred, train_mse, test_mse, train_r2, test_r2, coefs = get_result(linear_model.LinearRegression, X_train, X_test, Y_train, Y_test)\n",
    "metrics_values[\"test_mse\"].append(test_mse)\n",
    "metrics_values[\"test_r2\"].append(test_r2)\n",
    "model_name.append(\"LinearRegression\")"
   ],
   "id": "2c3a7cafe0d0c202",
   "outputs": [
    {
     "name": "stdout",
     "output_type": "stream",
     "text": [
      "Train MSE: 2.81e+03\n",
      "Test MSE: 3.06e+03\n",
      "Train R2: 0.503\n",
      "Test R2: 0.537\n"
     ]
    }
   ],
   "execution_count": 129
  },
  {
   "metadata": {},
   "cell_type": "markdown",
   "source": [
    "\n",
    "**Вызываем ф-цию get_result() что бы получить return с вычислениями**\n",
    "\n",
    "`firs`,`*between`, `last` - Распаковка return функции \n",
    "* `firs` и `last` - первый и последний элементы\n",
    "* `*between` - всё что находится между `firs` и `last`"
   ],
   "id": "dbcc28ee33870b86"
  },
  {
   "metadata": {},
   "cell_type": "markdown",
   "source": "**Вытаскиваем из PIPELINE функции get_result coef_**",
   "id": "f1af2e5d9ab36e58"
  },
  {
   "metadata": {
    "ExecuteTime": {
     "end_time": "2025-06-07T19:13:52.131219Z",
     "start_time": "2025-06-07T19:13:52.091520Z"
    }
   },
   "cell_type": "code",
   "source": [
    "\n",
    "# TODO firs,*between, last - Распаковка return функции \n",
    "firs,*_, last = get_result(linear_model.LinearRegression, X_train, X_test, Y_train, Y_test)\n",
    "last.coef_\n",
    "# model.named_steps['linearregression'].coef_"
   ],
   "id": "f7430707f6f5fce2",
   "outputs": [
    {
     "name": "stdout",
     "output_type": "stream",
     "text": [
      "Train MSE: 2.51e+03\n",
      "Test MSE: 3.97e+03\n",
      "Train R2: 0.554\n",
      "Test R2: 0.41\n"
     ]
    },
    {
     "data": {
      "text/plain": [
       "array([-2.33240066e-02, -1.22380049e+01,  2.46372409e+01,  1.54160481e+01,\n",
       "       -4.12381898e+01,  2.27241154e+01,  6.85821542e+00,  7.39496778e+00,\n",
       "        3.90937763e+01,  3.12038223e+00])"
      ]
     },
     "execution_count": 13,
     "metadata": {},
     "output_type": "execute_result"
    }
   ],
   "execution_count": 13
  },
  {
   "metadata": {},
   "cell_type": "markdown",
   "source": "",
   "id": "dac7ac948e15e908"
  },
  {
   "metadata": {},
   "cell_type": "markdown",
   "source": "**Строим sns.bar для коэффициентов, смотрим значимость признаков**",
   "id": "545161cbe4cad831"
  },
  {
   "metadata": {},
   "cell_type": "code",
   "source": [
    "model, Y_train_pred, Y_test_pred, train_mse, test_mse, train_r2, test_r2, coefs = get_result(linear_model.LinearRegression, X_train, X_test, Y_train, Y_test)\n",
    "sns.barplot(abs(coefs.coef_))"
   ],
   "id": "b23028551c608ed3",
   "outputs": [],
   "execution_count": null
  },
  {
   "metadata": {},
   "cell_type": "markdown",
   "source": "*plt.bar*",
   "id": "604d06dc21611f3c"
  },
  {
   "metadata": {},
   "cell_type": "code",
   "source": "plt.bar(X_train_sc.columns, abs(model.coef_))",
   "id": "e909edfe22e90a48",
   "outputs": [],
   "execution_count": null
  },
  {
   "metadata": {},
   "cell_type": "markdown",
   "source": "*Пандосовский bar*",
   "id": "8b156bb927f6373f"
  },
  {
   "metadata": {},
   "cell_type": "code",
   "source": [
    "data=pd.DataFrame(abs(model.coef_))\n",
    "data.plot(kind='bar')"
   ],
   "id": "9d16d618f4c6ab",
   "outputs": [],
   "execution_count": null
  },
  {
   "metadata": {},
   "cell_type": "markdown",
   "source": [
    "\n",
    "**Вызываем регулирующие L1 или L2** \n",
    "* Смотрим коэффициенты"
   ],
   "id": "c856af6756e2835b"
  },
  {
   "metadata": {
    "ExecuteTime": {
     "end_time": "2025-06-07T19:15:01.417535Z",
     "start_time": "2025-06-07T19:15:01.410003Z"
    }
   },
   "cell_type": "code",
   "source": [
    "metrics_values_1 = {\n",
    "    \"test_mse_ridge\": [],\n",
    "    \"test_r2_ridge\": []\n",
    "}\n",
    "model_name_1 = []"
   ],
   "id": "c536bd2c69bf797f",
   "outputs": [],
   "execution_count": 16
  },
  {
   "metadata": {},
   "cell_type": "markdown",
   "source": "**Ridge без Стандартизации Признаков и Признаки Стандартизированы**",
   "id": "e06502aa91a89737"
  },
  {
   "metadata": {
    "ExecuteTime": {
     "end_time": "2025-06-07T19:18:26.197082Z",
     "start_time": "2025-06-07T19:18:26.142145Z"
    }
   },
   "cell_type": "code",
   "source": [
    "# TODO model_ridge без Стандартизации Признаков\n",
    "model_ridge, Y_train_pred_ridge, Y_test_pred_ridge, train_mse_ridge, test_mse_ridge, train_r2_ridge, test_r2_ridge = get_result_best_hyperparams(linear_model.Ridge, X_train, X_test, Y_train, Y_test)\n",
    "\n",
    "# TODO model_ridge Признаки Стандартизированы\n",
    "# model_ridge, Y_train_pred_ridge, Y_test_pred_ridge, train_mse_ridge, test_mse_ridge, train_r2_ridge, test_r2_ridge = get_result_best_hyperparams(linear_model.Ridge, X_train_sc, X_test_sc, Y_train, Y_test)\n",
    "\n",
    "\n",
    "metrics_values_1[\"test_mse_ridge\"].append(test_mse_ridge)\n",
    "metrics_values_1[\"test_r2_ridge\"].append(test_r2_ridge)\n",
    "model_name_1.append(\"LinearRegression\")\n",
    "\n",
    "model_ridge.coef_"
   ],
   "id": "f62b45eb53928ed",
   "outputs": [
    {
     "name": "stdout",
     "output_type": "stream",
     "text": [
      "Train MSE: 2.55e+03\n",
      "Test MSE: 3.95e+03\n",
      "Train R2: 0.546\n",
      "Test R2: 0.413\n"
     ]
    },
    {
     "data": {
      "text/plain": [
       "array([  14.72638707, -209.99568184,  478.15761169,  289.72942355,\n",
       "        -82.67354549, -103.29157106, -178.73833509,   87.53390203,\n",
       "        458.90609715,   89.240048  ])"
      ]
     },
     "execution_count": 20,
     "metadata": {},
     "output_type": "execute_result"
    }
   ],
   "execution_count": 20
  },
  {
   "metadata": {},
   "cell_type": "markdown",
   "source": "",
   "id": "18f7e51f242a991b"
  },
  {
   "metadata": {},
   "cell_type": "markdown",
   "source": "**Ridge регрессия с перебором гиперпараметров**",
   "id": "edd5e30117837ba7"
  },
  {
   "metadata": {
    "ExecuteTime": {
     "end_time": "2025-06-07T19:54:17.894318Z",
     "start_time": "2025-06-07T19:54:17.890308Z"
    }
   },
   "cell_type": "code",
   "source": [
    "metrics_values = {\n",
    "    \"test_mse\": [],\n",
    "    \"test_r2\": []\n",
    "}\n",
    "model_name = []"
   ],
   "id": "a35bdb087663e3fa",
   "outputs": [],
   "execution_count": 6
  },
  {
   "metadata": {
    "ExecuteTime": {
     "end_time": "2025-06-07T19:54:21.060555Z",
     "start_time": "2025-06-07T19:54:20.998437Z"
    }
   },
   "cell_type": "code",
   "source": [
    "model, Y_train_pred, Y_test_pred, train_mse, test_mse, train_r2, test_r2 = get_result_best_hyperparams(linear_model.Ridge, X_train, X_test, Y_train, Y_test)\n",
    "metrics_values[\"test_mse\"].append(test_mse)\n",
    "metrics_values[\"test_r2\"].append(test_r2)\n",
    "model_name.append(\"Ridge\")\n",
    "metrics_values"
   ],
   "id": "11b661f047dc679a",
   "outputs": [
    {
     "name": "stdout",
     "output_type": "stream",
     "text": [
      "Train MSE: 2.78e+03\n",
      "Test MSE: 3.27e+03\n",
      "Train R2: 0.535\n",
      "Test R2: 0.435\n"
     ]
    },
    {
     "data": {
      "text/plain": [
       "{'test_mse': [3273.2173428430287], 'test_r2': [0.43529242534875223]}"
      ]
     },
     "execution_count": 7,
     "metadata": {},
     "output_type": "execute_result"
    }
   ],
   "execution_count": 7
  },
  {
   "metadata": {},
   "cell_type": "markdown",
   "source": "",
   "id": "86e4c8575f7a4e5c"
  },
  {
   "metadata": {},
   "cell_type": "markdown",
   "source": "**Lasso регрессия с перебором гиперпараметров**",
   "id": "97eb48fb545c227e"
  },
  {
   "metadata": {
    "ExecuteTime": {
     "end_time": "2025-06-07T19:54:38.431037Z",
     "start_time": "2025-06-07T19:54:38.371491Z"
    }
   },
   "cell_type": "code",
   "source": [
    "model, Y_train_pred, Y_test_pred, train_mse, test_mse, train_r2, test_r2 = get_result_best_hyperparams(linear_model.Lasso, X_train, X_test, Y_train, Y_test)\n",
    "metrics_values[\"test_mse\"].append(test_mse)\n",
    "metrics_values[\"test_r2\"].append(test_r2)\n",
    "model_name.append(\"Lasso\")\n",
    "metrics_values"
   ],
   "id": "94b78d050c3a2479",
   "outputs": [
    {
     "name": "stdout",
     "output_type": "stream",
     "text": [
      "Train MSE: 2.79e+03\n",
      "Test MSE: 3.18e+03\n",
      "Train R2: 0.532\n",
      "Test R2: 0.451\n"
     ]
    },
    {
     "data": {
      "text/plain": [
       "{'test_mse': [3273.2173428430287, 3183.8038530084964],\n",
       " 'test_r2': [0.43529242534875223, 0.4507183716568902]}"
      ]
     },
     "execution_count": 8,
     "metadata": {},
     "output_type": "execute_result"
    }
   ],
   "execution_count": 8
  },
  {
   "metadata": {},
   "cell_type": "markdown",
   "source": "**ElasticNet с перебором гиперпараметров**",
   "id": "b07a18b01d268fb5"
  },
  {
   "metadata": {
    "ExecuteTime": {
     "end_time": "2025-06-07T19:54:43.813419Z",
     "start_time": "2025-06-07T19:54:43.747028Z"
    }
   },
   "cell_type": "code",
   "source": [
    "model, Y_train_pred, Y_test_pred, train_mse, test_mse, train_r2, test_r2 = get_result_best_hyperparams(linear_model.ElasticNet, X_train, X_test, Y_train, Y_test)\n",
    "metrics_values[\"test_mse\"].append(test_mse)\n",
    "metrics_values[\"test_r2\"].append(test_r2)\n",
    "model_name.append(\"ElasticNet\")\n",
    "metrics_values"
   ],
   "id": "189e256829bb3ec6",
   "outputs": [
    {
     "name": "stdout",
     "output_type": "stream",
     "text": [
      "Train MSE: 2.81e+03\n",
      "Test MSE: 3.25e+03\n",
      "Train R2: 0.53\n",
      "Test R2: 0.439\n"
     ]
    },
    {
     "data": {
      "text/plain": [
       "{'test_mse': [3273.2173428430287, 3183.8038530084964, 3250.7760177283863],\n",
       " 'test_r2': [0.43529242534875223, 0.4507183716568902, 0.43916408584363475]}"
      ]
     },
     "execution_count": 9,
     "metadata": {},
     "output_type": "execute_result"
    }
   ],
   "execution_count": 9
  }
 ],
 "metadata": {
  "kernelspec": {
   "display_name": "Python 3",
   "language": "python",
   "name": "python3"
  },
  "language_info": {
   "codemirror_mode": {
    "name": "ipython",
    "version": 2
   },
   "file_extension": ".py",
   "mimetype": "text/x-python",
   "name": "python",
   "nbconvert_exporter": "python",
   "pygments_lexer": "ipython2",
   "version": "2.7.6"
  }
 },
 "nbformat": 4,
 "nbformat_minor": 5
}
