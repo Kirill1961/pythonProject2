{
 "cells": [
  {
   "cell_type": "code",
   "id": "initial_id",
   "metadata": {
    "collapsed": true
   },
   "source": [
    "import numpy as np\n",
    "import math"
   ],
   "outputs": [],
   "execution_count": null
  },
  {
   "metadata": {
    "ExecuteTime": {
     "end_time": "2025-07-29T14:43:58.971944Z",
     "start_time": "2025-07-29T14:43:58.960512Z"
    }
   },
   "cell_type": "code",
   "source": [
    "# TODO Start\n",
    "\n",
    "ent = np.array([0.3, 0.5])\n",
    "\n",
    "np.random.seed(0)\n",
    "enters_2 = np.round(np.random.random(4).reshape(2, 2), 2)\n",
    "\n",
    "hide_4 = np.round(np.random.random(8).reshape(4, 2), 2)\n",
    "\n",
    "output_2 = np.round(np.random.random(8).reshape(2, 4), 2)\n",
    "\n",
    "# layers_total = [enters_2, hide_4, output_2]\n",
    "layers_total = {'enters_2': enters_2, 'hide_4': hide_4, 'output_2': output_2}\n",
    "\n",
    "output_2\n",
    "# enters_2\n",
    "# hide_4\n",
    "\n",
    "\n"
   ],
   "id": "6de00d6ecbe2bff5",
   "outputs": [
    {
     "data": {
      "text/plain": [
       "array([[0.57, 0.93, 0.07, 0.09],\n",
       "       [0.02, 0.83, 0.78, 0.87]])"
      ]
     },
     "execution_count": 218,
     "metadata": {},
     "output_type": "execute_result"
    }
   ],
   "execution_count": 218
  },
  {
   "metadata": {},
   "cell_type": "markdown",
   "source": "**Вывод по отдельности столбцов массива** ",
   "id": "ddf544707d3c800b"
  },
  {
   "metadata": {},
   "cell_type": "code",
   "source": [
    "\n",
    "col = hide_4.shape[1]\n",
    "for i in range(col):\n",
    "    print(hide_4[:, i].reshape(-1, 1))\n"
   ],
   "id": "80c06b1acb548813",
   "outputs": [],
   "execution_count": null
  },
  {
   "metadata": {},
   "cell_type": "markdown",
   "source": "**Прямое распространеине в ручную**",
   "id": "c765011bbbcecb78"
  },
  {
   "metadata": {
    "ExecuteTime": {
     "end_time": "2025-07-29T14:44:14.385692Z",
     "start_time": "2025-07-29T14:44:14.377422Z"
    }
   },
   "cell_type": "code",
   "source": [
    "# TODO forward_prop\n",
    "\n",
    "ent = [0.1, -0.5]\n",
    "\n",
    "def forward_prop(layers, enter):\n",
    "    \n",
    "    for name, layer in layers.items():\n",
    "        # print(f'Выходы слоя № {num_layer}')\n",
    "        # print(layer)\n",
    "        output_layer = np.array([])\n",
    "        for weight in layer:\n",
    "            \n",
    "            # print('enter', enter)\n",
    "            # print(weight)\n",
    "            # enter = output_layer\n",
    "            x = np.dot(weight, enter) # Линейная комбинация весов и входов\n",
    "    \n",
    "            output = np.round(1 / (1 + math.exp(1) ** -x), 4)\n",
    "            output_layer = np.append(output_layer, output)  # Выходы слоёв\n",
    "            \n",
    "        enter = output_layer  # Переназначение переменной входных сигналов\n",
    "            \n",
    "            # print(output)\n",
    "        print(f'Выход слоя  {name} :', output_layer)\n",
    "    \n",
    "forward_prop(layers_total, ent)"
   ],
   "id": "7dc9369897b45742",
   "outputs": [
    {
     "name": "stdout",
     "output_type": "stream",
     "text": [
      "Выход слоя  enters_2 : [0.4243 0.4477]\n",
      "Выход слоя  hide_4 : [0.6152 0.6423 0.6405 0.6393]\n",
      "Выход слоя  output_2 : [0.7408 0.8322]\n"
     ]
    }
   ],
   "execution_count": 219
  }
 ],
 "metadata": {
  "kernelspec": {
   "display_name": "Python 3",
   "language": "python",
   "name": "python3"
  },
  "language_info": {
   "codemirror_mode": {
    "name": "ipython",
    "version": 2
   },
   "file_extension": ".py",
   "mimetype": "text/x-python",
   "name": "python",
   "nbconvert_exporter": "python",
   "pygments_lexer": "ipython2",
   "version": "2.7.6"
  }
 },
 "nbformat": 4,
 "nbformat_minor": 5
}
