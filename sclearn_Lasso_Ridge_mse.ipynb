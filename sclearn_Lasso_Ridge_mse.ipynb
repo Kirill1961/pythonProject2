{
 "cells": [
  {
   "cell_type": "code",
   "id": "initial_id",
   "metadata": {
    "collapsed": true,
    "ExecuteTime": {
     "end_time": "2025-06-04T17:56:05.263945Z",
     "start_time": "2025-06-04T17:56:05.255962Z"
    }
   },
   "source": [
    "import seaborn as sns\n",
    "from sklearn.model_selection import train_test_split\n",
    "from sklearn.linear_model import LinearRegression\n",
    "from sklearn import linear_model, metrics, datasets # linear_model - модуль в котором LinearRegression\n",
    "import numpy as np"
   ],
   "outputs": [],
   "execution_count": 25
  },
  {
   "metadata": {},
   "cell_type": "markdown",
   "source": [
    "Вытаскиваем нужный dataset из sklearn\n",
    "* as_frame=True - dataset сразу в DF\n",
    "* return_X_y=True - возвращает готовые Признаки и Целевую\n"
   ],
   "id": "2b5a8b0b3da6463c"
  },
  {
   "metadata": {
    "ExecuteTime": {
     "end_time": "2025-06-04T17:56:09.625294Z",
     "start_time": "2025-06-04T17:56:09.499173Z"
    }
   },
   "cell_type": "code",
   "source": "X, Y = datasets.load_diabetes(as_frame=True, return_X_y=True)",
   "id": "a85c47fba99b03d",
   "outputs": [],
   "execution_count": 26
  },
  {
   "metadata": {
    "ExecuteTime": {
     "end_time": "2025-06-04T18:17:30.076252Z",
     "start_time": "2025-06-04T18:17:30.060262Z"
    }
   },
   "cell_type": "code",
   "source": [
    "X_train, X_test, Y_train, Y_test = train_test_split(X, Y)\n",
    "model_class = linear_model.LinearRegression"
   ],
   "id": "c806ffe57f63c72c",
   "outputs": [],
   "execution_count": 69
  },
  {
   "metadata": {
    "ExecuteTime": {
     "end_time": "2025-06-04T18:17:32.664179Z",
     "start_time": "2025-06-04T18:17:32.658057Z"
    }
   },
   "cell_type": "code",
   "source": [
    "X_train.shape\n",
    "X_test.shape"
   ],
   "id": "4e31a4c0b9195a26",
   "outputs": [
    {
     "data": {
      "text/plain": [
       "(111, 10)"
      ]
     },
     "execution_count": 70,
     "metadata": {},
     "output_type": "execute_result"
    }
   ],
   "execution_count": 70
  },
  {
   "metadata": {
    "ExecuteTime": {
     "end_time": "2025-06-04T20:38:29.142532Z",
     "start_time": "2025-06-04T20:38:28.044337Z"
    }
   },
   "cell_type": "code",
   "source": [
    "def get_result(model_class, X_train, X_test, Y_train, Y_test):\n",
    "    model = model_class()\n",
    "    model.fit(X_train, Y_train)\n",
    "    Y_train_pred = model.predict(X_train)\n",
    "    Y_test_pred = model.predict(X_test)\n",
    "    train_mse = metrics.mean_squared_error(Y_train, Y_train_pred)\n",
    "    test_mse = metrics.mean_squared_error(Y_test, Y_test_pred)\n",
    "    train_r2 = metrics.r2_score(Y_train, Y_train_pred)\n",
    "    test_r2 = metrics.r2_score(Y_test, Y_test_pred)\n",
    "    print(f\"Train MSE: {train_mse:.3}\")\n",
    "    print(f\"Test MSE: {test_mse:.3}\")\n",
    "    print(f\"Train R2: {train_r2:.3}\")\n",
    "    print(f\"Test R2: {test_r2:.3}\")\n",
    "    # return model, Y_train_pred, Y_test_pred, train_mse, test_mse, train_r2, test_r2\n",
    "    return  model, train_mse, test_mse, train_r2, test_r2\n",
    "    # return Y_train_pred, Y_test_pred\n",
    "get_result(model_class, X_train, X_test, Y_train, Y_test)"
   ],
   "id": "7ce8b0169cf14303",
   "outputs": [
    {
     "name": "stdout",
     "output_type": "stream",
     "text": [
      "Train MSE: 2.85e+03\n",
      "Test MSE: 2.99e+03\n",
      "Train R2: 0.513\n",
      "Test R2: 0.515\n"
     ]
    },
    {
     "data": {
      "text/plain": [
       "(LinearRegression(),\n",
       " 2848.1464658643604,\n",
       " 2993.9120998491762,\n",
       " 0.5129337682872626,\n",
       " 0.5150007182398074)"
      ]
     },
     "execution_count": 73,
     "metadata": {},
     "output_type": "execute_result"
    }
   ],
   "execution_count": 73
  },
  {
   "metadata": {},
   "cell_type": "markdown",
   "source": [
    "* alpha - сила влияния регуляризации\n",
    "* np.inf - плюс бесконечность\n",
    "* best_alpha = None - просто неизвестность"
   ],
   "id": "ee4374cf11b9bbac"
  },
  {
   "metadata": {
    "ExecuteTime": {
     "end_time": "2025-06-04T20:45:13.778242Z",
     "start_time": "2025-06-04T20:45:13.230522Z"
    }
   },
   "cell_type": "code",
   "source": [
    "alphas = [0.001, 0.005, 0.01, 0.05, 0.1, 0.5, 1, 5, 10, 50]\n",
    "\n",
    "# TODO Прогоняем модели Lasso и Ridge\n",
    "# model_class = linear_model.Lasso\n",
    "model_class = linear_model.Ridge\n",
    "\n",
    "def get_result_best_hyperparams(model_class, X_train, X_test, Y_train, Y_test):\n",
    "    best_test_mse = np.inf #  инициализация переменной best_test_mse\n",
    "    best_alpha = None # #  инициализация переменной best_alpha\n",
    "\n",
    "    for alpha in alphas:\n",
    "        model = model_class(alpha=alpha) # alpha - сила влияния регуляризации\n",
    "        model.fit(X_train, Y_train)\n",
    "        test_mse = metrics.mean_squared_error(Y_test, model.predict(X_test))\n",
    "        if test_mse < best_test_mse:\n",
    "            best_test_mse = test_mse\n",
    "            best_alpha = alpha\n",
    "\n",
    "    model = model_class(alpha=best_alpha)\n",
    "    model.fit(X_train, Y_train)\n",
    "    Y_train_pred = model.predict(X_train)\n",
    "    Y_test_pred = model.predict(X_test)\n",
    "    train_mse = metrics.mean_squared_error(Y_train, Y_train_pred)\n",
    "    test_mse = metrics.mean_squared_error(Y_test, Y_test_pred)\n",
    "    train_r2 = metrics.r2_score(Y_train, Y_train_pred)\n",
    "    test_r2 = metrics.r2_score(Y_test, Y_test_pred)\n",
    "    print(f\"Train MSE: {train_mse:.3}\")\n",
    "    print(f\"Test MSE: {test_mse:.3}\")\n",
    "    print(f\"Train R2: {train_r2:.3}\")\n",
    "    print(f\"Test R2: {test_r2:.3}\")\n",
    "    # return model, Y_train_pred, Y_test_pred, train_mse, test_mse, train_r2, test_r2\n",
    "    return model, train_mse, test_mse, train_r2, test_r2\n",
    "get_result_best_hyperparams(model_class, X_train, X_test, Y_train, Y_test)"
   ],
   "id": "59fa0cf40681d3e",
   "outputs": [
    {
     "name": "stdout",
     "output_type": "stream",
     "text": [
      "Train MSE: 2.88e+03\n",
      "Test MSE: 2.96e+03\n",
      "Train R2: 0.507\n",
      "Test R2: 0.521\n"
     ]
    },
    {
     "data": {
      "text/plain": [
       "(Ridge(alpha=0.05),\n",
       " 2883.34278023037,\n",
       " 2959.5881236964115,\n",
       " 0.5069147884300498,\n",
       " 0.5205610363874522)"
      ]
     },
     "execution_count": 78,
     "metadata": {},
     "output_type": "execute_result"
    }
   ],
   "execution_count": 78
  }
 ],
 "metadata": {
  "kernelspec": {
   "display_name": "Python 3",
   "language": "python",
   "name": "python3"
  },
  "language_info": {
   "codemirror_mode": {
    "name": "ipython",
    "version": 2
   },
   "file_extension": ".py",
   "mimetype": "text/x-python",
   "name": "python",
   "nbconvert_exporter": "python",
   "pygments_lexer": "ipython2",
   "version": "2.7.6"
  }
 },
 "nbformat": 4,
 "nbformat_minor": 5
}
